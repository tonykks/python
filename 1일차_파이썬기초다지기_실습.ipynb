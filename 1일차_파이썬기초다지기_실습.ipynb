{
  "cells": [
    {
      "cell_type": "markdown",
      "metadata": {
        "id": "view-in-github",
        "colab_type": "text"
      },
      "source": [
        "<a href=\"https://colab.research.google.com/github/tonykks/python/blob/main/1%EC%9D%BC%EC%B0%A8_%ED%8C%8C%EC%9D%B4%EC%8D%AC%EA%B8%B0%EC%B4%88%EB%8B%A4%EC%A7%80%EA%B8%B0_%EC%8B%A4%EC%8A%B5.ipynb\" target=\"_parent\"><img src=\"https://colab.research.google.com/assets/colab-badge.svg\" alt=\"Open In Colab\"/></a>"
      ]
    },
    {
      "cell_type": "markdown",
      "metadata": {
        "id": "zRxHpy-28GGG"
      },
      "source": [
        "# 1일차-파이썬 기초 다지기"
      ]
    },
    {
      "cell_type": "markdown",
      "metadata": {
        "id": "VRVM91mPB34V"
      },
      "source": [
        "## 1.파이썬 이해하기"
      ]
    },
    {
      "cell_type": "markdown",
      "metadata": {
        "id": "hOwZhukd8GGK"
      },
      "source": [
        "### 파이썬 버전 확인"
      ]
    },
    {
      "cell_type": "code",
      "source": [
        "!python --version"
      ],
      "metadata": {
        "id": "WCJ5nbOTB5ZF",
        "colab": {
          "base_uri": "https://localhost:8080/"
        },
        "outputId": "1143dc11-af5a-45bb-85b3-964fca3a1662"
      },
      "execution_count": null,
      "outputs": [
        {
          "output_type": "stream",
          "name": "stdout",
          "text": [
            "Python 3.10.12\n"
          ]
        }
      ]
    },
    {
      "cell_type": "code",
      "source": [
        "import sys\n",
        "sys.version"
      ],
      "metadata": {
        "colab": {
          "base_uri": "https://localhost:8080/",
          "height": 35
        },
        "id": "ZkEleQhaXahx",
        "outputId": "8042afc2-e51e-4506-bf4e-b26bdad5c2b8"
      },
      "execution_count": null,
      "outputs": [
        {
          "output_type": "execute_result",
          "data": {
            "text/plain": [
              "'3.10.12 (main, Nov  6 2024, 20:22:13) [GCC 11.4.0]'"
            ],
            "application/vnd.google.colaboratory.intrinsic+json": {
              "type": "string"
            }
          },
          "metadata": {},
          "execution_count": 2
        }
      ]
    },
    {
      "cell_type": "markdown",
      "metadata": {
        "id": "HAFtSTG28GGL"
      },
      "source": [
        "### 파이썬 설치 위치 확인"
      ]
    },
    {
      "cell_type": "code",
      "execution_count": null,
      "metadata": {
        "id": "46cMOIHW8GGM",
        "colab": {
          "base_uri": "https://localhost:8080/"
        },
        "outputId": "bb6b2aee-940b-4c08-933f-19a60e86e675"
      },
      "outputs": [
        {
          "output_type": "stream",
          "name": "stdout",
          "text": [
            "/usr/bin/python3\n"
          ]
        },
        {
          "output_type": "execute_result",
          "data": {
            "text/plain": [
              "['/content',\n",
              " '/env/python',\n",
              " '/usr/lib/python310.zip',\n",
              " '/usr/lib/python3.10',\n",
              " '/usr/lib/python3.10/lib-dynload',\n",
              " '',\n",
              " '/usr/local/lib/python3.10/dist-packages',\n",
              " '/usr/lib/python3/dist-packages',\n",
              " '/usr/local/lib/python3.10/dist-packages/IPython/extensions',\n",
              " '/usr/local/lib/python3.10/dist-packages/setuptools/_vendor',\n",
              " '/root/.ipython']"
            ]
          },
          "metadata": {},
          "execution_count": 4
        }
      ],
      "source": [
        "import sys\n",
        "\n",
        "print(sys.executable)\n",
        "sys.path"
      ]
    },
    {
      "cell_type": "markdown",
      "metadata": {
        "id": "BVZeLUFeILol"
      },
      "source": [
        "### [실습] 파이썬 정보 확인하기\n",
        "\n",
        "\n",
        "1.   설치된 파이썬 버전 출력하기\n",
        "2.   파이썬 실행파일 위치 출력하기\n",
        "\n"
      ]
    },
    {
      "cell_type": "code",
      "execution_count": null,
      "metadata": {
        "id": "wYTlynjPIaj4",
        "colab": {
          "base_uri": "https://localhost:8080/",
          "height": 110
        },
        "outputId": "d5261d18-5fd6-4ecd-a221-e58cafd7ca38"
      },
      "outputs": [
        {
          "output_type": "error",
          "ename": "SyntaxError",
          "evalue": "f-string: empty expression not allowed (<ipython-input-10-85e4e80821f6>, line 3)",
          "traceback": [
            "\u001b[0;36m  File \u001b[0;32m\"<ipython-input-10-85e4e80821f6>\"\u001b[0;36m, line \u001b[0;32m3\u001b[0m\n\u001b[0;31m    print(f'설치된 파이썬 버전: {}')\u001b[0m\n\u001b[0m                           ^\u001b[0m\n\u001b[0;31mSyntaxError\u001b[0m\u001b[0;31m:\u001b[0m f-string: empty expression not allowed\n"
          ]
        }
      ],
      "source": [
        "import sys\n",
        "\n",
        "print(f'설치된 파이썬 버전: {}')\n",
        "print(f'파이썬 실행파일 위치: {}')"
      ]
    },
    {
      "cell_type": "markdown",
      "metadata": {
        "id": "KE15Fd6jCbUK"
      },
      "source": [
        "### 라이브러리 설치하기"
      ]
    },
    {
      "cell_type": "code",
      "execution_count": null,
      "metadata": {
        "id": "PlG-i1fYCbdI",
        "colab": {
          "base_uri": "https://localhost:8080/"
        },
        "outputId": "57746583-023c-41e2-ccef-64b736e57ce8",
        "collapsed": true
      },
      "outputs": [
        {
          "output_type": "stream",
          "name": "stdout",
          "text": [
            "Requirement already satisfied: missingno in /usr/local/lib/python3.10/dist-packages (0.5.2)\n",
            "Requirement already satisfied: numpy in /usr/local/lib/python3.10/dist-packages (from missingno) (1.26.4)\n",
            "Requirement already satisfied: matplotlib in /usr/local/lib/python3.10/dist-packages (from missingno) (3.8.0)\n",
            "Requirement already satisfied: scipy in /usr/local/lib/python3.10/dist-packages (from missingno) (1.13.1)\n",
            "Requirement already satisfied: seaborn in /usr/local/lib/python3.10/dist-packages (from missingno) (0.13.2)\n",
            "Requirement already satisfied: contourpy>=1.0.1 in /usr/local/lib/python3.10/dist-packages (from matplotlib->missingno) (1.3.1)\n",
            "Requirement already satisfied: cycler>=0.10 in /usr/local/lib/python3.10/dist-packages (from matplotlib->missingno) (0.12.1)\n",
            "Requirement already satisfied: fonttools>=4.22.0 in /usr/local/lib/python3.10/dist-packages (from matplotlib->missingno) (4.55.3)\n",
            "Requirement already satisfied: kiwisolver>=1.0.1 in /usr/local/lib/python3.10/dist-packages (from matplotlib->missingno) (1.4.7)\n",
            "Requirement already satisfied: packaging>=20.0 in /usr/local/lib/python3.10/dist-packages (from matplotlib->missingno) (24.2)\n",
            "Requirement already satisfied: pillow>=6.2.0 in /usr/local/lib/python3.10/dist-packages (from matplotlib->missingno) (11.0.0)\n",
            "Requirement already satisfied: pyparsing>=2.3.1 in /usr/local/lib/python3.10/dist-packages (from matplotlib->missingno) (3.2.0)\n",
            "Requirement already satisfied: python-dateutil>=2.7 in /usr/local/lib/python3.10/dist-packages (from matplotlib->missingno) (2.8.2)\n",
            "Requirement already satisfied: pandas>=1.2 in /usr/local/lib/python3.10/dist-packages (from seaborn->missingno) (2.2.2)\n",
            "Requirement already satisfied: pytz>=2020.1 in /usr/local/lib/python3.10/dist-packages (from pandas>=1.2->seaborn->missingno) (2024.2)\n",
            "Requirement already satisfied: tzdata>=2022.7 in /usr/local/lib/python3.10/dist-packages (from pandas>=1.2->seaborn->missingno) (2024.2)\n",
            "Requirement already satisfied: six>=1.5 in /usr/local/lib/python3.10/dist-packages (from python-dateutil>=2.7->matplotlib->missingno) (1.17.0)\n"
          ]
        }
      ],
      "source": [
        "!pip install missingno"
      ]
    },
    {
      "cell_type": "markdown",
      "source": [
        "### 라이브러리 삭제하기"
      ],
      "metadata": {
        "id": "3peceTCrCuXS"
      }
    },
    {
      "cell_type": "code",
      "execution_count": null,
      "metadata": {
        "id": "CO9pIWvq8GGN",
        "scrolled": true,
        "colab": {
          "base_uri": "https://localhost:8080/"
        },
        "outputId": "6b556254-bafe-4652-8c3f-6fae2f77bfff",
        "collapsed": true
      },
      "outputs": [
        {
          "output_type": "stream",
          "name": "stdout",
          "text": [
            "Found existing installation: missingno 0.5.2\n",
            "Uninstalling missingno-0.5.2:\n",
            "  Would remove:\n",
            "    /usr/local/lib/python3.10/dist-packages/missingno-0.5.2.dist-info/*\n",
            "    /usr/local/lib/python3.10/dist-packages/missingno/*\n",
            "Proceed (Y/n)? y\n",
            "  Successfully uninstalled missingno-0.5.2\n"
          ]
        }
      ],
      "source": [
        "!pip uninstall missingno"
      ]
    },
    {
      "cell_type": "markdown",
      "metadata": {
        "id": "5KtJAiS08GGO"
      },
      "source": [
        "### 설치된 라이브러리 확인(전체)"
      ]
    },
    {
      "cell_type": "code",
      "execution_count": null,
      "metadata": {
        "id": "0bsTdq6y8GGO",
        "colab": {
          "base_uri": "https://localhost:8080/"
        },
        "outputId": "aa6d6132-9e4c-46c6-d5e5-9a159af4c040",
        "collapsed": true
      },
      "outputs": [
        {
          "output_type": "stream",
          "name": "stdout",
          "text": [
            "Package                            Version\n",
            "---------------------------------- --------------------\n",
            "absl-py                            1.4.0\n",
            "accelerate                         1.2.1\n",
            "aiohappyeyeballs                   2.4.4\n",
            "aiohttp                            3.11.10\n",
            "aiosignal                          1.3.2\n",
            "alabaster                          1.0.0\n",
            "albucore                           0.0.19\n",
            "albumentations                     1.4.20\n",
            "altair                             5.5.0\n",
            "annotated-types                    0.7.0\n",
            "anyio                              3.7.1\n",
            "argon2-cffi                        23.1.0\n",
            "argon2-cffi-bindings               21.2.0\n",
            "array_record                       0.5.1\n",
            "arviz                              0.20.0\n",
            "astropy                            6.1.7\n",
            "astropy-iers-data                  0.2024.12.16.0.35.48\n",
            "astunparse                         1.6.3\n",
            "async-timeout                      4.0.3\n",
            "atpublic                           4.1.0\n",
            "attrs                              24.3.0\n",
            "audioread                          3.0.1\n",
            "autograd                           1.7.0\n",
            "babel                              2.16.0\n",
            "backcall                           0.2.0\n",
            "beautifulsoup4                     4.12.3\n",
            "bigframes                          1.29.0\n",
            "bigquery-magics                    0.4.0\n",
            "bleach                             6.2.0\n",
            "blinker                            1.9.0\n",
            "blis                               0.7.11\n",
            "blosc2                             2.7.1\n",
            "bokeh                              3.6.2\n",
            "Bottleneck                         1.4.2\n",
            "bqplot                             0.12.43\n",
            "branca                             0.8.1\n",
            "CacheControl                       0.14.1\n",
            "cachetools                         5.5.0\n",
            "catalogue                          2.0.10\n",
            "certifi                            2024.12.14\n",
            "cffi                               1.17.1\n",
            "chardet                            5.2.0\n",
            "charset-normalizer                 3.4.0\n",
            "chex                               0.1.88\n",
            "clarabel                           0.9.0\n",
            "click                              8.1.7\n",
            "cloudpathlib                       0.20.0\n",
            "cloudpickle                        3.1.0\n",
            "cmake                              3.31.2\n",
            "cmdstanpy                          1.2.5\n",
            "colorcet                           3.1.0\n",
            "colorlover                         0.3.0\n",
            "colour                             0.1.5\n",
            "community                          1.0.0b1\n",
            "confection                         0.1.5\n",
            "cons                               0.4.6\n",
            "contourpy                          1.3.1\n",
            "cryptography                       43.0.3\n",
            "cuda-python                        12.2.1\n",
            "cudf-cu12                          24.10.1\n",
            "cufflinks                          0.17.3\n",
            "cupy-cuda12x                       12.2.0\n",
            "cvxopt                             1.3.2\n",
            "cvxpy                              1.6.0\n",
            "cycler                             0.12.1\n",
            "cymem                              2.0.10\n",
            "Cython                             3.0.11\n",
            "dask                               2024.10.0\n",
            "datascience                        0.17.6\n",
            "db-dtypes                          1.3.1\n",
            "dbus-python                        1.2.18\n",
            "debugpy                            1.8.0\n",
            "decorator                          4.4.2\n",
            "defusedxml                         0.7.1\n",
            "Deprecated                         1.2.15\n",
            "diffusers                          0.31.0\n",
            "distro                             1.9.0\n",
            "dlib                               19.24.2\n",
            "dm-tree                            0.1.8\n",
            "docker-pycreds                     0.4.0\n",
            "docstring_parser                   0.16\n",
            "docutils                           0.21.2\n",
            "dopamine_rl                        4.1.0\n",
            "duckdb                             1.1.3\n",
            "earthengine-api                    1.4.3\n",
            "easydict                           1.13\n",
            "editdistance                       0.8.1\n",
            "eerepr                             0.0.4\n",
            "einops                             0.8.0\n",
            "en-core-web-sm                     3.7.1\n",
            "entrypoints                        0.4\n",
            "et_xmlfile                         2.0.0\n",
            "etils                              1.11.0\n",
            "etuples                            0.3.9\n",
            "eval_type_backport                 0.2.0\n",
            "exceptiongroup                     1.2.2\n",
            "fastai                             2.7.18\n",
            "fastcore                           1.7.27\n",
            "fastdownload                       0.0.7\n",
            "fastjsonschema                     2.21.1\n",
            "fastprogress                       1.0.3\n",
            "fastrlock                          0.8.3\n",
            "filelock                           3.16.1\n",
            "firebase-admin                     6.6.0\n",
            "Flask                              3.1.0\n",
            "flatbuffers                        24.3.25\n",
            "flax                               0.8.5\n",
            "folium                             0.19.2\n",
            "fonttools                          4.55.3\n",
            "frozendict                         2.4.6\n",
            "frozenlist                         1.5.0\n",
            "fsspec                             2024.10.0\n",
            "future                             1.0.0\n",
            "gast                               0.6.0\n",
            "gcsfs                              2024.10.0\n",
            "GDAL                               3.6.4\n",
            "gdown                              5.2.0\n",
            "geemap                             0.35.1\n",
            "gensim                             4.3.3\n",
            "geocoder                           1.38.1\n",
            "geographiclib                      2.0\n",
            "geopandas                          1.0.1\n",
            "geopy                              2.4.1\n",
            "gin-config                         0.5.0\n",
            "gitdb                              4.0.11\n",
            "GitPython                          3.1.43\n",
            "glob2                              0.7\n",
            "google                             2.0.3\n",
            "google-ai-generativelanguage       0.6.10\n",
            "google-api-core                    2.19.2\n",
            "google-api-python-client           2.155.0\n",
            "google-auth                        2.27.0\n",
            "google-auth-httplib2               0.2.0\n",
            "google-auth-oauthlib               1.2.1\n",
            "google-cloud-aiplatform            1.74.0\n",
            "google-cloud-bigquery              3.25.0\n",
            "google-cloud-bigquery-connection   1.17.0\n",
            "google-cloud-bigquery-storage      2.27.0\n",
            "google-cloud-bigtable              2.27.0\n",
            "google-cloud-core                  2.4.1\n",
            "google-cloud-datastore             2.20.2\n",
            "google-cloud-firestore             2.19.0\n",
            "google-cloud-functions             1.19.0\n",
            "google-cloud-iam                   2.17.0\n",
            "google-cloud-language              2.16.0\n",
            "google-cloud-pubsub                2.27.1\n",
            "google-cloud-resource-manager      1.14.0\n",
            "google-cloud-storage               2.19.0\n",
            "google-cloud-translate             3.19.0\n",
            "google-colab                       1.0.0\n",
            "google-crc32c                      1.6.0\n",
            "google-genai                       0.3.0\n",
            "google-generativeai                0.8.3\n",
            "google-pasta                       0.2.0\n",
            "google-resumable-media             2.7.2\n",
            "googleapis-common-protos           1.66.0\n",
            "googledrivedownloader              0.4\n",
            "graphviz                           0.20.3\n",
            "greenlet                           3.1.1\n",
            "grpc-google-iam-v1                 0.13.1\n",
            "grpcio                             1.68.1\n",
            "grpcio-status                      1.62.3\n",
            "gspread                            6.0.2\n",
            "gspread-dataframe                  3.3.1\n",
            "gym                                0.25.2\n",
            "gym-notices                        0.0.8\n",
            "h11                                0.14.0\n",
            "h5netcdf                           1.4.1\n",
            "h5py                               3.12.1\n",
            "holidays                           0.63\n",
            "holoviews                          1.20.0\n",
            "html5lib                           1.1\n",
            "httpcore                           1.0.7\n",
            "httpimport                         1.4.0\n",
            "httplib2                           0.22.0\n",
            "httpx                              0.28.1\n",
            "huggingface-hub                    0.27.0\n",
            "humanize                           4.11.0\n",
            "hyperopt                           0.2.7\n",
            "ibis-framework                     9.2.0\n",
            "idna                               3.10\n",
            "imageio                            2.36.1\n",
            "imageio-ffmpeg                     0.5.1\n",
            "imagesize                          1.4.1\n",
            "imbalanced-learn                   0.12.4\n",
            "imgaug                             0.4.0\n",
            "immutabledict                      4.2.1\n",
            "importlib_metadata                 8.5.0\n",
            "importlib_resources                6.4.5\n",
            "imutils                            0.5.4\n",
            "inflect                            7.4.0\n",
            "iniconfig                          2.0.0\n",
            "intel-cmplr-lib-ur                 2025.0.4\n",
            "intel-openmp                       2025.0.4\n",
            "ipyevents                          2.0.2\n",
            "ipyfilechooser                     0.6.0\n",
            "ipykernel                          5.5.6\n",
            "ipyleaflet                         0.19.2\n",
            "ipyparallel                        8.8.0\n",
            "ipython                            7.34.0\n",
            "ipython-genutils                   0.2.0\n",
            "ipython-sql                        0.5.0\n",
            "ipytree                            0.2.2\n",
            "ipywidgets                         7.7.1\n",
            "itsdangerous                       2.2.0\n",
            "jax                                0.4.33\n",
            "jax-cuda12-pjrt                    0.4.33\n",
            "jax-cuda12-plugin                  0.4.33\n",
            "jaxlib                             0.4.33\n",
            "jeepney                            0.7.1\n",
            "jellyfish                          1.1.0\n",
            "jieba                              0.42.1\n",
            "Jinja2                             3.1.4\n",
            "jiter                              0.8.2\n",
            "joblib                             1.4.2\n",
            "jsonpatch                          1.33\n",
            "jsonpickle                         4.0.1\n",
            "jsonpointer                        3.0.0\n",
            "jsonschema                         4.23.0\n",
            "jsonschema-specifications          2024.10.1\n",
            "jupyter-client                     6.1.12\n",
            "jupyter-console                    6.1.0\n",
            "jupyter_core                       5.7.2\n",
            "jupyter-leaflet                    0.19.2\n",
            "jupyter-server                     1.24.0\n",
            "jupyterlab_pygments                0.3.0\n",
            "jupyterlab_widgets                 3.0.13\n",
            "kaggle                             1.6.17\n",
            "kagglehub                          0.3.5\n",
            "keras                              3.5.0\n",
            "keyring                            23.5.0\n",
            "kiwisolver                         1.4.7\n",
            "langchain                          0.3.12\n",
            "langchain-core                     0.3.25\n",
            "langchain-text-splitters           0.3.3\n",
            "langcodes                          3.5.0\n",
            "langsmith                          0.2.3\n",
            "language_data                      1.3.0\n",
            "launchpadlib                       1.10.16\n",
            "lazr.restfulclient                 0.14.4\n",
            "lazr.uri                           1.0.6\n",
            "lazy_loader                        0.4\n",
            "libclang                           18.1.1\n",
            "libcudf-cu12                       24.10.1\n",
            "librosa                            0.10.2.post1\n",
            "lightgbm                           4.5.0\n",
            "linkify-it-py                      2.0.3\n",
            "llvmlite                           0.43.0\n",
            "locket                             1.0.0\n",
            "logical-unification                0.4.6\n",
            "lxml                               5.3.0\n",
            "marisa-trie                        1.2.1\n",
            "Markdown                           3.7\n",
            "markdown-it-py                     3.0.0\n",
            "MarkupSafe                         3.0.2\n",
            "matplotlib                         3.8.0\n",
            "matplotlib-inline                  0.1.7\n",
            "matplotlib-venn                    1.1.1\n",
            "mdit-py-plugins                    0.4.2\n",
            "mdurl                              0.1.2\n",
            "miniKanren                         1.0.3\n",
            "mistune                            3.0.2\n",
            "mizani                             0.13.1\n",
            "mkl                                2025.0.1\n",
            "ml-dtypes                          0.4.1\n",
            "mlxtend                            0.23.3\n",
            "more-itertools                     10.5.0\n",
            "moviepy                            1.0.3\n",
            "mpmath                             1.3.0\n",
            "msgpack                            1.1.0\n",
            "multidict                          6.1.0\n",
            "multipledispatch                   1.0.0\n",
            "multitasking                       0.0.11\n",
            "murmurhash                         1.0.11\n",
            "music21                            9.3.0\n",
            "namex                              0.0.8\n",
            "narwhals                           1.18.4\n",
            "natsort                            8.4.0\n",
            "nbclassic                          1.1.0\n",
            "nbclient                           0.10.1\n",
            "nbconvert                          7.16.4\n",
            "nbformat                           5.10.4\n",
            "ndindex                            1.9.2\n",
            "nest-asyncio                       1.6.0\n",
            "networkx                           3.4.2\n",
            "nibabel                            5.3.2\n",
            "nltk                               3.9.1\n",
            "notebook                           6.5.5\n",
            "notebook_shim                      0.2.4\n",
            "numba                              0.60.0\n",
            "numexpr                            2.10.2\n",
            "numpy                              1.26.4\n",
            "nvidia-cublas-cu12                 12.6.4.1\n",
            "nvidia-cuda-cupti-cu12             12.6.80\n",
            "nvidia-cuda-nvcc-cu12              12.6.85\n",
            "nvidia-cuda-runtime-cu12           12.6.77\n",
            "nvidia-cudnn-cu12                  9.6.0.74\n",
            "nvidia-cufft-cu12                  11.3.0.4\n",
            "nvidia-curand-cu12                 10.3.7.77\n",
            "nvidia-cusolver-cu12               11.7.1.2\n",
            "nvidia-cusparse-cu12               12.5.4.2\n",
            "nvidia-nccl-cu12                   2.23.4\n",
            "nvidia-nvjitlink-cu12              12.6.85\n",
            "nvtx                               0.2.10\n",
            "nx-cugraph-cu12                    24.10.0\n",
            "oauth2client                       4.1.3\n",
            "oauthlib                           3.2.2\n",
            "openai                             1.57.4\n",
            "opencv-contrib-python              4.10.0.84\n",
            "opencv-python                      4.10.0.84\n",
            "opencv-python-headless             4.10.0.84\n",
            "openpyxl                           3.1.5\n",
            "opentelemetry-api                  1.29.0\n",
            "opentelemetry-sdk                  1.29.0\n",
            "opentelemetry-semantic-conventions 0.50b0\n",
            "opt_einsum                         3.4.0\n",
            "optax                              0.2.4\n",
            "optree                             0.13.1\n",
            "orbax-checkpoint                   0.6.4\n",
            "orjson                             3.10.12\n",
            "osqp                               0.6.7.post3\n",
            "packaging                          24.2\n",
            "pandas                             2.2.2\n",
            "pandas-datareader                  0.10.0\n",
            "pandas-gbq                         0.25.0\n",
            "pandas-stubs                       2.2.2.240909\n",
            "pandocfilters                      1.5.1\n",
            "panel                              1.5.4\n",
            "param                              2.2.0\n",
            "parso                              0.8.4\n",
            "parsy                              2.1\n",
            "partd                              1.4.2\n",
            "pathlib                            1.0.1\n",
            "patsy                              1.0.1\n",
            "peewee                             3.17.8\n",
            "peft                               0.14.0\n",
            "pexpect                            4.9.0\n",
            "pickleshare                        0.7.5\n",
            "pillow                             11.0.0\n",
            "pip                                24.1.2\n",
            "platformdirs                       4.3.6\n",
            "plotly                             5.24.1\n",
            "plotnine                           0.14.4\n",
            "pluggy                             1.5.0\n",
            "ply                                3.11\n",
            "polars                             1.9.0\n",
            "pooch                              1.8.2\n",
            "portpicker                         1.5.2\n",
            "preshed                            3.0.9\n",
            "prettytable                        3.12.0\n",
            "proglog                            0.1.10\n",
            "progressbar2                       4.5.0\n",
            "prometheus_client                  0.21.1\n",
            "promise                            2.3\n",
            "prompt_toolkit                     3.0.48\n",
            "propcache                          0.2.1\n",
            "prophet                            1.1.6\n",
            "proto-plus                         1.25.0\n",
            "protobuf                           4.25.5\n",
            "psutil                             5.9.5\n",
            "psycopg2                           2.9.10\n",
            "ptyprocess                         0.7.0\n",
            "py-cpuinfo                         9.0.0\n",
            "py4j                               0.10.9.7\n",
            "pyarrow                            17.0.0\n",
            "pyasn1                             0.6.1\n",
            "pyasn1_modules                     0.4.1\n",
            "pycocotools                        2.0.8\n",
            "pycparser                          2.22\n",
            "pydantic                           2.10.3\n",
            "pydantic_core                      2.27.1\n",
            "pydata-google-auth                 1.9.0\n",
            "pydot                              3.0.3\n",
            "pydotplus                          2.0.2\n",
            "PyDrive                            1.3.1\n",
            "PyDrive2                           1.21.3\n",
            "pyerfa                             2.0.1.5\n",
            "pygame                             2.6.1\n",
            "pygit2                             1.16.0\n",
            "Pygments                           2.18.0\n",
            "PyGObject                          3.42.1\n",
            "PyJWT                              2.10.1\n",
            "pylibcudf-cu12                     24.10.1\n",
            "pylibcugraph-cu12                  24.10.0\n",
            "pylibraft-cu12                     24.10.0\n",
            "pymc                               5.19.1\n",
            "pymystem3                          0.2.0\n",
            "pynvjitlink-cu12                   0.4.0\n",
            "pyogrio                            0.10.0\n",
            "Pyomo                              6.8.2\n",
            "PyOpenGL                           3.1.7\n",
            "pyOpenSSL                          24.2.1\n",
            "pyparsing                          3.2.0\n",
            "pyperclip                          1.9.0\n",
            "pyproj                             3.7.0\n",
            "pyshp                              2.3.1\n",
            "PySocks                            1.7.1\n",
            "pyspark                            3.5.3\n",
            "pytensor                           2.26.4\n",
            "pytest                             8.3.4\n",
            "python-apt                         0.0.0\n",
            "python-box                         7.3.0\n",
            "python-dateutil                    2.8.2\n",
            "python-louvain                     0.16\n",
            "python-slugify                     8.0.4\n",
            "python-utils                       3.9.1\n",
            "pytz                               2024.2\n",
            "pyviz_comms                        3.0.3\n",
            "PyYAML                             6.0.2\n",
            "pyzmq                              24.0.1\n",
            "qdldl                              0.1.7.post4\n",
            "ratelim                            0.1.6\n",
            "referencing                        0.35.1\n",
            "regex                              2024.11.6\n",
            "requests                           2.32.3\n",
            "requests-oauthlib                  1.3.1\n",
            "requests-toolbelt                  1.0.0\n",
            "requirements-parser                0.9.0\n",
            "rich                               13.9.4\n",
            "rmm-cu12                           24.10.0\n",
            "rpds-py                            0.22.3\n",
            "rpy2                               3.4.2\n",
            "rsa                                4.9\n",
            "safetensors                        0.4.5\n",
            "scikit-image                       0.25.0\n",
            "scikit-learn                       1.6.0\n",
            "scipy                              1.13.1\n",
            "scooby                             0.10.0\n",
            "scs                                3.2.7\n",
            "seaborn                            0.13.2\n",
            "SecretStorage                      3.3.1\n",
            "Send2Trash                         1.8.3\n",
            "sentence-transformers              3.3.1\n",
            "sentencepiece                      0.2.0\n",
            "sentry-sdk                         2.19.2\n",
            "setproctitle                       1.3.4\n",
            "setuptools                         75.1.0\n",
            "shap                               0.46.0\n",
            "shapely                            2.0.6\n",
            "shellingham                        1.5.4\n",
            "simple-parsing                     0.1.6\n",
            "six                                1.17.0\n",
            "sklearn-pandas                     2.2.0\n",
            "slicer                             0.0.8\n",
            "smart-open                         7.1.0\n",
            "smmap                              5.0.1\n",
            "sniffio                            1.3.1\n",
            "snowballstemmer                    2.2.0\n",
            "soundfile                          0.12.1\n",
            "soupsieve                          2.6\n",
            "soxr                               0.5.0.post1\n",
            "spacy                              3.7.5\n",
            "spacy-legacy                       3.0.12\n",
            "spacy-loggers                      1.0.5\n",
            "Sphinx                             8.1.3\n",
            "sphinxcontrib-applehelp            2.0.0\n",
            "sphinxcontrib-devhelp              2.0.0\n",
            "sphinxcontrib-htmlhelp             2.1.0\n",
            "sphinxcontrib-jsmath               1.0.1\n",
            "sphinxcontrib-qthelp               2.0.0\n",
            "sphinxcontrib-serializinghtml      2.0.0\n",
            "SQLAlchemy                         2.0.36\n",
            "sqlglot                            25.1.0\n",
            "sqlparse                           0.5.3\n",
            "srsly                              2.5.0\n",
            "stanio                             0.5.1\n",
            "statsmodels                        0.14.4\n",
            "StrEnum                            0.4.15\n",
            "stringzilla                        3.11.1\n",
            "sympy                              1.13.1\n",
            "tables                             3.10.1\n",
            "tabulate                           0.9.0\n",
            "tbb                                2022.0.0\n",
            "tcmlib                             1.2.0\n",
            "tenacity                           9.0.0\n",
            "tensorboard                        2.17.1\n",
            "tensorboard-data-server            0.7.2\n",
            "tensorflow                         2.17.1\n",
            "tensorflow-datasets                4.9.7\n",
            "tensorflow-hub                     0.16.1\n",
            "tensorflow-io-gcs-filesystem       0.37.1\n",
            "tensorflow-metadata                1.13.1\n",
            "tensorflow-probability             0.24.0\n",
            "tensorstore                        0.1.71\n",
            "termcolor                          2.5.0\n",
            "terminado                          0.18.1\n",
            "text-unidecode                     1.3\n",
            "textblob                           0.17.1\n",
            "tf_keras                           2.17.0\n",
            "tf-slim                            1.1.0\n",
            "thinc                              8.2.5\n",
            "threadpoolctl                      3.5.0\n",
            "tifffile                           2024.12.12\n",
            "timm                               1.0.12\n",
            "tinycss2                           1.4.0\n",
            "tokenizers                         0.21.0\n",
            "toml                               0.10.2\n",
            "tomli                              2.2.1\n",
            "toolz                              0.12.1\n",
            "torch                              2.5.1+cu121\n",
            "torchaudio                         2.5.1+cu121\n",
            "torchsummary                       1.5.1\n",
            "torchvision                        0.20.1+cu121\n",
            "tornado                            6.3.3\n",
            "tqdm                               4.67.1\n",
            "traitlets                          5.7.1\n",
            "traittypes                         0.2.1\n",
            "transformers                       4.47.1\n",
            "tweepy                             4.14.0\n",
            "typeguard                          4.4.1\n",
            "typer                              0.15.1\n",
            "types-pytz                         2024.2.0.20241003\n",
            "types-setuptools                   75.6.0.20241126\n",
            "typing_extensions                  4.12.2\n",
            "tzdata                             2024.2\n",
            "tzlocal                            5.2\n",
            "uc-micro-py                        1.0.3\n",
            "umf                                0.9.1\n",
            "uritemplate                        4.1.1\n",
            "urllib3                            2.2.3\n",
            "vega-datasets                      0.9.0\n",
            "wadllib                            1.3.6\n",
            "wandb                              0.19.1\n",
            "wasabi                             1.1.3\n",
            "wcwidth                            0.2.13\n",
            "weasel                             0.4.1\n",
            "webcolors                          24.11.1\n",
            "webencodings                       0.5.1\n",
            "websocket-client                   1.8.0\n",
            "websockets                         14.1\n",
            "Werkzeug                           3.1.3\n",
            "wheel                              0.45.1\n",
            "widgetsnbextension                 3.6.10\n",
            "wordcloud                          1.9.4\n",
            "wrapt                              1.17.0\n",
            "xarray                             2024.11.0\n",
            "xarray-einstats                    0.8.0\n",
            "xgboost                            2.1.3\n",
            "xlrd                               2.0.1\n",
            "xyzservices                        2024.9.0\n",
            "yarl                               1.18.3\n",
            "yellowbrick                        1.5\n",
            "yfinance                           0.2.50\n",
            "zipp                               3.21.0\n"
          ]
        }
      ],
      "source": [
        "pip list"
      ]
    },
    {
      "cell_type": "markdown",
      "metadata": {
        "id": "G_IjDeFh8GGP"
      },
      "source": [
        "### 설치된 라이브러리 확인(특정 라이브러리)"
      ]
    },
    {
      "cell_type": "code",
      "execution_count": null,
      "metadata": {
        "id": "TqvE9YpV8GGP",
        "colab": {
          "base_uri": "https://localhost:8080/"
        },
        "collapsed": true,
        "outputId": "549b33de-61d4-4191-dcf7-a2e0877a8141"
      },
      "outputs": [
        {
          "output_type": "stream",
          "name": "stdout",
          "text": [
            "Name: numpy\n",
            "Version: 1.26.4\n",
            "Summary: Fundamental package for array computing in Python\n",
            "Home-page: https://numpy.org\n",
            "Author: Travis E. Oliphant et al.\n",
            "Author-email: \n",
            "License: Copyright (c) 2005-2023, NumPy Developers.\n",
            "        All rights reserved.\n",
            "        \n",
            "        Redistribution and use in source and binary forms, with or without\n",
            "        modification, are permitted provided that the following conditions are\n",
            "        met:\n",
            "        \n",
            "            * Redistributions of source code must retain the above copyright\n",
            "               notice, this list of conditions and the following disclaimer.\n",
            "        \n",
            "            * Redistributions in binary form must reproduce the above\n",
            "               copyright notice, this list of conditions and the following\n",
            "               disclaimer in the documentation and/or other materials provided\n",
            "               with the distribution.\n",
            "        \n",
            "            * Neither the name of the NumPy Developers nor the names of any\n",
            "               contributors may be used to endorse or promote products derived\n",
            "               from this software without specific prior written permission.\n",
            "        \n",
            "        THIS SOFTWARE IS PROVIDED BY THE COPYRIGHT HOLDERS AND CONTRIBUTORS\n",
            "        \"AS IS\" AND ANY EXPRESS OR IMPLIED WARRANTIES, INCLUDING, BUT NOT\n",
            "        LIMITED TO, THE IMPLIED WARRANTIES OF MERCHANTABILITY AND FITNESS FOR\n",
            "        A PARTICULAR PURPOSE ARE DISCLAIMED. IN NO EVENT SHALL THE COPYRIGHT\n",
            "        OWNER OR CONTRIBUTORS BE LIABLE FOR ANY DIRECT, INDIRECT, INCIDENTAL,\n",
            "        SPECIAL, EXEMPLARY, OR CONSEQUENTIAL DAMAGES (INCLUDING, BUT NOT\n",
            "        LIMITED TO, PROCUREMENT OF SUBSTITUTE GOODS OR SERVICES; LOSS OF USE,\n",
            "        DATA, OR PROFITS; OR BUSINESS INTERRUPTION) HOWEVER CAUSED AND ON ANY\n",
            "        THEORY OF LIABILITY, WHETHER IN CONTRACT, STRICT LIABILITY, OR TORT\n",
            "        (INCLUDING NEGLIGENCE OR OTHERWISE) ARISING IN ANY WAY OUT OF THE USE\n",
            "        OF THIS SOFTWARE, EVEN IF ADVISED OF THE POSSIBILITY OF SUCH DAMAGE.\n",
            "        \n",
            "        ----\n",
            "        \n",
            "        The NumPy repository and source distributions bundle several libraries that are\n",
            "        compatibly licensed.  We list these here.\n",
            "        \n",
            "        Name: lapack-lite\n",
            "        Files: numpy/linalg/lapack_lite/*\n",
            "        License: BSD-3-Clause\n",
            "          For details, see numpy/linalg/lapack_lite/LICENSE.txt\n",
            "        \n",
            "        Name: tempita\n",
            "        Files: tools/npy_tempita/*\n",
            "        License: MIT\n",
            "          For details, see tools/npy_tempita/license.txt\n",
            "        \n",
            "        Name: dragon4\n",
            "        Files: numpy/core/src/multiarray/dragon4.c\n",
            "        License: MIT\n",
            "          For license text, see numpy/core/src/multiarray/dragon4.c\n",
            "        \n",
            "        Name: libdivide\n",
            "        Files: numpy/core/include/numpy/libdivide/*\n",
            "        License: Zlib\n",
            "          For license text, see numpy/core/include/numpy/libdivide/LICENSE.txt\n",
            "        \n",
            "        \n",
            "        Note that the following files are vendored in the repository and sdist but not\n",
            "        installed in built numpy packages:\n",
            "        \n",
            "        Name: Meson\n",
            "        Files: vendored-meson/meson/*\n",
            "        License: Apache 2.0\n",
            "          For license text, see vendored-meson/meson/COPYING\n",
            "        \n",
            "        Name: spin\n",
            "        Files: .spin/cmds.py\n",
            "        License: BSD-3\n",
            "          For license text, see .spin/LICENSE\n",
            "        \n",
            "        ----\n",
            "        \n",
            "        This binary distribution of NumPy also bundles the following software:\n",
            "        \n",
            "        \n",
            "        Name: OpenBLAS\n",
            "        Files: numpy.libs/libopenblas*.so\n",
            "        Description: bundled as a dynamically linked library\n",
            "        Availability: https://github.com/OpenMathLib/OpenBLAS/\n",
            "        License: BSD-3-Clause\n",
            "          Copyright (c) 2011-2014, The OpenBLAS Project\n",
            "          All rights reserved.\n",
            "        \n",
            "          Redistribution and use in source and binary forms, with or without\n",
            "          modification, are permitted provided that the following conditions are\n",
            "          met:\n",
            "        \n",
            "             1. Redistributions of source code must retain the above copyright\n",
            "                notice, this list of conditions and the following disclaimer.\n",
            "        \n",
            "             2. Redistributions in binary form must reproduce the above copyright\n",
            "                notice, this list of conditions and the following disclaimer in\n",
            "                the documentation and/or other materials provided with the\n",
            "                distribution.\n",
            "             3. Neither the name of the OpenBLAS project nor the names of\n",
            "                its contributors may be used to endorse or promote products\n",
            "                derived from this software without specific prior written\n",
            "                permission.\n",
            "        \n",
            "          THIS SOFTWARE IS PROVIDED BY THE COPYRIGHT HOLDERS AND CONTRIBUTORS \"AS IS\"\n",
            "          AND ANY EXPRESS OR IMPLIED WARRANTIES, INCLUDING, BUT NOT LIMITED TO, THE\n",
            "          IMPLIED WARRANTIES OF MERCHANTABILITY AND FITNESS FOR A PARTICULAR PURPOSE\n",
            "          ARE DISCLAIMED. IN NO EVENT SHALL THE COPYRIGHT OWNER OR CONTRIBUTORS BE\n",
            "          LIABLE FOR ANY DIRECT, INDIRECT, INCIDENTAL, SPECIAL, EXEMPLARY, OR CONSEQUENTIAL\n",
            "          DAMAGES (INCLUDING, BUT NOT LIMITED TO, PROCUREMENT OF SUBSTITUTE GOODS OR\n",
            "          SERVICES; LOSS OF USE, DATA, OR PROFITS; OR BUSINESS INTERRUPTION) HOWEVER\n",
            "          CAUSED AND ON ANY THEORY OF LIABILITY, WHETHER IN CONTRACT, STRICT LIABILITY,\n",
            "          OR TORT (INCLUDING NEGLIGENCE OR OTHERWISE) ARISING IN ANY WAY OUT OF THE\n",
            "          USE OF THIS SOFTWARE, EVEN IF ADVISED OF THE POSSIBILITY OF SUCH DAMAGE.\n",
            "        \n",
            "        \n",
            "        Name: LAPACK\n",
            "        Files: numpy.libs/libopenblas*.so\n",
            "        Description: bundled in OpenBLAS\n",
            "        Availability: https://github.com/OpenMathLib/OpenBLAS/\n",
            "        License: BSD-3-Clause-Attribution\n",
            "          Copyright (c) 1992-2013 The University of Tennessee and The University\n",
            "                                  of Tennessee Research Foundation.  All rights\n",
            "                                  reserved.\n",
            "          Copyright (c) 2000-2013 The University of California Berkeley. All\n",
            "                                  rights reserved.\n",
            "          Copyright (c) 2006-2013 The University of Colorado Denver.  All rights\n",
            "                                  reserved.\n",
            "        \n",
            "          $COPYRIGHT$\n",
            "        \n",
            "          Additional copyrights may follow\n",
            "        \n",
            "          $HEADER$\n",
            "        \n",
            "          Redistribution and use in source and binary forms, with or without\n",
            "          modification, are permitted provided that the following conditions are\n",
            "          met:\n",
            "        \n",
            "          - Redistributions of source code must retain the above copyright\n",
            "            notice, this list of conditions and the following disclaimer.\n",
            "        \n",
            "          - Redistributions in binary form must reproduce the above copyright\n",
            "            notice, this list of conditions and the following disclaimer listed\n",
            "            in this license in the documentation and/or other materials\n",
            "            provided with the distribution.\n",
            "        \n",
            "          - Neither the name of the copyright holders nor the names of its\n",
            "            contributors may be used to endorse or promote products derived from\n",
            "            this software without specific prior written permission.\n",
            "        \n",
            "          The copyright holders provide no reassurances that the source code\n",
            "          provided does not infringe any patent, copyright, or any other\n",
            "          intellectual property rights of third parties.  The copyright holders\n",
            "          disclaim any liability to any recipient for claims brought against\n",
            "          recipient by any third party for infringement of that parties\n",
            "          intellectual property rights.\n",
            "        \n",
            "          THIS SOFTWARE IS PROVIDED BY THE COPYRIGHT HOLDERS AND CONTRIBUTORS\n",
            "          \"AS IS\" AND ANY EXPRESS OR IMPLIED WARRANTIES, INCLUDING, BUT NOT\n",
            "          LIMITED TO, THE IMPLIED WARRANTIES OF MERCHANTABILITY AND FITNESS FOR\n",
            "          A PARTICULAR PURPOSE ARE DISCLAIMED. IN NO EVENT SHALL THE COPYRIGHT\n",
            "          OWNER OR CONTRIBUTORS BE LIABLE FOR ANY DIRECT, INDIRECT, INCIDENTAL,\n",
            "          SPECIAL, EXEMPLARY, OR CONSEQUENTIAL DAMAGES (INCLUDING, BUT NOT\n",
            "          LIMITED TO, PROCUREMENT OF SUBSTITUTE GOODS OR SERVICES; LOSS OF USE,\n",
            "          DATA, OR PROFITS; OR BUSINESS INTERRUPTION) HOWEVER CAUSED AND ON ANY\n",
            "          THEORY OF LIABILITY, WHETHER IN CONTRACT, STRICT LIABILITY, OR TORT\n",
            "          (INCLUDING NEGLIGENCE OR OTHERWISE) ARISING IN ANY WAY OUT OF THE USE\n",
            "          OF THIS SOFTWARE, EVEN IF ADVISED OF THE POSSIBILITY OF SUCH DAMAGE.\n",
            "        \n",
            "        \n",
            "        Name: GCC runtime library\n",
            "        Files: numpy.libs/libgfortran*.so\n",
            "        Description: dynamically linked to files compiled with gcc\n",
            "        Availability: https://gcc.gnu.org/git/?p=gcc.git;a=tree;f=libgfortran\n",
            "        License: GPL-3.0-with-GCC-exception\n",
            "          Copyright (C) 2002-2017 Free Software Foundation, Inc.\n",
            "        \n",
            "          Libgfortran is free software; you can redistribute it and/or modify\n",
            "          it under the terms of the GNU General Public License as published by\n",
            "          the Free Software Foundation; either version 3, or (at your option)\n",
            "          any later version.\n",
            "        \n",
            "          Libgfortran is distributed in the hope that it will be useful,\n",
            "          but WITHOUT ANY WARRANTY; without even the implied warranty of\n",
            "          MERCHANTABILITY or FITNESS FOR A PARTICULAR PURPOSE.  See the\n",
            "          GNU General Public License for more details.\n",
            "        \n",
            "          Under Section 7 of GPL version 3, you are granted additional\n",
            "          permissions described in the GCC Runtime Library Exception, version\n",
            "          3.1, as published by the Free Software Foundation.\n",
            "        \n",
            "          You should have received a copy of the GNU General Public License and\n",
            "          a copy of the GCC Runtime Library Exception along with this program;\n",
            "          see the files COPYING3 and COPYING.RUNTIME respectively.  If not, see\n",
            "          <http://www.gnu.org/licenses/>.\n",
            "        \n",
            "        ----\n",
            "        \n",
            "        Full text of license texts referred to above follows (that they are\n",
            "        listed below does not necessarily imply the conditions apply to the\n",
            "        present binary release):\n",
            "        \n",
            "        ----\n",
            "        \n",
            "        GCC RUNTIME LIBRARY EXCEPTION\n",
            "        \n",
            "        Version 3.1, 31 March 2009\n",
            "        \n",
            "        Copyright (C) 2009 Free Software Foundation, Inc. <http://fsf.org/>\n",
            "        \n",
            "        Everyone is permitted to copy and distribute verbatim copies of this\n",
            "        license document, but changing it is not allowed.\n",
            "        \n",
            "        This GCC Runtime Library Exception (\"Exception\") is an additional\n",
            "        permission under section 7 of the GNU General Public License, version\n",
            "        3 (\"GPLv3\"). It applies to a given file (the \"Runtime Library\") that\n",
            "        bears a notice placed by the copyright holder of the file stating that\n",
            "        the file is governed by GPLv3 along with this Exception.\n",
            "        \n",
            "        When you use GCC to compile a program, GCC may combine portions of\n",
            "        certain GCC header files and runtime libraries with the compiled\n",
            "        program. The purpose of this Exception is to allow compilation of\n",
            "        non-GPL (including proprietary) programs to use, in this way, the\n",
            "        header files and runtime libraries covered by this Exception.\n",
            "        \n",
            "        0. Definitions.\n",
            "        \n",
            "        A file is an \"Independent Module\" if it either requires the Runtime\n",
            "        Library for execution after a Compilation Process, or makes use of an\n",
            "        interface provided by the Runtime Library, but is not otherwise based\n",
            "        on the Runtime Library.\n",
            "        \n",
            "        \"GCC\" means a version of the GNU Compiler Collection, with or without\n",
            "        modifications, governed by version 3 (or a specified later version) of\n",
            "        the GNU General Public License (GPL) with the option of using any\n",
            "        subsequent versions published by the FSF.\n",
            "        \n",
            "        \"GPL-compatible Software\" is software whose conditions of propagation,\n",
            "        modification and use would permit combination with GCC in accord with\n",
            "        the license of GCC.\n",
            "        \n",
            "        \"Target Code\" refers to output from any compiler for a real or virtual\n",
            "        target processor architecture, in executable form or suitable for\n",
            "        input to an assembler, loader, linker and/or execution\n",
            "        phase. Notwithstanding that, Target Code does not include data in any\n",
            "        format that is used as a compiler intermediate representation, or used\n",
            "        for producing a compiler intermediate representation.\n",
            "        \n",
            "        The \"Compilation Process\" transforms code entirely represented in\n",
            "        non-intermediate languages designed for human-written code, and/or in\n",
            "        Java Virtual Machine byte code, into Target Code. Thus, for example,\n",
            "        use of source code generators and preprocessors need not be considered\n",
            "        part of the Compilation Process, since the Compilation Process can be\n",
            "        understood as starting with the output of the generators or\n",
            "        preprocessors.\n",
            "        \n",
            "        A Compilation Process is \"Eligible\" if it is done using GCC, alone or\n",
            "        with other GPL-compatible software, or if it is done without using any\n",
            "        work based on GCC. For example, using non-GPL-compatible Software to\n",
            "        optimize any GCC intermediate representations would not qualify as an\n",
            "        Eligible Compilation Process.\n",
            "        \n",
            "        1. Grant of Additional Permission.\n",
            "        \n",
            "        You have permission to propagate a work of Target Code formed by\n",
            "        combining the Runtime Library with Independent Modules, even if such\n",
            "        propagation would otherwise violate the terms of GPLv3, provided that\n",
            "        all Target Code was generated by Eligible Compilation Processes. You\n",
            "        may then convey such a combination under terms of your choice,\n",
            "        consistent with the licensing of the Independent Modules.\n",
            "        \n",
            "        2. No Weakening of GCC Copyleft.\n",
            "        \n",
            "        The availability of this Exception does not imply any general\n",
            "        presumption that third-party software is unaffected by the copyleft\n",
            "        requirements of the license of GCC.\n",
            "        \n",
            "        ----\n",
            "        \n",
            "                            GNU GENERAL PUBLIC LICENSE\n",
            "                               Version 3, 29 June 2007\n",
            "        \n",
            "         Copyright (C) 2007 Free Software Foundation, Inc. <http://fsf.org/>\n",
            "         Everyone is permitted to copy and distribute verbatim copies\n",
            "         of this license document, but changing it is not allowed.\n",
            "        \n",
            "                                    Preamble\n",
            "        \n",
            "          The GNU General Public License is a free, copyleft license for\n",
            "        software and other kinds of works.\n",
            "        \n",
            "          The licenses for most software and other practical works are designed\n",
            "        to take away your freedom to share and change the works.  By contrast,\n",
            "        the GNU General Public License is intended to guarantee your freedom to\n",
            "        share and change all versions of a program--to make sure it remains free\n",
            "        software for all its users.  We, the Free Software Foundation, use the\n",
            "        GNU General Public License for most of our software; it applies also to\n",
            "        any other work released this way by its authors.  You can apply it to\n",
            "        your programs, too.\n",
            "        \n",
            "          When we speak of free software, we are referring to freedom, not\n",
            "        price.  Our General Public Licenses are designed to make sure that you\n",
            "        have the freedom to distribute copies of free software (and charge for\n",
            "        them if you wish), that you receive source code or can get it if you\n",
            "        want it, that you can change the software or use pieces of it in new\n",
            "        free programs, and that you know you can do these things.\n",
            "        \n",
            "          To protect your rights, we need to prevent others from denying you\n",
            "        these rights or asking you to surrender the rights.  Therefore, you have\n",
            "        certain responsibilities if you distribute copies of the software, or if\n",
            "        you modify it: responsibilities to respect the freedom of others.\n",
            "        \n",
            "          For example, if you distribute copies of such a program, whether\n",
            "        gratis or for a fee, you must pass on to the recipients the same\n",
            "        freedoms that you received.  You must make sure that they, too, receive\n",
            "        or can get the source code.  And you must show them these terms so they\n",
            "        know their rights.\n",
            "        \n",
            "          Developers that use the GNU GPL protect your rights with two steps:\n",
            "        (1) assert copyright on the software, and (2) offer you this License\n",
            "        giving you legal permission to copy, distribute and/or modify it.\n",
            "        \n",
            "          For the developers' and authors' protection, the GPL clearly explains\n",
            "        that there is no warranty for this free software.  For both users' and\n",
            "        authors' sake, the GPL requires that modified versions be marked as\n",
            "        changed, so that their problems will not be attributed erroneously to\n",
            "        authors of previous versions.\n",
            "        \n",
            "          Some devices are designed to deny users access to install or run\n",
            "        modified versions of the software inside them, although the manufacturer\n",
            "        can do so.  This is fundamentally incompatible with the aim of\n",
            "        protecting users' freedom to change the software.  The systematic\n",
            "        pattern of such abuse occurs in the area of products for individuals to\n",
            "        use, which is precisely where it is most unacceptable.  Therefore, we\n",
            "        have designed this version of the GPL to prohibit the practice for those\n",
            "        products.  If such problems arise substantially in other domains, we\n",
            "        stand ready to extend this provision to those domains in future versions\n",
            "        of the GPL, as needed to protect the freedom of users.\n",
            "        \n",
            "          Finally, every program is threatened constantly by software patents.\n",
            "        States should not allow patents to restrict development and use of\n",
            "        software on general-purpose computers, but in those that do, we wish to\n",
            "        avoid the special danger that patents applied to a free program could\n",
            "        make it effectively proprietary.  To prevent this, the GPL assures that\n",
            "        patents cannot be used to render the program non-free.\n",
            "        \n",
            "          The precise terms and conditions for copying, distribution and\n",
            "        modification follow.\n",
            "        \n",
            "                               TERMS AND CONDITIONS\n",
            "        \n",
            "          0. Definitions.\n",
            "        \n",
            "          \"This License\" refers to version 3 of the GNU General Public License.\n",
            "        \n",
            "          \"Copyright\" also means copyright-like laws that apply to other kinds of\n",
            "        works, such as semiconductor masks.\n",
            "        \n",
            "          \"The Program\" refers to any copyrightable work licensed under this\n",
            "        License.  Each licensee is addressed as \"you\".  \"Licensees\" and\n",
            "        \"recipients\" may be individuals or organizations.\n",
            "        \n",
            "          To \"modify\" a work means to copy from or adapt all or part of the work\n",
            "        in a fashion requiring copyright permission, other than the making of an\n",
            "        exact copy.  The resulting work is called a \"modified version\" of the\n",
            "        earlier work or a work \"based on\" the earlier work.\n",
            "        \n",
            "          A \"covered work\" means either the unmodified Program or a work based\n",
            "        on the Program.\n",
            "        \n",
            "          To \"propagate\" a work means to do anything with it that, without\n",
            "        permission, would make you directly or secondarily liable for\n",
            "        infringement under applicable copyright law, except executing it on a\n",
            "        computer or modifying a private copy.  Propagation includes copying,\n",
            "        distribution (with or without modification), making available to the\n",
            "        public, and in some countries other activities as well.\n",
            "        \n",
            "          To \"convey\" a work means any kind of propagation that enables other\n",
            "        parties to make or receive copies.  Mere interaction with a user through\n",
            "        a computer network, with no transfer of a copy, is not conveying.\n",
            "        \n",
            "          An interactive user interface displays \"Appropriate Legal Notices\"\n",
            "        to the extent that it includes a convenient and prominently visible\n",
            "        feature that (1) displays an appropriate copyright notice, and (2)\n",
            "        tells the user that there is no warranty for the work (except to the\n",
            "        extent that warranties are provided), that licensees may convey the\n",
            "        work under this License, and how to view a copy of this License.  If\n",
            "        the interface presents a list of user commands or options, such as a\n",
            "        menu, a prominent item in the list meets this criterion.\n",
            "        \n",
            "          1. Source Code.\n",
            "        \n",
            "          The \"source code\" for a work means the preferred form of the work\n",
            "        for making modifications to it.  \"Object code\" means any non-source\n",
            "        form of a work.\n",
            "        \n",
            "          A \"Standard Interface\" means an interface that either is an official\n",
            "        standard defined by a recognized standards body, or, in the case of\n",
            "        interfaces specified for a particular programming language, one that\n",
            "        is widely used among developers working in that language.\n",
            "        \n",
            "          The \"System Libraries\" of an executable work include anything, other\n",
            "        than the work as a whole, that (a) is included in the normal form of\n",
            "        packaging a Major Component, but which is not part of that Major\n",
            "        Component, and (b) serves only to enable use of the work with that\n",
            "        Major Component, or to implement a Standard Interface for which an\n",
            "        implementation is available to the public in source code form.  A\n",
            "        \"Major Component\", in this context, means a major essential component\n",
            "        (kernel, window system, and so on) of the specific operating system\n",
            "        (if any) on which the executable work runs, or a compiler used to\n",
            "        produce the work, or an object code interpreter used to run it.\n",
            "        \n",
            "          The \"Corresponding Source\" for a work in object code form means all\n",
            "        the source code needed to generate, install, and (for an executable\n",
            "        work) run the object code and to modify the work, including scripts to\n",
            "        control those activities.  However, it does not include the work's\n",
            "        System Libraries, or general-purpose tools or generally available free\n",
            "        programs which are used unmodified in performing those activities but\n",
            "        which are not part of the work.  For example, Corresponding Source\n",
            "        includes interface definition files associated with source files for\n",
            "        the work, and the source code for shared libraries and dynamically\n",
            "        linked subprograms that the work is specifically designed to require,\n",
            "        such as by intimate data communication or control flow between those\n",
            "        subprograms and other parts of the work.\n",
            "        \n",
            "          The Corresponding Source need not include anything that users\n",
            "        can regenerate automatically from other parts of the Corresponding\n",
            "        Source.\n",
            "        \n",
            "          The Corresponding Source for a work in source code form is that\n",
            "        same work.\n",
            "        \n",
            "          2. Basic Permissions.\n",
            "        \n",
            "          All rights granted under this License are granted for the term of\n",
            "        copyright on the Program, and are irrevocable provided the stated\n",
            "        conditions are met.  This License explicitly affirms your unlimited\n",
            "        permission to run the unmodified Program.  The output from running a\n",
            "        covered work is covered by this License only if the output, given its\n",
            "        content, constitutes a covered work.  This License acknowledges your\n",
            "        rights of fair use or other equivalent, as provided by copyright law.\n",
            "        \n",
            "          You may make, run and propagate covered works that you do not\n",
            "        convey, without conditions so long as your license otherwise remains\n",
            "        in force.  You may convey covered works to others for the sole purpose\n",
            "        of having them make modifications exclusively for you, or provide you\n",
            "        with facilities for running those works, provided that you comply with\n",
            "        the terms of this License in conveying all material for which you do\n",
            "        not control copyright.  Those thus making or running the covered works\n",
            "        for you must do so exclusively on your behalf, under your direction\n",
            "        and control, on terms that prohibit them from making any copies of\n",
            "        your copyrighted material outside their relationship with you.\n",
            "        \n",
            "          Conveying under any other circumstances is permitted solely under\n",
            "        the conditions stated below.  Sublicensing is not allowed; section 10\n",
            "        makes it unnecessary.\n",
            "        \n",
            "          3. Protecting Users' Legal Rights From Anti-Circumvention Law.\n",
            "        \n",
            "          No covered work shall be deemed part of an effective technological\n",
            "        measure under any applicable law fulfilling obligations under article\n",
            "        11 of the WIPO copyright treaty adopted on 20 December 1996, or\n",
            "        similar laws prohibiting or restricting circumvention of such\n",
            "        measures.\n",
            "        \n",
            "          When you convey a covered work, you waive any legal power to forbid\n",
            "        circumvention of technological measures to the extent such circumvention\n",
            "        is effected by exercising rights under this License with respect to\n",
            "        the covered work, and you disclaim any intention to limit operation or\n",
            "        modification of the work as a means of enforcing, against the work's\n",
            "        users, your or third parties' legal rights to forbid circumvention of\n",
            "        technological measures.\n",
            "        \n",
            "          4. Conveying Verbatim Copies.\n",
            "        \n",
            "          You may convey verbatim copies of the Program's source code as you\n",
            "        receive it, in any medium, provided that you conspicuously and\n",
            "        appropriately publish on each copy an appropriate copyright notice;\n",
            "        keep intact all notices stating that this License and any\n",
            "        non-permissive terms added in accord with section 7 apply to the code;\n",
            "        keep intact all notices of the absence of any warranty; and give all\n",
            "        recipients a copy of this License along with the Program.\n",
            "        \n",
            "          You may charge any price or no price for each copy that you convey,\n",
            "        and you may offer support or warranty protection for a fee.\n",
            "        \n",
            "          5. Conveying Modified Source Versions.\n",
            "        \n",
            "          You may convey a work based on the Program, or the modifications to\n",
            "        produce it from the Program, in the form of source code under the\n",
            "        terms of section 4, provided that you also meet all of these conditions:\n",
            "        \n",
            "            a) The work must carry prominent notices stating that you modified\n",
            "            it, and giving a relevant date.\n",
            "        \n",
            "            b) The work must carry prominent notices stating that it is\n",
            "            released under this License and any conditions added under section\n",
            "            7.  This requirement modifies the requirement in section 4 to\n",
            "            \"keep intact all notices\".\n",
            "        \n",
            "            c) You must license the entire work, as a whole, under this\n",
            "            License to anyone who comes into possession of a copy.  This\n",
            "            License will therefore apply, along with any applicable section 7\n",
            "            additional terms, to the whole of the work, and all its parts,\n",
            "            regardless of how they are packaged.  This License gives no\n",
            "            permission to license the work in any other way, but it does not\n",
            "            invalidate such permission if you have separately received it.\n",
            "        \n",
            "            d) If the work has interactive user interfaces, each must display\n",
            "            Appropriate Legal Notices; however, if the Program has interactive\n",
            "            interfaces that do not display Appropriate Legal Notices, your\n",
            "            work need not make them do so.\n",
            "        \n",
            "          A compilation of a covered work with other separate and independent\n",
            "        works, which are not by their nature extensions of the covered work,\n",
            "        and which are not combined with it such as to form a larger program,\n",
            "        in or on a volume of a storage or distribution medium, is called an\n",
            "        \"aggregate\" if the compilation and its resulting copyright are not\n",
            "        used to limit the access or legal rights of the compilation's users\n",
            "        beyond what the individual works permit.  Inclusion of a covered work\n",
            "        in an aggregate does not cause this License to apply to the other\n",
            "        parts of the aggregate.\n",
            "        \n",
            "          6. Conveying Non-Source Forms.\n",
            "        \n",
            "          You may convey a covered work in object code form under the terms\n",
            "        of sections 4 and 5, provided that you also convey the\n",
            "        machine-readable Corresponding Source under the terms of this License,\n",
            "        in one of these ways:\n",
            "        \n",
            "            a) Convey the object code in, or embodied in, a physical product\n",
            "            (including a physical distribution medium), accompanied by the\n",
            "            Corresponding Source fixed on a durable physical medium\n",
            "            customarily used for software interchange.\n",
            "        \n",
            "            b) Convey the object code in, or embodied in, a physical product\n",
            "            (including a physical distribution medium), accompanied by a\n",
            "            written offer, valid for at least three years and valid for as\n",
            "            long as you offer spare parts or customer support for that product\n",
            "            model, to give anyone who possesses the object code either (1) a\n",
            "            copy of the Corresponding Source for all the software in the\n",
            "            product that is covered by this License, on a durable physical\n",
            "            medium customarily used for software interchange, for a price no\n",
            "            more than your reasonable cost of physically performing this\n",
            "            conveying of source, or (2) access to copy the\n",
            "            Corresponding Source from a network server at no charge.\n",
            "        \n",
            "            c) Convey individual copies of the object code with a copy of the\n",
            "            written offer to provide the Corresponding Source.  This\n",
            "            alternative is allowed only occasionally and noncommercially, and\n",
            "            only if you received the object code with such an offer, in accord\n",
            "            with subsection 6b.\n",
            "        \n",
            "            d) Convey the object code by offering access from a designated\n",
            "            place (gratis or for a charge), and offer equivalent access to the\n",
            "            Corresponding Source in the same way through the same place at no\n",
            "            further charge.  You need not require recipients to copy the\n",
            "            Corresponding Source along with the object code.  If the place to\n",
            "            copy the object code is a network server, the Corresponding Source\n",
            "            may be on a different server (operated by you or a third party)\n",
            "            that supports equivalent copying facilities, provided you maintain\n",
            "            clear directions next to the object code saying where to find the\n",
            "            Corresponding Source.  Regardless of what server hosts the\n",
            "            Corresponding Source, you remain obligated to ensure that it is\n",
            "            available for as long as needed to satisfy these requirements.\n",
            "        \n",
            "            e) Convey the object code using peer-to-peer transmission, provided\n",
            "            you inform other peers where the object code and Corresponding\n",
            "            Source of the work are being offered to the general public at no\n",
            "            charge under subsection 6d.\n",
            "        \n",
            "          A separable portion of the object code, whose source code is excluded\n",
            "        from the Corresponding Source as a System Library, need not be\n",
            "        included in conveying the object code work.\n",
            "        \n",
            "          A \"User Product\" is either (1) a \"consumer product\", which means any\n",
            "        tangible personal property which is normally used for personal, family,\n",
            "        or household purposes, or (2) anything designed or sold for incorporation\n",
            "        into a dwelling.  In determining whether a product is a consumer product,\n",
            "        doubtful cases shall be resolved in favor of coverage.  For a particular\n",
            "        product received by a particular user, \"normally used\" refers to a\n",
            "        typical or common use of that class of product, regardless of the status\n",
            "        of the particular user or of the way in which the particular user\n",
            "        actually uses, or expects or is expected to use, the product.  A product\n",
            "        is a consumer product regardless of whether the product has substantial\n",
            "        commercial, industrial or non-consumer uses, unless such uses represent\n",
            "        the only significant mode of use of the product.\n",
            "        \n",
            "          \"Installation Information\" for a User Product means any methods,\n",
            "        procedures, authorization keys, or other information required to install\n",
            "        and execute modified versions of a covered work in that User Product from\n",
            "        a modified version of its Corresponding Source.  The information must\n",
            "        suffice to ensure that the continued functioning of the modified object\n",
            "        code is in no case prevented or interfered with solely because\n",
            "        modification has been made.\n",
            "        \n",
            "          If you convey an object code work under this section in, or with, or\n",
            "        specifically for use in, a User Product, and the conveying occurs as\n",
            "        part of a transaction in which the right of possession and use of the\n",
            "        User Product is transferred to the recipient in perpetuity or for a\n",
            "        fixed term (regardless of how the transaction is characterized), the\n",
            "        Corresponding Source conveyed under this section must be accompanied\n",
            "        by the Installation Information.  But this requirement does not apply\n",
            "        if neither you nor any third party retains the ability to install\n",
            "        modified object code on the User Product (for example, the work has\n",
            "        been installed in ROM).\n",
            "        \n",
            "          The requirement to provide Installation Information does not include a\n",
            "        requirement to continue to provide support service, warranty, or updates\n",
            "        for a work that has been modified or installed by the recipient, or for\n",
            "        the User Product in which it has been modified or installed.  Access to a\n",
            "        network may be denied when the modification itself materially and\n",
            "        adversely affects the operation of the network or violates the rules and\n",
            "        protocols for communication across the network.\n",
            "        \n",
            "          Corresponding Source conveyed, and Installation Information provided,\n",
            "        in accord with this section must be in a format that is publicly\n",
            "        documented (and with an implementation available to the public in\n",
            "        source code form), and must require no special password or key for\n",
            "        unpacking, reading or copying.\n",
            "        \n",
            "          7. Additional Terms.\n",
            "        \n",
            "          \"Additional permissions\" are terms that supplement the terms of this\n",
            "        License by making exceptions from one or more of its conditions.\n",
            "        Additional permissions that are applicable to the entire Program shall\n",
            "        be treated as though they were included in this License, to the extent\n",
            "        that they are valid under applicable law.  If additional permissions\n",
            "        apply only to part of the Program, that part may be used separately\n",
            "        under those permissions, but the entire Program remains governed by\n",
            "        this License without regard to the additional permissions.\n",
            "        \n",
            "          When you convey a copy of a covered work, you may at your option\n",
            "        remove any additional permissions from that copy, or from any part of\n",
            "        it.  (Additional permissions may be written to require their own\n",
            "        removal in certain cases when you modify the work.)  You may place\n",
            "        additional permissions on material, added by you to a covered work,\n",
            "        for which you have or can give appropriate copyright permission.\n",
            "        \n",
            "          Notwithstanding any other provision of this License, for material you\n",
            "        add to a covered work, you may (if authorized by the copyright holders of\n",
            "        that material) supplement the terms of this License with terms:\n",
            "        \n",
            "            a) Disclaiming warranty or limiting liability differently from the\n",
            "            terms of sections 15 and 16 of this License; or\n",
            "        \n",
            "            b) Requiring preservation of specified reasonable legal notices or\n",
            "            author attributions in that material or in the Appropriate Legal\n",
            "            Notices displayed by works containing it; or\n",
            "        \n",
            "            c) Prohibiting misrepresentation of the origin of that material, or\n",
            "            requiring that modified versions of such material be marked in\n",
            "            reasonable ways as different from the original version; or\n",
            "        \n",
            "            d) Limiting the use for publicity purposes of names of licensors or\n",
            "            authors of the material; or\n",
            "        \n",
            "            e) Declining to grant rights under trademark law for use of some\n",
            "            trade names, trademarks, or service marks; or\n",
            "        \n",
            "            f) Requiring indemnification of licensors and authors of that\n",
            "            material by anyone who conveys the material (or modified versions of\n",
            "            it) with contractual assumptions of liability to the recipient, for\n",
            "            any liability that these contractual assumptions directly impose on\n",
            "            those licensors and authors.\n",
            "        \n",
            "          All other non-permissive additional terms are considered \"further\n",
            "        restrictions\" within the meaning of section 10.  If the Program as you\n",
            "        received it, or any part of it, contains a notice stating that it is\n",
            "        governed by this License along with a term that is a further\n",
            "        restriction, you may remove that term.  If a license document contains\n",
            "        a further restriction but permits relicensing or conveying under this\n",
            "        License, you may add to a covered work material governed by the terms\n",
            "        of that license document, provided that the further restriction does\n",
            "        not survive such relicensing or conveying.\n",
            "        \n",
            "          If you add terms to a covered work in accord with this section, you\n",
            "        must place, in the relevant source files, a statement of the\n",
            "        additional terms that apply to those files, or a notice indicating\n",
            "        where to find the applicable terms.\n",
            "        \n",
            "          Additional terms, permissive or non-permissive, may be stated in the\n",
            "        form of a separately written license, or stated as exceptions;\n",
            "        the above requirements apply either way.\n",
            "        \n",
            "          8. Termination.\n",
            "        \n",
            "          You may not propagate or modify a covered work except as expressly\n",
            "        provided under this License.  Any attempt otherwise to propagate or\n",
            "        modify it is void, and will automatically terminate your rights under\n",
            "        this License (including any patent licenses granted under the third\n",
            "        paragraph of section 11).\n",
            "        \n",
            "          However, if you cease all violation of this License, then your\n",
            "        license from a particular copyright holder is reinstated (a)\n",
            "        provisionally, unless and until the copyright holder explicitly and\n",
            "        finally terminates your license, and (b) permanently, if the copyright\n",
            "        holder fails to notify you of the violation by some reasonable means\n",
            "        prior to 60 days after the cessation.\n",
            "        \n",
            "          Moreover, your license from a particular copyright holder is\n",
            "        reinstated permanently if the copyright holder notifies you of the\n",
            "        violation by some reasonable means, this is the first time you have\n",
            "        received notice of violation of this License (for any work) from that\n",
            "        copyright holder, and you cure the violation prior to 30 days after\n",
            "        your receipt of the notice.\n",
            "        \n",
            "          Termination of your rights under this section does not terminate the\n",
            "        licenses of parties who have received copies or rights from you under\n",
            "        this License.  If your rights have been terminated and not permanently\n",
            "        reinstated, you do not qualify to receive new licenses for the same\n",
            "        material under section 10.\n",
            "        \n",
            "          9. Acceptance Not Required for Having Copies.\n",
            "        \n",
            "          You are not required to accept this License in order to receive or\n",
            "        run a copy of the Program.  Ancillary propagation of a covered work\n",
            "        occurring solely as a consequence of using peer-to-peer transmission\n",
            "        to receive a copy likewise does not require acceptance.  However,\n",
            "        nothing other than this License grants you permission to propagate or\n",
            "        modify any covered work.  These actions infringe copyright if you do\n",
            "        not accept this License.  Therefore, by modifying or propagating a\n",
            "        covered work, you indicate your acceptance of this License to do so.\n",
            "        \n",
            "          10. Automatic Licensing of Downstream Recipients.\n",
            "        \n",
            "          Each time you convey a covered work, the recipient automatically\n",
            "        receives a license from the original licensors, to run, modify and\n",
            "        propagate that work, subject to this License.  You are not responsible\n",
            "        for enforcing compliance by third parties with this License.\n",
            "        \n",
            "          An \"entity transaction\" is a transaction transferring control of an\n",
            "        organization, or substantially all assets of one, or subdividing an\n",
            "        organization, or merging organizations.  If propagation of a covered\n",
            "        work results from an entity transaction, each party to that\n",
            "        transaction who receives a copy of the work also receives whatever\n",
            "        licenses to the work the party's predecessor in interest had or could\n",
            "        give under the previous paragraph, plus a right to possession of the\n",
            "        Corresponding Source of the work from the predecessor in interest, if\n",
            "        the predecessor has it or can get it with reasonable efforts.\n",
            "        \n",
            "          You may not impose any further restrictions on the exercise of the\n",
            "        rights granted or affirmed under this License.  For example, you may\n",
            "        not impose a license fee, royalty, or other charge for exercise of\n",
            "        rights granted under this License, and you may not initiate litigation\n",
            "        (including a cross-claim or counterclaim in a lawsuit) alleging that\n",
            "        any patent claim is infringed by making, using, selling, offering for\n",
            "        sale, or importing the Program or any portion of it.\n",
            "        \n",
            "          11. Patents.\n",
            "        \n",
            "          A \"contributor\" is a copyright holder who authorizes use under this\n",
            "        License of the Program or a work on which the Program is based.  The\n",
            "        work thus licensed is called the contributor's \"contributor version\".\n",
            "        \n",
            "          A contributor's \"essential patent claims\" are all patent claims\n",
            "        owned or controlled by the contributor, whether already acquired or\n",
            "        hereafter acquired, that would be infringed by some manner, permitted\n",
            "        by this License, of making, using, or selling its contributor version,\n",
            "        but do not include claims that would be infringed only as a\n",
            "        consequence of further modification of the contributor version.  For\n",
            "        purposes of this definition, \"control\" includes the right to grant\n",
            "        patent sublicenses in a manner consistent with the requirements of\n",
            "        this License.\n",
            "        \n",
            "          Each contributor grants you a non-exclusive, worldwide, royalty-free\n",
            "        patent license under the contributor's essential patent claims, to\n",
            "        make, use, sell, offer for sale, import and otherwise run, modify and\n",
            "        propagate the contents of its contributor version.\n",
            "        \n",
            "          In the following three paragraphs, a \"patent license\" is any express\n",
            "        agreement or commitment, however denominated, not to enforce a patent\n",
            "        (such as an express permission to practice a patent or covenant not to\n",
            "        sue for patent infringement).  To \"grant\" such a patent license to a\n",
            "        party means to make such an agreement or commitment not to enforce a\n",
            "        patent against the party.\n",
            "        \n",
            "          If you convey a covered work, knowingly relying on a patent license,\n",
            "        and the Corresponding Source of the work is not available for anyone\n",
            "        to copy, free of charge and under the terms of this License, through a\n",
            "        publicly available network server or other readily accessible means,\n",
            "        then you must either (1) cause the Corresponding Source to be so\n",
            "        available, or (2) arrange to deprive yourself of the benefit of the\n",
            "        patent license for this particular work, or (3) arrange, in a manner\n",
            "        consistent with the requirements of this License, to extend the patent\n",
            "        license to downstream recipients.  \"Knowingly relying\" means you have\n",
            "        actual knowledge that, but for the patent license, your conveying the\n",
            "        covered work in a country, or your recipient's use of the covered work\n",
            "        in a country, would infringe one or more identifiable patents in that\n",
            "        country that you have reason to believe are valid.\n",
            "        \n",
            "          If, pursuant to or in connection with a single transaction or\n",
            "        arrangement, you convey, or propagate by procuring conveyance of, a\n",
            "        covered work, and grant a patent license to some of the parties\n",
            "        receiving the covered work authorizing them to use, propagate, modify\n",
            "        or convey a specific copy of the covered work, then the patent license\n",
            "        you grant is automatically extended to all recipients of the covered\n",
            "        work and works based on it.\n",
            "        \n",
            "          A patent license is \"discriminatory\" if it does not include within\n",
            "        the scope of its coverage, prohibits the exercise of, or is\n",
            "        conditioned on the non-exercise of one or more of the rights that are\n",
            "        specifically granted under this License.  You may not convey a covered\n",
            "        work if you are a party to an arrangement with a third party that is\n",
            "        in the business of distributing software, under which you make payment\n",
            "        to the third party based on the extent of your activity of conveying\n",
            "        the work, and under which the third party grants, to any of the\n",
            "        parties who would receive the covered work from you, a discriminatory\n",
            "        patent license (a) in connection with copies of the covered work\n",
            "        conveyed by you (or copies made from those copies), or (b) primarily\n",
            "        for and in connection with specific products or compilations that\n",
            "        contain the covered work, unless you entered into that arrangement,\n",
            "        or that patent license was granted, prior to 28 March 2007.\n",
            "        \n",
            "          Nothing in this License shall be construed as excluding or limiting\n",
            "        any implied license or other defenses to infringement that may\n",
            "        otherwise be available to you under applicable patent law.\n",
            "        \n",
            "          12. No Surrender of Others' Freedom.\n",
            "        \n",
            "          If conditions are imposed on you (whether by court order, agreement or\n",
            "        otherwise) that contradict the conditions of this License, they do not\n",
            "        excuse you from the conditions of this License.  If you cannot convey a\n",
            "        covered work so as to satisfy simultaneously your obligations under this\n",
            "        License and any other pertinent obligations, then as a consequence you may\n",
            "        not convey it at all.  For example, if you agree to terms that obligate you\n",
            "        to collect a royalty for further conveying from those to whom you convey\n",
            "        the Program, the only way you could satisfy both those terms and this\n",
            "        License would be to refrain entirely from conveying the Program.\n",
            "        \n",
            "          13. Use with the GNU Affero General Public License.\n",
            "        \n",
            "          Notwithstanding any other provision of this License, you have\n",
            "        permission to link or combine any covered work with a work licensed\n",
            "        under version 3 of the GNU Affero General Public License into a single\n",
            "        combined work, and to convey the resulting work.  The terms of this\n",
            "        License will continue to apply to the part which is the covered work,\n",
            "        but the special requirements of the GNU Affero General Public License,\n",
            "        section 13, concerning interaction through a network will apply to the\n",
            "        combination as such.\n",
            "        \n",
            "          14. Revised Versions of this License.\n",
            "        \n",
            "          The Free Software Foundation may publish revised and/or new versions of\n",
            "        the GNU General Public License from time to time.  Such new versions will\n",
            "        be similar in spirit to the present version, but may differ in detail to\n",
            "        address new problems or concerns.\n",
            "        \n",
            "          Each version is given a distinguishing version number.  If the\n",
            "        Program specifies that a certain numbered version of the GNU General\n",
            "        Public License \"or any later version\" applies to it, you have the\n",
            "        option of following the terms and conditions either of that numbered\n",
            "        version or of any later version published by the Free Software\n",
            "        Foundation.  If the Program does not specify a version number of the\n",
            "        GNU General Public License, you may choose any version ever published\n",
            "        by the Free Software Foundation.\n",
            "        \n",
            "          If the Program specifies that a proxy can decide which future\n",
            "        versions of the GNU General Public License can be used, that proxy's\n",
            "        public statement of acceptance of a version permanently authorizes you\n",
            "        to choose that version for the Program.\n",
            "        \n",
            "          Later license versions may give you additional or different\n",
            "        permissions.  However, no additional obligations are imposed on any\n",
            "        author or copyright holder as a result of your choosing to follow a\n",
            "        later version.\n",
            "        \n",
            "          15. Disclaimer of Warranty.\n",
            "        \n",
            "          THERE IS NO WARRANTY FOR THE PROGRAM, TO THE EXTENT PERMITTED BY\n",
            "        APPLICABLE LAW.  EXCEPT WHEN OTHERWISE STATED IN WRITING THE COPYRIGHT\n",
            "        HOLDERS AND/OR OTHER PARTIES PROVIDE THE PROGRAM \"AS IS\" WITHOUT WARRANTY\n",
            "        OF ANY KIND, EITHER EXPRESSED OR IMPLIED, INCLUDING, BUT NOT LIMITED TO,\n",
            "        THE IMPLIED WARRANTIES OF MERCHANTABILITY AND FITNESS FOR A PARTICULAR\n",
            "        PURPOSE.  THE ENTIRE RISK AS TO THE QUALITY AND PERFORMANCE OF THE PROGRAM\n",
            "        IS WITH YOU.  SHOULD THE PROGRAM PROVE DEFECTIVE, YOU ASSUME THE COST OF\n",
            "        ALL NECESSARY SERVICING, REPAIR OR CORRECTION.\n",
            "        \n",
            "          16. Limitation of Liability.\n",
            "        \n",
            "          IN NO EVENT UNLESS REQUIRED BY APPLICABLE LAW OR AGREED TO IN WRITING\n",
            "        WILL ANY COPYRIGHT HOLDER, OR ANY OTHER PARTY WHO MODIFIES AND/OR CONVEYS\n",
            "        THE PROGRAM AS PERMITTED ABOVE, BE LIABLE TO YOU FOR DAMAGES, INCLUDING ANY\n",
            "        GENERAL, SPECIAL, INCIDENTAL OR CONSEQUENTIAL DAMAGES ARISING OUT OF THE\n",
            "        USE OR INABILITY TO USE THE PROGRAM (INCLUDING BUT NOT LIMITED TO LOSS OF\n",
            "        DATA OR DATA BEING RENDERED INACCURATE OR LOSSES SUSTAINED BY YOU OR THIRD\n",
            "        PARTIES OR A FAILURE OF THE PROGRAM TO OPERATE WITH ANY OTHER PROGRAMS),\n",
            "        EVEN IF SUCH HOLDER OR OTHER PARTY HAS BEEN ADVISED OF THE POSSIBILITY OF\n",
            "        SUCH DAMAGES.\n",
            "        \n",
            "          17. Interpretation of Sections 15 and 16.\n",
            "        \n",
            "          If the disclaimer of warranty and limitation of liability provided\n",
            "        above cannot be given local legal effect according to their terms,\n",
            "        reviewing courts shall apply local law that most closely approximates\n",
            "        an absolute waiver of all civil liability in connection with the\n",
            "        Program, unless a warranty or assumption of liability accompanies a\n",
            "        copy of the Program in return for a fee.\n",
            "        \n",
            "                             END OF TERMS AND CONDITIONS\n",
            "        \n",
            "                    How to Apply These Terms to Your New Programs\n",
            "        \n",
            "          If you develop a new program, and you want it to be of the greatest\n",
            "        possible use to the public, the best way to achieve this is to make it\n",
            "        free software which everyone can redistribute and change under these terms.\n",
            "        \n",
            "          To do so, attach the following notices to the program.  It is safest\n",
            "        to attach them to the start of each source file to most effectively\n",
            "        state the exclusion of warranty; and each file should have at least\n",
            "        the \"copyright\" line and a pointer to where the full notice is found.\n",
            "        \n",
            "            <one line to give the program's name and a brief idea of what it does.>\n",
            "            Copyright (C) <year>  <name of author>\n",
            "        \n",
            "            This program is free software: you can redistribute it and/or modify\n",
            "            it under the terms of the GNU General Public License as published by\n",
            "            the Free Software Foundation, either version 3 of the License, or\n",
            "            (at your option) any later version.\n",
            "        \n",
            "            This program is distributed in the hope that it will be useful,\n",
            "            but WITHOUT ANY WARRANTY; without even the implied warranty of\n",
            "            MERCHANTABILITY or FITNESS FOR A PARTICULAR PURPOSE.  See the\n",
            "            GNU General Public License for more details.\n",
            "        \n",
            "            You should have received a copy of the GNU General Public License\n",
            "            along with this program.  If not, see <http://www.gnu.org/licenses/>.\n",
            "        \n",
            "        Also add information on how to contact you by electronic and paper mail.\n",
            "        \n",
            "          If the program does terminal interaction, make it output a short\n",
            "        notice like this when it starts in an interactive mode:\n",
            "        \n",
            "            <program>  Copyright (C) <year>  <name of author>\n",
            "            This program comes with ABSOLUTELY NO WARRANTY; for details type `show w'.\n",
            "            This is free software, and you are welcome to redistribute it\n",
            "            under certain conditions; type `show c' for details.\n",
            "        \n",
            "        The hypothetical commands `show w' and `show c' should show the appropriate\n",
            "        parts of the General Public License.  Of course, your program's commands\n",
            "        might be different; for a GUI interface, you would use an \"about box\".\n",
            "        \n",
            "          You should also get your employer (if you work as a programmer) or school,\n",
            "        if any, to sign a \"copyright disclaimer\" for the program, if necessary.\n",
            "        For more information on this, and how to apply and follow the GNU GPL, see\n",
            "        <http://www.gnu.org/licenses/>.\n",
            "        \n",
            "          The GNU General Public License does not permit incorporating your program\n",
            "        into proprietary programs.  If your program is a subroutine library, you\n",
            "        may consider it more useful to permit linking proprietary applications with\n",
            "        the library.  If this is what you want to do, use the GNU Lesser General\n",
            "        Public License instead of this License.  But first, please read\n",
            "        <http://www.gnu.org/philosophy/why-not-lgpl.html>.\n",
            "        \n",
            "        Name: libquadmath\n",
            "        Files: numpy.libs/libquadmath*.so\n",
            "        Description: dynamically linked to files compiled with gcc\n",
            "        Availability: https://gcc.gnu.org/git/?p=gcc.git;a=tree;f=libquadmath\n",
            "        License: LGPL-2.1-or-later\n",
            "        \n",
            "            GCC Quad-Precision Math Library\n",
            "            Copyright (C) 2010-2019 Free Software Foundation, Inc.\n",
            "            Written by Francois-Xavier Coudert  <fxcoudert@gcc.gnu.org>\n",
            "        \n",
            "            This file is part of the libquadmath library.\n",
            "            Libquadmath is free software; you can redistribute it and/or\n",
            "            modify it under the terms of the GNU Library General Public\n",
            "            License as published by the Free Software Foundation; either\n",
            "            version 2.1 of the License, or (at your option) any later version.\n",
            "        \n",
            "            Libquadmath is distributed in the hope that it will be useful,\n",
            "            but WITHOUT ANY WARRANTY; without even the implied warranty of\n",
            "            MERCHANTABILITY or FITNESS FOR A PARTICULAR PURPOSE.  See the GNU\n",
            "            Lesser General Public License for more details.\n",
            "            https://www.gnu.org/licenses/old-licenses/lgpl-2.1.html\n",
            "Location: /usr/local/lib/python3.10/dist-packages\n",
            "Requires: \n",
            "Required-by: accelerate, albucore, albumentations, arviz, astropy, autograd, bigframes, blis, blosc2, bokeh, Bottleneck, bqplot, chex, clarabel, cmdstanpy, contourpy, cudf-cu12, cufflinks, cupy-cuda12x, cvxpy, datascience, db-dtypes, diffusers, dopamine_rl, flax, folium, geemap, gensim, geopandas, gym, h5py, holoviews, hyperopt, ibis-framework, imageio, imbalanced-learn, imgaug, jax, jaxlib, keras, langchain, librosa, lightgbm, matplotlib, matplotlib-venn, mizani, ml-dtypes, mlxtend, moviepy, music21, nibabel, numba, numexpr, nx-cugraph-cu12, opencv-contrib-python, opencv-python, opencv-python-headless, optax, orbax-checkpoint, osqp, pandas, pandas-gbq, pandas-stubs, patsy, peft, plotnine, prophet, pyarrow, pycocotools, pyerfa, pylibraft-cu12, pymc, pyogrio, pytensor, python-louvain, qdldl, rmm-cu12, scikit-image, scikit-learn, scipy, scs, seaborn, shap, shapely, sklearn-pandas, soxr, spacy, stanio, statsmodels, tables, tensorboard, tensorflow, tensorflow-datasets, tensorflow-hub, tensorflow-probability, tensorstore, thinc, tifffile, torchvision, transformers, wordcloud, xarray, xarray-einstats, xgboost, yellowbrick, yfinance\n"
          ]
        }
      ],
      "source": [
        "pip show numpy"
      ]
    },
    {
      "cell_type": "markdown",
      "metadata": {
        "id": "KSNOrnoMHEjD"
      },
      "source": [
        "### 파이썬 오류 확인"
      ]
    },
    {
      "cell_type": "code",
      "execution_count": null,
      "metadata": {
        "id": "B8pmiTi5G8JX",
        "colab": {
          "base_uri": "https://localhost:8080/",
          "height": 110
        },
        "outputId": "93b3a5ba-4a13-454f-8202-ea7ca113b603"
      },
      "outputs": [
        {
          "output_type": "error",
          "ename": "SyntaxError",
          "evalue": "expected ':' (<ipython-input-13-9f6aef7645e2>, line 3)",
          "traceback": [
            "\u001b[0;36m  File \u001b[0;32m\"<ipython-input-13-9f6aef7645e2>\"\u001b[0;36m, line \u001b[0;32m3\u001b[0m\n\u001b[0;31m    if a < 9\u001b[0m\n\u001b[0m            ^\u001b[0m\n\u001b[0;31mSyntaxError\u001b[0m\u001b[0;31m:\u001b[0m expected ':'\n"
          ]
        }
      ],
      "source": [
        "# Syntax 오류 발생 예\n",
        "a = 1\n",
        "if a < 9\n",
        "    print('a < 9')"
      ]
    },
    {
      "cell_type": "markdown",
      "source": [
        "### 파이썬 예외처리 방법"
      ],
      "metadata": {
        "id": "DJQhC7btE_L5"
      }
    },
    {
      "cell_type": "code",
      "execution_count": null,
      "metadata": {
        "id": "GJ1Y-0wMHXJd",
        "colab": {
          "base_uri": "https://localhost:8080/"
        },
        "outputId": "78865ff5-c6fe-4439-bd59-fee20fd59337"
      },
      "outputs": [
        {
          "output_type": "stream",
          "name": "stdout",
          "text": [
            "Please enter a number: 1\n",
            "-----\n"
          ]
        }
      ],
      "source": [
        "# 오류 예외처리\n",
        "while True:\n",
        "    try:\n",
        "        x = int(input('Please enter a number: '))\n",
        "        break\n",
        "\n",
        "    except ValueError:\n",
        "        print('Oops! That was no valid number. Try again...')\n",
        "\n",
        "print('-----')"
      ]
    },
    {
      "cell_type": "markdown",
      "metadata": {
        "id": "6Ef7gKpD8GGP"
      },
      "source": [
        "### [PC에서만 실행] 수업에 사용할 라이브러리 설치하기\n",
        "- PC 윈도우 명령프롬프트에서 실행한다. 코랩에서는 실행 안함\n",
        "- PC에서는 명령어 맨 앞 '!'를 제거하고 실행한다."
      ]
    },
    {
      "cell_type": "code",
      "source": [
        "!python -m pip install --upgrade pip"
      ],
      "metadata": {
        "id": "ViukrDAGDuPc",
        "colab": {
          "base_uri": "https://localhost:8080/"
        },
        "outputId": "1d0ebda3-8f4d-4032-9b79-ea89c6b81c01",
        "collapsed": true
      },
      "execution_count": null,
      "outputs": [
        {
          "output_type": "stream",
          "name": "stdout",
          "text": [
            "Requirement already satisfied: pip in /usr/local/lib/python3.10/dist-packages (24.1.2)\n",
            "Collecting pip\n",
            "  Downloading pip-24.3.1-py3-none-any.whl.metadata (3.7 kB)\n",
            "Downloading pip-24.3.1-py3-none-any.whl (1.8 MB)\n",
            "\u001b[2K   \u001b[90m━━━━━━━━━━━━━━━━━━━━━━━━━━━━━━━━━━━━━━━━\u001b[0m \u001b[32m1.8/1.8 MB\u001b[0m \u001b[31m18.0 MB/s\u001b[0m eta \u001b[36m0:00:00\u001b[0m\n",
            "\u001b[?25hInstalling collected packages: pip\n",
            "  Attempting uninstall: pip\n",
            "    Found existing installation: pip 24.1.2\n",
            "    Uninstalling pip-24.1.2:\n",
            "      Successfully uninstalled pip-24.1.2\n",
            "Successfully installed pip-24.3.1\n"
          ]
        }
      ]
    },
    {
      "cell_type": "code",
      "execution_count": null,
      "metadata": {
        "id": "WnEwfA_x8GGQ",
        "colab": {
          "base_uri": "https://localhost:8080/"
        },
        "outputId": "dd92ac86-f476-478b-cf53-7a7e860fcb10"
      },
      "outputs": [
        {
          "output_type": "stream",
          "name": "stdout",
          "text": [
            "Requirement already satisfied: numpy in /usr/local/lib/python3.10/dist-packages (1.26.4)\n"
          ]
        }
      ],
      "source": [
        "!pip install numpy"
      ]
    },
    {
      "cell_type": "code",
      "execution_count": null,
      "metadata": {
        "id": "ZqJSQDet8GGQ",
        "colab": {
          "base_uri": "https://localhost:8080/"
        },
        "outputId": "19a7c067-2188-4483-d00f-2992490cd80c",
        "collapsed": true
      },
      "outputs": [
        {
          "output_type": "stream",
          "name": "stdout",
          "text": [
            "Requirement already satisfied: pandas in /usr/local/lib/python3.10/dist-packages (2.2.2)\n",
            "Requirement already satisfied: numpy>=1.22.4 in /usr/local/lib/python3.10/dist-packages (from pandas) (1.26.4)\n",
            "Requirement already satisfied: python-dateutil>=2.8.2 in /usr/local/lib/python3.10/dist-packages (from pandas) (2.8.2)\n",
            "Requirement already satisfied: pytz>=2020.1 in /usr/local/lib/python3.10/dist-packages (from pandas) (2024.2)\n",
            "Requirement already satisfied: tzdata>=2022.7 in /usr/local/lib/python3.10/dist-packages (from pandas) (2024.2)\n",
            "Requirement already satisfied: six>=1.5 in /usr/local/lib/python3.10/dist-packages (from python-dateutil>=2.8.2->pandas) (1.17.0)\n"
          ]
        }
      ],
      "source": [
        "!pip install pandas"
      ]
    },
    {
      "cell_type": "code",
      "execution_count": null,
      "metadata": {
        "id": "JtYjHD2D8GGQ",
        "colab": {
          "base_uri": "https://localhost:8080/"
        },
        "outputId": "b6285379-99b7-4029-d9e2-856162d636e5",
        "collapsed": true
      },
      "outputs": [
        {
          "output_type": "stream",
          "name": "stdout",
          "text": [
            "Requirement already satisfied: matplotlib in /usr/local/lib/python3.10/dist-packages (3.8.0)\n",
            "Requirement already satisfied: contourpy>=1.0.1 in /usr/local/lib/python3.10/dist-packages (from matplotlib) (1.3.1)\n",
            "Requirement already satisfied: cycler>=0.10 in /usr/local/lib/python3.10/dist-packages (from matplotlib) (0.12.1)\n",
            "Requirement already satisfied: fonttools>=4.22.0 in /usr/local/lib/python3.10/dist-packages (from matplotlib) (4.55.3)\n",
            "Requirement already satisfied: kiwisolver>=1.0.1 in /usr/local/lib/python3.10/dist-packages (from matplotlib) (1.4.7)\n",
            "Requirement already satisfied: numpy<2,>=1.21 in /usr/local/lib/python3.10/dist-packages (from matplotlib) (1.26.4)\n",
            "Requirement already satisfied: packaging>=20.0 in /usr/local/lib/python3.10/dist-packages (from matplotlib) (24.2)\n",
            "Requirement already satisfied: pillow>=6.2.0 in /usr/local/lib/python3.10/dist-packages (from matplotlib) (11.0.0)\n",
            "Requirement already satisfied: pyparsing>=2.3.1 in /usr/local/lib/python3.10/dist-packages (from matplotlib) (3.2.0)\n",
            "Requirement already satisfied: python-dateutil>=2.7 in /usr/local/lib/python3.10/dist-packages (from matplotlib) (2.8.2)\n",
            "Requirement already satisfied: six>=1.5 in /usr/local/lib/python3.10/dist-packages (from python-dateutil>=2.7->matplotlib) (1.17.0)\n"
          ]
        }
      ],
      "source": [
        "!pip install matplotlib"
      ]
    },
    {
      "cell_type": "code",
      "execution_count": null,
      "metadata": {
        "id": "BRSzhspAC6J8",
        "colab": {
          "base_uri": "https://localhost:8080/"
        },
        "outputId": "35a0803e-d7d2-4ab8-8636-c719587e25cc",
        "collapsed": true
      },
      "outputs": [
        {
          "output_type": "stream",
          "name": "stdout",
          "text": [
            "Requirement already satisfied: seaborn in /usr/local/lib/python3.10/dist-packages (0.13.2)\n",
            "Requirement already satisfied: numpy!=1.24.0,>=1.20 in /usr/local/lib/python3.10/dist-packages (from seaborn) (1.26.4)\n",
            "Requirement already satisfied: pandas>=1.2 in /usr/local/lib/python3.10/dist-packages (from seaborn) (2.2.2)\n",
            "Requirement already satisfied: matplotlib!=3.6.1,>=3.4 in /usr/local/lib/python3.10/dist-packages (from seaborn) (3.8.0)\n",
            "Requirement already satisfied: contourpy>=1.0.1 in /usr/local/lib/python3.10/dist-packages (from matplotlib!=3.6.1,>=3.4->seaborn) (1.3.1)\n",
            "Requirement already satisfied: cycler>=0.10 in /usr/local/lib/python3.10/dist-packages (from matplotlib!=3.6.1,>=3.4->seaborn) (0.12.1)\n",
            "Requirement already satisfied: fonttools>=4.22.0 in /usr/local/lib/python3.10/dist-packages (from matplotlib!=3.6.1,>=3.4->seaborn) (4.55.3)\n",
            "Requirement already satisfied: kiwisolver>=1.0.1 in /usr/local/lib/python3.10/dist-packages (from matplotlib!=3.6.1,>=3.4->seaborn) (1.4.7)\n",
            "Requirement already satisfied: packaging>=20.0 in /usr/local/lib/python3.10/dist-packages (from matplotlib!=3.6.1,>=3.4->seaborn) (24.2)\n",
            "Requirement already satisfied: pillow>=6.2.0 in /usr/local/lib/python3.10/dist-packages (from matplotlib!=3.6.1,>=3.4->seaborn) (11.0.0)\n",
            "Requirement already satisfied: pyparsing>=2.3.1 in /usr/local/lib/python3.10/dist-packages (from matplotlib!=3.6.1,>=3.4->seaborn) (3.2.0)\n",
            "Requirement already satisfied: python-dateutil>=2.7 in /usr/local/lib/python3.10/dist-packages (from matplotlib!=3.6.1,>=3.4->seaborn) (2.8.2)\n",
            "Requirement already satisfied: pytz>=2020.1 in /usr/local/lib/python3.10/dist-packages (from pandas>=1.2->seaborn) (2024.2)\n",
            "Requirement already satisfied: tzdata>=2022.7 in /usr/local/lib/python3.10/dist-packages (from pandas>=1.2->seaborn) (2024.2)\n",
            "Requirement already satisfied: six>=1.5 in /usr/local/lib/python3.10/dist-packages (from python-dateutil>=2.7->matplotlib!=3.6.1,>=3.4->seaborn) (1.17.0)\n"
          ]
        }
      ],
      "source": [
        "!pip install seaborn"
      ]
    },
    {
      "cell_type": "code",
      "execution_count": null,
      "metadata": {
        "id": "8spH-HIwC6Sz",
        "colab": {
          "base_uri": "https://localhost:8080/"
        },
        "outputId": "f4fa9004-e21b-4ce6-8701-7bfc922a313b",
        "collapsed": true
      },
      "outputs": [
        {
          "output_type": "stream",
          "name": "stdout",
          "text": [
            "\u001b[31mERROR: Could not find a version that satisfies the requirement ploty (from versions: none)\u001b[0m\u001b[31m\n",
            "\u001b[0m\u001b[31mERROR: No matching distribution found for ploty\u001b[0m\u001b[31m\n",
            "\u001b[0m"
          ]
        }
      ],
      "source": [
        "!pip install ploty"
      ]
    },
    {
      "cell_type": "markdown",
      "metadata": {
        "id": "wl2PYxtB8GGR"
      },
      "source": [
        "----------"
      ]
    },
    {
      "cell_type": "markdown",
      "metadata": {
        "id": "T20_kqnwDKe2"
      },
      "source": [
        "## 2.파이썬 자료형과 연산자"
      ]
    },
    {
      "cell_type": "markdown",
      "source": [
        "### **[자료형]**"
      ],
      "metadata": {
        "id": "rxo68HToTgT0"
      }
    },
    {
      "cell_type": "markdown",
      "metadata": {
        "id": "GPQdotYg8GGR"
      },
      "source": [
        "### 파이썬 자료형 확인"
      ]
    },
    {
      "cell_type": "code",
      "execution_count": null,
      "metadata": {
        "id": "re9ioSIM8GGR",
        "colab": {
          "base_uri": "https://localhost:8080/"
        },
        "outputId": "b4175e61-a46e-4d17-d7bc-42e0d9c0efde"
      },
      "outputs": [
        {
          "output_type": "stream",
          "name": "stdout",
          "text": [
            "123의 자료형: <class 'int'>\n",
            "123의 자료형: <class 'str'>\n",
            "[123]의 자료형: <class 'list'>\n",
            "(123,)의 자료형: <class 'tuple'>\n",
            "{'key': 123}의 자료형: <class 'dict'>\n",
            "{123}의 자료형: <class 'set'>\n",
            "True의 자료형: <class 'bool'>\n"
          ]
        }
      ],
      "source": [
        "d1 = 123\n",
        "d2 = '123'\n",
        "d3 = [123]\n",
        "d4 = (123,)\n",
        "d5 = {'key':123}\n",
        "d6 = {123}\n",
        "d7 = True\n",
        "\n",
        "print(f'{d1}의 자료형: {type(d1)}')\n",
        "print(f'{d2}의 자료형: {type(d2)}')\n",
        "print(f'{d3}의 자료형: {type(d3)}')\n",
        "print(f'{d4}의 자료형: {type(d4)}')\n",
        "print(f'{d5}의 자료형: {type(d5)}')\n",
        "print(f'{d6}의 자료형: {type(d6)}')\n",
        "print(f'{d7}의 자료형: {type(d7)}')"
      ]
    },
    {
      "cell_type": "markdown",
      "source": [
        "### [실습문제] 반복문을 이용하여 자료형 출력하기\n",
        "위 자료형을 아래 미션에 맞게 출력해 보세요."
      ],
      "metadata": {
        "id": "H7bSljnRIERc"
      }
    },
    {
      "cell_type": "code",
      "execution_count": null,
      "metadata": {
        "id": "gbzIvlUi8GGR",
        "scrolled": true,
        "colab": {
          "base_uri": "https://localhost:8080/"
        },
        "outputId": "304194e9-03f8-4059-8011-ec86ecc44efa"
      },
      "outputs": [
        {
          "output_type": "stream",
          "name": "stdout",
          "text": [
            "123의 자료형: <class 'int'>\n",
            "123의 자료형: <class 'str'>\n",
            "[123]의 자료형: <class 'list'>\n",
            "(123,)의 자료형: <class 'tuple'>\n",
            "{'key': 123}의 자료형: <class 'dict'>\n",
            "{123}의 자료형: <class 'set'>\n",
            "True의 자료형: <class 'bool'>\n"
          ]
        }
      ],
      "source": [
        "# [미션] 리스트와 반복문을 이용하여 간단하게 나타내기\n",
        "datas = [123,'123',[123],(123,),{'key':123},{123},True]\n",
        "\n",
        "for i in datas:\n",
        "    print(f'{i}의 자료형: {type(i)}')"
      ]
    },
    {
      "cell_type": "code",
      "source": [
        "# [미션] isinstance()함수를 이용하여 데이터 타입 확인\n",
        "def get_datatype(data):\n",
        "    instance= {int:'정수', float:'실수', str:'문자열', bool:'불린',\n",
        "           list:'리스트', tuple:'튜플', dict:'딕셔너리', set:'집합' }\n",
        "    for key, value in instance.items():\n",
        "        if isinstance(data, key):\n",
        "            print(f'{data}는 {value} 형입니다.')\n",
        "\n",
        "for data in datas:\n",
        "    get_datatype(data)"
      ],
      "metadata": {
        "id": "PMDfoepfF7K4",
        "colab": {
          "base_uri": "https://localhost:8080/"
        },
        "outputId": "230519f6-fc2a-4261-8c5d-915401ca5e6a"
      },
      "execution_count": null,
      "outputs": [
        {
          "output_type": "stream",
          "name": "stdout",
          "text": [
            "123는 정수 형입니다.\n",
            "123는 문자열 형입니다.\n",
            "[123]는 리스트 형입니다.\n",
            "(123,)는 튜플 형입니다.\n",
            "{'key': 123}는 딕셔너리 형입니다.\n",
            "{123}는 집합 형입니다.\n",
            "True는 정수 형입니다.\n",
            "True는 불린 형입니다.\n"
          ]
        }
      ]
    },
    {
      "cell_type": "markdown",
      "source": [
        "### [표준입출력]"
      ],
      "metadata": {
        "id": "Qv7p8JOYJdMf"
      }
    },
    {
      "cell_type": "markdown",
      "metadata": {
        "id": "EDFiaZyv8GGR"
      },
      "source": [
        "### 실습문제\n",
        "두 수를 입력 받아 덧셈, 뺄셈, 곱셈, 몫, 나머지를 출력하는 프로그램을 작성하세요\n"
      ]
    },
    {
      "cell_type": "code",
      "execution_count": null,
      "metadata": {
        "id": "a9sG7Q738GGS",
        "scrolled": true,
        "colab": {
          "base_uri": "https://localhost:8080/"
        },
        "outputId": "45ff9e49-dc34-4b99-82f1-f809a2f442c6"
      },
      "outputs": [
        {
          "output_type": "stream",
          "name": "stdout",
          "text": [
            "첫번째 숫자: 10\n",
            "두번째 숫자: 2\n",
            "10 + 2 = 12\n",
            "10 - 2 = 8\n",
            "10 * 2 = 20\n",
            "10 % 2 = 0\n",
            "10 // 2 = 5\n"
          ]
        }
      ],
      "source": [
        "num1 = int(input('첫번째 숫자: '))\n",
        "num2 = int(input('두번째 숫자: '))\n",
        "\n",
        "print(f'{num1} + {num2} = {num1+num2}')\n",
        "print(f'{num1} - {num2} = {num1-num2}')\n",
        "print(f'{num1} * {num2} = {num1*num2}')\n",
        "print(f'{num1} % {num2} = {num1%num2}')\n",
        "print(f'{num1} // {num2} = {num1//num2}')\n"
      ]
    },
    {
      "cell_type": "markdown",
      "metadata": {
        "id": "LqAbyRHs8GGS"
      },
      "source": [
        "### 실습문제: 시간 계산 프로그램\n",
        "속력과 거리를 입력 받아 시간을 계산하여 출력하는 프로그램을 만드세요!\n",
        "- 시간 = 거리 / 속력\n",
        "\n"
      ]
    },
    {
      "cell_type": "code",
      "execution_count": null,
      "metadata": {
        "id": "YwepfYt98GGS",
        "colab": {
          "base_uri": "https://localhost:8080/"
        },
        "outputId": "7d0766c0-aadb-4ddc-da08-96476a87ab84"
      },
      "outputs": [
        {
          "output_type": "stream",
          "name": "stdout",
          "text": [
            "속력를 입력해 주세요(km/h) : 60\n",
            "거리를 입력해 주세요(km) : 60\n",
            "속력: 60km/h, 거리: 60km, 시간: 1.0h\n"
          ]
        }
      ],
      "source": [
        "velocity = int(input('속력를 입력해 주세요(km/h) : '))\n",
        "distance = int(input('거리를 입력해 주세요(km) : '))\n",
        "\n",
        "hour = distance / velocity\n",
        "\n",
        "print(f'속력: {velocity}km/h, 거리: {distance}km, 시간: {hour}h')"
      ]
    },
    {
      "cell_type": "markdown",
      "metadata": {
        "id": "sHIxGA0xLj0C"
      },
      "source": [
        "- eval()함수 사용하여 문자열을 계산할 수 있다"
      ]
    },
    {
      "cell_type": "code",
      "execution_count": null,
      "metadata": {
        "id": "gvVxuLjX8GGS",
        "colab": {
          "base_uri": "https://localhost:8080/"
        },
        "outputId": "24059fbd-849f-4888-b18c-e990a7dc55ec"
      },
      "outputs": [
        {
          "output_type": "stream",
          "name": "stdout",
          "text": [
            "1.0\n"
          ]
        }
      ],
      "source": [
        "# eval()함수 사용: 문자열 안의 숫자를 계산할 수 있게 함(int()변환 안해도 됨)\n",
        "time = eval(f'{distance} / {velocity}')\n",
        "print(time)"
      ]
    },
    {
      "cell_type": "markdown",
      "source": [],
      "metadata": {
        "id": "ggIdHuiPtUzr"
      }
    },
    {
      "cell_type": "markdown",
      "metadata": {
        "id": "tECEWKan8GGS"
      },
      "source": [
        "### 실습문제 : 정수 합 구하기\n",
        "아래와 같이 정수 n을 입력 받아, a + aa + aaa의 결과 값을 구하는 프로그램을 작성하세요"
      ]
    },
    {
      "cell_type": "code",
      "execution_count": null,
      "metadata": {
        "id": "a04GPnn98GGS",
        "scrolled": true,
        "colab": {
          "base_uri": "https://localhost:8080/"
        },
        "outputId": "6a50023b-c3d7-4c5a-cda7-2bf5d3f075d4"
      },
      "outputs": [
        {
          "output_type": "stream",
          "name": "stdout",
          "text": [
            "한자리 정수를 입력해주세요: 7\n",
            "7 + 77 + 777 = 861\n",
            "7 + 77 + 777 = 861\n"
          ]
        }
      ],
      "source": [
        "a = input(\"한자리 정수를 입력해주세요: \")\n",
        "aa = a + a\n",
        "aaa = a + a + a\n",
        "result = eval(a) + eval(aa) + eval(aaa)\n",
        "\n",
        "print(f'{a} + {aa} + {aaa} = {result}')\n",
        "\n",
        "k = f'{a} + {a + a} + {a + a + a}'\n",
        "print(f'{k} = {eval(k)}')"
      ]
    },
    {
      "cell_type": "markdown",
      "source": [
        "### [문자와 문자열]"
      ],
      "metadata": {
        "id": "SHkqIiXbJXrR"
      }
    },
    {
      "cell_type": "markdown",
      "source": [
        "### 실습문제 : 문자열 거꾸로 출력하기"
      ],
      "metadata": {
        "id": "kc4LrgAHJw4f"
      }
    },
    {
      "cell_type": "code",
      "source": [
        "s = '안녕하세요?'\n",
        "s[::-1]\n",
        "print(s[::-1])"
      ],
      "metadata": {
        "id": "_QpSs-GCJvyH",
        "colab": {
          "base_uri": "https://localhost:8080/"
        },
        "outputId": "d62d0eb9-c6ba-43aa-8638-c1ac3ccc2159"
      },
      "execution_count": null,
      "outputs": [
        {
          "output_type": "stream",
          "name": "stdout",
          "text": [
            "?요세하녕안\n"
          ]
        }
      ]
    },
    {
      "cell_type": "markdown",
      "source": [
        "### 실습문제: 간단 챗봇 만들기\n"
      ],
      "metadata": {
        "id": "t1KHQyvnJrj3"
      }
    },
    {
      "cell_type": "code",
      "source": [
        "# 간단한 챗봇 만들기\n",
        "print('안녕하세요~')\n",
        "name = input('당신의 이름은 뭐예요?: ')\n",
        "print(f'만나서 반갑습니다. {name}님')\n",
        "print(f'{name}님의 이름 길이는 다음과 같습니다.: {len(name)}')\n",
        "age = input(f'{name}님 나이는 어떻게 되나요? ')\n",
        "print(f'내년에는 {int(age)+1}세가 되시는군요...')"
      ],
      "metadata": {
        "id": "Fg-QYkDPJr14",
        "colab": {
          "base_uri": "https://localhost:8080/"
        },
        "outputId": "cbac0428-a82b-4448-85bb-bf463b61f663"
      },
      "execution_count": null,
      "outputs": [
        {
          "output_type": "stream",
          "name": "stdout",
          "text": [
            "안녕하세요~\n",
            "당신의 이름은 뭐예요?: 김광수\n",
            "만나서 반갑습니다. 김광수님\n",
            "김광수님의 이름 길이는 다음과 같습니다.: 3\n",
            "김광수님 나이는 어떻게 되나요? 65\n",
            "내년에는 66세가 되시는군요...\n"
          ]
        }
      ]
    },
    {
      "cell_type": "markdown",
      "metadata": {
        "id": "Hb6l5EjLQB2m"
      },
      "source": [
        "### 실습문제 :  구글TTS(gTTS) 사용하여 음성 출력하기\n",
        "TTS : Text to Speech"
      ]
    },
    {
      "cell_type": "markdown",
      "source": [],
      "metadata": {
        "id": "MKZzJ2iCMu9b"
      }
    },
    {
      "cell_type": "code",
      "execution_count": null,
      "metadata": {
        "id": "-eY--f6MPwTf",
        "colab": {
          "base_uri": "https://localhost:8080/"
        },
        "outputId": "5d63db74-3cad-40e9-9bb6-e30fc9dae8d3"
      },
      "outputs": [
        {
          "output_type": "stream",
          "name": "stdout",
          "text": [
            "Collecting gTTS\n",
            "  Downloading gTTS-2.5.4-py3-none-any.whl.metadata (4.1 kB)\n",
            "Requirement already satisfied: requests<3,>=2.27 in /usr/local/lib/python3.10/dist-packages (from gTTS) (2.32.3)\n",
            "Requirement already satisfied: click<8.2,>=7.1 in /usr/local/lib/python3.10/dist-packages (from gTTS) (8.1.7)\n",
            "Requirement already satisfied: charset-normalizer<4,>=2 in /usr/local/lib/python3.10/dist-packages (from requests<3,>=2.27->gTTS) (3.4.0)\n",
            "Requirement already satisfied: idna<4,>=2.5 in /usr/local/lib/python3.10/dist-packages (from requests<3,>=2.27->gTTS) (3.10)\n",
            "Requirement already satisfied: urllib3<3,>=1.21.1 in /usr/local/lib/python3.10/dist-packages (from requests<3,>=2.27->gTTS) (2.2.3)\n",
            "Requirement already satisfied: certifi>=2017.4.17 in /usr/local/lib/python3.10/dist-packages (from requests<3,>=2.27->gTTS) (2024.12.14)\n",
            "Downloading gTTS-2.5.4-py3-none-any.whl (29 kB)\n",
            "Installing collected packages: gTTS\n",
            "Successfully installed gTTS-2.5.4\n"
          ]
        }
      ],
      "source": [
        "# 구글 tts 프로그램\n",
        "!pip install gTTS"
      ]
    },
    {
      "cell_type": "code",
      "execution_count": null,
      "metadata": {
        "id": "O_xqpl0pPx6k",
        "colab": {
          "base_uri": "https://localhost:8080/",
          "height": 74
        },
        "outputId": "d2fb4ec2-3553-4fd6-f8cc-08585ec319ac"
      },
      "outputs": [
        {
          "output_type": "display_data",
          "data": {
            "text/plain": [
              "<IPython.lib.display.Audio object>"
            ],
            "text/html": [
              "\n",
              "                <audio  controls=\"controls\" autoplay=\"autoplay\">\n",
              "                    <source src=\"data:audio/x-wav;base64,//OExAAAAAAAAAAAAAAAAAAAAAAAAAAAAAAAAAAAAAAAAAAAAAAAAAAAAAAAAAAAAAAAAAAAAAAAAAAAAAAAAAAAAAAAAAAAAAAAAAAAAAAAAAAAAAAAAAAAAAAAAAAAAAAAAAAAAAAAAAAAAAAAAAAAAAAAAAAAAAAAAAAAAAAAAAAAAAAAAAAAAAAAAAAAAAAAAAAAAAAAAAAAAAAAAAAAAAAAAAAAAAAAAAAAAAAAAAAAAAAAAAAAAAAAAAAA//OExAAla14MAMJGvS4iUppKt+UOw7kU/uMvp43bpJK/aAAhgoCDMhQ5BCKOrRt1qBBCsnKFIGIQgQEmQtRjwgpCaNufXR7X81EGb5pwtCc0AABEACPDgbnuLiO7/wvP9E+i+u51y9ELRH3Pd/CCC0ABCJ13d3eGiIhIILosyvm7u8Qg4uvu7xP3PocWkEHmQA9/WonmDwBOP6PwQMACN3R4egogBwEvJJFoIlr9xh2IjHoZi+IhjmmjSFlGd3HB//OExB0mYgo4AMsSmUEgKyQctRYsTnxsWBDLd7uNOMMOn6EDQ82tIVTCmBcC6IAQi2jkggsaJIe7Xby5IGIfEEG27momRk+3RQkmpCWZdMXPWMvdUYtHVkmI7gdaVAFWnmdyBJoB/VXHlsH+rJ0p/2ds8XV9t2vToj9XHat/4u/7KedeS3vx893aIDJzuLTYwROWIu/8NpfsnfysxBsLQz2MgngrhoiKCLgYyxhjilFKS9TQznNNDl0eqjMshZ/F//OExDY04vZUAMPeuICCGQtHIOBUkyFwFgOBc8/EJTbs/DlLGo0Mhui/o9Fo5kT5iFOOBhLe5qw/Dwa0fGVicex47yqrwwG4LAqEMYy4KUvaydbU0MB/ngp1HGZJmfE1VfZOVorKLtGXViLQuEyQ4UZ4yR042x87y/3mBKz7unFA8eQNSMjIr4+c33SmaRP8w38fd73tT/EQcCZCfYTKXh+mrT5RDb9sM366TBa2o+rO/Y4laHaz5OFRoWaBKGc9//OExBUq+nZ4AHvYuMhY/wWY+lSLQtDfThgL5kqeGuEo/Zy6H4qDsL+1KUudGcr1erVtrzRaUCsiQIBl6kjH4MBPKwgA39BJliivX15Yw5R9y7dtefLkKeWV2HxzctL2XCnmZRm9p5z4567lVzC/2liEpSLGztZSJDfyCm6/VJkT2w4ZOC8ODg0GiSzZ7QaMg5eEKyBxZwoLbmxXl0ul6Ljn3yGJyOfX2a9h6wIRNSHEE6rgQJMx15W6aK7dgj4h//OExBwsOmqAAMPYuMJuewvScjfLk9JSkxLlAssrgfyuhE4eGgT850QPtENB6KFCmJ4hUV+5OcWApUMd5YHKCW1ZLkwDpmcHxRTNxZZma2PmrLm8nrOV5mZeOWrUOTKGOlsho/9t7r9bGGH8irNIJWrZ/Ysct7jEuXpas7FQy4qReKOFmHdi0k1jrSJZKp4VA0ToeQF3pREpaMvFVNIZ1XxKmaD14oOmLWA0gr9gKlhJsZuWlqwS/ggFQiHCwZQV//OExB4te3aIAN6KvKI6hgzRyCi9U0pUocKJwVToIzSwKYkilnDMCN1VrM0Ochs8YSGdhrsuq0kbnYfrXb92PQ5vdLT0P5YWYrXr2o3CY2wyrcz3wHQpCuYcZxIii404sMkIMUJiQgAguPIyVIx0HBSCAmaJiDGcaeZzj2VhZ3HkUrXp/z9E6/yvXfX/qd9c5HPKwwyqjsNHhRSMiSWfwiMiiHtRxhFinawY2oCUg/9iCEtzOl8Mb3IhVKpkeMBj//OExBst63qMAN5QvKjptH7GXAJ6kmySRQAQIj/aA+pbwHLT1FIhYFqo7Gpy0mLyqVSpDJxLONWq1qKfl8qazD9r9WJFr/zlDr/jM2WEtcvYWuAcAQOBFyTgWCJTKHjndnHCis4iAvAOephaGpNhCDgwQhaFZtRDEheQcDU4XcaMPHRfMX//E8fFR1//////W/bxxUJLi/KOpSHs8JRyd7VI+xo0AtfkX1Ko+XOy0LhcoaDbQ7AqxjECSAyWUJdp//OExBYtk0qMAOaavKOrcaXjw+7cKgmUGjD1AxHLJ6HknTeSRqvGdTIUGkrBgMJqwFK0kbfeVbL/3v/dLHcO/9p9v/9blvef2ZiljPWPG4zHeoj8DuDySxdRJQcJ9CpyOtBazowiKJwihyQ9l0lTEumJomal44PYkaNFmQdEqLx11LRYt6SX67av///+tBbOtkaKnWYGKBqo6USs8lWsydwcKvBsXcnt/2Wk6GoqkkV1vEUFUy+AB14FdFDsYFQI//OExBIqw4KAAO1avGQgQK2vtLzAAGzEQswDqsGwixFMngMMjQLRFEsPoZsDGaKAYOw5pkURHICwFBgJJ0yWWA9IYSVTkNNG8q+YlTqLz66XpJGdaSY4RsLheTKgkwXAwdSx6l6taI7SgYqSH0E5GSilrbmQ9j662SvpF5+l//ooIN///010Fov6lpJL/2UktFH/1LqSuYLhFZEmXaKqWW0NYEqlFok39bF9hAS5ugByq8DP+HBKYHsYc8CIHAe7//OExBor/BpsAO5a3VLWhg4MTKkHGvX6ylIUEA8cOOVBiE0YODSnviuV15Ecs//WbrX//8H5s/nlhIu97z6e9/d9rb3/53t/v9Xta3+UrkOdXTxNPkO7Pa8ye6ZMKTrQPh0E6QW/b0vM29///6kaWuj/+9SdlHTlDSdJv9qCWtr+3WkbH9FIumSmTSSSUxgiUTBRkks4tNkmRvZSa5qZJz8lt6GBrdE25gsDJvoFRMDq6lTCgRmALJCZWGLAeFUC//OExB0uhBpwAO0Q3VHRMsUFAx3AWFWJ8gAjoFtZ0oF8cgWWBuRYi5OF8mBfA3MIR2okAZaLqHPNl1KJg0VdyabrNepFaFeTZuglOiyCcKZuiRYXITjKXMEqtQyH97qC9vfmfShCM3tHF+kq/q57/+P/t4tJ/////4QcTA4fIu9zFf3/f/poOeeKlo26rcvEMMCBVGj6mByufkFMMGzTwsV7SjrCskDKwdyhyp4gvMLC4AnRIgIXXC2WA0Ojg8Zw//OExBYsC6aEAO5O3DDS7j/pyDgFGSROGJACM7jl2NiBwIchiGHQbqiwcJrV7Grq23/i+XNTcYxww/kbv4f+5ZY/+7sWP/Ws95/+8N65+Mo5nnyGmxrrl9vGgp5RY5/SQkCWTc0iAGAWLzhOIoyZY9Rwme6SB7z0JmGGUPnn+Pv/0/9tds85S7mk5rlLKh1X+/2//RGZHShVnUvKsfcFTjid6aZUuOQqmcsaZ9RCTGcq5EFQm63AAkp1wuZyApgS//OExBgm8eqQAN7SmLZwLAZkZ4dkfCwxA+F1eQMC1R2564/wFIlSPxL7L6pCttjnjuIuJP5/3Uallj/1XIEGetlDP4wXb/p7p07QRDooUmFUBMY3JdlRiFRgaFABBSIQcBts2ndK1BheKJNs4FmBdbk0NT/1PsrBwMmR5g1SKi6aV6v9KyomWUWnfvWAhgncPpLhjlZUqCs0iJvCnVgMhjD40kWCl2EoAyZBg02BEkBp5IE2RgZeBXYnQlieLofk//OExC8n46qQANzU3AZ2AHcIqkyIrUQIW1OxwgJs3MifNENByp86g25YQdAxOE0PQzBUkyRUqnjd6Riik1SQ+FcfnkjCsAyIwhGOKmpZyIfFBbFgw8hIWJ/nK6zKz6t////feYQGMzsv0Z22/0////9TyVzr9g6kUPiB5J6Ku59vUbTTI1EiVW/i8EMyR+OZxAwpf5UsQZ2Yk2nFHhQAyKMS+MCIpDDBqM3LLLPAsMyK1jjlDTfUX7/cphzD/1uI//OExEIl4rqQAN7OuN3//laesc//uzkyiAKAWL2HQeg9B6e9DnGxZs000+rQJATB+P0B8I4ji91UdEzIPnmqND0T/urnI7W////6OcUB0UWEjQCFpj//V7KSVXoIjAoXVHEqoc7lWDFURh9mEwa7TdLijggEplTsmNQmqk0lrUPgQLMW12Hv1L3ylZAQnbvpQL8qO63Z81goEqVcdwC5n/r/mqX//9wFb7/95Vsa//rD2NLHUTIG8Mg1P1qJI0u8//OExF0nusaEAObauMjNtVRayJdLiZdCXL5oXlmRJKQrMCSHMfPmrKLx9v+1N0HS////+uzuYF4HQ6cAxkEzPLf+xPeod20JGsCAFh9jV5LFMK8MIIwJJx6pKwLcR/DgKYLDRsKnArzAAAq6exaIGAxMpBJVB9Rlxjgt/AwwADdeAWnEHMzQ6ToX/GCo+6zEn2+O61TuQbWqxdp7KN2WtShPAjlLUomC6gvTMzXWkdGfJTyQkFsWgZJ1NqeVMWch//OExHEoBBJ8AOUU3Qj0iOtr/c2hiaf////ZSciJC49ah5jmkpzsqt///X7dTJ761VTf//eqHyh5pHopVUSFa9Pq5MCgg1MCjWYAQpUUMABcwCGjEx7PtxowqJFroFIgiAJmHyKcnLhjMFIqsqkb1AUAA4Aq3SOtftw/A13tLz8O///qlx/8c9y3H/1hhay//1gS2NcAQAIAouQUXi8znnljmuPjI1EU08RAUEIWACGTTnY4khhgkDcSR4fPW3/M//OExIQoQsp4AOcOuDNv////9To1HSLjQs4NKcE3f66kyNuj/8VDhVwTQ+V9Loy7RgABJnCtwKD6GmWN8YECEYVnCcgCCYaAe8qDq5zBQRjNoTDGsBF2sWGotgBy89LMiAQrOt5pPrX3qTe9/N3j72pSZ9Tf1/r7xTLWyxLwZVtUvb53Z781+M6+b2ChpjCzoxrkYaBhcQFTCrIZ//SvX////6anZyqQYLuRkKHTb//+k+//M////9XVC3WLCER1//OExJYldA50AOvK3Vgmnv8u0CgYYmE4dhG6DiBV2iaBQRMKEqN3NVNUh/GAIVRBoGAUIjKsUgcOAQG0hTzWOZQp6uWwtiqfXibT6HPt/XmjfH0/Zc1+4V/9Z1Btv+/+c6kgwFc+f6ZIkbM1IeLY+pp1awwRrB4RAodESxFHi4kEAsVVtf///////8sqosSGIQTZkN//+3K//////t6mcaUwsdRWVhy5S4xEBiYVYyRjQAflYE4hAGMBEBQwdAgD//OExLMlvAZoAOvK3AyEHjIxEkGhFx4DVH5BCYDIWxggAcg4GUiACigkA9J0sjxPnqF1NmyGKBnjZjv4831ukGErrUpFYoOtXjVmzT4zjwcZ1imNWgqVh+t/wrY+J9vqObjyCK3FTINSdCiJH+n//7r+n///moY8bcQIGgVzGps6p/qtu///////NdTsoiRqZS5kNLRMDROMyLbMXgsSBBQJCgwGUk2HkyEjIIBwDuKSAgYJDGYcA229VG87hfdr//OExM8nlAJcAPPK3RH6gUIBjJXUdJKGQTeHb2di/vv19YZ1KS/Zxy3etaz1h3mOPf7mx7oTOCASD2JT1OZWoh44WKjhIwaO5xzqcac5pUfd3b///7f////+5piFRuYXNOGjJUxLXPPha///0VGJUVpZ6gnVdZaqQQ0BSYS4tZnkjTBAlZgmgYDQEhg2jEmimuSYaAIKaiexgGALGCAFUVgrqxmAiAIYFgAphmiWmCWAKHOaSpsbnBp5FNxOUA0K//OExOMlyuJYAO4OuJblJIJf2M/W1LLeOc5Uy+/Ty+xl+PMKbepZLbHZRLN7pLd+UQ9HaLtvOm/Vi9byvTOeO8Nw/HOydzRoYKBQQH0EA+FQLDxh7z3M7/+/Sr/////PuiDzCEcHiwknkGHBqNxlyhEndnsaNTzGIKd2vf///to/7nlyjDiHll+LJZS/krcUwtdsxjAQwGBcw8BkxmBw0bzM2tbgFIcPAqKgwYYEoUNIq9TYRAQYWE4bYFmYggUO//OExP4yM/5UAPYO3AgGEzbwz2mTNDEAgFDsCVG3/ug0hbuUsiDWJD+FC5dn6l2R2Lz7xJ77NIygEAkoItLKGy6Ejsd3L9dt77j9nu8v5u7rLv4ZZZcsXbw0EYFExcTExIe4DhEARQFEgUPiDkI3//v/////taqHFhASFldxUcJEYTk/tsj9Fn//k971elp8jK5hQgmw0MeQHhCPxV/EjzAxAzIUCQoARgOFJhYChiRPZjqD4ODxMYYAUx9KUFES//OExOgww/pkAO6K3CEAGGiIBzFsEiYUBYCmuCoQa8WH1mA8qpFl9DIloDKiu5W0Yu7MyB227NdvW8m53Ksciit9FTQW+5VAm2jMa3KJbutlU5rX3f/f3f//1//+v5r8///z531GhEoOhGL3oNBs7RQazoUGg3UoNG///////79FQ0+1VNoff+jWU//mbW6n1n+sxDz44UMFgiEy43IiYR2FBpEjb1j1symWMvMiOw1bSIEJSYIGnfJxPvFBA1Mv//OExNgv4/p0AO7O3KnFc4RFspiaw5qyfH6Nw30N1YgSAo4lyA4GMjyzOgtECGi95noS98XnGtA4buWVDzCyFFucbIk+EEsv1aay1m1yru7rLurv/+eX/z+///j///P//y//139+VWqBCGjFi9i6kAuzOPg5NMQcB/dCgs9/////U00xjFMohzocYcPMqOff/2btRO6dGddlHmQ9DmMVSzsxExmoxyiSRQCnT39SpJqUsqMFCEAyXQSXoAIRmB0P//OExMsuK954AN7O3BguFETS7BAIGCi7FUCqJwl5GHYyKE0pAx5A8wkTARMRwBFGB1dgZZCEALoChcAw8PY54mAeuA2LHPLAamBjEYFmYkI5pERXCSWpM6e5q/Q6LN/v6/fq9n1KE2JqDyVLoefKKE1CsSihckUPdv////+bMkj0aVVkQbMsqaeZe7uv+istP+81UmOejHtSjlzjTp487EfrqR58UPgRKjK4WIQCCB0GDI3W7jmwKFhGvZDqcBR4//OExMUpw8Z4AO0O3BoqJBdfCgphpbqTXc9ayAx5qrtYhhAAcGHYCCCYZckv4Apyniow24JHIKXS58E/IDKDFBstizVJ7vMsLOv7c1//T8/+Wuf++f/9///X6DdT1sTnY4kGgvmQ6SampSRKmSBiwvKUfTNlr3/////fc6fX/PXNrGy0UzdI0PuaTSz/dui66l7OzpUiyYzNapn+iuVI6tgGv4xcAmUgkFAQRGbfma6F5ECg4GAEGmgp+Y5B5QCG//OExNErY45wAOcavITdjGJ5M6N33xNWCPft5BCFHgoJEDq5JAEUFjLymAr6QxKXmMCUBP809RciMmeybF6u7/G5jr+1ufj+O//zd////dN2yhhojuUG4mAPMID242sbD1ERGGP/////8yqUQw+9B8uQOmXJmKYpBwqh/U+FcICwSe1MNRSYoouuQwjOIMWxmRgGFIGDgyOkUzNB8uQYAASMhwZTMoY3gw8S3AQApjiRYYDMPR8RgJv4+5qbxKCA//OExNYnAwZ0AObOuEMTXJwBA6NrymFmZ1Y4her9zRAAhIitxn7LAuUjxVAMCTTGMN6ymN/vlPZ1+rmXe9y7/6/9/rf/+9fv96/8Nc5rSUnqYgYciWCoQGlzSqExqzjUqNDhsMDhrHbf////1HGQiaXocc0cOPJmiLY1SClSRx8x2/6ebbz5RUVc1EeYx+UZv9eNSt3khTI5bAT1VcXFMHB03BejQ4SZaw4wCTzporIgxsyJJgZyYcVMWboiGZC0//OExO0vu75sAO7O3JgYYo1CQubnGzpzxeVgigxAIETaRDS/YitQEk4OQatpDsYYFlpmvx24quseB4g/lLSZSgCoiSKei0e//6f6NnECFOcYMAwsQRGoaioxGUOsow4Sd//9owXfeXWxiJNqiNn9oki44WKOCraFfVs7+AUGmSrKOgNpIUDBj1RnFYCYACCxASKTXP5MLhwBBFAMBgSYvnoCKpemdMRmEygJi/4cDAMWDMNPDlyYaBM6Qhkw2CHt//OExOEmIfp0AObKmHmhwQgEwWEhYBUskXhbXc2GNskTGba1SK+BgFSBVDdQiRIYOssDAeB+TDkSjGNy/tmxnnlr9a3i73OMY5Sg4fcwTi8JQFDUoTEUakUYuhMcGpEgYXsqshIocXc/vmIn///7TVu723kXN2bT06HUXp/9aPVVI86DHO/H8XruIVbVoZa8BUDph9+Cw/VULARMyxs6CcBkAggTGIhke2XBh0Eg4GGCSKaDL5uU6BwSMGAAhFR2//OExPsx035oAOcOvQbjxKWBEzVFOnyziSpKVPUwULKAWIzjX2TtepfiTsyG/biEZpJRRRqm7Urw1D1LfoH+jrEYirctaDbLVnmcBxJXQSjG3jzm9c33DWv7zeerurUvMCEPUjWHoFKH3FTCokHxYp7EVIk50KYyhwTOrt////9k7eZ9en////////fXcgmYE6Vy2uuUYIFBw4YjwRboFh4coWJiEAL5MKkM5XnTWwvEgwLEYjmTOk8WWygJMbHj//OExOYt8+psAObK3KQ9MeDy7Zn9KY+4GRgUOLtGhhxZTisR+qbr7y2lyjfKu5Rn+FSrjyplrr3Nl77iDpKJQ9EQay4E8Mw3tAsPvdbPtnsn0nu2PY+7+HPpjHwoSj6e5NRne2o5trJm9Uya//aS//////tgkDhNVRe5sRhCJG2AewsEAYyJVjDYQAgSMQic0H/zZqIAgNBAGMMBAxWLhGASoHmlmZ8UWZ8JmAjZsOiHKBjA2CAoxMEMmFwgNkrJ//OExOEmMi5wAObWmJFF1ZXInel1SW02XKta9nQfezuZY8r495Xsd5hf/th9udwYXiKL+SgTYcClVTax2ldZnzNivjNzXCW3zO6ebtrWaXcoC5V7HiColBGZ2WdZzM8Y2SjrMDGoFWW8kpzd//9bwCIF00M/q+n/KjQaMlbWvJMmazoEWEmAYgF4K95gQEAAGBcXnAG8YtDJb0lDxMplbwABjJ51NWEMwkBwuHjgWzmqIJS1FIACMl0BQAWVabS0//OExPstujJkAObeuM7tLhOS7L8LXd17Nipdx/VWtrmXf5l3Xcea3jvVy1UpaaXO03Rg7lNkfmjn4veoK1ifq1ZirMAKhdgVicqRGURCMeKwtD4esxY4qIEaILIgRoSEx5hzGqeWJh8Lnbt/////X6qxrH/VFq+db/////+3K1zVpVqCoFMLVcxsCRQAGIV2aiEAEAIFGpq+am8i6CgiZLWputHGJwEKhAyMkDLA5MLAcwSSRV3HJnQ0Tg0cM4LQ//OExPct29pkAOaU3cFS5YFAI1HpI5MO8u/hrHn6xx3+9XN85v8Od1/d/zu/y5/8/9ZcxuzU9EaB/ZyNuJF2/jD+ctUOq1AQhSAChDDGYXM1MORVYhkRE5OSkKnnmkxCQj1XZHkIxJB+PiRXbun///9Np757HI6+jV////37UMpoY01zyQkoldpdjoJMAzAmA5CDzDuhNOD0eIBAkzVxYEgySio4klxo1hgBEQ+MkgNcKSZkR2mZhqAwEDkQPsRC//OExPIuU95gAObU3eISQDS0hpMFsTiamZAkmOOtFWduiatSepv6l0v6nqU5kmXFE2WSYJJIiJoXUCLF9MmBrB1DaJ0XiianU00HVzRI+dQQPKNjcf1HkTJ51mQZI5NUHJAepSLhcWsxOO6/rf/V6l1uyDNUtB1P+lf//7/1veipkl3RNJkZmiySH40Ny6keTPOqlqtQMDjeokaDS8ZvRyHEY8EgBnOMOTFA0VMjfUoOKoqFQwBFTuygw0OWukE3//OExOsvS/JYAOUa3AALo2hWkUKsiPUwK0DQnnVIJrTSZTqXUgy0//RTput+rVQQUktBzRJRxalKZBBwgscogZ0VUQIywFWHEIJAM7iWMQUZjMgYczFqM7OJmujuuf0+tUOpHEIoNgZwxCm3JdFVf/yf1/9L1b+cwoyKeuqWlYMYGnHPrwsFiIONNGhoeVwYMJhgzSQ1HVixJuTO5c9Li1DcxUySQPEtIsgZS6VIKfZj/6jG64x7rL9DaBdhxNnW//OExOAnE9pgANtE3Djifads6zaJ+PUrN4T5BHXTpSepFD+ra1VKebBPEZrUCCKOCA9NpiC64ohQBtIWmDaCNxmgaqOPXjNBKlUlxrVruMT7MMk5Oc4ZCiSNWlcjpxmZc6qyNE7iEanBCaJFukQwQZak5JoVIMlkK65Em2lFJmUCQVlGzaAnU7GMSxJClAkQieMHiC4pIUUPTUdOpJTQVFuLbzhbGa2Njhw8XBIFDlNzn1jnXvnk0/H7SDhe52jD//OExPY2RDZQANsS3O3eIhyZO9+6/8IIR8iCCGdr388HCykGu7T3bTQiP2hkGCHWpzCEVB5ML0gh2MkmP939u49n8wBhdIf+OeT2I5ML3fd223+xAhH77455OzDCC8e7XDp58P2D2fHohEbnTZjMffn/fbv5UN//GPex+Qhte7vTM2XzwzEALclQwHMeanpbzpSNrq0gcIvK0xnrsX4Zotw7GZbSActT+b2txizq0mpzPzRTba5HKmozFeM9VqGq//OExNAmO+50AGGM3Zjduc8wPiNaeqdVyufPry1+JNRm1gIQ7BBEtorWVOxL97RhevXtYL2iMCyCjLx+kNtZauxCmEpUuJV1IOhYfm4bQCUYwF4jHJr64cnCUJRKOykZL1hZKx8j11lgcj0kmMX17arntSxJVtXa1z4CU89bHoXc9o6f91lazF7J7LPLnmc85ewyjZdWupj3tr9Zas09HWv7Mrl1mj6zT22tNrHRlHWdrVb1vnqzva6BKhHwW620//OExOo5DDJoAMPY3RUcppXKZezCdY27CzY3HIGiENmMBdPlE1ssXJ7G6cqtbDqnH0YCiQpJHeW0nqojvcW8S0XUt4O6VrNZ7be8d7NCzwYgmkkEoAIikw5ZUZ1xztrjmnKOKiIR2xsiaPXXei5MfUpOnh2pnR6XY5tOq4Nrp0Ruc9rrhKvr/qOOo4dzX8NnZOpcBMqQrcdyKVmZXUFXayp3phVxeFp0QeiVsqUqU2stslszYv9DLNX33BL6XQnT//OExLgmsupMAMPWuDsKwZRcmGZPbgvXyujqY0lpZPYTY5oSrRj95eBuj59WLel4MX6t4W42lmGoETzrROO19r+m/Zu/rdnYLWnDdmZK57ORS1FJJR6JIAy+Py6Oza/vNOLHqXHc+tBpYiJhQHwMExcoJROVcJEmmBRBYOjByr3KzbYVbaGwp0VeilqBsoe2/Uris5TTbXYkpSg65lHBbXYs/r+xE5OeSml3VKnKHNFLJ6pPlXeXgSBqWj1fXra9//OExNAmokI0AMPMuDTata67DlucuycwDSTgZN9vUt/V7Lw7n0y0/b0alno+DgYraj1mEVZ81Ftou0SORVPD5nSeE6aWqGmeZ83dk99Z2iNwumuDqbGZ6NmNki3zM8fyv/Y+6d3udPcvu8mR/rxW42+pbtu/fV5neHfG1I7uBjcVATpGK6sAyvHc7x/b9XdyUz9ectSSn42gYNx/guhRKaeZs24uqXuJEk57laavIoGkVlZXGTCXUkhEIqHp6zFO//OExOgqRAocAMMM3PJMKI8nOqW18VbsubZkjJvMcjuu1ScS+HEvhyqKKs9Min21DVJSrD6xgInBaRGmVcMRzNl5pJ8w1EJPc6dULb0PhJKioO3PHhJIlSRLPvcmxZrzpxMmerZgx2TLSO65yHu7Sg2ZTXj+sxJDl7B6FartExNmEyKUxm7heppVNy2i5hOQY91LDUWh4qODUESNKWTyQ48gJpxkRKs2spHURMI3JOVdA3cX1Fe8aIVUJEyiavU5//OExPIsRCoMAMpM3cJWV9yslpC0imss98n7uG9nblVS6gGSNq3+d2gw7qolWQ56JZZZB1FF82kYW5SUhSUJCiQKj1Ei146KKCVIy/5xWnAWrd5ho+ZZ6VvKppe/OROY0M1DXEqlHUymSLkl1aajmzhMW0gSCBiE4brF9sGMgdbQ6EEqK9rNNymq3besq+XbVfkciPbk9ZS7KBPGWMKIRkfEyZRdCswwvTcBXN7D82FtodTIma52KKNTSM6pWsUl//OExPQt5Dn8AMpM3OMcevanTc5Aq1UEtLZjksyCG3d6txB/asXHJGEZyU7AkijWrN3bRKNzcOKTTMPfYZ+0lKUKllwkaKKORi9RJw/MKdKCBc7PpSL30iizS+5F0WKSMrnSXBbqn4VgGbR1Qf4imIqQMi7KLAtURKlpZGrTyYc0W9UpCVav8+UW5TOyyk5SSrVp9J2cr3jWlTo8iFJAZR02WHSELFKaQoA3TCcHtMKe1IxRmcTYFBGrNAzAMQYQ//OExO8sTDn4AMpM3EFNZQxgN4liOamlllGmkSJCusUTWKnWEWLJs1PE4tXFJNtjS5qa1ujiko56StzvpV92mlqdGNLRZUh5fyOufOrkgtO/Cmdklq67241BBJ8Ey68nwdJ8F7lUZ1Pc9Lyjm/zW2EY7NbuZRujpb1c7VJZIsZfB0m5psyF9lCfu9XUnw3qxbpKWpqmwt38Mce0P0uWaBwoswgeUisLSgCAMgI0ohgKPF3AggsDSIa4cmVCIQboI//OExPAu5DX0ANJS3FSRGoORTI0cdJ63JPhsVQu8e4K5R5xkMRSyDa6UZvcnameWkTuvdB5ScodmtaNqhMpiX64dMyDWdE1LyifNZXezXm8tNpv2iweX6pvdiPiBV8puto2dloNWnbqpWks3JxVO2Y/tP5Wz5TZq8HTKFSylTLUyWLUpSVu87f7hUllmb1PV8aePTUxSSgmTLlJsCQVq29WkgaFJ0IyPCASJtGic2ywSoihR/ZLbtiuiYfFgmIJl//OExOcqZDn4AMmM3OFtzRkSJdRa5iIPuVYjxGsJYikqfRJIKuA/JEkTHKxEtzm0hAOdoxEz3dIudmlrTs55eS0887CfYvS0zZPXPki5ruhiZrQfKkiLYnCOBLDKmH20wIcpjZxMmjlKaiUZVQjpaKAB7SQIzQGQKWjVFRSbPabuzIZGdG/SB9PZeBY9OG0Zl2tOb2FwJF4hMQTJM3au02rd/DsqVk4mOCxsSipZqSuSqbK5lNgmoVTSRNSlLqxU//OExPAvNCnwANJM3RVqpkiyZKRFXEJx+quuEq0qKiGCrOV/0hUiIkTRrFLmryqOIwXhopNGvWmos1Cgk68JGlbzrjfWmtnyt7wSlFkjUXlp8na3O18kjGtrZT44Sc+drCQa8fM15cjj4yU+WOCpfz8SNZ95qLU+WSqquTY3Z80bnqtmCSRKJYSHKjZuLEZhFAYct4jmrAy9uDGmlt405yXadFuzRWjuQ88JRx0luGCLsRon5oKNULapVylbYErV//OExOYsDAnwAMJM3CwIcCVrgTxbZxv43W0GFLCbWuBHmjRXzC1NUOl6TxYUufm2cZxm+t///+d/VY5GrLJ6ywGCBOhl+zVDI1l/7K1BxyMv1lIyaz+yyyOhkyhgdQ/8maoZf/+ahgoIE8sssQyZWUMFBhHI/l/yZQwMGhYcltyqqqpMQU1FMy4xMDCqqqqqqqqqqqqqqqqqqqqqqqqqqqqqqqqqqqqqqqqqqqqqqqqqqqqqqqqqqqqqqqqqqqqq//OExOgqk/mYAMvG3aqqqqqqqqqqqqqqqqqqqqqqqqqqqqqqqqqqqqqqqqqqqqqqqqqqqqqqqqqqqqqqqqqqqqqqqqqqqqqqqqqqqqqqqqqqqqqqqqqqqqqqqqqqqqqqqqqqqqqqqqqqqqqqqqqqqqqqqqqqqqqqqqqqqqqqqqqqqqqqqqqqqqqqqqqqqqqqqqqqqqqqqqqqqqqqqqqqqqqqqqqqqqqqqqqqqqqqqqqqqqqqqqqqqqqqqqqqqqqq\" type=\"audio/x-wav\" />\n",
              "                    Your browser does not support the audio element.\n",
              "                </audio>\n",
              "              "
            ]
          },
          "metadata": {}
        }
      ],
      "source": [
        "# 영어 출력\n",
        "from gtts import gTTS\n",
        "from IPython.display import Audio\n",
        "\n",
        "eng_wav = gTTS('Hello World!')\n",
        "eng_wav.save('eng.wav')\n",
        "\n",
        "display(Audio('eng.wav', autoplay=True))"
      ]
    },
    {
      "cell_type": "code",
      "source": [
        "eng_wav = gTTS('Happiness comes from the intersection of what you love, what you are good at, and what the world needs')\n",
        "eng_wav.save('eng.mp3')\n",
        "\n",
        "display(Audio('eng.mp3', autoplay=True))"
      ],
      "metadata": {
        "colab": {
          "base_uri": "https://localhost:8080/",
          "height": 74
        },
        "id": "PyZhAtux0OAF",
        "outputId": "1b2532d3-b0e7-4d86-9a8a-a5b3b1cd9fa4"
      },
      "execution_count": null,
      "outputs": [
        {
          "output_type": "display_data",
          "data": {
            "text/plain": [
              "<IPython.lib.display.Audio object>"
            ],
            "text/html": [
              "\n",
              "                <audio  controls=\"controls\" autoplay=\"autoplay\">\n",
              "                    <source src=\"data:audio/mpeg;base64,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\" type=\"audio/mpeg\" />\n",
              "                    Your browser does not support the audio element.\n",
              "                </audio>\n",
              "              "
            ]
          },
          "metadata": {}
        }
      ]
    },
    {
      "cell_type": "code",
      "execution_count": null,
      "metadata": {
        "id": "inyZATWlP3Cp",
        "colab": {
          "base_uri": "https://localhost:8080/",
          "height": 74
        },
        "outputId": "78e237b7-5140-4062-d53b-859a546c093d"
      },
      "outputs": [
        {
          "output_type": "display_data",
          "data": {
            "text/plain": [
              "<IPython.lib.display.Audio object>"
            ],
            "text/html": [
              "\n",
              "                <audio  controls=\"controls\" autoplay=\"autoplay\">\n",
              "                    <source src=\"data:audio/x-wav;base64,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\" type=\"audio/x-wav\" />\n",
              "                    Your browser does not support the audio element.\n",
              "                </audio>\n",
              "              "
            ]
          },
          "metadata": {}
        }
      ],
      "source": [
        "# 한글 출력\n",
        "from gtts import gTTS\n",
        "from IPython.display import Audio\n",
        "\n",
        "kor_wav = gTTS('안녕하세요! ', lang = 'ko')\n",
        "kor_wav.save('kor.wav')\n",
        "\n",
        "display(Audio('kor.wav', autoplay=True))"
      ]
    },
    {
      "cell_type": "code",
      "source": [
        "from gtts import gTTS\n",
        "from IPython.display import Audio, display\n",
        "import os\n",
        "import time\n",
        "\n",
        "def text_to_speech_from_file(filename):\n",
        "    with open(filename, 'r', encoding='utf-8') as file:\n",
        "        for index, line in enumerate(file):\n",
        "            line = line.strip()\n",
        "            if line:  # 빈 줄은 건너뜀\n",
        "                # 텍스트를 음성으로 변환\n",
        "                tts = gTTS(text=line, lang='ko')\n",
        "                audio_file = f\"temp_audio_{index}.mp3\"\n",
        "\n",
        "                # 음성 파일 저장\n",
        "                tts.save(audio_file)\n",
        "\n",
        "                # 음성 파일을 재생 (IPython.display.Audio 사용)\n",
        "                display(Audio(audio_file, autoplay=True))\n",
        "\n",
        "                # 음성이 끝날 때까지 잠시 대기\n",
        "                if len(line) > 12:\n",
        "                    time_sleep = 3\n",
        "                else:\n",
        "                    time_sleep = 2\n",
        "                time.sleep(time_sleep)  # 음성 길이에 따라 조절 가능\n",
        "\n",
        "                # 파일 삭제\n",
        "                os.remove(audio_file)\n",
        "\n",
        "                if index > 10 :\n",
        "                    break\n",
        "\n",
        "# 텍스트 파일 경로를 지정하세요.\n",
        "text_to_speech_from_file('사건의지평선.txt')\n"
      ],
      "metadata": {
        "id": "VdNYWRldOWow",
        "colab": {
          "base_uri": "https://localhost:8080/",
          "height": 705
        },
        "outputId": "feac4e16-ecb0-4523-adf9-af8d6717a9f9"
      },
      "execution_count": null,
      "outputs": [
        {
          "output_type": "display_data",
          "data": {
            "text/plain": [
              "<IPython.lib.display.Audio object>"
            ],
            "text/html": [
              "\n",
              "                <audio  controls=\"controls\" autoplay=\"autoplay\">\n",
              "                    <source src=\"data:audio/mpeg;base64,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\" type=\"audio/mpeg\" />\n",
              "                    Your browser does not support the audio element.\n",
              "                </audio>\n",
              "              "
            ]
          },
          "metadata": {}
        },
        {
          "output_type": "display_data",
          "data": {
            "text/plain": [
              "<IPython.lib.display.Audio object>"
            ],
            "text/html": [
              "\n",
              "                <audio  controls=\"controls\" autoplay=\"autoplay\">\n",
              "                    <source src=\"data:audio/mpeg;base64,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\" type=\"audio/mpeg\" />\n",
              "                    Your browser does not support the audio element.\n",
              "                </audio>\n",
              "              "
            ]
          },
          "metadata": {}
        },
        {
          "output_type": "display_data",
          "data": {
            "text/plain": [
              "<IPython.lib.display.Audio object>"
            ],
            "text/html": [
              "\n",
              "                <audio  controls=\"controls\" autoplay=\"autoplay\">\n",
              "                    <source src=\"data:audio/mpeg;base64,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\" type=\"audio/mpeg\" />\n",
              "                    Your browser does not support the audio element.\n",
              "                </audio>\n",
              "              "
            ]
          },
          "metadata": {}
        },
        {
          "output_type": "display_data",
          "data": {
            "text/plain": [
              "<IPython.lib.display.Audio object>"
            ],
            "text/html": [
              "\n",
              "                <audio  controls=\"controls\" autoplay=\"autoplay\">\n",
              "                    <source src=\"data:audio/mpeg;base64,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\" type=\"audio/mpeg\" />\n",
              "                    Your browser does not support the audio element.\n",
              "                </audio>\n",
              "              "
            ]
          },
          "metadata": {}
        },
        {
          "output_type": "display_data",
          "data": {
            "text/plain": [
              "<IPython.lib.display.Audio object>"
            ],
            "text/html": [
              "\n",
              "                <audio  controls=\"controls\" autoplay=\"autoplay\">\n",
              "                    <source src=\"data:audio/mpeg;base64,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\" type=\"audio/mpeg\" />\n",
              "                    Your browser does not support the audio element.\n",
              "                </audio>\n",
              "              "
            ]
          },
          "metadata": {}
        },
        {
          "output_type": "display_data",
          "data": {
            "text/plain": [
              "<IPython.lib.display.Audio object>"
            ],
            "text/html": [
              "\n",
              "                <audio  controls=\"controls\" autoplay=\"autoplay\">\n",
              "                    <source src=\"data:audio/mpeg;base64,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\" type=\"audio/mpeg\" />\n",
              "                    Your browser does not support the audio element.\n",
              "                </audio>\n",
              "              "
            ]
          },
          "metadata": {}
        },
        {
          "output_type": "display_data",
          "data": {
            "text/plain": [
              "<IPython.lib.display.Audio object>"
            ],
            "text/html": [
              "\n",
              "                <audio  controls=\"controls\" autoplay=\"autoplay\">\n",
              "                    <source src=\"data:audio/mpeg;base64,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\" type=\"audio/mpeg\" />\n",
              "                    Your browser does not support the audio element.\n",
              "                </audio>\n",
              "              "
            ]
          },
          "metadata": {}
        },
        {
          "output_type": "display_data",
          "data": {
            "text/plain": [
              "<IPython.lib.display.Audio object>"
            ],
            "text/html": [
              "\n",
              "                <audio  controls=\"controls\" autoplay=\"autoplay\">\n",
              "                    <source src=\"data:audio/mpeg;base64,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\" type=\"audio/mpeg\" />\n",
              "                    Your browser does not support the audio element.\n",
              "                </audio>\n",
              "              "
            ]
          },
          "metadata": {}
        },
        {
          "output_type": "display_data",
          "data": {
            "text/plain": [
              "<IPython.lib.display.Audio object>"
            ],
            "text/html": [
              "\n",
              "                <audio  controls=\"controls\" autoplay=\"autoplay\">\n",
              "                    <source src=\"data:audio/mpeg;base64,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\" type=\"audio/mpeg\" />\n",
              "                    Your browser does not support the audio element.\n",
              "                </audio>\n",
              "              "
            ]
          },
          "metadata": {}
        },
        {
          "output_type": "display_data",
          "data": {
            "text/plain": [
              "<IPython.lib.display.Audio object>"
            ],
            "text/html": [
              "\n",
              "                <audio  controls=\"controls\" autoplay=\"autoplay\">\n",
              "                    <source src=\"data:audio/mpeg;base64,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\" type=\"audio/mpeg\" />\n",
              "                    Your browser does not support the audio element.\n",
              "                </audio>\n",
              "              "
            ]
          },
          "metadata": {}
        },
        {
          "output_type": "display_data",
          "data": {
            "text/plain": [
              "<IPython.lib.display.Audio object>"
            ],
            "text/html": [
              "\n",
              "                <audio  controls=\"controls\" autoplay=\"autoplay\">\n",
              "                    <source src=\"data:audio/mpeg;base64,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\" type=\"audio/mpeg\" />\n",
              "                    Your browser does not support the audio element.\n",
              "                </audio>\n",
              "              "
            ]
          },
          "metadata": {}
        },
        {
          "output_type": "display_data",
          "data": {
            "text/plain": [
              "<IPython.lib.display.Audio object>"
            ],
            "text/html": [
              "\n",
              "                <audio  controls=\"controls\" autoplay=\"autoplay\">\n",
              "                    <source src=\"data:audio/mpeg;base64,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\" type=\"audio/mpeg\" />\n",
              "                    Your browser does not support the audio element.\n",
              "                </audio>\n",
              "              "
            ]
          },
          "metadata": {}
        }
      ]
    },
    {
      "cell_type": "markdown",
      "metadata": {
        "id": "3UTLuSAp8GGY"
      },
      "source": [
        "--------"
      ]
    },
    {
      "cell_type": "markdown",
      "metadata": {
        "id": "fmU7O8WS8GGY"
      },
      "source": [
        "### **[연산자]**"
      ]
    },
    {
      "cell_type": "markdown",
      "metadata": {
        "id": "eRCyhgwS8GGY"
      },
      "source": [
        "### 실습문제 :  동전 교환 프로그램\n",
        "동전교환 프로그램을 작성하세요"
      ]
    },
    {
      "cell_type": "code",
      "execution_count": null,
      "metadata": {
        "id": "g8A7ErL78GGY",
        "colab": {
          "base_uri": "https://localhost:8080/"
        },
        "outputId": "dcfdd851-08c4-4f00-e2e2-7a0be19ae242"
      },
      "outputs": [
        {
          "output_type": "stream",
          "name": "stdout",
          "text": [
            "---동전교환기 프로그램을 작동합니다.---\n",
            "금액을 입력하세요: 4321\n",
            "--------------------------------------------------\n",
            "500원짜리 ==> 8개\n",
            "100원짜리 ==> 3개\n",
            "50원짜리 ==> 0개\n",
            "10원짜리 ==> 2개\n",
            "1원짜리 잔돈 ==> 1개\n"
          ]
        }
      ],
      "source": [
        "# 키보드로부터 금액 입력 받기\n",
        "print('---동전교환기 프로그램을 작동합니다.---')\n",
        "money = int( input('금액을 입력하세요: '))\n",
        "coin_500 = money // 500\n",
        "coin_100 = (money % 500) // 100\n",
        "coin_50 = ((money % 500) % 100) // 50\n",
        "coin_10 = (((money % 500) % 100) % 50) // 10\n",
        "coin_1 = money - (coin_500*500 + coin_100*100 + coin_50*50 + coin_10*10)\n",
        "# coin_10 = ((money % 500) % 100) // 10\n",
        "# coin_1 = ((money % 500) % 100) % 10\n",
        "print('-'*50)\n",
        "print(f'500원짜리 ==> {coin_500}개')\n",
        "print(f'100원짜리 ==> {coin_100}개')\n",
        "print(f'50원짜리 ==> {coin_50}개')\n",
        "print(f'10원짜리 ==> {coin_10}개')\n",
        "print(f'1원짜리 잔돈 ==> {coin_1}개')\n"
      ]
    },
    {
      "cell_type": "code",
      "source": [
        "# 키보드로부터 금액 입력 받기\n",
        "print('---동전교환기 프로그램을 작동합니다.---')\n",
        "money = int( input('금액을 입력하세요: '))\n",
        "print('-'*30)\n",
        "print(f'500원짜리 ==> {money // 500}개')\n",
        "money = money % 500\n",
        "print(f'100원짜리 ==> {money // 100}개')\n",
        "money = money % 100\n",
        "print(f'50원짜리 ==> {money // 50}개')\n",
        "money = money % 50\n",
        "print(f'10원짜리 ==> {money // 10}개')\n",
        "money = money % 10\n",
        "print(f'5원짜리 ==> {money // 5}개')\n",
        "money = money % 5\n",
        "print(f'1원짜리(잔돈) ==> {money}개')\n"
      ],
      "metadata": {
        "colab": {
          "base_uri": "https://localhost:8080/"
        },
        "id": "CzxFrPn-CCIo",
        "outputId": "79f421c8-fa42-4fd4-f47a-e53cecae94a1"
      },
      "execution_count": null,
      "outputs": [
        {
          "output_type": "stream",
          "name": "stdout",
          "text": [
            "---동전교환기 프로그램을 작동합니다.---\n",
            "금액을 입력하세요: 4321\n",
            "------------------------------\n",
            "500원짜리 ==> 8개\n",
            "100원짜리 ==> 3개\n",
            "50원짜리 ==> 0개\n",
            "10원짜리 ==> 2개\n",
            "5원짜리 ==> 0개\n",
            "1원짜리(잔돈) ==> 1개\n"
          ]
        }
      ]
    },
    {
      "cell_type": "code",
      "source": [
        "# 키보드로부터 금액 입력 받기\n",
        "print('---화폐 및 동전교환기 프로그램을 작동합니다.---')\n",
        "money = int( input('금액을 입력하세요: '))\n",
        "print('-'*30)\n",
        "\n",
        "coins = [50000, 10000, 5000, 1000, 500, 100, 50, 10, 5]\n",
        "\n",
        "for coin in coins:\n",
        "    print(f'{coin:>5}원 짜리 ==> {money // coin}개')\n",
        "    money = money % coin\n",
        "print(f'잔돈(1원짜리) : {money}원')"
      ],
      "metadata": {
        "colab": {
          "base_uri": "https://localhost:8080/"
        },
        "id": "wNOnNtr5DOSg",
        "outputId": "22e270f5-68b1-44ae-bd77-14f3cfe754fa"
      },
      "execution_count": null,
      "outputs": [
        {
          "output_type": "stream",
          "name": "stdout",
          "text": [
            "---화폐 및 동전교환기 프로그램을 작동합니다.---\n",
            "금액을 입력하세요: 348281\n",
            "------------------------------\n",
            "50000원 짜리 ==> 6개\n",
            "10000원 짜리 ==> 4개\n",
            " 5000원 짜리 ==> 1개\n",
            " 1000원 짜리 ==> 3개\n",
            "  500원 짜리 ==> 0개\n",
            "  100원 짜리 ==> 2개\n",
            "   50원 짜리 ==> 1개\n",
            "   10원 짜리 ==> 3개\n",
            "    5원 짜리 ==> 0개\n",
            "잔돈(1원짜리) : 1원\n"
          ]
        }
      ]
    },
    {
      "cell_type": "markdown",
      "source": [
        "### 실습문제 : 비교 연산자를 이용한 상품 필터링하기\n",
        "아래 상품 딕셔너리에서 가격이 1000 이하인 상품을 필터링하고 상품과 해당 가격을 출력하시오."
      ],
      "metadata": {
        "id": "7GL-zafcQwDq"
      }
    },
    {
      "cell_type": "code",
      "source": [
        "# 상품 가격을 가진 사전\n",
        "products = { \"apple\": 1000, \"banana\": 800, \"cherry\": 1500,\n",
        "            \"date\": 1200, \"elderberry\": 2000 }\n",
        "\n",
        "# 가격이 1000 이하인 상품 필터링\n",
        "print('가격이 1000 이하인 상품 필터링')\n",
        "print('-'*30)\n",
        "low_price = []\n",
        "\n",
        "for (key, value) in products.items():\n",
        "    if value <= 1000:\n",
        "        print(f'상품명: {key:>6}, 가격: {value:>4}')\n",
        "        low_price.append(key)\n",
        "\n",
        "print('*'*20)\n",
        "print(low_price)"
      ],
      "metadata": {
        "id": "78IAx7VkQwW_",
        "colab": {
          "base_uri": "https://localhost:8080/"
        },
        "outputId": "48be4066-54cd-417c-fb05-63dc6e76847c"
      },
      "execution_count": null,
      "outputs": [
        {
          "output_type": "stream",
          "name": "stdout",
          "text": [
            "가격이 1000 이하인 상품 필터링\n",
            "------------------------------\n",
            "상품명:  apple, 가격: 1000\n",
            "상품명: banana, 가격:  800\n",
            "********************\n",
            "['apple', 'banana']\n"
          ]
        }
      ]
    },
    {
      "cell_type": "markdown",
      "metadata": {
        "id": "0SWp1LN08GGY"
      },
      "source": [
        "------"
      ]
    },
    {
      "cell_type": "markdown",
      "metadata": {
        "id": "x4FIhV_y8GGZ"
      },
      "source": [
        "## 3.조건문과 반목문으로 흐름 제어하기"
      ]
    },
    {
      "cell_type": "markdown",
      "metadata": {
        "id": "LPe_skHf8GGZ"
      },
      "source": [
        "### **[조건문]**"
      ]
    },
    {
      "cell_type": "markdown",
      "source": [
        "#### 조건문 구조 4개"
      ],
      "metadata": {
        "id": "HIFAD_kqX1uL"
      }
    },
    {
      "cell_type": "code",
      "source": [
        "# 조건식1: if 조건식\n",
        "a = 99\n",
        "if a < 100 :\n",
        "    print('a는 100보다 작군요')"
      ],
      "metadata": {
        "id": "d9jDMOjbX4hu"
      },
      "execution_count": null,
      "outputs": []
    },
    {
      "cell_type": "code",
      "source": [
        "# 조건식2: if ~ else\n",
        "a = 200\n",
        "if a > 100:\n",
        "    print('a는 100보다 크군요')\n",
        "else:\n",
        "    print('a는 100보다 크지 않군요')"
      ],
      "metadata": {
        "id": "9ehdd_YIYEus"
      },
      "execution_count": null,
      "outputs": []
    },
    {
      "cell_type": "code",
      "source": [
        "# 조건문3: 중첩 if - 조건문 안에 조건문\n",
        "a = 200\n",
        "if a > 100:\n",
        "    if a > 200 :\n",
        "        print('a는 200보다 크군요')\n",
        "    else:\n",
        "        print('a는 200보다 크거나 같군요')\n",
        "else:\n",
        "    print('a는 100보다 크지 않군요')"
      ],
      "metadata": {
        "id": "nOi_cwzoYE2u"
      },
      "execution_count": null,
      "outputs": []
    },
    {
      "cell_type": "code",
      "source": [
        "# 조건문4: 다중 조건문\n",
        "pocket = ['paper', 'handphone']\n",
        "card = True\n",
        "\n",
        "if 'money' in pocket:\n",
        "    print('택시를 타고 가라')\n",
        "elif card:\n",
        "    print('택시를 타고 가라')\n",
        "else:\n",
        "    print('걸어가라')"
      ],
      "metadata": {
        "id": "T_P0EQFeYFBE"
      },
      "execution_count": null,
      "outputs": []
    },
    {
      "cell_type": "markdown",
      "metadata": {
        "id": "Io13oQKLhgph"
      },
      "source": [
        "#### 조건부 표현식"
      ]
    },
    {
      "cell_type": "code",
      "execution_count": null,
      "metadata": {
        "id": "h0V6WqWchnTA"
      },
      "outputs": [],
      "source": [
        "score = int(input('점수를 입력하세요: '))\n",
        "message = \"success!\" if score >=60 else \"failure!\"\n",
        "print(message)"
      ]
    },
    {
      "cell_type": "markdown",
      "metadata": {
        "id": "Ar6JKwtB8GGZ"
      },
      "source": [
        "#### 실습문제 : 짝수 홀수 판별하기\n",
        "숫자를 입력 받아 짝수/홀수를 판별하는 코드를 만들어 보세요."
      ]
    },
    {
      "cell_type": "code",
      "execution_count": null,
      "metadata": {
        "id": "09w2BCcN8GGZ",
        "colab": {
          "base_uri": "https://localhost:8080/"
        },
        "outputId": "0cf2dd1d-bea9-4c08-cf52-03a90dfdab18"
      },
      "outputs": [
        {
          "output_type": "stream",
          "name": "stdout",
          "text": [
            "숫자를 입력해 주세요: 32\n",
            "입력된 수: 32 ==> 짝수\n"
          ]
        }
      ],
      "source": [
        "x = int(input('숫자를 입력해 주세요: '))\n",
        "\n",
        "# if x % 2 == 0:\n",
        "#     print(f'입력된 수: {x} ==> 짝수')\n",
        "# else:\n",
        "#     print(f'입력된 수: {x} ==> 홀수')\n",
        "\n",
        "print(f'입력된 수: {x} ==> 짝수') if x % 2 == 0 else print(f'입력된 수: {x} ==> 홀수')"
      ]
    },
    {
      "cell_type": "markdown",
      "metadata": {
        "id": "3SDdg7Aeg7MW"
      },
      "source": [
        "### 실습문제 : 커피 자판기 조건문\n",
        "아래 조건을 만족하는 커피 자동주문 머신을 만들어보세요.<br><br>\n",
        "[커피 자동주문 머신]<br>\n",
        "친구들과 현금 커피 자동주문 머신 앞에서\n",
        " - 아메리카노 2잔과 카페라테 2잔 카푸치노 1잔을 주문하였다.\n",
        " - 아메리카노 한잔에 2500원이고\n",
        " - 카페라테는 한잔에 3000원\n",
        " - 카푸치노는 한잔에 3000원이다.\n",
        "커피 종류와 잔 수를 결정한 후 현금 15000원을 투입하고 잔돈을 1000원 받았다."
      ]
    },
    {
      "cell_type": "code",
      "execution_count": null,
      "metadata": {
        "id": "BZlOMJHKg7dN",
        "colab": {
          "base_uri": "https://localhost:8080/"
        },
        "outputId": "77b2794c-5eb5-4c25-ff5b-c459f591c031"
      },
      "outputs": [
        {
          "output_type": "stream",
          "name": "stdout",
          "text": [
            "[커피 자동주문 머신 메뉴]\n",
            "------------------------------\n",
            "-아메리카노는 2500원\n",
            "-카레라떼는 3000원\n",
            "-카푸치노는 3000원\n",
            "입니다. 원하시는 커피종류와 잔수를 입력하세요.\n",
            "------------------------------\n",
            "아메리카노 몇잔?3\n",
            "카페라떼 몇잔?3\n",
            "카푸치노 몇잔?3\n",
            "지불할 총 금액은 25500원 입니다.\n",
            "돈을 넣어주세요: 25000\n",
            "500원이 부족합니다.\n"
          ]
        }
      ],
      "source": [
        "menu = '''[커피 자동주문 머신 메뉴]\n",
        "------------------------------\n",
        "-아메리카노는 2500원\n",
        "-카레라떼는 3000원\n",
        "-카푸치노는 3000원\n",
        "입니다. 원하시는 커피종류와 잔수를 입력하세요.\n",
        "------------------------------'''\n",
        "print(menu)\n",
        "coffee1 = int(input(\"아메리카노 몇잔?\"))\n",
        "coffee2 = int(input(\"카페라떼 몇잔?\"))\n",
        "coffee3 = int(input(\"카푸치노 몇잔?\"))\n",
        "price = [2500, 3000, 3000]\n",
        "total = coffee1*2500 + coffee2*3000 + coffee3*3000\n",
        "print(f'지불할 총 금액은 {total}원 입니다.')\n",
        "pay = int(input('돈을 넣어주세요: '))\n",
        "\n",
        "if pay < total:\n",
        "    print(f'{total - pay}원이 부족합니다.')\n",
        "else:\n",
        "    print(f'{pay - total}원을 받으세요. 이용해 주셔서 감사합니다.')\n"
      ]
    },
    {
      "cell_type": "markdown",
      "metadata": {
        "id": "4RoolGBF8GGa"
      },
      "source": [
        "------"
      ]
    },
    {
      "cell_type": "markdown",
      "metadata": {
        "id": "G2T6Nybt8GGa"
      },
      "source": [
        "### **[반복문]**"
      ]
    },
    {
      "cell_type": "markdown",
      "metadata": {
        "id": "HuWJNA-T8GGa"
      },
      "source": [
        "### 실습문제 : 1~N까지 합계 구하기\n",
        "숫자를 입력받아 1~n까지의 합을 구할 때 짝수를 제외하고 합을 구하는 프로그램을 만들어 보세요."
      ]
    },
    {
      "cell_type": "code",
      "execution_count": null,
      "metadata": {
        "id": "t4NbQOOe8GGa"
      },
      "outputs": [],
      "source": [
        "n = int(input('합계를 구할 숫자 입력:'))\n",
        "hap = 0\n",
        "\n",
        "\n"
      ]
    },
    {
      "cell_type": "markdown",
      "metadata": {
        "id": "p7P0Vy-XjIBz"
      },
      "source": [
        "### 실습문제 : 나무 열 번 찍어 넘기기"
      ]
    },
    {
      "cell_type": "code",
      "execution_count": null,
      "metadata": {
        "id": "A1OSHn1tjNE5"
      },
      "outputs": [],
      "source": [
        "treeHit = 0\n",
        "\n"
      ]
    },
    {
      "cell_type": "markdown",
      "metadata": {
        "id": "iPCnjI9UkoHr"
      },
      "source": [
        "### 실습문제 :  커피 자동주문 프로그램 업그레이드\n",
        "앞에서 만들어 본 커피 자동주문 머신 프로그램을 while문을 이용하여 돈을 모두 지불할 때까지 돈을 입력 받도록 프로그램 기능 수정하기"
      ]
    },
    {
      "cell_type": "code",
      "execution_count": null,
      "metadata": {
        "id": "HtKho6P3kxtS"
      },
      "outputs": [],
      "source": [
        "menu = '''[커피 자동주문 머신 메뉴]\n",
        "------------------------------\n",
        "-아메리카노는 2500원\n",
        "-카레라떼는 3000원\n",
        "-카푸치노는 3000원\n",
        "입니다. 원하시는 커피종류와 잔수를 입력하세요.\n",
        "------------------------------'''\n",
        "print(menu)\n",
        "coffee1 = int(input(\"아메리카노 몇잔?\"))\n",
        "coffee2 = int(input(\"카페라떼 몇잔?\"))\n",
        "coffee3 = int(input(\"카푸치노 몇잔?\"))\n",
        "\n"
      ]
    },
    {
      "cell_type": "markdown",
      "metadata": {
        "id": "bBpYo7he8GGc"
      },
      "source": [
        "### 실습문제 : 도둑잡기 게임 만들기\n",
        "경찰에 쫓기던 범인이 3개의 방 중에 한 곳에 숨어버렸습니다. 범인은 방문을 열 때마다 무작위로 3개의 방 중 하나의 방으로 이동합니다. 3개의 방 중 하나의 방을 선택했을 때 범인이 있다면 100점, 없을 때 -10점을 부여하고 범인을 잡으면 게임을 종료하는 프로그램을 만들어 보세요."
      ]
    },
    {
      "cell_type": "code",
      "execution_count": null,
      "metadata": {
        "id": "Yjs0Tp0m8GGc"
      },
      "outputs": [],
      "source": [
        "import random\n",
        "score = 0\n",
        "\n",
        "while True:  # 무한반복\n",
        "    # 1.무작위로 범인 방 배치\n",
        "\n",
        "\n",
        "\n",
        "    # 2.사용자로부터 방 번호 입력 받기\n",
        "    n = int(input('방 번호를 입력하세요(1,2,3): '))\n",
        "\n",
        "    # 3.사용자가 입력한 방 번호와 범인이 있는 방 비교\n",
        "    # 4.범인을 찾으면\n",
        "    # 범인 체포“라는 메시지 출력\n",
        "    # 점수 증가\n",
        "    # 무한반복 빠져 나가기\n",
        "\n",
        "    # 5.범인을 찾지 못하면\n",
        "    # “범인을 찾지 못했다“라는 메시지 출력\n",
        "    # 점수 감소\n",
        "\n",
        "# 게임 종료 메시지 출력\n",
        "# 최종 점수 출력"
      ]
    },
    {
      "cell_type": "markdown",
      "metadata": {
        "id": "FTX-Fvb28GGc"
      },
      "source": [
        "------"
      ]
    },
    {
      "cell_type": "markdown",
      "metadata": {
        "id": "8tdBEUuy8GGe"
      },
      "source": [
        "## 4.함수를 이용하여 알고리즘 만들기"
      ]
    },
    {
      "cell_type": "markdown",
      "metadata": {
        "id": "A50BCkk98GGe"
      },
      "source": [
        "### **[함수 & 모듈]**"
      ]
    },
    {
      "cell_type": "code",
      "execution_count": null,
      "metadata": {
        "id": "3gNw75bI8GGe"
      },
      "outputs": [],
      "source": [
        "def nSum(a, b):\n",
        "    c = a + b\n",
        "    return c\n",
        "\n",
        "nSum(50, 3)"
      ]
    },
    {
      "cell_type": "markdown",
      "metadata": {
        "id": "ZH2oJDOzmgta"
      },
      "source": [
        "####  함수의 구조\n",
        "매개변수와 리턴값에 따른 함수의 유형 예"
      ]
    },
    {
      "cell_type": "markdown",
      "metadata": {
        "id": "ZVu_uCmBmwX9"
      },
      "source": [
        "- 매개변수(X), 리턴값(X)"
      ]
    },
    {
      "cell_type": "code",
      "execution_count": null,
      "metadata": {
        "id": "PhoFdGdpmg2i"
      },
      "outputs": [],
      "source": [
        "def func():\n",
        "    print('안녕하세요!')\n",
        "\n",
        "print( func() )"
      ]
    },
    {
      "cell_type": "markdown",
      "metadata": {
        "id": "rYJvu1mKm1lA"
      },
      "source": [
        "- 매개변수(X), 리턴값(O)"
      ]
    },
    {
      "cell_type": "code",
      "execution_count": null,
      "metadata": {
        "id": "RtmltcdOm1sg"
      },
      "outputs": [],
      "source": [
        "def func():\n",
        "    print('안녕하세요!')\n",
        "    return '처리완료!'\n",
        "\n",
        "print( func() )"
      ]
    },
    {
      "cell_type": "markdown",
      "metadata": {
        "id": "kAiXc3qom1zq"
      },
      "source": [
        "- 매개변수(O), 리턴값(X)"
      ]
    },
    {
      "cell_type": "code",
      "execution_count": null,
      "metadata": {
        "id": "mdneVBp_m16L"
      },
      "outputs": [],
      "source": [
        "def func(a, b):\n",
        "    print('덧셈: %d + %d = %d' % (a, b, a+b))\n",
        "\n",
        "print( func(5, 7) )"
      ]
    },
    {
      "cell_type": "markdown",
      "metadata": {
        "id": "UWx5mc2Bm2Ah"
      },
      "source": [
        "- 매개변수(O), 리턴값(O)"
      ]
    },
    {
      "cell_type": "code",
      "execution_count": null,
      "metadata": {
        "id": "u40Eqnc1m2IB"
      },
      "outputs": [],
      "source": [
        "def func(a, b):\n",
        "    print('덧셈: %d + %d = %d' % (a, b, a+b))\n",
        "    return a+b\n",
        "\n",
        "print( func(5, 7) )"
      ]
    },
    {
      "cell_type": "markdown",
      "metadata": {
        "id": "Oq6XLdiqm9lV"
      },
      "source": [
        "### 실습문제 : 암스트롱수 판별 함수\n",
        "다음 조건을 참고하여 암스트롱수를 구하는 함수를 만들어 출력하는 프로그램을 만들어 보세요.\n",
        "- **암스트롱수** : 세 자리의 정수 중에서 각 자리의 수를 세 제곱한 수의 합과 자신이 같은 수"
      ]
    },
    {
      "cell_type": "code",
      "execution_count": null,
      "metadata": {
        "id": "DvFLshFqm9t8"
      },
      "outputs": [],
      "source": [
        "def is_armstringNumber(N):\n",
        "\n",
        "\n",
        "\n",
        "\n",
        "for i in range(100, 1000):\n",
        "    if is_armstringNumber(i):\n",
        "        print(\"[%i] is armstrong number\" % i)"
      ]
    },
    {
      "cell_type": "markdown",
      "metadata": {
        "id": "Kvzu_J_a8GGf"
      },
      "source": [
        "### 실습문제 : 환전 계산 함수\n",
        "아래 조건을 만족하는 환전계산 함수를 만들어 보세요."
      ]
    },
    {
      "cell_type": "code",
      "execution_count": null,
      "metadata": {
        "id": "x1jdgfzq8GGf",
        "scrolled": true
      },
      "outputs": [],
      "source": [
        "def moneyExchange(m, c):\n",
        "\n",
        "\n",
        "\n",
        "countrys = {'미국':['달러', 1182.5],\n",
        "            '중국':['위안', 169.22],\n",
        "            '유럽':['유로', 1286.74],\n",
        "            '일본':['엔', 1078.14]}\n",
        "money = int(input('환전 금액(원)을 입력하세요: '))\n",
        "country = input('국가를 입력하세요: ')\n",
        "print('-'*30)\n",
        "moneyExchange(money, country)"
      ]
    },
    {
      "cell_type": "markdown",
      "source": [
        "\n",
        "\n",
        "---\n",
        "\n"
      ],
      "metadata": {
        "id": "jcBxboxauPTJ"
      }
    },
    {
      "cell_type": "markdown",
      "metadata": {
        "id": "Ajjvg18_8GGg"
      },
      "source": [
        "### 5.ChatGPT와 페어프로그래밍하기"
      ]
    },
    {
      "cell_type": "markdown",
      "source": [
        "### 실습문제 : 영어 단어장 만들기\n",
        "아래 조건을 만족시키는 <영어단어장 만들기> 프로그램을 만들어 보세요.\n",
        "\n",
        "영단어는 key, 그의 뜻은 value 로 두는 dictionary 를 만드세요.<br>\n",
        "<메뉴>\n",
        " - 1. 단어 등록\n",
        " - 2. 단어 검색\n",
        " - 3. 단어 삭제\n",
        " - 4. 모든 단어 보기\n",
        " - 0. 종료하기\n",
        "\n",
        "1. 단어 등록 <br>\n",
        "    새 영단어와 그의 뜻을 입력 받고 dictionary 에 추가합니다.\n",
        "\n",
        "2. 단어 검색<br>\n",
        "    영단어를 입력 받아 그의 뜻을 출력합니다.<br>\n",
        "    미등록된 단어인 경우 '미등록 단어'를 출력합니다.\n",
        "    \n",
        "3. 단어 삭제<br>\n",
        "    영단어를 입력 받아 단어장에서 해당 단어를 삭제한다.<br>\n",
        "    미등록된 단어인 경우 '미등록 단어'를 출력합니다\n",
        "    \n",
        "4. 모든 단어 보기<br>\n",
        "    현재 등록되어 있는 모든 단어와 뜻을 출력합니다.\n",
        "\n",
        "0. 종료하기"
      ],
      "metadata": {
        "id": "LgP7QlUCtw9A"
      }
    },
    {
      "cell_type": "code",
      "source": [
        "menu = '''---선택메뉴--\n",
        "1. 단어 등록\n",
        "2. 단어 검색\n",
        "3. 단어 삭제\n",
        "4. 모든 단어 보기\n",
        "0. 종료하기\n",
        "------------------------------'''\n",
        "\n",
        "# 빈 딕셔너리를 만든다. (반복문 안에 넣지 않는다!)\n",
        "wordbook = {}\n",
        "\n",
        "def addBook():\n",
        "\n",
        "\n",
        "def searchBook():\n",
        "\n",
        "\n",
        "def deleteBook():\n",
        "\n",
        "\n",
        "def showAllBook():\n",
        "\n",
        "\n"
      ],
      "metadata": {
        "id": "eZLiY8m-txGd"
      },
      "execution_count": null,
      "outputs": []
    },
    {
      "cell_type": "markdown",
      "metadata": {
        "id": "SD7IuCtyEfxZ"
      },
      "source": [
        "\n",
        "\n",
        "---\n",
        "THE END\n",
        "\n"
      ]
    },
    {
      "cell_type": "markdown",
      "metadata": {
        "id": "RQoDVEJ38GGg"
      },
      "source": [
        "------"
      ]
    }
  ],
  "metadata": {
    "colab": {
      "provenance": [],
      "include_colab_link": true
    },
    "kernelspec": {
      "display_name": "Python 3 (ipykernel)",
      "language": "python",
      "name": "python3"
    },
    "language_info": {
      "codemirror_mode": {
        "name": "ipython",
        "version": 3
      },
      "file_extension": ".py",
      "mimetype": "text/x-python",
      "name": "python",
      "nbconvert_exporter": "python",
      "pygments_lexer": "ipython3",
      "version": "3.10.9"
    }
  },
  "nbformat": 4,
  "nbformat_minor": 0
}