{
  "cells": [
    {
      "cell_type": "markdown",
      "metadata": {
        "id": "view-in-github",
        "colab_type": "text"
      },
      "source": [
        "<a href=\"https://colab.research.google.com/github/tonykks/python/blob/main/1%EC%9D%BC%EC%B0%A8_%ED%8C%8C%EC%9D%B4%EC%8D%AC%EA%B8%B0%EC%B4%88%EB%8B%A4%EC%A7%80%EA%B8%B0_%EC%8B%A4%EC%8A%B5.ipynb\" target=\"_parent\"><img src=\"https://colab.research.google.com/assets/colab-badge.svg\" alt=\"Open In Colab\"/></a>"
      ]
    },
    {
      "cell_type": "markdown",
      "metadata": {
        "id": "zRxHpy-28GGG"
      },
      "source": [
        "# 1일차-파이썬 기초 다지기"
      ]
    },
    {
      "cell_type": "markdown",
      "metadata": {
        "id": "VRVM91mPB34V"
      },
      "source": [
        "## 1.파이썬 이해하기"
      ]
    },
    {
      "cell_type": "markdown",
      "metadata": {
        "id": "hOwZhukd8GGK"
      },
      "source": [
        "### 파이썬 버전 확인"
      ]
    },
    {
      "cell_type": "code",
      "source": [
        "!python --version"
      ],
      "metadata": {
        "id": "WCJ5nbOTB5ZF",
        "colab": {
          "base_uri": "https://localhost:8080/"
        },
        "outputId": "1143dc11-af5a-45bb-85b3-964fca3a1662"
      },
      "execution_count": null,
      "outputs": [
        {
          "output_type": "stream",
          "name": "stdout",
          "text": [
            "Python 3.10.12\n"
          ]
        }
      ]
    },
    {
      "cell_type": "code",
      "source": [
        "import sys\n",
        "sys.version"
      ],
      "metadata": {
        "colab": {
          "base_uri": "https://localhost:8080/",
          "height": 35
        },
        "id": "ZkEleQhaXahx",
        "outputId": "8042afc2-e51e-4506-bf4e-b26bdad5c2b8"
      },
      "execution_count": null,
      "outputs": [
        {
          "output_type": "execute_result",
          "data": {
            "text/plain": [
              "'3.10.12 (main, Nov  6 2024, 20:22:13) [GCC 11.4.0]'"
            ],
            "application/vnd.google.colaboratory.intrinsic+json": {
              "type": "string"
            }
          },
          "metadata": {},
          "execution_count": 2
        }
      ]
    },
    {
      "cell_type": "markdown",
      "metadata": {
        "id": "HAFtSTG28GGL"
      },
      "source": [
        "### 파이썬 설치 위치 확인"
      ]
    },
    {
      "cell_type": "code",
      "execution_count": null,
      "metadata": {
        "id": "46cMOIHW8GGM",
        "colab": {
          "base_uri": "https://localhost:8080/"
        },
        "outputId": "bb6b2aee-940b-4c08-933f-19a60e86e675"
      },
      "outputs": [
        {
          "output_type": "stream",
          "name": "stdout",
          "text": [
            "/usr/bin/python3\n"
          ]
        },
        {
          "output_type": "execute_result",
          "data": {
            "text/plain": [
              "['/content',\n",
              " '/env/python',\n",
              " '/usr/lib/python310.zip',\n",
              " '/usr/lib/python3.10',\n",
              " '/usr/lib/python3.10/lib-dynload',\n",
              " '',\n",
              " '/usr/local/lib/python3.10/dist-packages',\n",
              " '/usr/lib/python3/dist-packages',\n",
              " '/usr/local/lib/python3.10/dist-packages/IPython/extensions',\n",
              " '/usr/local/lib/python3.10/dist-packages/setuptools/_vendor',\n",
              " '/root/.ipython']"
            ]
          },
          "metadata": {},
          "execution_count": 4
        }
      ],
      "source": [
        "import sys\n",
        "\n",
        "print(sys.executable)\n",
        "sys.path"
      ]
    },
    {
      "cell_type": "markdown",
      "metadata": {
        "id": "BVZeLUFeILol"
      },
      "source": [
        "### [실습] 파이썬 정보 확인하기\n",
        "\n",
        "\n",
        "1.   설치된 파이썬 버전 출력하기\n",
        "2.   파이썬 실행파일 위치 출력하기\n",
        "\n"
      ]
    },
    {
      "cell_type": "code",
      "execution_count": null,
      "metadata": {
        "id": "wYTlynjPIaj4",
        "colab": {
          "base_uri": "https://localhost:8080/",
          "height": 110
        },
        "outputId": "d5261d18-5fd6-4ecd-a221-e58cafd7ca38"
      },
      "outputs": [
        {
          "output_type": "error",
          "ename": "SyntaxError",
          "evalue": "f-string: empty expression not allowed (<ipython-input-10-85e4e80821f6>, line 3)",
          "traceback": [
            "\u001b[0;36m  File \u001b[0;32m\"<ipython-input-10-85e4e80821f6>\"\u001b[0;36m, line \u001b[0;32m3\u001b[0m\n\u001b[0;31m    print(f'설치된 파이썬 버전: {}')\u001b[0m\n\u001b[0m                           ^\u001b[0m\n\u001b[0;31mSyntaxError\u001b[0m\u001b[0;31m:\u001b[0m f-string: empty expression not allowed\n"
          ]
        }
      ],
      "source": [
        "import sys\n",
        "\n",
        "print(f'설치된 파이썬 버전: {}')\n",
        "print(f'파이썬 실행파일 위치: {}')"
      ]
    },
    {
      "cell_type": "markdown",
      "metadata": {
        "id": "KE15Fd6jCbUK"
      },
      "source": [
        "### 라이브러리 설치하기"
      ]
    },
    {
      "cell_type": "code",
      "execution_count": null,
      "metadata": {
        "id": "PlG-i1fYCbdI",
        "colab": {
          "base_uri": "https://localhost:8080/"
        },
        "outputId": "57746583-023c-41e2-ccef-64b736e57ce8",
        "collapsed": true
      },
      "outputs": [
        {
          "output_type": "stream",
          "name": "stdout",
          "text": [
            "Requirement already satisfied: missingno in /usr/local/lib/python3.10/dist-packages (0.5.2)\n",
            "Requirement already satisfied: numpy in /usr/local/lib/python3.10/dist-packages (from missingno) (1.26.4)\n",
            "Requirement already satisfied: matplotlib in /usr/local/lib/python3.10/dist-packages (from missingno) (3.8.0)\n",
            "Requirement already satisfied: scipy in /usr/local/lib/python3.10/dist-packages (from missingno) (1.13.1)\n",
            "Requirement already satisfied: seaborn in /usr/local/lib/python3.10/dist-packages (from missingno) (0.13.2)\n",
            "Requirement already satisfied: contourpy>=1.0.1 in /usr/local/lib/python3.10/dist-packages (from matplotlib->missingno) (1.3.1)\n",
            "Requirement already satisfied: cycler>=0.10 in /usr/local/lib/python3.10/dist-packages (from matplotlib->missingno) (0.12.1)\n",
            "Requirement already satisfied: fonttools>=4.22.0 in /usr/local/lib/python3.10/dist-packages (from matplotlib->missingno) (4.55.3)\n",
            "Requirement already satisfied: kiwisolver>=1.0.1 in /usr/local/lib/python3.10/dist-packages (from matplotlib->missingno) (1.4.7)\n",
            "Requirement already satisfied: packaging>=20.0 in /usr/local/lib/python3.10/dist-packages (from matplotlib->missingno) (24.2)\n",
            "Requirement already satisfied: pillow>=6.2.0 in /usr/local/lib/python3.10/dist-packages (from matplotlib->missingno) (11.0.0)\n",
            "Requirement already satisfied: pyparsing>=2.3.1 in /usr/local/lib/python3.10/dist-packages (from matplotlib->missingno) (3.2.0)\n",
            "Requirement already satisfied: python-dateutil>=2.7 in /usr/local/lib/python3.10/dist-packages (from matplotlib->missingno) (2.8.2)\n",
            "Requirement already satisfied: pandas>=1.2 in /usr/local/lib/python3.10/dist-packages (from seaborn->missingno) (2.2.2)\n",
            "Requirement already satisfied: pytz>=2020.1 in /usr/local/lib/python3.10/dist-packages (from pandas>=1.2->seaborn->missingno) (2024.2)\n",
            "Requirement already satisfied: tzdata>=2022.7 in /usr/local/lib/python3.10/dist-packages (from pandas>=1.2->seaborn->missingno) (2024.2)\n",
            "Requirement already satisfied: six>=1.5 in /usr/local/lib/python3.10/dist-packages (from python-dateutil>=2.7->matplotlib->missingno) (1.17.0)\n"
          ]
        }
      ],
      "source": [
        "!pip install missingno"
      ]
    },
    {
      "cell_type": "markdown",
      "source": [
        "### 라이브러리 삭제하기"
      ],
      "metadata": {
        "id": "3peceTCrCuXS"
      }
    },
    {
      "cell_type": "code",
      "execution_count": null,
      "metadata": {
        "id": "CO9pIWvq8GGN",
        "scrolled": true,
        "colab": {
          "base_uri": "https://localhost:8080/"
        },
        "outputId": "6b556254-bafe-4652-8c3f-6fae2f77bfff",
        "collapsed": true
      },
      "outputs": [
        {
          "output_type": "stream",
          "name": "stdout",
          "text": [
            "Found existing installation: missingno 0.5.2\n",
            "Uninstalling missingno-0.5.2:\n",
            "  Would remove:\n",
            "    /usr/local/lib/python3.10/dist-packages/missingno-0.5.2.dist-info/*\n",
            "    /usr/local/lib/python3.10/dist-packages/missingno/*\n",
            "Proceed (Y/n)? y\n",
            "  Successfully uninstalled missingno-0.5.2\n"
          ]
        }
      ],
      "source": [
        "!pip uninstall missingno"
      ]
    },
    {
      "cell_type": "markdown",
      "metadata": {
        "id": "5KtJAiS08GGO"
      },
      "source": [
        "### 설치된 라이브러리 확인(전체)"
      ]
    },
    {
      "cell_type": "code",
      "execution_count": null,
      "metadata": {
        "id": "0bsTdq6y8GGO",
        "colab": {
          "base_uri": "https://localhost:8080/"
        },
        "outputId": "aa6d6132-9e4c-46c6-d5e5-9a159af4c040",
        "collapsed": true
      },
      "outputs": [
        {
          "output_type": "stream",
          "name": "stdout",
          "text": [
            "Package                            Version\n",
            "---------------------------------- --------------------\n",
            "absl-py                            1.4.0\n",
            "accelerate                         1.2.1\n",
            "aiohappyeyeballs                   2.4.4\n",
            "aiohttp                            3.11.10\n",
            "aiosignal                          1.3.2\n",
            "alabaster                          1.0.0\n",
            "albucore                           0.0.19\n",
            "albumentations                     1.4.20\n",
            "altair                             5.5.0\n",
            "annotated-types                    0.7.0\n",
            "anyio                              3.7.1\n",
            "argon2-cffi                        23.1.0\n",
            "argon2-cffi-bindings               21.2.0\n",
            "array_record                       0.5.1\n",
            "arviz                              0.20.0\n",
            "astropy                            6.1.7\n",
            "astropy-iers-data                  0.2024.12.16.0.35.48\n",
            "astunparse                         1.6.3\n",
            "async-timeout                      4.0.3\n",
            "atpublic                           4.1.0\n",
            "attrs                              24.3.0\n",
            "audioread                          3.0.1\n",
            "autograd                           1.7.0\n",
            "babel                              2.16.0\n",
            "backcall                           0.2.0\n",
            "beautifulsoup4                     4.12.3\n",
            "bigframes                          1.29.0\n",
            "bigquery-magics                    0.4.0\n",
            "bleach                             6.2.0\n",
            "blinker                            1.9.0\n",
            "blis                               0.7.11\n",
            "blosc2                             2.7.1\n",
            "bokeh                              3.6.2\n",
            "Bottleneck                         1.4.2\n",
            "bqplot                             0.12.43\n",
            "branca                             0.8.1\n",
            "CacheControl                       0.14.1\n",
            "cachetools                         5.5.0\n",
            "catalogue                          2.0.10\n",
            "certifi                            2024.12.14\n",
            "cffi                               1.17.1\n",
            "chardet                            5.2.0\n",
            "charset-normalizer                 3.4.0\n",
            "chex                               0.1.88\n",
            "clarabel                           0.9.0\n",
            "click                              8.1.7\n",
            "cloudpathlib                       0.20.0\n",
            "cloudpickle                        3.1.0\n",
            "cmake                              3.31.2\n",
            "cmdstanpy                          1.2.5\n",
            "colorcet                           3.1.0\n",
            "colorlover                         0.3.0\n",
            "colour                             0.1.5\n",
            "community                          1.0.0b1\n",
            "confection                         0.1.5\n",
            "cons                               0.4.6\n",
            "contourpy                          1.3.1\n",
            "cryptography                       43.0.3\n",
            "cuda-python                        12.2.1\n",
            "cudf-cu12                          24.10.1\n",
            "cufflinks                          0.17.3\n",
            "cupy-cuda12x                       12.2.0\n",
            "cvxopt                             1.3.2\n",
            "cvxpy                              1.6.0\n",
            "cycler                             0.12.1\n",
            "cymem                              2.0.10\n",
            "Cython                             3.0.11\n",
            "dask                               2024.10.0\n",
            "datascience                        0.17.6\n",
            "db-dtypes                          1.3.1\n",
            "dbus-python                        1.2.18\n",
            "debugpy                            1.8.0\n",
            "decorator                          4.4.2\n",
            "defusedxml                         0.7.1\n",
            "Deprecated                         1.2.15\n",
            "diffusers                          0.31.0\n",
            "distro                             1.9.0\n",
            "dlib                               19.24.2\n",
            "dm-tree                            0.1.8\n",
            "docker-pycreds                     0.4.0\n",
            "docstring_parser                   0.16\n",
            "docutils                           0.21.2\n",
            "dopamine_rl                        4.1.0\n",
            "duckdb                             1.1.3\n",
            "earthengine-api                    1.4.3\n",
            "easydict                           1.13\n",
            "editdistance                       0.8.1\n",
            "eerepr                             0.0.4\n",
            "einops                             0.8.0\n",
            "en-core-web-sm                     3.7.1\n",
            "entrypoints                        0.4\n",
            "et_xmlfile                         2.0.0\n",
            "etils                              1.11.0\n",
            "etuples                            0.3.9\n",
            "eval_type_backport                 0.2.0\n",
            "exceptiongroup                     1.2.2\n",
            "fastai                             2.7.18\n",
            "fastcore                           1.7.27\n",
            "fastdownload                       0.0.7\n",
            "fastjsonschema                     2.21.1\n",
            "fastprogress                       1.0.3\n",
            "fastrlock                          0.8.3\n",
            "filelock                           3.16.1\n",
            "firebase-admin                     6.6.0\n",
            "Flask                              3.1.0\n",
            "flatbuffers                        24.3.25\n",
            "flax                               0.8.5\n",
            "folium                             0.19.2\n",
            "fonttools                          4.55.3\n",
            "frozendict                         2.4.6\n",
            "frozenlist                         1.5.0\n",
            "fsspec                             2024.10.0\n",
            "future                             1.0.0\n",
            "gast                               0.6.0\n",
            "gcsfs                              2024.10.0\n",
            "GDAL                               3.6.4\n",
            "gdown                              5.2.0\n",
            "geemap                             0.35.1\n",
            "gensim                             4.3.3\n",
            "geocoder                           1.38.1\n",
            "geographiclib                      2.0\n",
            "geopandas                          1.0.1\n",
            "geopy                              2.4.1\n",
            "gin-config                         0.5.0\n",
            "gitdb                              4.0.11\n",
            "GitPython                          3.1.43\n",
            "glob2                              0.7\n",
            "google                             2.0.3\n",
            "google-ai-generativelanguage       0.6.10\n",
            "google-api-core                    2.19.2\n",
            "google-api-python-client           2.155.0\n",
            "google-auth                        2.27.0\n",
            "google-auth-httplib2               0.2.0\n",
            "google-auth-oauthlib               1.2.1\n",
            "google-cloud-aiplatform            1.74.0\n",
            "google-cloud-bigquery              3.25.0\n",
            "google-cloud-bigquery-connection   1.17.0\n",
            "google-cloud-bigquery-storage      2.27.0\n",
            "google-cloud-bigtable              2.27.0\n",
            "google-cloud-core                  2.4.1\n",
            "google-cloud-datastore             2.20.2\n",
            "google-cloud-firestore             2.19.0\n",
            "google-cloud-functions             1.19.0\n",
            "google-cloud-iam                   2.17.0\n",
            "google-cloud-language              2.16.0\n",
            "google-cloud-pubsub                2.27.1\n",
            "google-cloud-resource-manager      1.14.0\n",
            "google-cloud-storage               2.19.0\n",
            "google-cloud-translate             3.19.0\n",
            "google-colab                       1.0.0\n",
            "google-crc32c                      1.6.0\n",
            "google-genai                       0.3.0\n",
            "google-generativeai                0.8.3\n",
            "google-pasta                       0.2.0\n",
            "google-resumable-media             2.7.2\n",
            "googleapis-common-protos           1.66.0\n",
            "googledrivedownloader              0.4\n",
            "graphviz                           0.20.3\n",
            "greenlet                           3.1.1\n",
            "grpc-google-iam-v1                 0.13.1\n",
            "grpcio                             1.68.1\n",
            "grpcio-status                      1.62.3\n",
            "gspread                            6.0.2\n",
            "gspread-dataframe                  3.3.1\n",
            "gym                                0.25.2\n",
            "gym-notices                        0.0.8\n",
            "h11                                0.14.0\n",
            "h5netcdf                           1.4.1\n",
            "h5py                               3.12.1\n",
            "holidays                           0.63\n",
            "holoviews                          1.20.0\n",
            "html5lib                           1.1\n",
            "httpcore                           1.0.7\n",
            "httpimport                         1.4.0\n",
            "httplib2                           0.22.0\n",
            "httpx                              0.28.1\n",
            "huggingface-hub                    0.27.0\n",
            "humanize                           4.11.0\n",
            "hyperopt                           0.2.7\n",
            "ibis-framework                     9.2.0\n",
            "idna                               3.10\n",
            "imageio                            2.36.1\n",
            "imageio-ffmpeg                     0.5.1\n",
            "imagesize                          1.4.1\n",
            "imbalanced-learn                   0.12.4\n",
            "imgaug                             0.4.0\n",
            "immutabledict                      4.2.1\n",
            "importlib_metadata                 8.5.0\n",
            "importlib_resources                6.4.5\n",
            "imutils                            0.5.4\n",
            "inflect                            7.4.0\n",
            "iniconfig                          2.0.0\n",
            "intel-cmplr-lib-ur                 2025.0.4\n",
            "intel-openmp                       2025.0.4\n",
            "ipyevents                          2.0.2\n",
            "ipyfilechooser                     0.6.0\n",
            "ipykernel                          5.5.6\n",
            "ipyleaflet                         0.19.2\n",
            "ipyparallel                        8.8.0\n",
            "ipython                            7.34.0\n",
            "ipython-genutils                   0.2.0\n",
            "ipython-sql                        0.5.0\n",
            "ipytree                            0.2.2\n",
            "ipywidgets                         7.7.1\n",
            "itsdangerous                       2.2.0\n",
            "jax                                0.4.33\n",
            "jax-cuda12-pjrt                    0.4.33\n",
            "jax-cuda12-plugin                  0.4.33\n",
            "jaxlib                             0.4.33\n",
            "jeepney                            0.7.1\n",
            "jellyfish                          1.1.0\n",
            "jieba                              0.42.1\n",
            "Jinja2                             3.1.4\n",
            "jiter                              0.8.2\n",
            "joblib                             1.4.2\n",
            "jsonpatch                          1.33\n",
            "jsonpickle                         4.0.1\n",
            "jsonpointer                        3.0.0\n",
            "jsonschema                         4.23.0\n",
            "jsonschema-specifications          2024.10.1\n",
            "jupyter-client                     6.1.12\n",
            "jupyter-console                    6.1.0\n",
            "jupyter_core                       5.7.2\n",
            "jupyter-leaflet                    0.19.2\n",
            "jupyter-server                     1.24.0\n",
            "jupyterlab_pygments                0.3.0\n",
            "jupyterlab_widgets                 3.0.13\n",
            "kaggle                             1.6.17\n",
            "kagglehub                          0.3.5\n",
            "keras                              3.5.0\n",
            "keyring                            23.5.0\n",
            "kiwisolver                         1.4.7\n",
            "langchain                          0.3.12\n",
            "langchain-core                     0.3.25\n",
            "langchain-text-splitters           0.3.3\n",
            "langcodes                          3.5.0\n",
            "langsmith                          0.2.3\n",
            "language_data                      1.3.0\n",
            "launchpadlib                       1.10.16\n",
            "lazr.restfulclient                 0.14.4\n",
            "lazr.uri                           1.0.6\n",
            "lazy_loader                        0.4\n",
            "libclang                           18.1.1\n",
            "libcudf-cu12                       24.10.1\n",
            "librosa                            0.10.2.post1\n",
            "lightgbm                           4.5.0\n",
            "linkify-it-py                      2.0.3\n",
            "llvmlite                           0.43.0\n",
            "locket                             1.0.0\n",
            "logical-unification                0.4.6\n",
            "lxml                               5.3.0\n",
            "marisa-trie                        1.2.1\n",
            "Markdown                           3.7\n",
            "markdown-it-py                     3.0.0\n",
            "MarkupSafe                         3.0.2\n",
            "matplotlib                         3.8.0\n",
            "matplotlib-inline                  0.1.7\n",
            "matplotlib-venn                    1.1.1\n",
            "mdit-py-plugins                    0.4.2\n",
            "mdurl                              0.1.2\n",
            "miniKanren                         1.0.3\n",
            "mistune                            3.0.2\n",
            "mizani                             0.13.1\n",
            "mkl                                2025.0.1\n",
            "ml-dtypes                          0.4.1\n",
            "mlxtend                            0.23.3\n",
            "more-itertools                     10.5.0\n",
            "moviepy                            1.0.3\n",
            "mpmath                             1.3.0\n",
            "msgpack                            1.1.0\n",
            "multidict                          6.1.0\n",
            "multipledispatch                   1.0.0\n",
            "multitasking                       0.0.11\n",
            "murmurhash                         1.0.11\n",
            "music21                            9.3.0\n",
            "namex                              0.0.8\n",
            "narwhals                           1.18.4\n",
            "natsort                            8.4.0\n",
            "nbclassic                          1.1.0\n",
            "nbclient                           0.10.1\n",
            "nbconvert                          7.16.4\n",
            "nbformat                           5.10.4\n",
            "ndindex                            1.9.2\n",
            "nest-asyncio                       1.6.0\n",
            "networkx                           3.4.2\n",
            "nibabel                            5.3.2\n",
            "nltk                               3.9.1\n",
            "notebook                           6.5.5\n",
            "notebook_shim                      0.2.4\n",
            "numba                              0.60.0\n",
            "numexpr                            2.10.2\n",
            "numpy                              1.26.4\n",
            "nvidia-cublas-cu12                 12.6.4.1\n",
            "nvidia-cuda-cupti-cu12             12.6.80\n",
            "nvidia-cuda-nvcc-cu12              12.6.85\n",
            "nvidia-cuda-runtime-cu12           12.6.77\n",
            "nvidia-cudnn-cu12                  9.6.0.74\n",
            "nvidia-cufft-cu12                  11.3.0.4\n",
            "nvidia-curand-cu12                 10.3.7.77\n",
            "nvidia-cusolver-cu12               11.7.1.2\n",
            "nvidia-cusparse-cu12               12.5.4.2\n",
            "nvidia-nccl-cu12                   2.23.4\n",
            "nvidia-nvjitlink-cu12              12.6.85\n",
            "nvtx                               0.2.10\n",
            "nx-cugraph-cu12                    24.10.0\n",
            "oauth2client                       4.1.3\n",
            "oauthlib                           3.2.2\n",
            "openai                             1.57.4\n",
            "opencv-contrib-python              4.10.0.84\n",
            "opencv-python                      4.10.0.84\n",
            "opencv-python-headless             4.10.0.84\n",
            "openpyxl                           3.1.5\n",
            "opentelemetry-api                  1.29.0\n",
            "opentelemetry-sdk                  1.29.0\n",
            "opentelemetry-semantic-conventions 0.50b0\n",
            "opt_einsum                         3.4.0\n",
            "optax                              0.2.4\n",
            "optree                             0.13.1\n",
            "orbax-checkpoint                   0.6.4\n",
            "orjson                             3.10.12\n",
            "osqp                               0.6.7.post3\n",
            "packaging                          24.2\n",
            "pandas                             2.2.2\n",
            "pandas-datareader                  0.10.0\n",
            "pandas-gbq                         0.25.0\n",
            "pandas-stubs                       2.2.2.240909\n",
            "pandocfilters                      1.5.1\n",
            "panel                              1.5.4\n",
            "param                              2.2.0\n",
            "parso                              0.8.4\n",
            "parsy                              2.1\n",
            "partd                              1.4.2\n",
            "pathlib                            1.0.1\n",
            "patsy                              1.0.1\n",
            "peewee                             3.17.8\n",
            "peft                               0.14.0\n",
            "pexpect                            4.9.0\n",
            "pickleshare                        0.7.5\n",
            "pillow                             11.0.0\n",
            "pip                                24.1.2\n",
            "platformdirs                       4.3.6\n",
            "plotly                             5.24.1\n",
            "plotnine                           0.14.4\n",
            "pluggy                             1.5.0\n",
            "ply                                3.11\n",
            "polars                             1.9.0\n",
            "pooch                              1.8.2\n",
            "portpicker                         1.5.2\n",
            "preshed                            3.0.9\n",
            "prettytable                        3.12.0\n",
            "proglog                            0.1.10\n",
            "progressbar2                       4.5.0\n",
            "prometheus_client                  0.21.1\n",
            "promise                            2.3\n",
            "prompt_toolkit                     3.0.48\n",
            "propcache                          0.2.1\n",
            "prophet                            1.1.6\n",
            "proto-plus                         1.25.0\n",
            "protobuf                           4.25.5\n",
            "psutil                             5.9.5\n",
            "psycopg2                           2.9.10\n",
            "ptyprocess                         0.7.0\n",
            "py-cpuinfo                         9.0.0\n",
            "py4j                               0.10.9.7\n",
            "pyarrow                            17.0.0\n",
            "pyasn1                             0.6.1\n",
            "pyasn1_modules                     0.4.1\n",
            "pycocotools                        2.0.8\n",
            "pycparser                          2.22\n",
            "pydantic                           2.10.3\n",
            "pydantic_core                      2.27.1\n",
            "pydata-google-auth                 1.9.0\n",
            "pydot                              3.0.3\n",
            "pydotplus                          2.0.2\n",
            "PyDrive                            1.3.1\n",
            "PyDrive2                           1.21.3\n",
            "pyerfa                             2.0.1.5\n",
            "pygame                             2.6.1\n",
            "pygit2                             1.16.0\n",
            "Pygments                           2.18.0\n",
            "PyGObject                          3.42.1\n",
            "PyJWT                              2.10.1\n",
            "pylibcudf-cu12                     24.10.1\n",
            "pylibcugraph-cu12                  24.10.0\n",
            "pylibraft-cu12                     24.10.0\n",
            "pymc                               5.19.1\n",
            "pymystem3                          0.2.0\n",
            "pynvjitlink-cu12                   0.4.0\n",
            "pyogrio                            0.10.0\n",
            "Pyomo                              6.8.2\n",
            "PyOpenGL                           3.1.7\n",
            "pyOpenSSL                          24.2.1\n",
            "pyparsing                          3.2.0\n",
            "pyperclip                          1.9.0\n",
            "pyproj                             3.7.0\n",
            "pyshp                              2.3.1\n",
            "PySocks                            1.7.1\n",
            "pyspark                            3.5.3\n",
            "pytensor                           2.26.4\n",
            "pytest                             8.3.4\n",
            "python-apt                         0.0.0\n",
            "python-box                         7.3.0\n",
            "python-dateutil                    2.8.2\n",
            "python-louvain                     0.16\n",
            "python-slugify                     8.0.4\n",
            "python-utils                       3.9.1\n",
            "pytz                               2024.2\n",
            "pyviz_comms                        3.0.3\n",
            "PyYAML                             6.0.2\n",
            "pyzmq                              24.0.1\n",
            "qdldl                              0.1.7.post4\n",
            "ratelim                            0.1.6\n",
            "referencing                        0.35.1\n",
            "regex                              2024.11.6\n",
            "requests                           2.32.3\n",
            "requests-oauthlib                  1.3.1\n",
            "requests-toolbelt                  1.0.0\n",
            "requirements-parser                0.9.0\n",
            "rich                               13.9.4\n",
            "rmm-cu12                           24.10.0\n",
            "rpds-py                            0.22.3\n",
            "rpy2                               3.4.2\n",
            "rsa                                4.9\n",
            "safetensors                        0.4.5\n",
            "scikit-image                       0.25.0\n",
            "scikit-learn                       1.6.0\n",
            "scipy                              1.13.1\n",
            "scooby                             0.10.0\n",
            "scs                                3.2.7\n",
            "seaborn                            0.13.2\n",
            "SecretStorage                      3.3.1\n",
            "Send2Trash                         1.8.3\n",
            "sentence-transformers              3.3.1\n",
            "sentencepiece                      0.2.0\n",
            "sentry-sdk                         2.19.2\n",
            "setproctitle                       1.3.4\n",
            "setuptools                         75.1.0\n",
            "shap                               0.46.0\n",
            "shapely                            2.0.6\n",
            "shellingham                        1.5.4\n",
            "simple-parsing                     0.1.6\n",
            "six                                1.17.0\n",
            "sklearn-pandas                     2.2.0\n",
            "slicer                             0.0.8\n",
            "smart-open                         7.1.0\n",
            "smmap                              5.0.1\n",
            "sniffio                            1.3.1\n",
            "snowballstemmer                    2.2.0\n",
            "soundfile                          0.12.1\n",
            "soupsieve                          2.6\n",
            "soxr                               0.5.0.post1\n",
            "spacy                              3.7.5\n",
            "spacy-legacy                       3.0.12\n",
            "spacy-loggers                      1.0.5\n",
            "Sphinx                             8.1.3\n",
            "sphinxcontrib-applehelp            2.0.0\n",
            "sphinxcontrib-devhelp              2.0.0\n",
            "sphinxcontrib-htmlhelp             2.1.0\n",
            "sphinxcontrib-jsmath               1.0.1\n",
            "sphinxcontrib-qthelp               2.0.0\n",
            "sphinxcontrib-serializinghtml      2.0.0\n",
            "SQLAlchemy                         2.0.36\n",
            "sqlglot                            25.1.0\n",
            "sqlparse                           0.5.3\n",
            "srsly                              2.5.0\n",
            "stanio                             0.5.1\n",
            "statsmodels                        0.14.4\n",
            "StrEnum                            0.4.15\n",
            "stringzilla                        3.11.1\n",
            "sympy                              1.13.1\n",
            "tables                             3.10.1\n",
            "tabulate                           0.9.0\n",
            "tbb                                2022.0.0\n",
            "tcmlib                             1.2.0\n",
            "tenacity                           9.0.0\n",
            "tensorboard                        2.17.1\n",
            "tensorboard-data-server            0.7.2\n",
            "tensorflow                         2.17.1\n",
            "tensorflow-datasets                4.9.7\n",
            "tensorflow-hub                     0.16.1\n",
            "tensorflow-io-gcs-filesystem       0.37.1\n",
            "tensorflow-metadata                1.13.1\n",
            "tensorflow-probability             0.24.0\n",
            "tensorstore                        0.1.71\n",
            "termcolor                          2.5.0\n",
            "terminado                          0.18.1\n",
            "text-unidecode                     1.3\n",
            "textblob                           0.17.1\n",
            "tf_keras                           2.17.0\n",
            "tf-slim                            1.1.0\n",
            "thinc                              8.2.5\n",
            "threadpoolctl                      3.5.0\n",
            "tifffile                           2024.12.12\n",
            "timm                               1.0.12\n",
            "tinycss2                           1.4.0\n",
            "tokenizers                         0.21.0\n",
            "toml                               0.10.2\n",
            "tomli                              2.2.1\n",
            "toolz                              0.12.1\n",
            "torch                              2.5.1+cu121\n",
            "torchaudio                         2.5.1+cu121\n",
            "torchsummary                       1.5.1\n",
            "torchvision                        0.20.1+cu121\n",
            "tornado                            6.3.3\n",
            "tqdm                               4.67.1\n",
            "traitlets                          5.7.1\n",
            "traittypes                         0.2.1\n",
            "transformers                       4.47.1\n",
            "tweepy                             4.14.0\n",
            "typeguard                          4.4.1\n",
            "typer                              0.15.1\n",
            "types-pytz                         2024.2.0.20241003\n",
            "types-setuptools                   75.6.0.20241126\n",
            "typing_extensions                  4.12.2\n",
            "tzdata                             2024.2\n",
            "tzlocal                            5.2\n",
            "uc-micro-py                        1.0.3\n",
            "umf                                0.9.1\n",
            "uritemplate                        4.1.1\n",
            "urllib3                            2.2.3\n",
            "vega-datasets                      0.9.0\n",
            "wadllib                            1.3.6\n",
            "wandb                              0.19.1\n",
            "wasabi                             1.1.3\n",
            "wcwidth                            0.2.13\n",
            "weasel                             0.4.1\n",
            "webcolors                          24.11.1\n",
            "webencodings                       0.5.1\n",
            "websocket-client                   1.8.0\n",
            "websockets                         14.1\n",
            "Werkzeug                           3.1.3\n",
            "wheel                              0.45.1\n",
            "widgetsnbextension                 3.6.10\n",
            "wordcloud                          1.9.4\n",
            "wrapt                              1.17.0\n",
            "xarray                             2024.11.0\n",
            "xarray-einstats                    0.8.0\n",
            "xgboost                            2.1.3\n",
            "xlrd                               2.0.1\n",
            "xyzservices                        2024.9.0\n",
            "yarl                               1.18.3\n",
            "yellowbrick                        1.5\n",
            "yfinance                           0.2.50\n",
            "zipp                               3.21.0\n"
          ]
        }
      ],
      "source": [
        "pip list"
      ]
    },
    {
      "cell_type": "markdown",
      "metadata": {
        "id": "G_IjDeFh8GGP"
      },
      "source": [
        "### 설치된 라이브러리 확인(특정 라이브러리)"
      ]
    },
    {
      "cell_type": "code",
      "execution_count": null,
      "metadata": {
        "id": "TqvE9YpV8GGP",
        "colab": {
          "base_uri": "https://localhost:8080/"
        },
        "collapsed": true,
        "outputId": "549b33de-61d4-4191-dcf7-a2e0877a8141"
      },
      "outputs": [
        {
          "output_type": "stream",
          "name": "stdout",
          "text": [
            "Name: numpy\n",
            "Version: 1.26.4\n",
            "Summary: Fundamental package for array computing in Python\n",
            "Home-page: https://numpy.org\n",
            "Author: Travis E. Oliphant et al.\n",
            "Author-email: \n",
            "License: Copyright (c) 2005-2023, NumPy Developers.\n",
            "        All rights reserved.\n",
            "        \n",
            "        Redistribution and use in source and binary forms, with or without\n",
            "        modification, are permitted provided that the following conditions are\n",
            "        met:\n",
            "        \n",
            "            * Redistributions of source code must retain the above copyright\n",
            "               notice, this list of conditions and the following disclaimer.\n",
            "        \n",
            "            * Redistributions in binary form must reproduce the above\n",
            "               copyright notice, this list of conditions and the following\n",
            "               disclaimer in the documentation and/or other materials provided\n",
            "               with the distribution.\n",
            "        \n",
            "            * Neither the name of the NumPy Developers nor the names of any\n",
            "               contributors may be used to endorse or promote products derived\n",
            "               from this software without specific prior written permission.\n",
            "        \n",
            "        THIS SOFTWARE IS PROVIDED BY THE COPYRIGHT HOLDERS AND CONTRIBUTORS\n",
            "        \"AS IS\" AND ANY EXPRESS OR IMPLIED WARRANTIES, INCLUDING, BUT NOT\n",
            "        LIMITED TO, THE IMPLIED WARRANTIES OF MERCHANTABILITY AND FITNESS FOR\n",
            "        A PARTICULAR PURPOSE ARE DISCLAIMED. IN NO EVENT SHALL THE COPYRIGHT\n",
            "        OWNER OR CONTRIBUTORS BE LIABLE FOR ANY DIRECT, INDIRECT, INCIDENTAL,\n",
            "        SPECIAL, EXEMPLARY, OR CONSEQUENTIAL DAMAGES (INCLUDING, BUT NOT\n",
            "        LIMITED TO, PROCUREMENT OF SUBSTITUTE GOODS OR SERVICES; LOSS OF USE,\n",
            "        DATA, OR PROFITS; OR BUSINESS INTERRUPTION) HOWEVER CAUSED AND ON ANY\n",
            "        THEORY OF LIABILITY, WHETHER IN CONTRACT, STRICT LIABILITY, OR TORT\n",
            "        (INCLUDING NEGLIGENCE OR OTHERWISE) ARISING IN ANY WAY OUT OF THE USE\n",
            "        OF THIS SOFTWARE, EVEN IF ADVISED OF THE POSSIBILITY OF SUCH DAMAGE.\n",
            "        \n",
            "        ----\n",
            "        \n",
            "        The NumPy repository and source distributions bundle several libraries that are\n",
            "        compatibly licensed.  We list these here.\n",
            "        \n",
            "        Name: lapack-lite\n",
            "        Files: numpy/linalg/lapack_lite/*\n",
            "        License: BSD-3-Clause\n",
            "          For details, see numpy/linalg/lapack_lite/LICENSE.txt\n",
            "        \n",
            "        Name: tempita\n",
            "        Files: tools/npy_tempita/*\n",
            "        License: MIT\n",
            "          For details, see tools/npy_tempita/license.txt\n",
            "        \n",
            "        Name: dragon4\n",
            "        Files: numpy/core/src/multiarray/dragon4.c\n",
            "        License: MIT\n",
            "          For license text, see numpy/core/src/multiarray/dragon4.c\n",
            "        \n",
            "        Name: libdivide\n",
            "        Files: numpy/core/include/numpy/libdivide/*\n",
            "        License: Zlib\n",
            "          For license text, see numpy/core/include/numpy/libdivide/LICENSE.txt\n",
            "        \n",
            "        \n",
            "        Note that the following files are vendored in the repository and sdist but not\n",
            "        installed in built numpy packages:\n",
            "        \n",
            "        Name: Meson\n",
            "        Files: vendored-meson/meson/*\n",
            "        License: Apache 2.0\n",
            "          For license text, see vendored-meson/meson/COPYING\n",
            "        \n",
            "        Name: spin\n",
            "        Files: .spin/cmds.py\n",
            "        License: BSD-3\n",
            "          For license text, see .spin/LICENSE\n",
            "        \n",
            "        ----\n",
            "        \n",
            "        This binary distribution of NumPy also bundles the following software:\n",
            "        \n",
            "        \n",
            "        Name: OpenBLAS\n",
            "        Files: numpy.libs/libopenblas*.so\n",
            "        Description: bundled as a dynamically linked library\n",
            "        Availability: https://github.com/OpenMathLib/OpenBLAS/\n",
            "        License: BSD-3-Clause\n",
            "          Copyright (c) 2011-2014, The OpenBLAS Project\n",
            "          All rights reserved.\n",
            "        \n",
            "          Redistribution and use in source and binary forms, with or without\n",
            "          modification, are permitted provided that the following conditions are\n",
            "          met:\n",
            "        \n",
            "             1. Redistributions of source code must retain the above copyright\n",
            "                notice, this list of conditions and the following disclaimer.\n",
            "        \n",
            "             2. Redistributions in binary form must reproduce the above copyright\n",
            "                notice, this list of conditions and the following disclaimer in\n",
            "                the documentation and/or other materials provided with the\n",
            "                distribution.\n",
            "             3. Neither the name of the OpenBLAS project nor the names of\n",
            "                its contributors may be used to endorse or promote products\n",
            "                derived from this software without specific prior written\n",
            "                permission.\n",
            "        \n",
            "          THIS SOFTWARE IS PROVIDED BY THE COPYRIGHT HOLDERS AND CONTRIBUTORS \"AS IS\"\n",
            "          AND ANY EXPRESS OR IMPLIED WARRANTIES, INCLUDING, BUT NOT LIMITED TO, THE\n",
            "          IMPLIED WARRANTIES OF MERCHANTABILITY AND FITNESS FOR A PARTICULAR PURPOSE\n",
            "          ARE DISCLAIMED. IN NO EVENT SHALL THE COPYRIGHT OWNER OR CONTRIBUTORS BE\n",
            "          LIABLE FOR ANY DIRECT, INDIRECT, INCIDENTAL, SPECIAL, EXEMPLARY, OR CONSEQUENTIAL\n",
            "          DAMAGES (INCLUDING, BUT NOT LIMITED TO, PROCUREMENT OF SUBSTITUTE GOODS OR\n",
            "          SERVICES; LOSS OF USE, DATA, OR PROFITS; OR BUSINESS INTERRUPTION) HOWEVER\n",
            "          CAUSED AND ON ANY THEORY OF LIABILITY, WHETHER IN CONTRACT, STRICT LIABILITY,\n",
            "          OR TORT (INCLUDING NEGLIGENCE OR OTHERWISE) ARISING IN ANY WAY OUT OF THE\n",
            "          USE OF THIS SOFTWARE, EVEN IF ADVISED OF THE POSSIBILITY OF SUCH DAMAGE.\n",
            "        \n",
            "        \n",
            "        Name: LAPACK\n",
            "        Files: numpy.libs/libopenblas*.so\n",
            "        Description: bundled in OpenBLAS\n",
            "        Availability: https://github.com/OpenMathLib/OpenBLAS/\n",
            "        License: BSD-3-Clause-Attribution\n",
            "          Copyright (c) 1992-2013 The University of Tennessee and The University\n",
            "                                  of Tennessee Research Foundation.  All rights\n",
            "                                  reserved.\n",
            "          Copyright (c) 2000-2013 The University of California Berkeley. All\n",
            "                                  rights reserved.\n",
            "          Copyright (c) 2006-2013 The University of Colorado Denver.  All rights\n",
            "                                  reserved.\n",
            "        \n",
            "          $COPYRIGHT$\n",
            "        \n",
            "          Additional copyrights may follow\n",
            "        \n",
            "          $HEADER$\n",
            "        \n",
            "          Redistribution and use in source and binary forms, with or without\n",
            "          modification, are permitted provided that the following conditions are\n",
            "          met:\n",
            "        \n",
            "          - Redistributions of source code must retain the above copyright\n",
            "            notice, this list of conditions and the following disclaimer.\n",
            "        \n",
            "          - Redistributions in binary form must reproduce the above copyright\n",
            "            notice, this list of conditions and the following disclaimer listed\n",
            "            in this license in the documentation and/or other materials\n",
            "            provided with the distribution.\n",
            "        \n",
            "          - Neither the name of the copyright holders nor the names of its\n",
            "            contributors may be used to endorse or promote products derived from\n",
            "            this software without specific prior written permission.\n",
            "        \n",
            "          The copyright holders provide no reassurances that the source code\n",
            "          provided does not infringe any patent, copyright, or any other\n",
            "          intellectual property rights of third parties.  The copyright holders\n",
            "          disclaim any liability to any recipient for claims brought against\n",
            "          recipient by any third party for infringement of that parties\n",
            "          intellectual property rights.\n",
            "        \n",
            "          THIS SOFTWARE IS PROVIDED BY THE COPYRIGHT HOLDERS AND CONTRIBUTORS\n",
            "          \"AS IS\" AND ANY EXPRESS OR IMPLIED WARRANTIES, INCLUDING, BUT NOT\n",
            "          LIMITED TO, THE IMPLIED WARRANTIES OF MERCHANTABILITY AND FITNESS FOR\n",
            "          A PARTICULAR PURPOSE ARE DISCLAIMED. IN NO EVENT SHALL THE COPYRIGHT\n",
            "          OWNER OR CONTRIBUTORS BE LIABLE FOR ANY DIRECT, INDIRECT, INCIDENTAL,\n",
            "          SPECIAL, EXEMPLARY, OR CONSEQUENTIAL DAMAGES (INCLUDING, BUT NOT\n",
            "          LIMITED TO, PROCUREMENT OF SUBSTITUTE GOODS OR SERVICES; LOSS OF USE,\n",
            "          DATA, OR PROFITS; OR BUSINESS INTERRUPTION) HOWEVER CAUSED AND ON ANY\n",
            "          THEORY OF LIABILITY, WHETHER IN CONTRACT, STRICT LIABILITY, OR TORT\n",
            "          (INCLUDING NEGLIGENCE OR OTHERWISE) ARISING IN ANY WAY OUT OF THE USE\n",
            "          OF THIS SOFTWARE, EVEN IF ADVISED OF THE POSSIBILITY OF SUCH DAMAGE.\n",
            "        \n",
            "        \n",
            "        Name: GCC runtime library\n",
            "        Files: numpy.libs/libgfortran*.so\n",
            "        Description: dynamically linked to files compiled with gcc\n",
            "        Availability: https://gcc.gnu.org/git/?p=gcc.git;a=tree;f=libgfortran\n",
            "        License: GPL-3.0-with-GCC-exception\n",
            "          Copyright (C) 2002-2017 Free Software Foundation, Inc.\n",
            "        \n",
            "          Libgfortran is free software; you can redistribute it and/or modify\n",
            "          it under the terms of the GNU General Public License as published by\n",
            "          the Free Software Foundation; either version 3, or (at your option)\n",
            "          any later version.\n",
            "        \n",
            "          Libgfortran is distributed in the hope that it will be useful,\n",
            "          but WITHOUT ANY WARRANTY; without even the implied warranty of\n",
            "          MERCHANTABILITY or FITNESS FOR A PARTICULAR PURPOSE.  See the\n",
            "          GNU General Public License for more details.\n",
            "        \n",
            "          Under Section 7 of GPL version 3, you are granted additional\n",
            "          permissions described in the GCC Runtime Library Exception, version\n",
            "          3.1, as published by the Free Software Foundation.\n",
            "        \n",
            "          You should have received a copy of the GNU General Public License and\n",
            "          a copy of the GCC Runtime Library Exception along with this program;\n",
            "          see the files COPYING3 and COPYING.RUNTIME respectively.  If not, see\n",
            "          <http://www.gnu.org/licenses/>.\n",
            "        \n",
            "        ----\n",
            "        \n",
            "        Full text of license texts referred to above follows (that they are\n",
            "        listed below does not necessarily imply the conditions apply to the\n",
            "        present binary release):\n",
            "        \n",
            "        ----\n",
            "        \n",
            "        GCC RUNTIME LIBRARY EXCEPTION\n",
            "        \n",
            "        Version 3.1, 31 March 2009\n",
            "        \n",
            "        Copyright (C) 2009 Free Software Foundation, Inc. <http://fsf.org/>\n",
            "        \n",
            "        Everyone is permitted to copy and distribute verbatim copies of this\n",
            "        license document, but changing it is not allowed.\n",
            "        \n",
            "        This GCC Runtime Library Exception (\"Exception\") is an additional\n",
            "        permission under section 7 of the GNU General Public License, version\n",
            "        3 (\"GPLv3\"). It applies to a given file (the \"Runtime Library\") that\n",
            "        bears a notice placed by the copyright holder of the file stating that\n",
            "        the file is governed by GPLv3 along with this Exception.\n",
            "        \n",
            "        When you use GCC to compile a program, GCC may combine portions of\n",
            "        certain GCC header files and runtime libraries with the compiled\n",
            "        program. The purpose of this Exception is to allow compilation of\n",
            "        non-GPL (including proprietary) programs to use, in this way, the\n",
            "        header files and runtime libraries covered by this Exception.\n",
            "        \n",
            "        0. Definitions.\n",
            "        \n",
            "        A file is an \"Independent Module\" if it either requires the Runtime\n",
            "        Library for execution after a Compilation Process, or makes use of an\n",
            "        interface provided by the Runtime Library, but is not otherwise based\n",
            "        on the Runtime Library.\n",
            "        \n",
            "        \"GCC\" means a version of the GNU Compiler Collection, with or without\n",
            "        modifications, governed by version 3 (or a specified later version) of\n",
            "        the GNU General Public License (GPL) with the option of using any\n",
            "        subsequent versions published by the FSF.\n",
            "        \n",
            "        \"GPL-compatible Software\" is software whose conditions of propagation,\n",
            "        modification and use would permit combination with GCC in accord with\n",
            "        the license of GCC.\n",
            "        \n",
            "        \"Target Code\" refers to output from any compiler for a real or virtual\n",
            "        target processor architecture, in executable form or suitable for\n",
            "        input to an assembler, loader, linker and/or execution\n",
            "        phase. Notwithstanding that, Target Code does not include data in any\n",
            "        format that is used as a compiler intermediate representation, or used\n",
            "        for producing a compiler intermediate representation.\n",
            "        \n",
            "        The \"Compilation Process\" transforms code entirely represented in\n",
            "        non-intermediate languages designed for human-written code, and/or in\n",
            "        Java Virtual Machine byte code, into Target Code. Thus, for example,\n",
            "        use of source code generators and preprocessors need not be considered\n",
            "        part of the Compilation Process, since the Compilation Process can be\n",
            "        understood as starting with the output of the generators or\n",
            "        preprocessors.\n",
            "        \n",
            "        A Compilation Process is \"Eligible\" if it is done using GCC, alone or\n",
            "        with other GPL-compatible software, or if it is done without using any\n",
            "        work based on GCC. For example, using non-GPL-compatible Software to\n",
            "        optimize any GCC intermediate representations would not qualify as an\n",
            "        Eligible Compilation Process.\n",
            "        \n",
            "        1. Grant of Additional Permission.\n",
            "        \n",
            "        You have permission to propagate a work of Target Code formed by\n",
            "        combining the Runtime Library with Independent Modules, even if such\n",
            "        propagation would otherwise violate the terms of GPLv3, provided that\n",
            "        all Target Code was generated by Eligible Compilation Processes. You\n",
            "        may then convey such a combination under terms of your choice,\n",
            "        consistent with the licensing of the Independent Modules.\n",
            "        \n",
            "        2. No Weakening of GCC Copyleft.\n",
            "        \n",
            "        The availability of this Exception does not imply any general\n",
            "        presumption that third-party software is unaffected by the copyleft\n",
            "        requirements of the license of GCC.\n",
            "        \n",
            "        ----\n",
            "        \n",
            "                            GNU GENERAL PUBLIC LICENSE\n",
            "                               Version 3, 29 June 2007\n",
            "        \n",
            "         Copyright (C) 2007 Free Software Foundation, Inc. <http://fsf.org/>\n",
            "         Everyone is permitted to copy and distribute verbatim copies\n",
            "         of this license document, but changing it is not allowed.\n",
            "        \n",
            "                                    Preamble\n",
            "        \n",
            "          The GNU General Public License is a free, copyleft license for\n",
            "        software and other kinds of works.\n",
            "        \n",
            "          The licenses for most software and other practical works are designed\n",
            "        to take away your freedom to share and change the works.  By contrast,\n",
            "        the GNU General Public License is intended to guarantee your freedom to\n",
            "        share and change all versions of a program--to make sure it remains free\n",
            "        software for all its users.  We, the Free Software Foundation, use the\n",
            "        GNU General Public License for most of our software; it applies also to\n",
            "        any other work released this way by its authors.  You can apply it to\n",
            "        your programs, too.\n",
            "        \n",
            "          When we speak of free software, we are referring to freedom, not\n",
            "        price.  Our General Public Licenses are designed to make sure that you\n",
            "        have the freedom to distribute copies of free software (and charge for\n",
            "        them if you wish), that you receive source code or can get it if you\n",
            "        want it, that you can change the software or use pieces of it in new\n",
            "        free programs, and that you know you can do these things.\n",
            "        \n",
            "          To protect your rights, we need to prevent others from denying you\n",
            "        these rights or asking you to surrender the rights.  Therefore, you have\n",
            "        certain responsibilities if you distribute copies of the software, or if\n",
            "        you modify it: responsibilities to respect the freedom of others.\n",
            "        \n",
            "          For example, if you distribute copies of such a program, whether\n",
            "        gratis or for a fee, you must pass on to the recipients the same\n",
            "        freedoms that you received.  You must make sure that they, too, receive\n",
            "        or can get the source code.  And you must show them these terms so they\n",
            "        know their rights.\n",
            "        \n",
            "          Developers that use the GNU GPL protect your rights with two steps:\n",
            "        (1) assert copyright on the software, and (2) offer you this License\n",
            "        giving you legal permission to copy, distribute and/or modify it.\n",
            "        \n",
            "          For the developers' and authors' protection, the GPL clearly explains\n",
            "        that there is no warranty for this free software.  For both users' and\n",
            "        authors' sake, the GPL requires that modified versions be marked as\n",
            "        changed, so that their problems will not be attributed erroneously to\n",
            "        authors of previous versions.\n",
            "        \n",
            "          Some devices are designed to deny users access to install or run\n",
            "        modified versions of the software inside them, although the manufacturer\n",
            "        can do so.  This is fundamentally incompatible with the aim of\n",
            "        protecting users' freedom to change the software.  The systematic\n",
            "        pattern of such abuse occurs in the area of products for individuals to\n",
            "        use, which is precisely where it is most unacceptable.  Therefore, we\n",
            "        have designed this version of the GPL to prohibit the practice for those\n",
            "        products.  If such problems arise substantially in other domains, we\n",
            "        stand ready to extend this provision to those domains in future versions\n",
            "        of the GPL, as needed to protect the freedom of users.\n",
            "        \n",
            "          Finally, every program is threatened constantly by software patents.\n",
            "        States should not allow patents to restrict development and use of\n",
            "        software on general-purpose computers, but in those that do, we wish to\n",
            "        avoid the special danger that patents applied to a free program could\n",
            "        make it effectively proprietary.  To prevent this, the GPL assures that\n",
            "        patents cannot be used to render the program non-free.\n",
            "        \n",
            "          The precise terms and conditions for copying, distribution and\n",
            "        modification follow.\n",
            "        \n",
            "                               TERMS AND CONDITIONS\n",
            "        \n",
            "          0. Definitions.\n",
            "        \n",
            "          \"This License\" refers to version 3 of the GNU General Public License.\n",
            "        \n",
            "          \"Copyright\" also means copyright-like laws that apply to other kinds of\n",
            "        works, such as semiconductor masks.\n",
            "        \n",
            "          \"The Program\" refers to any copyrightable work licensed under this\n",
            "        License.  Each licensee is addressed as \"you\".  \"Licensees\" and\n",
            "        \"recipients\" may be individuals or organizations.\n",
            "        \n",
            "          To \"modify\" a work means to copy from or adapt all or part of the work\n",
            "        in a fashion requiring copyright permission, other than the making of an\n",
            "        exact copy.  The resulting work is called a \"modified version\" of the\n",
            "        earlier work or a work \"based on\" the earlier work.\n",
            "        \n",
            "          A \"covered work\" means either the unmodified Program or a work based\n",
            "        on the Program.\n",
            "        \n",
            "          To \"propagate\" a work means to do anything with it that, without\n",
            "        permission, would make you directly or secondarily liable for\n",
            "        infringement under applicable copyright law, except executing it on a\n",
            "        computer or modifying a private copy.  Propagation includes copying,\n",
            "        distribution (with or without modification), making available to the\n",
            "        public, and in some countries other activities as well.\n",
            "        \n",
            "          To \"convey\" a work means any kind of propagation that enables other\n",
            "        parties to make or receive copies.  Mere interaction with a user through\n",
            "        a computer network, with no transfer of a copy, is not conveying.\n",
            "        \n",
            "          An interactive user interface displays \"Appropriate Legal Notices\"\n",
            "        to the extent that it includes a convenient and prominently visible\n",
            "        feature that (1) displays an appropriate copyright notice, and (2)\n",
            "        tells the user that there is no warranty for the work (except to the\n",
            "        extent that warranties are provided), that licensees may convey the\n",
            "        work under this License, and how to view a copy of this License.  If\n",
            "        the interface presents a list of user commands or options, such as a\n",
            "        menu, a prominent item in the list meets this criterion.\n",
            "        \n",
            "          1. Source Code.\n",
            "        \n",
            "          The \"source code\" for a work means the preferred form of the work\n",
            "        for making modifications to it.  \"Object code\" means any non-source\n",
            "        form of a work.\n",
            "        \n",
            "          A \"Standard Interface\" means an interface that either is an official\n",
            "        standard defined by a recognized standards body, or, in the case of\n",
            "        interfaces specified for a particular programming language, one that\n",
            "        is widely used among developers working in that language.\n",
            "        \n",
            "          The \"System Libraries\" of an executable work include anything, other\n",
            "        than the work as a whole, that (a) is included in the normal form of\n",
            "        packaging a Major Component, but which is not part of that Major\n",
            "        Component, and (b) serves only to enable use of the work with that\n",
            "        Major Component, or to implement a Standard Interface for which an\n",
            "        implementation is available to the public in source code form.  A\n",
            "        \"Major Component\", in this context, means a major essential component\n",
            "        (kernel, window system, and so on) of the specific operating system\n",
            "        (if any) on which the executable work runs, or a compiler used to\n",
            "        produce the work, or an object code interpreter used to run it.\n",
            "        \n",
            "          The \"Corresponding Source\" for a work in object code form means all\n",
            "        the source code needed to generate, install, and (for an executable\n",
            "        work) run the object code and to modify the work, including scripts to\n",
            "        control those activities.  However, it does not include the work's\n",
            "        System Libraries, or general-purpose tools or generally available free\n",
            "        programs which are used unmodified in performing those activities but\n",
            "        which are not part of the work.  For example, Corresponding Source\n",
            "        includes interface definition files associated with source files for\n",
            "        the work, and the source code for shared libraries and dynamically\n",
            "        linked subprograms that the work is specifically designed to require,\n",
            "        such as by intimate data communication or control flow between those\n",
            "        subprograms and other parts of the work.\n",
            "        \n",
            "          The Corresponding Source need not include anything that users\n",
            "        can regenerate automatically from other parts of the Corresponding\n",
            "        Source.\n",
            "        \n",
            "          The Corresponding Source for a work in source code form is that\n",
            "        same work.\n",
            "        \n",
            "          2. Basic Permissions.\n",
            "        \n",
            "          All rights granted under this License are granted for the term of\n",
            "        copyright on the Program, and are irrevocable provided the stated\n",
            "        conditions are met.  This License explicitly affirms your unlimited\n",
            "        permission to run the unmodified Program.  The output from running a\n",
            "        covered work is covered by this License only if the output, given its\n",
            "        content, constitutes a covered work.  This License acknowledges your\n",
            "        rights of fair use or other equivalent, as provided by copyright law.\n",
            "        \n",
            "          You may make, run and propagate covered works that you do not\n",
            "        convey, without conditions so long as your license otherwise remains\n",
            "        in force.  You may convey covered works to others for the sole purpose\n",
            "        of having them make modifications exclusively for you, or provide you\n",
            "        with facilities for running those works, provided that you comply with\n",
            "        the terms of this License in conveying all material for which you do\n",
            "        not control copyright.  Those thus making or running the covered works\n",
            "        for you must do so exclusively on your behalf, under your direction\n",
            "        and control, on terms that prohibit them from making any copies of\n",
            "        your copyrighted material outside their relationship with you.\n",
            "        \n",
            "          Conveying under any other circumstances is permitted solely under\n",
            "        the conditions stated below.  Sublicensing is not allowed; section 10\n",
            "        makes it unnecessary.\n",
            "        \n",
            "          3. Protecting Users' Legal Rights From Anti-Circumvention Law.\n",
            "        \n",
            "          No covered work shall be deemed part of an effective technological\n",
            "        measure under any applicable law fulfilling obligations under article\n",
            "        11 of the WIPO copyright treaty adopted on 20 December 1996, or\n",
            "        similar laws prohibiting or restricting circumvention of such\n",
            "        measures.\n",
            "        \n",
            "          When you convey a covered work, you waive any legal power to forbid\n",
            "        circumvention of technological measures to the extent such circumvention\n",
            "        is effected by exercising rights under this License with respect to\n",
            "        the covered work, and you disclaim any intention to limit operation or\n",
            "        modification of the work as a means of enforcing, against the work's\n",
            "        users, your or third parties' legal rights to forbid circumvention of\n",
            "        technological measures.\n",
            "        \n",
            "          4. Conveying Verbatim Copies.\n",
            "        \n",
            "          You may convey verbatim copies of the Program's source code as you\n",
            "        receive it, in any medium, provided that you conspicuously and\n",
            "        appropriately publish on each copy an appropriate copyright notice;\n",
            "        keep intact all notices stating that this License and any\n",
            "        non-permissive terms added in accord with section 7 apply to the code;\n",
            "        keep intact all notices of the absence of any warranty; and give all\n",
            "        recipients a copy of this License along with the Program.\n",
            "        \n",
            "          You may charge any price or no price for each copy that you convey,\n",
            "        and you may offer support or warranty protection for a fee.\n",
            "        \n",
            "          5. Conveying Modified Source Versions.\n",
            "        \n",
            "          You may convey a work based on the Program, or the modifications to\n",
            "        produce it from the Program, in the form of source code under the\n",
            "        terms of section 4, provided that you also meet all of these conditions:\n",
            "        \n",
            "            a) The work must carry prominent notices stating that you modified\n",
            "            it, and giving a relevant date.\n",
            "        \n",
            "            b) The work must carry prominent notices stating that it is\n",
            "            released under this License and any conditions added under section\n",
            "            7.  This requirement modifies the requirement in section 4 to\n",
            "            \"keep intact all notices\".\n",
            "        \n",
            "            c) You must license the entire work, as a whole, under this\n",
            "            License to anyone who comes into possession of a copy.  This\n",
            "            License will therefore apply, along with any applicable section 7\n",
            "            additional terms, to the whole of the work, and all its parts,\n",
            "            regardless of how they are packaged.  This License gives no\n",
            "            permission to license the work in any other way, but it does not\n",
            "            invalidate such permission if you have separately received it.\n",
            "        \n",
            "            d) If the work has interactive user interfaces, each must display\n",
            "            Appropriate Legal Notices; however, if the Program has interactive\n",
            "            interfaces that do not display Appropriate Legal Notices, your\n",
            "            work need not make them do so.\n",
            "        \n",
            "          A compilation of a covered work with other separate and independent\n",
            "        works, which are not by their nature extensions of the covered work,\n",
            "        and which are not combined with it such as to form a larger program,\n",
            "        in or on a volume of a storage or distribution medium, is called an\n",
            "        \"aggregate\" if the compilation and its resulting copyright are not\n",
            "        used to limit the access or legal rights of the compilation's users\n",
            "        beyond what the individual works permit.  Inclusion of a covered work\n",
            "        in an aggregate does not cause this License to apply to the other\n",
            "        parts of the aggregate.\n",
            "        \n",
            "          6. Conveying Non-Source Forms.\n",
            "        \n",
            "          You may convey a covered work in object code form under the terms\n",
            "        of sections 4 and 5, provided that you also convey the\n",
            "        machine-readable Corresponding Source under the terms of this License,\n",
            "        in one of these ways:\n",
            "        \n",
            "            a) Convey the object code in, or embodied in, a physical product\n",
            "            (including a physical distribution medium), accompanied by the\n",
            "            Corresponding Source fixed on a durable physical medium\n",
            "            customarily used for software interchange.\n",
            "        \n",
            "            b) Convey the object code in, or embodied in, a physical product\n",
            "            (including a physical distribution medium), accompanied by a\n",
            "            written offer, valid for at least three years and valid for as\n",
            "            long as you offer spare parts or customer support for that product\n",
            "            model, to give anyone who possesses the object code either (1) a\n",
            "            copy of the Corresponding Source for all the software in the\n",
            "            product that is covered by this License, on a durable physical\n",
            "            medium customarily used for software interchange, for a price no\n",
            "            more than your reasonable cost of physically performing this\n",
            "            conveying of source, or (2) access to copy the\n",
            "            Corresponding Source from a network server at no charge.\n",
            "        \n",
            "            c) Convey individual copies of the object code with a copy of the\n",
            "            written offer to provide the Corresponding Source.  This\n",
            "            alternative is allowed only occasionally and noncommercially, and\n",
            "            only if you received the object code with such an offer, in accord\n",
            "            with subsection 6b.\n",
            "        \n",
            "            d) Convey the object code by offering access from a designated\n",
            "            place (gratis or for a charge), and offer equivalent access to the\n",
            "            Corresponding Source in the same way through the same place at no\n",
            "            further charge.  You need not require recipients to copy the\n",
            "            Corresponding Source along with the object code.  If the place to\n",
            "            copy the object code is a network server, the Corresponding Source\n",
            "            may be on a different server (operated by you or a third party)\n",
            "            that supports equivalent copying facilities, provided you maintain\n",
            "            clear directions next to the object code saying where to find the\n",
            "            Corresponding Source.  Regardless of what server hosts the\n",
            "            Corresponding Source, you remain obligated to ensure that it is\n",
            "            available for as long as needed to satisfy these requirements.\n",
            "        \n",
            "            e) Convey the object code using peer-to-peer transmission, provided\n",
            "            you inform other peers where the object code and Corresponding\n",
            "            Source of the work are being offered to the general public at no\n",
            "            charge under subsection 6d.\n",
            "        \n",
            "          A separable portion of the object code, whose source code is excluded\n",
            "        from the Corresponding Source as a System Library, need not be\n",
            "        included in conveying the object code work.\n",
            "        \n",
            "          A \"User Product\" is either (1) a \"consumer product\", which means any\n",
            "        tangible personal property which is normally used for personal, family,\n",
            "        or household purposes, or (2) anything designed or sold for incorporation\n",
            "        into a dwelling.  In determining whether a product is a consumer product,\n",
            "        doubtful cases shall be resolved in favor of coverage.  For a particular\n",
            "        product received by a particular user, \"normally used\" refers to a\n",
            "        typical or common use of that class of product, regardless of the status\n",
            "        of the particular user or of the way in which the particular user\n",
            "        actually uses, or expects or is expected to use, the product.  A product\n",
            "        is a consumer product regardless of whether the product has substantial\n",
            "        commercial, industrial or non-consumer uses, unless such uses represent\n",
            "        the only significant mode of use of the product.\n",
            "        \n",
            "          \"Installation Information\" for a User Product means any methods,\n",
            "        procedures, authorization keys, or other information required to install\n",
            "        and execute modified versions of a covered work in that User Product from\n",
            "        a modified version of its Corresponding Source.  The information must\n",
            "        suffice to ensure that the continued functioning of the modified object\n",
            "        code is in no case prevented or interfered with solely because\n",
            "        modification has been made.\n",
            "        \n",
            "          If you convey an object code work under this section in, or with, or\n",
            "        specifically for use in, a User Product, and the conveying occurs as\n",
            "        part of a transaction in which the right of possession and use of the\n",
            "        User Product is transferred to the recipient in perpetuity or for a\n",
            "        fixed term (regardless of how the transaction is characterized), the\n",
            "        Corresponding Source conveyed under this section must be accompanied\n",
            "        by the Installation Information.  But this requirement does not apply\n",
            "        if neither you nor any third party retains the ability to install\n",
            "        modified object code on the User Product (for example, the work has\n",
            "        been installed in ROM).\n",
            "        \n",
            "          The requirement to provide Installation Information does not include a\n",
            "        requirement to continue to provide support service, warranty, or updates\n",
            "        for a work that has been modified or installed by the recipient, or for\n",
            "        the User Product in which it has been modified or installed.  Access to a\n",
            "        network may be denied when the modification itself materially and\n",
            "        adversely affects the operation of the network or violates the rules and\n",
            "        protocols for communication across the network.\n",
            "        \n",
            "          Corresponding Source conveyed, and Installation Information provided,\n",
            "        in accord with this section must be in a format that is publicly\n",
            "        documented (and with an implementation available to the public in\n",
            "        source code form), and must require no special password or key for\n",
            "        unpacking, reading or copying.\n",
            "        \n",
            "          7. Additional Terms.\n",
            "        \n",
            "          \"Additional permissions\" are terms that supplement the terms of this\n",
            "        License by making exceptions from one or more of its conditions.\n",
            "        Additional permissions that are applicable to the entire Program shall\n",
            "        be treated as though they were included in this License, to the extent\n",
            "        that they are valid under applicable law.  If additional permissions\n",
            "        apply only to part of the Program, that part may be used separately\n",
            "        under those permissions, but the entire Program remains governed by\n",
            "        this License without regard to the additional permissions.\n",
            "        \n",
            "          When you convey a copy of a covered work, you may at your option\n",
            "        remove any additional permissions from that copy, or from any part of\n",
            "        it.  (Additional permissions may be written to require their own\n",
            "        removal in certain cases when you modify the work.)  You may place\n",
            "        additional permissions on material, added by you to a covered work,\n",
            "        for which you have or can give appropriate copyright permission.\n",
            "        \n",
            "          Notwithstanding any other provision of this License, for material you\n",
            "        add to a covered work, you may (if authorized by the copyright holders of\n",
            "        that material) supplement the terms of this License with terms:\n",
            "        \n",
            "            a) Disclaiming warranty or limiting liability differently from the\n",
            "            terms of sections 15 and 16 of this License; or\n",
            "        \n",
            "            b) Requiring preservation of specified reasonable legal notices or\n",
            "            author attributions in that material or in the Appropriate Legal\n",
            "            Notices displayed by works containing it; or\n",
            "        \n",
            "            c) Prohibiting misrepresentation of the origin of that material, or\n",
            "            requiring that modified versions of such material be marked in\n",
            "            reasonable ways as different from the original version; or\n",
            "        \n",
            "            d) Limiting the use for publicity purposes of names of licensors or\n",
            "            authors of the material; or\n",
            "        \n",
            "            e) Declining to grant rights under trademark law for use of some\n",
            "            trade names, trademarks, or service marks; or\n",
            "        \n",
            "            f) Requiring indemnification of licensors and authors of that\n",
            "            material by anyone who conveys the material (or modified versions of\n",
            "            it) with contractual assumptions of liability to the recipient, for\n",
            "            any liability that these contractual assumptions directly impose on\n",
            "            those licensors and authors.\n",
            "        \n",
            "          All other non-permissive additional terms are considered \"further\n",
            "        restrictions\" within the meaning of section 10.  If the Program as you\n",
            "        received it, or any part of it, contains a notice stating that it is\n",
            "        governed by this License along with a term that is a further\n",
            "        restriction, you may remove that term.  If a license document contains\n",
            "        a further restriction but permits relicensing or conveying under this\n",
            "        License, you may add to a covered work material governed by the terms\n",
            "        of that license document, provided that the further restriction does\n",
            "        not survive such relicensing or conveying.\n",
            "        \n",
            "          If you add terms to a covered work in accord with this section, you\n",
            "        must place, in the relevant source files, a statement of the\n",
            "        additional terms that apply to those files, or a notice indicating\n",
            "        where to find the applicable terms.\n",
            "        \n",
            "          Additional terms, permissive or non-permissive, may be stated in the\n",
            "        form of a separately written license, or stated as exceptions;\n",
            "        the above requirements apply either way.\n",
            "        \n",
            "          8. Termination.\n",
            "        \n",
            "          You may not propagate or modify a covered work except as expressly\n",
            "        provided under this License.  Any attempt otherwise to propagate or\n",
            "        modify it is void, and will automatically terminate your rights under\n",
            "        this License (including any patent licenses granted under the third\n",
            "        paragraph of section 11).\n",
            "        \n",
            "          However, if you cease all violation of this License, then your\n",
            "        license from a particular copyright holder is reinstated (a)\n",
            "        provisionally, unless and until the copyright holder explicitly and\n",
            "        finally terminates your license, and (b) permanently, if the copyright\n",
            "        holder fails to notify you of the violation by some reasonable means\n",
            "        prior to 60 days after the cessation.\n",
            "        \n",
            "          Moreover, your license from a particular copyright holder is\n",
            "        reinstated permanently if the copyright holder notifies you of the\n",
            "        violation by some reasonable means, this is the first time you have\n",
            "        received notice of violation of this License (for any work) from that\n",
            "        copyright holder, and you cure the violation prior to 30 days after\n",
            "        your receipt of the notice.\n",
            "        \n",
            "          Termination of your rights under this section does not terminate the\n",
            "        licenses of parties who have received copies or rights from you under\n",
            "        this License.  If your rights have been terminated and not permanently\n",
            "        reinstated, you do not qualify to receive new licenses for the same\n",
            "        material under section 10.\n",
            "        \n",
            "          9. Acceptance Not Required for Having Copies.\n",
            "        \n",
            "          You are not required to accept this License in order to receive or\n",
            "        run a copy of the Program.  Ancillary propagation of a covered work\n",
            "        occurring solely as a consequence of using peer-to-peer transmission\n",
            "        to receive a copy likewise does not require acceptance.  However,\n",
            "        nothing other than this License grants you permission to propagate or\n",
            "        modify any covered work.  These actions infringe copyright if you do\n",
            "        not accept this License.  Therefore, by modifying or propagating a\n",
            "        covered work, you indicate your acceptance of this License to do so.\n",
            "        \n",
            "          10. Automatic Licensing of Downstream Recipients.\n",
            "        \n",
            "          Each time you convey a covered work, the recipient automatically\n",
            "        receives a license from the original licensors, to run, modify and\n",
            "        propagate that work, subject to this License.  You are not responsible\n",
            "        for enforcing compliance by third parties with this License.\n",
            "        \n",
            "          An \"entity transaction\" is a transaction transferring control of an\n",
            "        organization, or substantially all assets of one, or subdividing an\n",
            "        organization, or merging organizations.  If propagation of a covered\n",
            "        work results from an entity transaction, each party to that\n",
            "        transaction who receives a copy of the work also receives whatever\n",
            "        licenses to the work the party's predecessor in interest had or could\n",
            "        give under the previous paragraph, plus a right to possession of the\n",
            "        Corresponding Source of the work from the predecessor in interest, if\n",
            "        the predecessor has it or can get it with reasonable efforts.\n",
            "        \n",
            "          You may not impose any further restrictions on the exercise of the\n",
            "        rights granted or affirmed under this License.  For example, you may\n",
            "        not impose a license fee, royalty, or other charge for exercise of\n",
            "        rights granted under this License, and you may not initiate litigation\n",
            "        (including a cross-claim or counterclaim in a lawsuit) alleging that\n",
            "        any patent claim is infringed by making, using, selling, offering for\n",
            "        sale, or importing the Program or any portion of it.\n",
            "        \n",
            "          11. Patents.\n",
            "        \n",
            "          A \"contributor\" is a copyright holder who authorizes use under this\n",
            "        License of the Program or a work on which the Program is based.  The\n",
            "        work thus licensed is called the contributor's \"contributor version\".\n",
            "        \n",
            "          A contributor's \"essential patent claims\" are all patent claims\n",
            "        owned or controlled by the contributor, whether already acquired or\n",
            "        hereafter acquired, that would be infringed by some manner, permitted\n",
            "        by this License, of making, using, or selling its contributor version,\n",
            "        but do not include claims that would be infringed only as a\n",
            "        consequence of further modification of the contributor version.  For\n",
            "        purposes of this definition, \"control\" includes the right to grant\n",
            "        patent sublicenses in a manner consistent with the requirements of\n",
            "        this License.\n",
            "        \n",
            "          Each contributor grants you a non-exclusive, worldwide, royalty-free\n",
            "        patent license under the contributor's essential patent claims, to\n",
            "        make, use, sell, offer for sale, import and otherwise run, modify and\n",
            "        propagate the contents of its contributor version.\n",
            "        \n",
            "          In the following three paragraphs, a \"patent license\" is any express\n",
            "        agreement or commitment, however denominated, not to enforce a patent\n",
            "        (such as an express permission to practice a patent or covenant not to\n",
            "        sue for patent infringement).  To \"grant\" such a patent license to a\n",
            "        party means to make such an agreement or commitment not to enforce a\n",
            "        patent against the party.\n",
            "        \n",
            "          If you convey a covered work, knowingly relying on a patent license,\n",
            "        and the Corresponding Source of the work is not available for anyone\n",
            "        to copy, free of charge and under the terms of this License, through a\n",
            "        publicly available network server or other readily accessible means,\n",
            "        then you must either (1) cause the Corresponding Source to be so\n",
            "        available, or (2) arrange to deprive yourself of the benefit of the\n",
            "        patent license for this particular work, or (3) arrange, in a manner\n",
            "        consistent with the requirements of this License, to extend the patent\n",
            "        license to downstream recipients.  \"Knowingly relying\" means you have\n",
            "        actual knowledge that, but for the patent license, your conveying the\n",
            "        covered work in a country, or your recipient's use of the covered work\n",
            "        in a country, would infringe one or more identifiable patents in that\n",
            "        country that you have reason to believe are valid.\n",
            "        \n",
            "          If, pursuant to or in connection with a single transaction or\n",
            "        arrangement, you convey, or propagate by procuring conveyance of, a\n",
            "        covered work, and grant a patent license to some of the parties\n",
            "        receiving the covered work authorizing them to use, propagate, modify\n",
            "        or convey a specific copy of the covered work, then the patent license\n",
            "        you grant is automatically extended to all recipients of the covered\n",
            "        work and works based on it.\n",
            "        \n",
            "          A patent license is \"discriminatory\" if it does not include within\n",
            "        the scope of its coverage, prohibits the exercise of, or is\n",
            "        conditioned on the non-exercise of one or more of the rights that are\n",
            "        specifically granted under this License.  You may not convey a covered\n",
            "        work if you are a party to an arrangement with a third party that is\n",
            "        in the business of distributing software, under which you make payment\n",
            "        to the third party based on the extent of your activity of conveying\n",
            "        the work, and under which the third party grants, to any of the\n",
            "        parties who would receive the covered work from you, a discriminatory\n",
            "        patent license (a) in connection with copies of the covered work\n",
            "        conveyed by you (or copies made from those copies), or (b) primarily\n",
            "        for and in connection with specific products or compilations that\n",
            "        contain the covered work, unless you entered into that arrangement,\n",
            "        or that patent license was granted, prior to 28 March 2007.\n",
            "        \n",
            "          Nothing in this License shall be construed as excluding or limiting\n",
            "        any implied license or other defenses to infringement that may\n",
            "        otherwise be available to you under applicable patent law.\n",
            "        \n",
            "          12. No Surrender of Others' Freedom.\n",
            "        \n",
            "          If conditions are imposed on you (whether by court order, agreement or\n",
            "        otherwise) that contradict the conditions of this License, they do not\n",
            "        excuse you from the conditions of this License.  If you cannot convey a\n",
            "        covered work so as to satisfy simultaneously your obligations under this\n",
            "        License and any other pertinent obligations, then as a consequence you may\n",
            "        not convey it at all.  For example, if you agree to terms that obligate you\n",
            "        to collect a royalty for further conveying from those to whom you convey\n",
            "        the Program, the only way you could satisfy both those terms and this\n",
            "        License would be to refrain entirely from conveying the Program.\n",
            "        \n",
            "          13. Use with the GNU Affero General Public License.\n",
            "        \n",
            "          Notwithstanding any other provision of this License, you have\n",
            "        permission to link or combine any covered work with a work licensed\n",
            "        under version 3 of the GNU Affero General Public License into a single\n",
            "        combined work, and to convey the resulting work.  The terms of this\n",
            "        License will continue to apply to the part which is the covered work,\n",
            "        but the special requirements of the GNU Affero General Public License,\n",
            "        section 13, concerning interaction through a network will apply to the\n",
            "        combination as such.\n",
            "        \n",
            "          14. Revised Versions of this License.\n",
            "        \n",
            "          The Free Software Foundation may publish revised and/or new versions of\n",
            "        the GNU General Public License from time to time.  Such new versions will\n",
            "        be similar in spirit to the present version, but may differ in detail to\n",
            "        address new problems or concerns.\n",
            "        \n",
            "          Each version is given a distinguishing version number.  If the\n",
            "        Program specifies that a certain numbered version of the GNU General\n",
            "        Public License \"or any later version\" applies to it, you have the\n",
            "        option of following the terms and conditions either of that numbered\n",
            "        version or of any later version published by the Free Software\n",
            "        Foundation.  If the Program does not specify a version number of the\n",
            "        GNU General Public License, you may choose any version ever published\n",
            "        by the Free Software Foundation.\n",
            "        \n",
            "          If the Program specifies that a proxy can decide which future\n",
            "        versions of the GNU General Public License can be used, that proxy's\n",
            "        public statement of acceptance of a version permanently authorizes you\n",
            "        to choose that version for the Program.\n",
            "        \n",
            "          Later license versions may give you additional or different\n",
            "        permissions.  However, no additional obligations are imposed on any\n",
            "        author or copyright holder as a result of your choosing to follow a\n",
            "        later version.\n",
            "        \n",
            "          15. Disclaimer of Warranty.\n",
            "        \n",
            "          THERE IS NO WARRANTY FOR THE PROGRAM, TO THE EXTENT PERMITTED BY\n",
            "        APPLICABLE LAW.  EXCEPT WHEN OTHERWISE STATED IN WRITING THE COPYRIGHT\n",
            "        HOLDERS AND/OR OTHER PARTIES PROVIDE THE PROGRAM \"AS IS\" WITHOUT WARRANTY\n",
            "        OF ANY KIND, EITHER EXPRESSED OR IMPLIED, INCLUDING, BUT NOT LIMITED TO,\n",
            "        THE IMPLIED WARRANTIES OF MERCHANTABILITY AND FITNESS FOR A PARTICULAR\n",
            "        PURPOSE.  THE ENTIRE RISK AS TO THE QUALITY AND PERFORMANCE OF THE PROGRAM\n",
            "        IS WITH YOU.  SHOULD THE PROGRAM PROVE DEFECTIVE, YOU ASSUME THE COST OF\n",
            "        ALL NECESSARY SERVICING, REPAIR OR CORRECTION.\n",
            "        \n",
            "          16. Limitation of Liability.\n",
            "        \n",
            "          IN NO EVENT UNLESS REQUIRED BY APPLICABLE LAW OR AGREED TO IN WRITING\n",
            "        WILL ANY COPYRIGHT HOLDER, OR ANY OTHER PARTY WHO MODIFIES AND/OR CONVEYS\n",
            "        THE PROGRAM AS PERMITTED ABOVE, BE LIABLE TO YOU FOR DAMAGES, INCLUDING ANY\n",
            "        GENERAL, SPECIAL, INCIDENTAL OR CONSEQUENTIAL DAMAGES ARISING OUT OF THE\n",
            "        USE OR INABILITY TO USE THE PROGRAM (INCLUDING BUT NOT LIMITED TO LOSS OF\n",
            "        DATA OR DATA BEING RENDERED INACCURATE OR LOSSES SUSTAINED BY YOU OR THIRD\n",
            "        PARTIES OR A FAILURE OF THE PROGRAM TO OPERATE WITH ANY OTHER PROGRAMS),\n",
            "        EVEN IF SUCH HOLDER OR OTHER PARTY HAS BEEN ADVISED OF THE POSSIBILITY OF\n",
            "        SUCH DAMAGES.\n",
            "        \n",
            "          17. Interpretation of Sections 15 and 16.\n",
            "        \n",
            "          If the disclaimer of warranty and limitation of liability provided\n",
            "        above cannot be given local legal effect according to their terms,\n",
            "        reviewing courts shall apply local law that most closely approximates\n",
            "        an absolute waiver of all civil liability in connection with the\n",
            "        Program, unless a warranty or assumption of liability accompanies a\n",
            "        copy of the Program in return for a fee.\n",
            "        \n",
            "                             END OF TERMS AND CONDITIONS\n",
            "        \n",
            "                    How to Apply These Terms to Your New Programs\n",
            "        \n",
            "          If you develop a new program, and you want it to be of the greatest\n",
            "        possible use to the public, the best way to achieve this is to make it\n",
            "        free software which everyone can redistribute and change under these terms.\n",
            "        \n",
            "          To do so, attach the following notices to the program.  It is safest\n",
            "        to attach them to the start of each source file to most effectively\n",
            "        state the exclusion of warranty; and each file should have at least\n",
            "        the \"copyright\" line and a pointer to where the full notice is found.\n",
            "        \n",
            "            <one line to give the program's name and a brief idea of what it does.>\n",
            "            Copyright (C) <year>  <name of author>\n",
            "        \n",
            "            This program is free software: you can redistribute it and/or modify\n",
            "            it under the terms of the GNU General Public License as published by\n",
            "            the Free Software Foundation, either version 3 of the License, or\n",
            "            (at your option) any later version.\n",
            "        \n",
            "            This program is distributed in the hope that it will be useful,\n",
            "            but WITHOUT ANY WARRANTY; without even the implied warranty of\n",
            "            MERCHANTABILITY or FITNESS FOR A PARTICULAR PURPOSE.  See the\n",
            "            GNU General Public License for more details.\n",
            "        \n",
            "            You should have received a copy of the GNU General Public License\n",
            "            along with this program.  If not, see <http://www.gnu.org/licenses/>.\n",
            "        \n",
            "        Also add information on how to contact you by electronic and paper mail.\n",
            "        \n",
            "          If the program does terminal interaction, make it output a short\n",
            "        notice like this when it starts in an interactive mode:\n",
            "        \n",
            "            <program>  Copyright (C) <year>  <name of author>\n",
            "            This program comes with ABSOLUTELY NO WARRANTY; for details type `show w'.\n",
            "            This is free software, and you are welcome to redistribute it\n",
            "            under certain conditions; type `show c' for details.\n",
            "        \n",
            "        The hypothetical commands `show w' and `show c' should show the appropriate\n",
            "        parts of the General Public License.  Of course, your program's commands\n",
            "        might be different; for a GUI interface, you would use an \"about box\".\n",
            "        \n",
            "          You should also get your employer (if you work as a programmer) or school,\n",
            "        if any, to sign a \"copyright disclaimer\" for the program, if necessary.\n",
            "        For more information on this, and how to apply and follow the GNU GPL, see\n",
            "        <http://www.gnu.org/licenses/>.\n",
            "        \n",
            "          The GNU General Public License does not permit incorporating your program\n",
            "        into proprietary programs.  If your program is a subroutine library, you\n",
            "        may consider it more useful to permit linking proprietary applications with\n",
            "        the library.  If this is what you want to do, use the GNU Lesser General\n",
            "        Public License instead of this License.  But first, please read\n",
            "        <http://www.gnu.org/philosophy/why-not-lgpl.html>.\n",
            "        \n",
            "        Name: libquadmath\n",
            "        Files: numpy.libs/libquadmath*.so\n",
            "        Description: dynamically linked to files compiled with gcc\n",
            "        Availability: https://gcc.gnu.org/git/?p=gcc.git;a=tree;f=libquadmath\n",
            "        License: LGPL-2.1-or-later\n",
            "        \n",
            "            GCC Quad-Precision Math Library\n",
            "            Copyright (C) 2010-2019 Free Software Foundation, Inc.\n",
            "            Written by Francois-Xavier Coudert  <fxcoudert@gcc.gnu.org>\n",
            "        \n",
            "            This file is part of the libquadmath library.\n",
            "            Libquadmath is free software; you can redistribute it and/or\n",
            "            modify it under the terms of the GNU Library General Public\n",
            "            License as published by the Free Software Foundation; either\n",
            "            version 2.1 of the License, or (at your option) any later version.\n",
            "        \n",
            "            Libquadmath is distributed in the hope that it will be useful,\n",
            "            but WITHOUT ANY WARRANTY; without even the implied warranty of\n",
            "            MERCHANTABILITY or FITNESS FOR A PARTICULAR PURPOSE.  See the GNU\n",
            "            Lesser General Public License for more details.\n",
            "            https://www.gnu.org/licenses/old-licenses/lgpl-2.1.html\n",
            "Location: /usr/local/lib/python3.10/dist-packages\n",
            "Requires: \n",
            "Required-by: accelerate, albucore, albumentations, arviz, astropy, autograd, bigframes, blis, blosc2, bokeh, Bottleneck, bqplot, chex, clarabel, cmdstanpy, contourpy, cudf-cu12, cufflinks, cupy-cuda12x, cvxpy, datascience, db-dtypes, diffusers, dopamine_rl, flax, folium, geemap, gensim, geopandas, gym, h5py, holoviews, hyperopt, ibis-framework, imageio, imbalanced-learn, imgaug, jax, jaxlib, keras, langchain, librosa, lightgbm, matplotlib, matplotlib-venn, mizani, ml-dtypes, mlxtend, moviepy, music21, nibabel, numba, numexpr, nx-cugraph-cu12, opencv-contrib-python, opencv-python, opencv-python-headless, optax, orbax-checkpoint, osqp, pandas, pandas-gbq, pandas-stubs, patsy, peft, plotnine, prophet, pyarrow, pycocotools, pyerfa, pylibraft-cu12, pymc, pyogrio, pytensor, python-louvain, qdldl, rmm-cu12, scikit-image, scikit-learn, scipy, scs, seaborn, shap, shapely, sklearn-pandas, soxr, spacy, stanio, statsmodels, tables, tensorboard, tensorflow, tensorflow-datasets, tensorflow-hub, tensorflow-probability, tensorstore, thinc, tifffile, torchvision, transformers, wordcloud, xarray, xarray-einstats, xgboost, yellowbrick, yfinance\n"
          ]
        }
      ],
      "source": [
        "pip show numpy"
      ]
    },
    {
      "cell_type": "markdown",
      "metadata": {
        "id": "KSNOrnoMHEjD"
      },
      "source": [
        "### 파이썬 오류 확인"
      ]
    },
    {
      "cell_type": "code",
      "execution_count": null,
      "metadata": {
        "id": "B8pmiTi5G8JX",
        "colab": {
          "base_uri": "https://localhost:8080/",
          "height": 110
        },
        "outputId": "93b3a5ba-4a13-454f-8202-ea7ca113b603"
      },
      "outputs": [
        {
          "output_type": "error",
          "ename": "SyntaxError",
          "evalue": "expected ':' (<ipython-input-13-9f6aef7645e2>, line 3)",
          "traceback": [
            "\u001b[0;36m  File \u001b[0;32m\"<ipython-input-13-9f6aef7645e2>\"\u001b[0;36m, line \u001b[0;32m3\u001b[0m\n\u001b[0;31m    if a < 9\u001b[0m\n\u001b[0m            ^\u001b[0m\n\u001b[0;31mSyntaxError\u001b[0m\u001b[0;31m:\u001b[0m expected ':'\n"
          ]
        }
      ],
      "source": [
        "# Syntax 오류 발생 예\n",
        "a = 1\n",
        "if a < 9\n",
        "    print('a < 9')"
      ]
    },
    {
      "cell_type": "markdown",
      "source": [
        "### 파이썬 예외처리 방법"
      ],
      "metadata": {
        "id": "DJQhC7btE_L5"
      }
    },
    {
      "cell_type": "code",
      "execution_count": null,
      "metadata": {
        "id": "GJ1Y-0wMHXJd",
        "colab": {
          "base_uri": "https://localhost:8080/"
        },
        "outputId": "78865ff5-c6fe-4439-bd59-fee20fd59337"
      },
      "outputs": [
        {
          "output_type": "stream",
          "name": "stdout",
          "text": [
            "Please enter a number: 1\n",
            "-----\n"
          ]
        }
      ],
      "source": [
        "# 오류 예외처리\n",
        "while True:\n",
        "    try:\n",
        "        x = int(input('Please enter a number: '))\n",
        "        break\n",
        "\n",
        "    except ValueError:\n",
        "        print('Oops! That was no valid number. Try again...')\n",
        "\n",
        "print('-----')"
      ]
    },
    {
      "cell_type": "markdown",
      "metadata": {
        "id": "6Ef7gKpD8GGP"
      },
      "source": [
        "### [PC에서만 실행] 수업에 사용할 라이브러리 설치하기\n",
        "- PC 윈도우 명령프롬프트에서 실행한다. 코랩에서는 실행 안함\n",
        "- PC에서는 명령어 맨 앞 '!'를 제거하고 실행한다."
      ]
    },
    {
      "cell_type": "code",
      "source": [
        "!python -m pip install --upgrade pip"
      ],
      "metadata": {
        "id": "ViukrDAGDuPc",
        "colab": {
          "base_uri": "https://localhost:8080/"
        },
        "outputId": "1d0ebda3-8f4d-4032-9b79-ea89c6b81c01",
        "collapsed": true
      },
      "execution_count": null,
      "outputs": [
        {
          "output_type": "stream",
          "name": "stdout",
          "text": [
            "Requirement already satisfied: pip in /usr/local/lib/python3.10/dist-packages (24.1.2)\n",
            "Collecting pip\n",
            "  Downloading pip-24.3.1-py3-none-any.whl.metadata (3.7 kB)\n",
            "Downloading pip-24.3.1-py3-none-any.whl (1.8 MB)\n",
            "\u001b[2K   \u001b[90m━━━━━━━━━━━━━━━━━━━━━━━━━━━━━━━━━━━━━━━━\u001b[0m \u001b[32m1.8/1.8 MB\u001b[0m \u001b[31m18.0 MB/s\u001b[0m eta \u001b[36m0:00:00\u001b[0m\n",
            "\u001b[?25hInstalling collected packages: pip\n",
            "  Attempting uninstall: pip\n",
            "    Found existing installation: pip 24.1.2\n",
            "    Uninstalling pip-24.1.2:\n",
            "      Successfully uninstalled pip-24.1.2\n",
            "Successfully installed pip-24.3.1\n"
          ]
        }
      ]
    },
    {
      "cell_type": "code",
      "execution_count": null,
      "metadata": {
        "id": "WnEwfA_x8GGQ",
        "colab": {
          "base_uri": "https://localhost:8080/"
        },
        "outputId": "dd92ac86-f476-478b-cf53-7a7e860fcb10"
      },
      "outputs": [
        {
          "output_type": "stream",
          "name": "stdout",
          "text": [
            "Requirement already satisfied: numpy in /usr/local/lib/python3.10/dist-packages (1.26.4)\n"
          ]
        }
      ],
      "source": [
        "!pip install numpy"
      ]
    },
    {
      "cell_type": "code",
      "execution_count": null,
      "metadata": {
        "id": "ZqJSQDet8GGQ",
        "colab": {
          "base_uri": "https://localhost:8080/"
        },
        "outputId": "19a7c067-2188-4483-d00f-2992490cd80c",
        "collapsed": true
      },
      "outputs": [
        {
          "output_type": "stream",
          "name": "stdout",
          "text": [
            "Requirement already satisfied: pandas in /usr/local/lib/python3.10/dist-packages (2.2.2)\n",
            "Requirement already satisfied: numpy>=1.22.4 in /usr/local/lib/python3.10/dist-packages (from pandas) (1.26.4)\n",
            "Requirement already satisfied: python-dateutil>=2.8.2 in /usr/local/lib/python3.10/dist-packages (from pandas) (2.8.2)\n",
            "Requirement already satisfied: pytz>=2020.1 in /usr/local/lib/python3.10/dist-packages (from pandas) (2024.2)\n",
            "Requirement already satisfied: tzdata>=2022.7 in /usr/local/lib/python3.10/dist-packages (from pandas) (2024.2)\n",
            "Requirement already satisfied: six>=1.5 in /usr/local/lib/python3.10/dist-packages (from python-dateutil>=2.8.2->pandas) (1.17.0)\n"
          ]
        }
      ],
      "source": [
        "!pip install pandas"
      ]
    },
    {
      "cell_type": "code",
      "execution_count": null,
      "metadata": {
        "id": "JtYjHD2D8GGQ",
        "colab": {
          "base_uri": "https://localhost:8080/"
        },
        "outputId": "b6285379-99b7-4029-d9e2-856162d636e5",
        "collapsed": true
      },
      "outputs": [
        {
          "output_type": "stream",
          "name": "stdout",
          "text": [
            "Requirement already satisfied: matplotlib in /usr/local/lib/python3.10/dist-packages (3.8.0)\n",
            "Requirement already satisfied: contourpy>=1.0.1 in /usr/local/lib/python3.10/dist-packages (from matplotlib) (1.3.1)\n",
            "Requirement already satisfied: cycler>=0.10 in /usr/local/lib/python3.10/dist-packages (from matplotlib) (0.12.1)\n",
            "Requirement already satisfied: fonttools>=4.22.0 in /usr/local/lib/python3.10/dist-packages (from matplotlib) (4.55.3)\n",
            "Requirement already satisfied: kiwisolver>=1.0.1 in /usr/local/lib/python3.10/dist-packages (from matplotlib) (1.4.7)\n",
            "Requirement already satisfied: numpy<2,>=1.21 in /usr/local/lib/python3.10/dist-packages (from matplotlib) (1.26.4)\n",
            "Requirement already satisfied: packaging>=20.0 in /usr/local/lib/python3.10/dist-packages (from matplotlib) (24.2)\n",
            "Requirement already satisfied: pillow>=6.2.0 in /usr/local/lib/python3.10/dist-packages (from matplotlib) (11.0.0)\n",
            "Requirement already satisfied: pyparsing>=2.3.1 in /usr/local/lib/python3.10/dist-packages (from matplotlib) (3.2.0)\n",
            "Requirement already satisfied: python-dateutil>=2.7 in /usr/local/lib/python3.10/dist-packages (from matplotlib) (2.8.2)\n",
            "Requirement already satisfied: six>=1.5 in /usr/local/lib/python3.10/dist-packages (from python-dateutil>=2.7->matplotlib) (1.17.0)\n"
          ]
        }
      ],
      "source": [
        "!pip install matplotlib"
      ]
    },
    {
      "cell_type": "code",
      "execution_count": null,
      "metadata": {
        "id": "BRSzhspAC6J8",
        "colab": {
          "base_uri": "https://localhost:8080/"
        },
        "outputId": "35a0803e-d7d2-4ab8-8636-c719587e25cc",
        "collapsed": true
      },
      "outputs": [
        {
          "output_type": "stream",
          "name": "stdout",
          "text": [
            "Requirement already satisfied: seaborn in /usr/local/lib/python3.10/dist-packages (0.13.2)\n",
            "Requirement already satisfied: numpy!=1.24.0,>=1.20 in /usr/local/lib/python3.10/dist-packages (from seaborn) (1.26.4)\n",
            "Requirement already satisfied: pandas>=1.2 in /usr/local/lib/python3.10/dist-packages (from seaborn) (2.2.2)\n",
            "Requirement already satisfied: matplotlib!=3.6.1,>=3.4 in /usr/local/lib/python3.10/dist-packages (from seaborn) (3.8.0)\n",
            "Requirement already satisfied: contourpy>=1.0.1 in /usr/local/lib/python3.10/dist-packages (from matplotlib!=3.6.1,>=3.4->seaborn) (1.3.1)\n",
            "Requirement already satisfied: cycler>=0.10 in /usr/local/lib/python3.10/dist-packages (from matplotlib!=3.6.1,>=3.4->seaborn) (0.12.1)\n",
            "Requirement already satisfied: fonttools>=4.22.0 in /usr/local/lib/python3.10/dist-packages (from matplotlib!=3.6.1,>=3.4->seaborn) (4.55.3)\n",
            "Requirement already satisfied: kiwisolver>=1.0.1 in /usr/local/lib/python3.10/dist-packages (from matplotlib!=3.6.1,>=3.4->seaborn) (1.4.7)\n",
            "Requirement already satisfied: packaging>=20.0 in /usr/local/lib/python3.10/dist-packages (from matplotlib!=3.6.1,>=3.4->seaborn) (24.2)\n",
            "Requirement already satisfied: pillow>=6.2.0 in /usr/local/lib/python3.10/dist-packages (from matplotlib!=3.6.1,>=3.4->seaborn) (11.0.0)\n",
            "Requirement already satisfied: pyparsing>=2.3.1 in /usr/local/lib/python3.10/dist-packages (from matplotlib!=3.6.1,>=3.4->seaborn) (3.2.0)\n",
            "Requirement already satisfied: python-dateutil>=2.7 in /usr/local/lib/python3.10/dist-packages (from matplotlib!=3.6.1,>=3.4->seaborn) (2.8.2)\n",
            "Requirement already satisfied: pytz>=2020.1 in /usr/local/lib/python3.10/dist-packages (from pandas>=1.2->seaborn) (2024.2)\n",
            "Requirement already satisfied: tzdata>=2022.7 in /usr/local/lib/python3.10/dist-packages (from pandas>=1.2->seaborn) (2024.2)\n",
            "Requirement already satisfied: six>=1.5 in /usr/local/lib/python3.10/dist-packages (from python-dateutil>=2.7->matplotlib!=3.6.1,>=3.4->seaborn) (1.17.0)\n"
          ]
        }
      ],
      "source": [
        "!pip install seaborn"
      ]
    },
    {
      "cell_type": "code",
      "execution_count": null,
      "metadata": {
        "id": "8spH-HIwC6Sz",
        "colab": {
          "base_uri": "https://localhost:8080/"
        },
        "outputId": "f4fa9004-e21b-4ce6-8701-7bfc922a313b",
        "collapsed": true
      },
      "outputs": [
        {
          "output_type": "stream",
          "name": "stdout",
          "text": [
            "\u001b[31mERROR: Could not find a version that satisfies the requirement ploty (from versions: none)\u001b[0m\u001b[31m\n",
            "\u001b[0m\u001b[31mERROR: No matching distribution found for ploty\u001b[0m\u001b[31m\n",
            "\u001b[0m"
          ]
        }
      ],
      "source": [
        "!pip install ploty"
      ]
    },
    {
      "cell_type": "markdown",
      "metadata": {
        "id": "wl2PYxtB8GGR"
      },
      "source": [
        "----------"
      ]
    },
    {
      "cell_type": "markdown",
      "metadata": {
        "id": "T20_kqnwDKe2"
      },
      "source": [
        "## 2.파이썬 자료형과 연산자"
      ]
    },
    {
      "cell_type": "markdown",
      "source": [
        "### **[자료형]**"
      ],
      "metadata": {
        "id": "rxo68HToTgT0"
      }
    },
    {
      "cell_type": "markdown",
      "metadata": {
        "id": "GPQdotYg8GGR"
      },
      "source": [
        "### 파이썬 자료형 확인"
      ]
    },
    {
      "cell_type": "code",
      "execution_count": null,
      "metadata": {
        "id": "re9ioSIM8GGR",
        "colab": {
          "base_uri": "https://localhost:8080/"
        },
        "outputId": "b4175e61-a46e-4d17-d7bc-42e0d9c0efde"
      },
      "outputs": [
        {
          "output_type": "stream",
          "name": "stdout",
          "text": [
            "123의 자료형: <class 'int'>\n",
            "123의 자료형: <class 'str'>\n",
            "[123]의 자료형: <class 'list'>\n",
            "(123,)의 자료형: <class 'tuple'>\n",
            "{'key': 123}의 자료형: <class 'dict'>\n",
            "{123}의 자료형: <class 'set'>\n",
            "True의 자료형: <class 'bool'>\n"
          ]
        }
      ],
      "source": [
        "d1 = 123\n",
        "d2 = '123'\n",
        "d3 = [123]\n",
        "d4 = (123,)\n",
        "d5 = {'key':123}\n",
        "d6 = {123}\n",
        "d7 = True\n",
        "\n",
        "print(f'{d1}의 자료형: {type(d1)}')\n",
        "print(f'{d2}의 자료형: {type(d2)}')\n",
        "print(f'{d3}의 자료형: {type(d3)}')\n",
        "print(f'{d4}의 자료형: {type(d4)}')\n",
        "print(f'{d5}의 자료형: {type(d5)}')\n",
        "print(f'{d6}의 자료형: {type(d6)}')\n",
        "print(f'{d7}의 자료형: {type(d7)}')"
      ]
    },
    {
      "cell_type": "markdown",
      "source": [
        "### [실습문제] 반복문을 이용하여 자료형 출력하기\n",
        "위 자료형을 아래 미션에 맞게 출력해 보세요."
      ],
      "metadata": {
        "id": "H7bSljnRIERc"
      }
    },
    {
      "cell_type": "code",
      "execution_count": null,
      "metadata": {
        "id": "gbzIvlUi8GGR",
        "scrolled": true,
        "colab": {
          "base_uri": "https://localhost:8080/"
        },
        "outputId": "304194e9-03f8-4059-8011-ec86ecc44efa"
      },
      "outputs": [
        {
          "output_type": "stream",
          "name": "stdout",
          "text": [
            "123의 자료형: <class 'int'>\n",
            "123의 자료형: <class 'str'>\n",
            "[123]의 자료형: <class 'list'>\n",
            "(123,)의 자료형: <class 'tuple'>\n",
            "{'key': 123}의 자료형: <class 'dict'>\n",
            "{123}의 자료형: <class 'set'>\n",
            "True의 자료형: <class 'bool'>\n"
          ]
        }
      ],
      "source": [
        "# [미션] 리스트와 반복문을 이용하여 간단하게 나타내기\n",
        "datas = [123,'123',[123],(123,),{'key':123},{123},True]\n",
        "\n",
        "for i in datas:\n",
        "    print(f'{i}의 자료형: {type(i)}')"
      ]
    },
    {
      "cell_type": "code",
      "source": [
        "# [미션] isinstance()함수를 이용하여 데이터 타입 확인\n",
        "def get_datatype(data):\n",
        "    instance= {int:'정수', float:'실수', str:'문자열', bool:'불린',\n",
        "           list:'리스트', tuple:'튜플', dict:'딕셔너리', set:'집합' }\n",
        "    for key, value in instance.items():\n",
        "        if isinstance(data, key):\n",
        "            print(f'{data}는 {value} 형입니다.')\n",
        "\n",
        "for data in datas:\n",
        "    get_datatype(data)"
      ],
      "metadata": {
        "id": "PMDfoepfF7K4",
        "colab": {
          "base_uri": "https://localhost:8080/"
        },
        "outputId": "230519f6-fc2a-4261-8c5d-915401ca5e6a"
      },
      "execution_count": null,
      "outputs": [
        {
          "output_type": "stream",
          "name": "stdout",
          "text": [
            "123는 정수 형입니다.\n",
            "123는 문자열 형입니다.\n",
            "[123]는 리스트 형입니다.\n",
            "(123,)는 튜플 형입니다.\n",
            "{'key': 123}는 딕셔너리 형입니다.\n",
            "{123}는 집합 형입니다.\n",
            "True는 정수 형입니다.\n",
            "True는 불린 형입니다.\n"
          ]
        }
      ]
    },
    {
      "cell_type": "markdown",
      "source": [
        "### [표준입출력]"
      ],
      "metadata": {
        "id": "Qv7p8JOYJdMf"
      }
    },
    {
      "cell_type": "markdown",
      "metadata": {
        "id": "EDFiaZyv8GGR"
      },
      "source": [
        "### 실습문제\n",
        "두 수를 입력 받아 덧셈, 뺄셈, 곱셈, 몫, 나머지를 출력하는 프로그램을 작성하세요\n"
      ]
    },
    {
      "cell_type": "code",
      "execution_count": null,
      "metadata": {
        "id": "a9sG7Q738GGS",
        "scrolled": true,
        "colab": {
          "base_uri": "https://localhost:8080/"
        },
        "outputId": "45ff9e49-dc34-4b99-82f1-f809a2f442c6"
      },
      "outputs": [
        {
          "output_type": "stream",
          "name": "stdout",
          "text": [
            "첫번째 숫자: 10\n",
            "두번째 숫자: 2\n",
            "10 + 2 = 12\n",
            "10 - 2 = 8\n",
            "10 * 2 = 20\n",
            "10 % 2 = 0\n",
            "10 // 2 = 5\n"
          ]
        }
      ],
      "source": [
        "num1 = int(input('첫번째 숫자: '))\n",
        "num2 = int(input('두번째 숫자: '))\n",
        "\n",
        "print(f'{num1} + {num2} = {num1+num2}')\n",
        "print(f'{num1} - {num2} = {num1-num2}')\n",
        "print(f'{num1} * {num2} = {num1*num2}')\n",
        "print(f'{num1} % {num2} = {num1%num2}')\n",
        "print(f'{num1} // {num2} = {num1//num2}')\n"
      ]
    },
    {
      "cell_type": "markdown",
      "metadata": {
        "id": "LqAbyRHs8GGS"
      },
      "source": [
        "### 실습문제: 시간 계산 프로그램\n",
        "속력과 거리를 입력 받아 시간을 계산하여 출력하는 프로그램을 만드세요!\n",
        "- 시간 = 거리 / 속력\n",
        "\n"
      ]
    },
    {
      "cell_type": "code",
      "execution_count": null,
      "metadata": {
        "id": "YwepfYt98GGS",
        "colab": {
          "base_uri": "https://localhost:8080/"
        },
        "outputId": "7d0766c0-aadb-4ddc-da08-96476a87ab84"
      },
      "outputs": [
        {
          "output_type": "stream",
          "name": "stdout",
          "text": [
            "속력를 입력해 주세요(km/h) : 60\n",
            "거리를 입력해 주세요(km) : 60\n",
            "속력: 60km/h, 거리: 60km, 시간: 1.0h\n"
          ]
        }
      ],
      "source": [
        "velocity = int(input('속력를 입력해 주세요(km/h) : '))\n",
        "distance = int(input('거리를 입력해 주세요(km) : '))\n",
        "\n",
        "hour = distance / velocity\n",
        "\n",
        "print(f'속력: {velocity}km/h, 거리: {distance}km, 시간: {hour}h')"
      ]
    },
    {
      "cell_type": "markdown",
      "metadata": {
        "id": "sHIxGA0xLj0C"
      },
      "source": [
        "- eval()함수 사용하여 문자열을 계산할 수 있다"
      ]
    },
    {
      "cell_type": "code",
      "execution_count": null,
      "metadata": {
        "id": "gvVxuLjX8GGS",
        "colab": {
          "base_uri": "https://localhost:8080/"
        },
        "outputId": "24059fbd-849f-4888-b18c-e990a7dc55ec"
      },
      "outputs": [
        {
          "output_type": "stream",
          "name": "stdout",
          "text": [
            "1.0\n"
          ]
        }
      ],
      "source": [
        "# eval()함수 사용: 문자열 안의 숫자를 계산할 수 있게 함(int()변환 안해도 됨)\n",
        "time = eval(f'{distance} / {velocity}')\n",
        "print(time)"
      ]
    },
    {
      "cell_type": "markdown",
      "source": [],
      "metadata": {
        "id": "ggIdHuiPtUzr"
      }
    },
    {
      "cell_type": "markdown",
      "metadata": {
        "id": "tECEWKan8GGS"
      },
      "source": [
        "### 실습문제 : 정수 합 구하기\n",
        "아래와 같이 정수 n을 입력 받아, a + aa + aaa의 결과 값을 구하는 프로그램을 작성하세요"
      ]
    },
    {
      "cell_type": "code",
      "execution_count": null,
      "metadata": {
        "id": "a04GPnn98GGS",
        "scrolled": true,
        "colab": {
          "base_uri": "https://localhost:8080/"
        },
        "outputId": "6a50023b-c3d7-4c5a-cda7-2bf5d3f075d4"
      },
      "outputs": [
        {
          "output_type": "stream",
          "name": "stdout",
          "text": [
            "한자리 정수를 입력해주세요: 7\n",
            "7 + 77 + 777 = 861\n",
            "7 + 77 + 777 = 861\n"
          ]
        }
      ],
      "source": [
        "a = input(\"한자리 정수를 입력해주세요: \")\n",
        "aa = a + a\n",
        "aaa = a + a + a\n",
        "result = eval(a) + eval(aa) + eval(aaa)\n",
        "\n",
        "print(f'{a} + {aa} + {aaa} = {result}')\n",
        "\n",
        "k = f'{a} + {a + a} + {a + a + a}'\n",
        "print(f'{k} = {eval(k)}')"
      ]
    },
    {
      "cell_type": "markdown",
      "source": [
        "### [문자와 문자열]"
      ],
      "metadata": {
        "id": "SHkqIiXbJXrR"
      }
    },
    {
      "cell_type": "markdown",
      "source": [
        "### 실습문제 : 문자열 거꾸로 출력하기"
      ],
      "metadata": {
        "id": "kc4LrgAHJw4f"
      }
    },
    {
      "cell_type": "code",
      "source": [
        "s = '안녕하세요?'\n",
        "s[::-1]\n",
        "print(s[::-1])"
      ],
      "metadata": {
        "id": "_QpSs-GCJvyH",
        "colab": {
          "base_uri": "https://localhost:8080/"
        },
        "outputId": "d62d0eb9-c6ba-43aa-8638-c1ac3ccc2159"
      },
      "execution_count": null,
      "outputs": [
        {
          "output_type": "stream",
          "name": "stdout",
          "text": [
            "?요세하녕안\n"
          ]
        }
      ]
    },
    {
      "cell_type": "markdown",
      "source": [
        "### 실습문제: 간단 챗봇 만들기\n"
      ],
      "metadata": {
        "id": "t1KHQyvnJrj3"
      }
    },
    {
      "cell_type": "code",
      "source": [
        "# 간단한 챗봇 만들기\n",
        "print('안녕하세요~')\n",
        "name = input('당신의 이름은 뭐예요?: ')\n",
        "print(f'만나서 반갑습니다. {name}님')\n",
        "print(f'{name}님의 이름 길이는 다음과 같습니다.: {len(name)}')\n",
        "age = input(f'{name}님 나이는 어떻게 되나요? ')\n",
        "print(f'내년에는 {int(age)+1}세가 되시는군요...')"
      ],
      "metadata": {
        "id": "Fg-QYkDPJr14",
        "colab": {
          "base_uri": "https://localhost:8080/"
        },
        "outputId": "cbac0428-a82b-4448-85bb-bf463b61f663"
      },
      "execution_count": null,
      "outputs": [
        {
          "output_type": "stream",
          "name": "stdout",
          "text": [
            "안녕하세요~\n",
            "당신의 이름은 뭐예요?: 김광수\n",
            "만나서 반갑습니다. 김광수님\n",
            "김광수님의 이름 길이는 다음과 같습니다.: 3\n",
            "김광수님 나이는 어떻게 되나요? 65\n",
            "내년에는 66세가 되시는군요...\n"
          ]
        }
      ]
    },
    {
      "cell_type": "markdown",
      "metadata": {
        "id": "Hb6l5EjLQB2m"
      },
      "source": [
        "### 실습문제 :  구글TTS(gTTS) 사용하여 음성 출력하기\n",
        "TTS : Text to Speech"
      ]
    },
    {
      "cell_type": "markdown",
      "source": [],
      "metadata": {
        "id": "MKZzJ2iCMu9b"
      }
    },
    {
      "cell_type": "code",
      "execution_count": 2,
      "metadata": {
        "id": "-eY--f6MPwTf",
        "colab": {
          "base_uri": "https://localhost:8080/"
        },
        "outputId": "9cf12a06-0a53-41fe-c13b-3f422bb072c2"
      },
      "outputs": [
        {
          "output_type": "stream",
          "name": "stdout",
          "text": [
            "Collecting gTTS\n",
            "  Downloading gTTS-2.5.4-py3-none-any.whl.metadata (4.1 kB)\n",
            "Requirement already satisfied: requests<3,>=2.27 in /usr/local/lib/python3.10/dist-packages (from gTTS) (2.32.3)\n",
            "Requirement already satisfied: click<8.2,>=7.1 in /usr/local/lib/python3.10/dist-packages (from gTTS) (8.1.7)\n",
            "Requirement already satisfied: charset-normalizer<4,>=2 in /usr/local/lib/python3.10/dist-packages (from requests<3,>=2.27->gTTS) (3.4.0)\n",
            "Requirement already satisfied: idna<4,>=2.5 in /usr/local/lib/python3.10/dist-packages (from requests<3,>=2.27->gTTS) (3.10)\n",
            "Requirement already satisfied: urllib3<3,>=1.21.1 in /usr/local/lib/python3.10/dist-packages (from requests<3,>=2.27->gTTS) (2.2.3)\n",
            "Requirement already satisfied: certifi>=2017.4.17 in /usr/local/lib/python3.10/dist-packages (from requests<3,>=2.27->gTTS) (2024.12.14)\n",
            "Downloading gTTS-2.5.4-py3-none-any.whl (29 kB)\n",
            "Installing collected packages: gTTS\n",
            "Successfully installed gTTS-2.5.4\n"
          ]
        }
      ],
      "source": [
        "# 구글 tts 프로그램\n",
        "!pip install gTTS"
      ]
    },
    {
      "cell_type": "code",
      "execution_count": null,
      "metadata": {
        "id": "O_xqpl0pPx6k",
        "colab": {
          "base_uri": "https://localhost:8080/",
          "height": 74
        },
        "outputId": "d2fb4ec2-3553-4fd6-f8cc-08585ec319ac"
      },
      "outputs": [
        {
          "output_type": "display_data",
          "data": {
            "text/plain": [
              "<IPython.lib.display.Audio object>"
            ],
            "text/html": [
              "\n",
              "                <audio  controls=\"controls\" autoplay=\"autoplay\">\n",
              "                    <source src=\"data:audio/x-wav;base64,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\" type=\"audio/x-wav\" />\n",
              "                    Your browser does not support the audio element.\n",
              "                </audio>\n",
              "              "
            ]
          },
          "metadata": {}
        }
      ],
      "source": [
        "# 영어 출력\n",
        "from gtts import gTTS\n",
        "from IPython.display import Audio\n",
        "\n",
        "eng_wav = gTTS('Hello World!')\n",
        "eng_wav.save('eng.wav')\n",
        "\n",
        "display(Audio('eng.wav', autoplay=True))"
      ]
    },
    {
      "cell_type": "code",
      "source": [
        "eng_wav = gTTS('Happiness comes from the intersection of what you love, what you are good at, and what the world needs')\n",
        "eng_wav.save('eng.mp3')\n",
        "\n",
        "display(Audio('eng.mp3', autoplay=True))"
      ],
      "metadata": {
        "colab": {
          "base_uri": "https://localhost:8080/",
          "height": 74
        },
        "id": "PyZhAtux0OAF",
        "outputId": "1b2532d3-b0e7-4d86-9a8a-a5b3b1cd9fa4"
      },
      "execution_count": null,
      "outputs": [
        {
          "output_type": "display_data",
          "data": {
            "text/plain": [
              "<IPython.lib.display.Audio object>"
            ],
            "text/html": [
              "\n",
              "                <audio  controls=\"controls\" autoplay=\"autoplay\">\n",
              "                    <source src=\"data:audio/mpeg;base64,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\" type=\"audio/mpeg\" />\n",
              "                    Your browser does not support the audio element.\n",
              "                </audio>\n",
              "              "
            ]
          },
          "metadata": {}
        }
      ]
    },
    {
      "cell_type": "code",
      "execution_count": null,
      "metadata": {
        "id": "inyZATWlP3Cp",
        "colab": {
          "base_uri": "https://localhost:8080/",
          "height": 74
        },
        "outputId": "78e237b7-5140-4062-d53b-859a546c093d"
      },
      "outputs": [
        {
          "output_type": "display_data",
          "data": {
            "text/plain": [
              "<IPython.lib.display.Audio object>"
            ],
            "text/html": [
              "\n",
              "                <audio  controls=\"controls\" autoplay=\"autoplay\">\n",
              "                    <source src=\"data:audio/x-wav;base64,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\" type=\"audio/x-wav\" />\n",
              "                    Your browser does not support the audio element.\n",
              "                </audio>\n",
              "              "
            ]
          },
          "metadata": {}
        }
      ],
      "source": [
        "# 한글 출력\n",
        "from gtts import gTTS\n",
        "from IPython.display import Audio\n",
        "\n",
        "kor_wav = gTTS('안녕하세요! ', lang = 'ko')\n",
        "kor_wav.save('kor.wav')\n",
        "\n",
        "display(Audio('kor.wav', autoplay=True))"
      ]
    },
    {
      "cell_type": "code",
      "source": [
        "from gtts import gTTS\n",
        "from IPython.display import Audio, display\n",
        "import os\n",
        "import time\n",
        "\n",
        "def text_to_speech_from_file(filename):\n",
        "    with open(filename, 'r', encoding='utf-8') as file:\n",
        "        for index, line in enumerate(file):\n",
        "            line = line.strip()\n",
        "            if line:  # 빈 줄은 건너뜀\n",
        "                # 텍스트를 음성으로 변환\n",
        "                tts = gTTS(text=line, lang='ko')\n",
        "                audio_file = f\"temp_audio_{index}.mp3\"\n",
        "\n",
        "                # 음성 파일 저장\n",
        "                tts.save(audio_file)\n",
        "\n",
        "                # 음성 파일을 재생 (IPython.display.Audio 사용)\n",
        "                display(Audio(audio_file, autoplay=True))\n",
        "\n",
        "                # 음성이 끝날 때까지 잠시 대기\n",
        "                if len(line) > 12: # 12글자 이상이면 3초 대기하기 위한 문장\n",
        "                    time_sleep = 3\n",
        "                else:\n",
        "                    time_sleep = 2\n",
        "\n",
        "                time.sleep(time_sleep)  # 음성 길이에 따라 조절 가능\n",
        "\n",
        "                # 파일 삭제\n",
        "                os.remove(audio_file)\n",
        "\n",
        "                if index > 9 : # 라인이 너무 많아 0~9라인 까지만 읽고 탈출함.\n",
        "                    break\n",
        "\n",
        "# 텍스트 파일 경로를 지정하세요.\n",
        "text_to_speech_from_file('사건의지평선.txt')\n"
      ],
      "metadata": {
        "id": "VdNYWRldOWow",
        "colab": {
          "base_uri": "https://localhost:8080/",
          "height": 643
        },
        "outputId": "1d78d44c-00e6-4161-cd1a-f8c86bf2aad3"
      },
      "execution_count": 13,
      "outputs": [
        {
          "output_type": "display_data",
          "data": {
            "text/plain": [
              "<IPython.lib.display.Audio object>"
            ],
            "text/html": [
              "\n",
              "                <audio  controls=\"controls\" autoplay=\"autoplay\">\n",
              "                    <source src=\"data:audio/mpeg;base64,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\" type=\"audio/mpeg\" />\n",
              "                    Your browser does not support the audio element.\n",
              "                </audio>\n",
              "              "
            ]
          },
          "metadata": {}
        },
        {
          "output_type": "display_data",
          "data": {
            "text/plain": [
              "<IPython.lib.display.Audio object>"
            ],
            "text/html": [
              "\n",
              "                <audio  controls=\"controls\" autoplay=\"autoplay\">\n",
              "                    <source src=\"data:audio/mpeg;base64,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\" type=\"audio/mpeg\" />\n",
              "                    Your browser does not support the audio element.\n",
              "                </audio>\n",
              "              "
            ]
          },
          "metadata": {}
        },
        {
          "output_type": "display_data",
          "data": {
            "text/plain": [
              "<IPython.lib.display.Audio object>"
            ],
            "text/html": [
              "\n",
              "                <audio  controls=\"controls\" autoplay=\"autoplay\">\n",
              "                    <source src=\"data:audio/mpeg;base64,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\" type=\"audio/mpeg\" />\n",
              "                    Your browser does not support the audio element.\n",
              "                </audio>\n",
              "              "
            ]
          },
          "metadata": {}
        },
        {
          "output_type": "display_data",
          "data": {
            "text/plain": [
              "<IPython.lib.display.Audio object>"
            ],
            "text/html": [
              "\n",
              "                <audio  controls=\"controls\" autoplay=\"autoplay\">\n",
              "                    <source src=\"data:audio/mpeg;base64,//OExAAAAAAAAAAAAAAAAAAAAAAAAAAAAAAAAAAAAAAAAAAAAAAAAAAAAAAAAAAAAAAAAAAAAAAAAAAAAAAAAAAAAAAAAAAAAAAAAAAAAAAAAAAAAAAAAAAAAAAAAAAAAAAAAAAAAAAAAAAAAAAAAAAAAAAAAAAAAAAAAAAAAAAAAAAAAAAAAAAAAAAAAAAAAAAAAAAAAAAAAAAAAAAAAAAAAAAAAAAAAAAAAAAAAAAAAAAAAAAAAAAAAAAAAAAA//OExAAjQrYUAUkwAYZNGjRo0aMUIGIQQEAoQIyMLgmCYbFaNGQIECERGePd3fggTJk7u7PJkCBAgQIECAQAwGAyZMmTJkwAAAAAAAACBAgTJkyZMmTJhYAAAAIECBAggTJk07u7uIiIiM//73e////////+7iIiIiIu7u7u7IIREREQnYeHh4YAAAAAB4eHh4YAAAAIDw8PD4zfYimuCYpv4csjvH2KJaEy1TtYeBfosXLuWNNi7jwOQvQQAkMF//OExCYsUxJIAZp4AOtbmrznN8Ws1CkA8GO+fRayxfjFmPudodIUkTVaYhp/4fxXzCrWWfd6V95tUZImID2CoWpacqU1THiZvTU2VOr0pNiHK2s6pRt7xs6///zve8299e3xSk0CZ9TGL41Hy1u77z/v7//xj6p/bETUfW96+/mLakaW+ZgU7SzXUeytaGHKDHSfB865wiqVMWxEiQUxm5JExw2f0FEHIOAQAyw2oExQdCe4xnXZAINbPMfdQJua//OExCcvOnKEAZrYAMnNvIzLEoMFSitApiHTcReCQ1zVBgAj5MNpZmuRRjx4RGrxT+GGeDOHbdmHoohRQLCPJD+t6tXs5C/bOF1JgRNljd2DiQAhBScwzr3OXnFhTuQA+rN5trD8VlMGAQ5cp9ZYf//8khFJN27f/7XHYkUxIJf///////7p7/f////yzsWOfrP//WHKS51lv/8hS3////hgPhBUYUwqwLBgFM6pxYUyQ0q11lgoxhTFTAk6G5i6//OExB0vImqcAZnQABcwzwjAggimULjENx6YIyRq4wwtNIOMMgHiY8KL4GCSm4Qo8PCZ6CIoQFEpzM4gCXyOXO401wIs40lXq6LXXqoMtq2P5QSWAWUsuYi4LsvVF0Jy0XI+tNO/A89uPQM70PvU/0hdmkdpuTrubEftUljnP/4jzPdLr/+WyrKmq75///////595/////7wwx/////VzA9/na/6gl//55n/HrqIvobALIwYKGrSGQJDtxGRRMFi//OExBMr8l6YAdqgAKRMJAYA4isSpDbCw4cZ+SXBAw0BfkBxnSZaERDwBhIWmgaQKFkQIVQBqcPlA0QYO8A8WNoZ8PWJAaYqAzoxhPizRxmwo58UmXSPHNRGiWx9EHJ4QqXxW4kgrULmiYHLIQgI6ibIqSZWHGfF+ZlkYJVEBCkLUJ9IiK0MiVKzkTkfMSXYwdJFZ51b///q//7OpajVT3jvyR1kaYS//6rN4DapEmC1RywbnDBKHk9gUFbkYEQE//OExBYqWtKYANYUuRgEkjQpzBggNuDXs9C6HMMw0ai5qBJOcGoL/l4jOBQw04J9DFAOYXsLJTobGwGCmor9a+zB37rpQDdkUJfiOQFXiTtSx+mTt0SVddXrTGug6F+F6JhQRQ/GQjCFG4FMaCDAmHoiAVj0JwhRoFIcGZciDRhLPNJnKE0ip/6z6LzUb/700MVXdGdmX6//eilzKon4a3WaRfBFGRB5AOmXljLyEeHgRVcysOoQuCg5BpQuWDx+//OExB8vMv6QAN5auAQJMMhrzKkbYsFBV6xxBNIoi4WBfZ1mxmIiwUqknkKnSFQmVwUobm1l2ZesLS0C7rEalskcqcoWm7gJ84o+nKywtIPU+VBzkx+EqnSiVjxjFEpQC3CVGwBslAXA3TMZhvKiexIpJoupKtv/3vtWi1egpbrUyRgboKpF1kVqL7oOpelq7+tT1qRZbLQNi8nRMWBYTEwgDhZLf/i2ze+hZai2aIbgtNzCw9OHAMaLw4CzPhAM//OExBUmgjp8AOYKuBYZMPA8weD0/y3ryJPGCQA3SIITVYjCKH3/is3DL/O6w15IKYNDixlrNFWw5ccXk/TrXqGGoG1JbVWJ3bTyVo9WsSiPU0SZveoYtadWEXjS3zlIUkQAwiJBIexy2Mr3rV6MpLt3/86kmDBUVFxAaLCQsGiwNKEwdSij/qrOqpDS3f//9GlBKMhEYSY0ZGggYDBsY+u8YRAk4Zk+CxiuCD4GCwiQHWL64uwFgFiCEsTSgpaS//OExC4m0o5sAO5QuFFNX5/BkUbqP9uSNyf94VyxqnaT8y7u+v1Urx6pQyrTpRnUFQ7cZgr2MzT301J0uOx8uzPcTJ0bxV79Ws9Ig9GbQ5pMHPmL1G/c//pwhwdA+WSWgnFJp//v/6Us009QOk4b/82z/6oIjDzv//qVbYBAQZR1AZZBoCQDMrzbIj4CwYGZRGg0BDA4KjAADWmW0HoMVIDgeL2AhL6TamEFUUsrZyLsxLqtTOvHdS6MQqtQSqzG//OExEUn6oJsAO4QuGW6paXsZh23Ks4hGqF/o69kuhq1Gsqh07Iq21/pUXPxF8Nafdv6rFdVf8/7T18rUnRmhIrh4CoPjhiuPdl3LtK9xyCzh0HRUwEh0rgfr5fr/xW//urfU1SAfIKmZAVdkYYZbHKGvMujUNSKd3c/6cAjOxDKrf79krbftJ16eqXyEbJk+ZpSlKTTb/na/PYsMHKY42oOz99h07tVZ0AgFhOJZ+vMDAwPFixgcAOE8zMzN4wi//OExFgnG36UAMFYvLzTqUp17LF4hg3J5++ws2EzP/YcpVf23+lGztXdhzm/5v23832Kdn0280p1F/504xTat/M6+wMB8EAQydByfEBRMTzldaswpx0NrIyN8ZngUea/+afdzo2hGXI30I371fyf9CmSm0zO7Ea7hBnA0adApZdPVWxA7vcu5GosMqEZ0iB0JRmmo4XE7VAoyPzJhWLpk6gqwQxshjJ849Zoqwjg2cHyqVGNRnEJwPnCE2SE5IdG//OExG4n666sAHiS3QZCwqQLpkZxCSTqpJirpWWaYmlG6pSFbD98fFh+PZWxObsrfXXiMRaGPDEa7uf9+2/a7HyxACWXeojPfRzWCMjY9Dk+GHF0IRKmlw+lHoPHbGbdCWPjbFbnYN1Z4IA6HLB5VhyGzTH5TZ+s075vORKfSLEWIZHiDCGMQXRMurok/9fa+s3c0JIobNVWtsyCgxL+Uco2yKJQCSeZ3mm5SVdn+s/7t2rfTy+VvqnlyOTj5Tux//OExIEnAxKkAMsMuCSc3KJZ201HlQ1WGmRE88IiJWsYHZ7aS1P3aqF+Ffnjmyz40CkQIQkajCWI21ZQCP8TFQ0OT6igOK4LjwNXA9ogJAk4o6tWmdES81Z6RDZ5IKpVYZdNQt+KzxOXRVHhkeUNPxYsRTC5L+fBUN0801l76Z0wtBcEmEKF8HqHkKuQxDhUBLC8I0JQOUoCNj3JEnFAvHzRBJb99TtUpf21f6kE2Tu1q7WW6lsm6CCKRmXEhCXN//OExJgnYnaUAN4auIX6vQFRaqWjWKfYREQiyIdbkUJCAQc4EsJgOkJVNE2kZGJOz+0ZgiEkqjIpXm46GNm/iIMhrviLDBYHB+1DpVjtitFmxivlMwu3SNft5OlKMK7mUWbRJrLBi09MBsk0vBbA4Tw8wtw4i6EjGFQDsKA6D3B0DEJUeY2nzIutQf7arMlr//6dJJ19te6DZoxgbmJw+iK1r/7J1Dnf////9FWmfkQgB9M2NAbkmOlQGLYFMJVT//OExK0mSnKQAN6auEQWWWtcwAGGhJrhVBwCEWm0RPVpxao3GkiAKiydygAMIlO3RUEP40LFc6B4bF194Gwm4azyiEW+pDNi6/8hlcqbXDNrVusJMJ0odwLSgmDpE4PhbQdqRgFqMSROD+iiJ6UlqKSNX9v///vQe1fbq1l1jYxNXBoJHjN39pI0EgmDif////+tUaHFlnqAm5U4GBQLFmzBApzJgFFqmDQsmYwWGAYBMrUeZnCWygINX5qJuuPt//OExMYm4maMAN4auOpfz8wSFeLejD/oCE+LsIZRT0L+yOVOFK67gu/jQuDFvf5y7UqjTqV4zBT8uiyGE078xyigRjJKLHCCGmraR0RbOocj6o1Ia/nh+ep+Pn////1VRmQdOkWvXGqRHmiDEWNdaFMJf9bv+xzKDxon/6f6ppYCBCYkhKYFDkbpyqYVh6OgIYeAiZ/AkzAVCYwhJgzKIowSAskBQwQBIwAABWkwvBc2gCBwYDNenHh5fsySYIgK//OExN0nOoJ0AO4QuBQCRGkxHCBF63pGQ7JnJLrsUeBu4YDygcYBI0W38LML8qpvob00VWEdeniSCjdYklxH3XQFFlFYJavMC/GDNwugO8vOSh4fAtBKmQsAHIG4UQt4K+PMky+SiiTNz55BltSpLcwZS3UaMtaaKfb9W1FKt1Of3L5+mXy+buxgxdR+ykal+g2t6ab0GpqN0jAuMH1f6J6OjjbeIJKfuMzSUEy7FSEBrBmBwMe+8xmsCFvTBp2N//OExPM4ewpwAO6auJwXQkJQmNWacWHKjCvDTKaKDwqYwEjTEQRYISgMxkOwFRtMCpEZWkhw2quY+IG6BTKZsxGmNkGC5oiJzMyVSTimFCoQTyREIxMXRHlQJAjGgBzW4hYcQ0ssJDB9rdcVFZXBZVEDKQ9TdjSGQQOQw9JIDUsw0kMCn8jYWB0yGaKVCQkXEZ8XuRxYvCBUGeSSMRQDtPlctfveM31EXKjUWx1mIoyZg5PhOXeJG3NmVECiiYgU//OExMRBu7ZwAObQ3AfkQw7AfIDwZPYwRA9QUMLg+6LeosrZLzC1OPHCwh0IJgRgcIoCxB4clUc9jOv////7+f3viqyq2LUXDw9S/ypZR9CMw+j4dKgCTAy8ZDjRRWBpaVVESZeNzMEd33iRCHgsnLrowSIlWEWIVkkeEcAAoDXio0GJvjHYSOIFeXnbIg9y+uyD5nqCe3tNpjm8Gcz+EyNBJ2NFQDFqeiViilKVAqy08ECMkwNwmJNPsAySEwBk//OExHAqmm6MAN6auBOi+oCSYlSskFJHX/bOry3OG+YajXtodDWvSapOy0lKOnUZfOqeEmCCfKMm5suBGOOocLpT/7VsTVMVqxAVATLrsFA7gDISY2IPvHxCkjwbWfUqISzqdeAK1VpCCikq9sRpc2qtJLKaqkJw7sYkgFqUFiCbaaUJgggBRXrqjX9Vkiec2sjOnmmf3K6f8un5tePdD+J8s0EOpkBiJuMwlaKgokjdMRkxWgUf/63oGq1qP7vn//OExHgmwwaUAN4auft1K36WuZnbGZ2sz3XoOk9Hfoqp6mUtNJ1IKTTSRWpSJmOo1QpkGUXxMFaGRsWXeoMGWEbv3XqMQC3kyIA6dlswllSdfVJLO6sh+vl6Prq12jTbypGAh5fF+V9OLWhhsL8zEMMGjVBIYzt92fP1aWDilE/8MP1T04LRUkGxyiASsCgLjqCyFKDYPhhKpLfP//FxPEw0TU3XP8/1fHX7dyit2LUw0d8X9X9f/1JVTzU7TTPW//OExJAoAwqUAN4QuKPQ8Gxsmizjq///9v/aJ42VMxBIINU48lBym5hNfowpjGBxwBnEDhE5LrsQc9kDczRWAxFtDWYE85qkZYxYiHhyuCmHyZMIKEAdAHS0DBExil3Q5Dmc5kOcoVU925haD0FiQqpj1ZYDlVgGOVQKweERUQCYCgYphIPDylGGFnZ0I7LVIiWyGfrbf39zUtSRKIrturI95TZP5n6/NlK0RYqRW5f/7/8FZL5pM2dYAW/BwQMs//OExKMngvJ8AOPKuNTPt5ozOCTFxcK5UQg8RgszIZDK4EX2BQKEAmHVbzBYMQDL7DpqRchnLtO+8TWYeZgtFlLpvtQTU3LpRD7YmpNeX47FJDlBbrQzIJbLpfM1pfrckycZ64zBdmjuAMQ6MQqBosogHBESQWPRysIDUOZjFZr3/k1qtLUsZTu4oUBtWccpHuqrZ1RSOITh2APf7sh//vQbP/+5/urapaiJpifN5nwGZgcBRiUnBhkB4OBcwvIk//OExLgoIopsAOYKuBQguUFQTbZ5HUXU9bRgAom5oLSjELK0uBqD9JYfqOONdViXYnKMdJ4k5J0X8x1MwRlyywdRqQcagTwmN6rX9KQoJholRJRodDkSCjCQ0o1nQqoZTrIW1FVbn/9X7SnHEFJbNNVmvOOUYdVdS4oB3PQ1//T//zoCnv/TeVVWAwTBEzcsExlDkwEGk2dJ8FEIYRjuYGjAJACFgRMLwKSTSKfp9BQC0xVEBKnSZpBi/oceJyEK//OExMokon5sAOvKuICuOlYWFqPGYqv1LtUHMO5CxWluJy+QhepfMCBvGaXpR/SkJuYSGUQbZhoVCwhDTLEd0rSHcWILdw4HGfbTN3FZ8jl4dkqx8RbyZ8sM1f0da4VYEY16LG3Bg1hwv909OM1JcTOX/tar6VviY2oXZ/S0YCbiKxsWeSUqBABmAYdGY0KGHoRGDw/mlhkGCAYihcmDIJqBmBQgNVS9Q0hscAB2JE+szRL3Vw5dryGs6nVMiXzD//OExOosCqpkAOvQuFqOknCCnMRDEwXNQIAGgoWNKXbnrhDgRFwaBLESm0PRQtCffGo7woIqGnkZh0n8kIisc5Wa8ekuaMlHKJVg0DEUyeLJSmx+RDM+YOYCvEN9sfp6ami8vcv2np7dFivA3ryyHmGp0rJqyjyZCDMeNpEotsT36eh8enya8b81nZs3v/+3MxkDEMv/fjGYH5v/ZHSSfXJ5kSDuRkDYohPjuJ0RhAiTQ5zW6DQ1pr9LxjcBKsli//OExOwzM6poAOvM3fSXOr2PO66j3cZ4LBEbWeIf6vjOCsFnPkOMCGe6jK1qRLhIoXRPJ6lcyMiGtbyG7cqscRmEAPBMGZPE5kaKsOL3F9131Vu4lsTy3q918XTo2nmurupaf1K2LdtqH1B6Wm470jAfD8HbTWg1cmuamx1ROzxIhy2LMMGQkVW9jf/56ZOlXru7UXCGAOBICYhBoVDxl17GVgIjKZCGgOBawJg4BN5PtD67TebO50wqFboxRKyU//OExNIper54ANvWuG5vyuX10i5tZgHIZwHUoykDkTSgH+qjrQChPhlen8+s25lgTyvJm5M8QJuSBFG8rA0SFVrtk1uvq////n//+Jmb233XUsZM7tea2ve46w45xYqgO889znvbDOX8vu6axaUWg1Z////8ancTTMiUM7GDzCARNS18TVoKCxn8jmSw4k6YnGbWYsgMpqJHeHHSZHavoty+WpmTbR1YLiqUXlo4Nt4oiarWzABHiiVx30txNoAp//OExN8lKrqEAOPWuIu+46JpsCoQRj3EuRKcwuw/L6794tz3TIFN5DrJ4qraFBOK4qXFHHH4woKudLf7v8977vTKvqI23zPLphQ/CE0dvPcNiLYOkjqKOJB0uLR7YHSlIpHWWj8SlqM06LXlUMlbSPUYwmangH7TcnHKO3s4f/9/X////X///PqfHx7+fmO4hQ6CPQqKrBAJFPHJCgFNi/TlA8SBjLHsxsNawLCL7PoxiKs7a1DsKZlC4xLZdGJm//OExP00g8pwAOYW3Ecoa7ekjvYPXEIYe1QaBCQKmkTGBkRX4cF6oDZ6yWV8jNWrLb9NnzeWUqo4jO7AChAA0AKSHIAoQxDLxf/PHzaxSxULddfx9t3zFtNXfftcNDcNE1LNZMSKmt8iqjDl5pv2FTZNQVLe7//766PlaohgYvdBOkY8RGTsxQ5mDBAoGmIAjQDAQJDRUCCzNmnJyFNFLi5tW3BXoIn6vkPyqralwvLyuSZZFQsLguhyLg6znQ46//OExN4mUraAAN4QuBwZX68lkQaCkORGQXzhO2OoL/EREEABQAgig3DgIKenHjDHeDGFBRS3eKlKTLfIF4FDJeDDL63tEWDB0vwlpTvaU9vFOwcGTB4wUou+XqffqT1Fz0MCIfB8QBE+5BwCOOHwhXyAEObajqno6wsCAndWf8EKg9QwwvIU9TSkxVCUwIDkxrVoOYgCgWYDliVh6lyIQEFgYdUKAPC1bXaSSkMEo8QJUWS49FDrbzMTU0oHYU7e//OExPct4sJwANvQuFaYkaoXD5eM1qBEwLKnDC3gjDLdLhdhiqTTnI4BAaAEkDMdYa4BwhjHKIK8X0123LHOirxtGusrEhluK2ARAMBZfckMvmJfcm5rurc7qpPavOcW0sSeDFmp6agxatTyJV5EoxvGV22acrTVZ4SMhrzc8jMMFqU52SqNNnKYYfyHyFhP5uYGt01vqSNkrEnsRVxFPc7FOso5sa6xJndZIV7wZ/q3tqut/51vFae2afP3jNtZ//OExPJHDDpoAO5e3I0GOhjjCYHj6kJxneyZtCqrMKRctMWd/HvTWJY1tRr+JbEOuoNNwoOJY1UKgEWAY4STW0AWmVAOYrgICHMSIQyAgU16ZSTcuJqyz1mlaja5A03ag2xSZzvakNSvKXUdmZW7BjuFCh2o1QUG11VzsNXZ3cZTm9kEtdiTkLXKoWDO2misNIGbrvpGsuI4jMV5pdwNCleOs2SrPVJ7H72u7/v/+m6/7Fc7lEEGmFyKMOSrTzOc//OExIgv28aEAOYK3MVWer7CgqUTHDylOx3uV6tMLCpwIHBMOgKiNZ01T////7EOQRIIoLHDx7No7Ec1h5dTySZ7TPVKIAUHBIEPDrvcIFAaEm3cpvoOvAcH0rXTpQgAkk/IWzymYbWW8cnPN6Xy5Wh3nHrp+SSisxBMuldwVpYu7CxwcJH6ZPilj7XH929CWDTXACAHgf8ve6tWCXgmpKjI0qUMbkdRVVH6T0T/gYUKDuUXf6q9LU/9UNDqCxQM//OExHssW4KEAN5Kvejldn1UzmZ9DDhIoiHDCQUKuZM2+kqOzqMBUFmelH5NP////5TlKJ0hP3dODhpehvv3/ztun7Vu6NJhcKnXT0LBtBgxNADOoIZYCRSAhStVojc7vVUItx4KP5Wya1UhyQ0jsT1PG4Kl0ofao6ECqxM7T7DiM3biaVgqtlNBi860dL53H9W8wVn6X0pvQK/shwgtyTEwLpYPYkSCaBzwJiOElhGTapJJ2ep/V6jRaLV/orUp//OExHwpasKEAOYauN0VstFa1PW+6r1OtqSziTKu36X71JJJLMTys7u//4lAB1rmbJq3O9dUmiEDmDQOYXnJqg2BytMLCYyUITE4SRzMSEEw0C5GYJCFaHIYduHZTdpY7GKatT4TUupcJTKcZqHtwAu55oLabHkxQBM3uRqUpQdb14mHPNBqwzfRGK5u7JM601Lsq9mlqWv5Wl1qMzV+U2cu4/l3vf/fP3//+P5U1q9mvKnQaDUO9pUJwVBVbt/f//OExIkkoaJwAVzAALP///qDv/7a+QoCY6cNHoYHWSazGEYTVCZuEIZGCqYhBqCmhMNgLM9AbMrgEBABJWlmGaGEYTmEQKKWuVK2cX4JHEhGmOCSHkKiTl6i08Y7RNwa4KRahqqSg1NArC2KOlDMMGckIxQkE3xTUQYDDUO1aureMpotURhlARE2wy5YgAZjWynJm1Vzs75hZq31LWlOY1Zg7KGNT/P7+8vx5v8sOfzNrsuWcgAdNnLzOpFNbz/H//OExKlIhDpQAZ3IAFhzeP/jn38Me85vPJ32sO0+sWbZpjltZe9xIA/uH/lvevy/P+/l3f6///eescqTKO5QfDk3AcafiHGtwQy5zFN4Dbh+fd6//1/6z/dvLf979jX73j9rW9fq9Ywy13PnxWAXudykf92HKgWLuPKH/dGHopIJe7ESlNpcr1mHBycOQBAACwNTU5xMAhkGBIzKPzCIJmxCB1XQSWjXtLmtSD3ThvN4W/nyiRAuDpGTNkBC5Ayq//OExDoxquJ4AdyQAEMIISABMhc+Fo4BjBaIJ3D8xAMVuUI+xHQb4ILjaDZxYxYwbqClB2IEwRcWYLkJAjiQHMHyJ0HAQ4ggngUCLLFLlc0qL6bv1K6KLKoso1O7t61X3o66kGW69/TU1azNzq0m1p2TdrvU6aTLRNzdky+kYIMsvutzoKjOq8rtxX4lUPUSr1BI8KHREGC81bDlGAB4cCDqJBgMkmoBILBMwCJzag2KAeoayRT6CNWZvl5pIwhS//OExCYvmu6EAOYauIUJ+UPJD1I19+YYfGQOg/sBMAVGsKomXHQgM1g8JzEoO3dojGmwrySeaApkzAteqQZdEC10HMUftyX7gyAo7DQwgbpaJyCzE8Nw/juC+ADUEzPBeSmQCUcuIPvWkg39lLTdun//smipb6FSkHqUo0mRcZNJzh5nQQTS2QoWSZI0MjFIyMEypjA4YIm4Pup//7Nv5vdRcKsDat0ghTB9lgkGtZuwGygwl9DDFxDCz0yQCpxG//OExBotgu6IAN4auE7u9KoGt2Qrec2iVvitdSuVSxPx8FOxo7fu6EPXIQnAQlnJuDyn6fZBK/UApXQNOprw2mQWlX87DHpO8EplM07suonWkUYHMUx2D1HsOEKsFWAogXoXQ5wLSPIRg2RMkUT6LoO//tZSl7Nqav+i6J5G7MgjSNTdFGYOfQWmmapXdbPRfejspJ3oomMyWibmLGIiAoDAH/////iVyspCCgYnVGZgmnCE2fMQUSY5TrMNtwxF//OExBcmSoKIAN5auGGERIRAeJgQtMtiAws44CIkQflfCGBgHDTKNghxQwmhCELBSppcZgWib7F0He5BudmGHWxT+fqQJoPdNv1atyvleVWsZcbGBmgYiNF8ZhbDDFEFdJEYQnmJ8eLjvemjT///v9/9mQrW17LQooMtky6cNzBI3NVJoIHj9GihJFgjUbTVa0l6ZnVnSDoFCjeDlOgUIzOVIMWAqemAjwYHgwCMdCFxIhAIJkQohQKNridlP4LD//OExDAmGraAAN4UuQUFAEFDpMltoGcnFiUPRP+SyGpfTSqYqQ1uVQ9Qbhl+32ibV2U4yCY1cs2eWvQ44+QlCY4mMEUHoLwBIQJKQkhdiY006c6O3///T+illcnQ0nQ5i5UsQnkklUwfLSjrMm1N+8if3F3IqhUABkNwrYJhqJpgAEBpClQ8JhgkApocLwGD4LiaCgqjy2nGiIFAdlkJO958sFU6jaBUM1E3GvTyBGhutisP5J82kQinbHK68Dax//OExEomslpoAO4KuHzn6RqE7ATFsBwTGHYLYu64C96OYk+V286OYjKriBBAUGoIPPPdUUxkKxFYqHTP/r/954CiguNGiIGFgsMBBpWQWV1Z8TRmu5U6j//+3///qnAEIJM9PU7+RTBALMmYky6MwCGDKJHMpgkcB5igSmMQWsMs99RgAgAAAK5ogYgeIBaDYMhTBCwAAewBoBkGAIuPWhJTl5NAt5Tp040KOd0eatRfUZfC0LsRjQ1yNBkARiRD//OExGIlmj5wAOPKuMGZqtHkm1F2sOD4fOAYWHxZyLF0Laeu5LKnp67s//ztqNKWQOiIEFA453qCZb/VUn//azM1vtYCodO0i0OBxgI6mNRUmWBA+aVAIcA42YTGAkEGYkwhWe0gcFAsmLysvh5ry6H5YmHAXIgCEooD2RJfqBsga6teAmvzbYXabSB23Zw3jKIjRt6vdjici5U94S0uG5LGo3NxeUTgiCMuJZITAMCqB8K4X5QV3LjMnMceGnPo//OExH4l2kaAAOYUuLX/v///6VMVz6nGzHJC4aOHOhvQHx3UvuIKaSk4VW072GT9GBE3pvEk8tAYk2mjhKsZd0MgHIQyBRksxhCJyXEpay40thphbZpQz9yFbgKgIW1d4RhqNbXkASFDFV0tTpJA/zBJau1Sa1krlOH+edgiz0hl1sQahGHIgR/IbpAuRUC/C0F4BeCEALAGCQC0FyaKSpg0ICp6nHtSv/////M57N5CzGLPLTy57amO1jBR7TCx//OExJkoCmKEAN4UuA4PhwTU//TVvZiAEnHCK1hrwqdh49o0gwQmACIiK3YAgIWBkBpUiQ0n8GVwJdcFpmUy5csqtJa5rNjT8x1CSJHo2tJbvPAKwrQLsfZq/bov4ztwlyrwchylMlYIrHV0UztPvKIdAqhgFgcANAbAlAsAFg1BfCSeRExKXU0fmoYar/+53zK2//2mFD6P0RSZTyOCCw1et5QaQNix7boW6//3qcePyddOxMEZ4kTgkq42ggM8//OExKsmclaIAOYUuCRjkrUTFh7+Jg0CxKqVAtQ72Db2TVaLKuvmxdbBB1ioJcd9sYyUoNS8Eh3qiTjH5y0lVQ5M8YrLqNC+KTSTjZKV3EDfNR3h4THqC0GYxxdG4wKAvMgRDZGSWtv/1LXbtvr/9lubugi9kFumZGaBPQRUWGrHHgICFjUsdQUJGxI9iBAEwx/+VXjYOFAgcwIqRowDDECyIgMmsBg2aPEzDmwjIBThiZc9aTibgcKsQxkWn7Go//OExMQl8mqAAOYauGysViFMCGJ9QGmSIuYNsCGBcA/lzJcdygTg3jQOg2SSHQxEZQ9yOUUtD1wJcsBWBhMkAvh5LExNyiZDOOJRoQ0Eyp6kV2b9X6Lr///9q1Vskbnky6P1z6aAAASgPgW++xwvpdUYSYb/6VpjALMWsY/6xTHIOFAacfLYKBCVJnIuA5vLFR1GgVGWAiw4dmRgI6WVkOEDRZ92DYPg0Wifti0HQQSCVoZEZIZI0ELCgyxAMwUF//OExN8lQkqIAOPauBaNOKPSCq5BgJMuWwaXQWCQkDyqGzoAoUuMzQZCSNai2Af5cY6FGU7RaIVbahiicVEqaNUFkYIdL4/1in38/wdxP81xmuPX6x9ff1v/fte7kyOFsxcW76A7V2Z8XwpoUW2dVr953rfzi29ev1nHzqlN43byoPf/o///+pVO0vCYQmCcumgYRg2Yam6YxCAAARAILmcYiAYSiEFzAsAldwIOgGkivMMBaa6rLodhUJfacaQu//OExP0xUvJ0AOZeuOdJpcVfFsD6uIx4EAoKgJQwxTsTB+o0kGApeMZV6XBZE3y6lYUAQANJBBYNaa7AcEXmVimnZaa6Uqd480j0zB4SAQ0kiyMkdFEyBySed9r5OeubO7v////372b+e27JsIi0urcPI3LPePBJJBKd0ZXUtYwKgFRtX/kf/Xf/yceqMDBkw2ETgCINpmQxAoTjRjMxFEw4PTPB9MfgNWwxaLhITus0Za4IB4OBqYywKgqDrLZA//OExOotimJsAO5MuI9MedJLZOKQpzMGqspfJQ4tKy2UAgalKTANEgcITJc1UQlYoy4sOxYLDX9UZ09MRXKny/V+1ZlOqbebhaJHGsqjSTPhJZHQClrycSSeZNlnA1MmllV/OTv8//tPr+UTkv/25351bPJAUUEqh4C63Yseg0FP/5Et/88VG/66KgYN5pcJpk5BR3+c5kgVZk2LxjaLxEHxg4A5hOIQKA8SBEu8xl0IPbC9rOY1Kn2h+5A0Zk0k//OExOYsElpQAOYMuLctnbNSNZNaoM1kAYSj6ZiIxiGr2MRrOXQ1DWWEarV5A70Gvy1qLwznhLrXR9LA0PCDmkjDqWk5JutvdGchhjLAfOFeRtQkw6p/za1dvd8d8dq1rMuhMfecWaYXQQqpPOqihk867ONSan5wghqFkjSkCgQjV76WqFb6qjCRDNfBI/ZwTQ+eMYmAzyEi3zrBAfUbXQ8bYod3bjM7K3t5PIi3HAX1rqEdGW3D3jmASjd0JgHA//OExOgr0mokAO4QuGrFlnkUcwGNLtxXdnaNtqEPck47pqdPw9MxzG1aymjTjuzL/s0hYmkQrwGFDO5w/aG+YxvkITBioDeB4CRxWMmoXWGFJ6cpna3f7XUvyL7fTtVjvxjJ0p4KmuZamhLkRn5WTpzM1vB/RvDsdUVEIP301TzOgTBIWImtAxkz5sHF2bIYBwOKLDrDrDwufi70qwRt/3XcCTXJW/8YhznYYoXod1v3Xg5nbwRlZCGi02lAobpM//OExOsqS/IcAOMG3MUF4fTnQfScRpBzH7fJWMuo6KDCAkOeW3EQkmUF09GmsvqUlO0tTeNSzC7L5RBkCsTUMLsQlpbZ2uTFeXxvKhXOH+nh2uPCuuPBzVg3XGEV6DgWR/NwaFMoxDmjqdqFkS9+kIll4PyopKQHFp2T2Ei1fqYDkR2ft3aWk8uIryvfXmaR1WxFRxDLbDmOQxEtWSEQhnyg7dfWdK9havXxpHKUonXCOXFJPaiuhKGKxnC1WSFG//OExPRGHDowANYY3DcB4286Zx147VsGEnClpW43K8zJZ/Ll1jm2KgkFjKLzs/yFe+owBCOUWCgSZOxSH26MXgySO/BzO3QhGEpp3DdhkbWncnK0Yqu5OSyzTyWB5t0ICeOHqfTwR9/GHpIM7sMQgNu7Q1gCoMvS3wXGVBJ6pvJcmUYIIjICKH5iLCA9rl50FAGnNmkc1UlrzoYO6/qK44A3aFqmMKpyqI2AV/A87GnI3Opc5FMjWllc3BXD8Zkc//OExI5G3DJsAN4e3X6Tc0FYmTmMlCgw0LwckQ0DvELJfMrEWhbU4K9cJxD1EhpxHAwK1ailsXL5vfQ4kOA8b30G1mSZ/FnrdR7iuRoIXGmvakFnpW1H7fHkb2xXtWtP2Npes+qP392ONEw8n08tEhwqvK3tK2acLRpXOaFBkqz10/tD3fDBPuZny/hucBneQb+l73tR5nEN/RUdYkLTXcpmvTalU5F6THOxhVruBBcK42+ialvjOfil9xbsqvP9//OExCUxY46MAMPevR7I+XPiOeLM0FgjI17M+Q5RLBKl0TMewziVJRcxXmt5mmxHZLmYqiRiwGIqnAsKeSrU8c4ketcNWYt9ZYZ7U29gx3GfS7a2NEtTXBiQK4jVjRIWrzSs2Irc/cp9wWuNe/x74mkrjMbslmt9Io1yz23CrJmNTfxndZ4sDT3wNSQcXifeMS3z9+mNf7/vjfx76gQqkVuZcvVCUGLU/f/72F+1A8VB3dPFCGsSvqGT6hlNU+nm//OExBIsGvKIAGPeuZ5eM1R558RtQKWg3hxWK0JSsqsObU8mKqCDuabG9Onzjd7PAT5QkpG8oxio5J7eusX8sOaxyI9kExPo6aTRGtUMatpBezPrRr3teklYErx3EfRrvJ1TrNKRs0tXefrMLeoWLPZIL72lxf7j31WkaDNh7m3jd9ExF996telLazuN7T7Fg1x3ZiUWR/aospvyPwK9vw+/f57rctr+639bSmfqWAEUmCGccYZhhgjmIwAWdMJg//OExBQr6vJ8AOPSuHTDYEW0BACSYj7sF/EUD0MEsacYc0YK4tuK988atPJGkxJHor36HKJSHAxXaHOFEQtyjzscNFKR+OOGSplwuqVRImtbaUmSIE2iIEhUk5lNyrMfKtqU3yluSluRZVQy+ZD/3vpT3l35bt9yd4xSRJloklIVkHOZZW3ZbmwqTb6St9S/VTXFb7NhouVTw1PKDvvqiUNI6BTbqTfgrYyl0VQmY6Zh+4rgIKFUFgIYjWkWk01n//OExBct2wZ4AOZeuMYXFLHY5MmFwGs2aaMDMLdu4opLL+Lh39XXj+v8xVyy1rVqYlF+9YRmxwoXmtfce2Lc5GG2ytqzrgtxYYwkdHZC+zxtGjAn2zRZJ1K6t8f/5+c//Ff/TX8tPquP8V+8V/8Ledx9QNe9fuHJLCtEt4LhPBjPfGtF3u8bW5N6fRq+uJ90fbjbYaWu4q57Owuo+gkv/9IPhNwDHsc1zUI276UKokEw6DTBngOXFkhAiM4EQBqo//OExBIowv5wAOZKuFao0LyACmMQs88tmDGACjM00c1a5BDUTLTyGfuiINf1mOrAvny23TCvk9FvHCDIO/swq25L8EscpumTX72UOvf/ctluRw6WQSDw0cMAxmUrHlaa0jSSJKfUPsjiB9Ha7XRtXVplYxXLmqWyOVmNczmVDGqhS0Uv1QzrUspWjRYwO/7PWMeFTo8xVUrLrIJNQ4t2UliQFQTIRnqPYjAYEACYAlIZsiySgOGBUCABBRUPlL4K//OExCIlappsAO5KuDDkF4CmZUd20B5xAWgp+RwRGPdVoEqGz1cnakH5MY7/tUgXPBnje/kzCGfsNVXZfooDcLtf7d3SjDoUXZ4w5UD90cpjjGlUFirAtHSzjrlH0U0lefret2V+n/XMilWJnWjCF3////KtFlCZPctA0MLC16NdqtMUrMPfwX1SFcGihEOJiQQAVREQBADFWkmRkCgIZQqsCIDqPczNEBa+U2vBwb3ww31zOJuTO6jEns7m2Hfl//OExD8j+opwAOZGuCiB5bbj6m3yheCJr5Vn8XbRYW8su814vcyr5lHW1rNypjrl5fa6tO65tCv/Z2BFFzFCEcESf//bDYNRZsBuCKL////yFQtLTO4BX1OrJ20l1kqAABBhkKRilSRpKDAGCswAAQwcOYxVA5WgtIAQpYLF+LEae+5bgwDAVqEjliFTrVYDOKGBeAEh8hKTKorHOxhMQjMZDYnC7GAhiYBsKMTRFguDElOSp6IqtRKqYs9n1tzq//OExGImO35wAV1QADnOcchlJymuZ9L/c70UfHlCUmLq49JZjWXrZHMOIzUdZqtZv/fq7f/////ykur+RyVr2sPwGpcxJiA4ZQExPKA8XIwkNs2fEAx7MEwyIgzBGgwlAN7TAkByYIxABoOABbBaOTJjLCLwXW+U2iuwhIiVZzEUzkkafhxlbErHSuR/brq+q2o1g+7DGuNKS8XY4sE47psNzlelh/FbCsECQxALQ7NS7hTy77dyllOVPKTMBvH///OExHxE3DJcAZ3AAYNQzSvXD3LHGvzPeUuzsVr+8P6sO38N0cOOXF+uPl2vKZbhLs69apKf5dwq/rn4zVWmhyjdiHJp/JY+j+e7kmpcufnzHv8w/v6xuY/+ub1+//X5ymH3Uibjwlrb9x9+9Nfi9JA8x++f9X+c//39rPHeP5ZZZf/d6vZfjl//+v//+HJE7D8SPGXuJZjcCSuLy124vNz+EvSKJA8twFgYHihCeCM9QFuiYsSP8YmogYgh+u+8//OExBssWxKUAZt4APPa29cznAmnhtK9bixfpvznUF/K/xeak9YJB2dyVx8QDjc4d4THCVcRkbm9XLMr9rV5egsjgVlNbe6J2ZafVlYuBiEQnG1x1elZ/WXPrT0zvO/v/vt5znO809P8fdvv//OvnH+fv/N/vP/9ta/+75/+a5+c1tv4zLi1s6/v4keXR8jlTj1BxSXJ1gEUgBQVEooe6aZqk1WSMOtGb7SSHwDbOrIBQIKAzJm3ZjKh6a1q/HZn//OExBwl0s6YAdpoABj8ktU8N2My4Shss+UVkmbE4wE8GFJURsNAQYnISwBgA/CNjLGSXisdR5jnLR9THuPYlCANQgqAjYigyiaHRlidCbjzC8CyNB7mhLGY4DAsKz6df/+v///2Qprsur09bXdGyd7dtt2UifSMUjyB4+ik6XcE///rtu//xZW9GwsNGzLJQEqiMaiQMIl+DCxs2AIY/E04cmQFkHulcDsFnbj23IxCYdj8nfmWzEJiD+Os3Fkb//OExDcnwhqUAN4amGygKH6V40AFWJiqCs8eBscccJx40/C5HBC2BXDoJMOw4J6OYLtIQ/FwYYuhziTHUljEMwxxKRA0iRHoeLpojMkmZ7f////1XWaGbMWBRO1xQXc2FhG9inMOjwGSKwvOn6P/+If//sebmm6lRIGw5m5gJGbKYEwEDS03SJMsBzABQHHMRZ2HLV7G10142xNpsdh6WSh33VgmHnFexyJe4jrLNm0bC8KZoGAABqzMbU6am+za//OExEsmWiKQAN4amDKl5WVbFU2cK7CagsDcsG0Yx0uE8sG04eHaXDQehSG0oD2Dmmo5iSOHSYcTNFJOij//////sznnAQhULFHhNawygt/W5kVYpv/+n///uQqUkAAZJwHUjAWEDfBEIPyEcOcrTJz4w4ONlHi2igJYAGPpVl8WiN1XNBjC1OG1aczVykyWeuYpvEVIoRFzkelBTEsdAjuanl2EcklVA0fViyOHUMWqF/mdogltXkDZC0jYSxLD//OExGQoGg58AN4amITES0sZMoHBLnOD+kOITpImCNJEuOVEysZF5Rijrd6+n2///7oHwSC0YRSTOGw+OWHyId/rRBVytXv//TV/k+DjRoWTgKfGeBBgAWYgcmIiRIFGVhyXyv4ZeZrNNGsLnHB+pTE1hQSjEjBWwSjsuj6eoJfcQCqnJJvGVuiNiWUl0bqAy47Wu0xn15DAdSMgmHRVhFijhUrtfYjGRiZyue42pk6KtkRmRmPfdPsZG0NRKlFX//OExHYkyn50ANsKuFM4ioFiqnkC44EyIbDYFERStBgyz77X9L6PapfGKoqVBg64hKD8wROM3U06BEHh1uAR8zEyMIFTLzFkCh68muKKMnVXJhvqXXiIJKUCUPMwhgBucXRJSHAit7PmOPzD78wt4pXt5aN46WHyxG6DbnO8ucZ5dgiyVisEza1MMZob4U6McXGtoseK15aosJWQ30z3blFzqX0l3CC5J4uE0tOsIiJjmoq5pKvfGM0HixHjGP9Y//OExJUnwZZ0AN4elJmOXyrX1Vf+j5aTAkHnDQoYPChlaMGPwoYJHZqciFYPMu0M0cRTKa3MWhICCox4ESoDMmPRpMCTAoIkFBA1L8ClRQ+cceNSS+BoQj6tMZTCWTQTDEZl1LRV5mkwh2kiEbRKmZSWBH2YSjEpSDl7dQIeGXa7aNmjEHa8Pw67q7wI2ba3BkcYi+C4NpARP+/+xutlrn6Y4I7v6PvtXG20f/u//opW4KEE0UVAQATXInDAaYWF//OExKkmIWJ4AOaelCCkmYYGxqsXCMXHEgEYFAoQZ4QKg0SCQWBAYeL5mTKr1NQ4EYw0UOfUiCgzO2Qy1uD9W4FxkPKDte9ye1PYUPZi7TUkvchTZQtpr4Q3GpyjnPys3RsIxUSQXigCBpUgcLzRk0ajYVC0ZF5Ykuizv/ZHVf//32StaVWWnGGOhd1PJBdJGv2sWpYw2/7RVdV/zBjg+g7AQQG8AsCBaGMVCBSMNxCTDNw0UdU6NEAnFMKBmPEB//OExMMnSnp8AOaOuABz8wxcM5CgY9x0MAGBEP2hk1KMt9qB60fqVb2c7Xqbrdo9yi1QYZQ7Syys2NlsVYNAzsyOBM5Xurmg8ouwuKiURxp0ONIizS2t7M/Pqb7//4+v//////ublFir+vq1lBsHG3BLLajCWSB2JXHaiZcox21pEqPVCgBMBqg1KdTB44Okokw6DDJpZGA0Y/IZqMEmI4obhDph8aEg7MGgYxCITA4CMHn8xQgU4GlGGJeANQg8//OExNgm0pZ4AN6QuM9bYUDq0JlTUMP3ci/wqzZzpaeZ+U9tV6OhtV6ChllqX4P1UjTInxa5Az/36esXkpMgkQrxvJQ70j6ipLNStYlnJUlWTF5XCZ6Dn/Vurv/+v////9qaz4fE3LFFkmQskTKurLMkJkhQkwbnlove1t9b5fKz1G53XZceud2W3XEMHhE5WIDCoBNuKwvUYeNJikImAC6bfBYcOzk5KQfBqOBwQMBBsMKY4NzRpwaOCeUNG9eG//OExO8ugt5sAOaWucAVlJOPoWw8496Au4z9DF901JjL7ssoo1esW5nW53UxyMyuPxiYfXjsW7EXiZRkUnwU0GAbAcowOzQNqyVMYSzQI1z+EkBIvTqz/f/8/z/////////+vcKVqoIkvOcURAgfIl50y0eQJzMzbg9m87py8ejktS5//rNzahLXNE5jAEM8aMJi08MGIoUdKQ63MKLjl2IRjJ6j2JBRgZYTVhIJmKhyYpgrQHEph1CEGakQzdyK//OExOgsus5wAOaSuYBP+gifJ4XM1IuxHclz1T9sZVqLUt+Jamb1yjwl2Epn6kVtQZTMKn6GYQItiwmAWBHVGy0zkHYJWUsKj8pvQXVHwqBPcPN2z/d9V/9f////97qt2+kJx1MRoqJttPjd0cNN6BZCBura5u6jsvbLt2rUWXwCKqAL1rTVYSFicawb4EBJna/mJwOKAEifxgEcHMAcYCBhpGlCw0SMBTJUpATIIAIaDIkRaYAri2OIwIxsflA6//OExOgriuJwAN7WuBcwwhoOLWbb0zUzC6WDr9Jq5G7k3Uj1nU5jOZ2OYzl2krRLUBT1podVopOXM0ggVB+ooUOLbqpjSYoSmm5mueVIOnkPx//Ffz/9////8c3W1sTbnOMpomkhxUQbD5UuP5NMzQqDy959IcvbBhNr2w+qNgum1az/hEdc7721LsmGIInHowGIoZGcTwGNYTEAejzPGE4tmcZ6ioVmO7BmPQLkgrAo4SEEDEkSRYCDflcagxEZ//OExOwtYtJoAObWuZzo0vMCnjWVLV7sKYO+y/r85T08PcfvKg7PQNhBlntmgz+LclGNh+asF7xnYhYvSCRRBvtwRab+KwVIexetEqkN06bWtjmViz3CjXtJtk5yVa6e33iB/J77/r////rP//+8V99fECI7eFpOb65hnAhShfL0dxngsTCrGKNVdWjO4mpYtcW+Ja6t4Vom92+/r73bFdQatsGp0fGp9aowHAIwsJc5AVoxaBs3zFYzICIw4BUF//OExOk0izZcAO7evC5GJwtGtZ4GC4EFFWAYNxENxiYAJgGH5jGFicZxN8ZmOGFLoCFhAAGjFpMSCMCXMiEqaB4On2nUzu0TS17y+X7fSOQxCZqBcI5aePtu38bzuye3DNO+0pbs31HDVM/sh1jGJbjGuzd6WPWFmXmvRuMq+oVK2Qn6VSqnRMG2db3mJ9wN5xbP/1vf+Nf/5/+M0+6NsrErjTWlE4H2RTKjVEnmLERnZprvn2mV69bpZYPte+6X//OExMk4szZUAO7evHCtYrlF3Wd7Hm1uvzjP+a1teL0Dwcc///+iMNR4NNoSPGEXMlBqPlFtMWizM4TYMaQrM0S2AwmmMA4GfIvGL4nGKxdhgcCMbTAkOTBUxjcEEyhXOFQjJxgaABkmcMIEJ56US03Ui6aUzDhI9u4nJfeCu9TmwxGXcpmzXaKVMMl0UhGb+SOfrvpDEOSizDGLzRetBzTc47yIzfz8QsOCuak2xG6hhkKN/ZlbEMYkQi3Psmol//OExJk9K05IAO7evDFN2mpJN8+m4OdZxfeb4p7ffz7br7aiyPXpotykRZIp1UlGJOp6GoF1JmWE+hQYr1tia1fOb9sxAeuFMz2xEmtAprOb63X63W9P94h1YGl0fuUWuSeefFnoa9lFC4YAS9AFXJlOGhr0Bhl8AJjiFZhwCpgqIZiMN5fAwyFswsCMlBARgOj0HBMEFMZxhBiWQt5VqiSK0MvxDKOXIem37eBfzlQDJp+TR29M3LNJIp+pRRVw//OExFczKupMAO4WuGcnYIb5yos/VFK5RdxprkHyIvNDh4draPNtaSUfshg/CMVQmVk82E4ekASRpHk9Rau95ogdKYMzl22eOmzv7r//5/ufm4PKsHdQ6mEV7jG7NdvP11KUzSU06adTnw5EyCIbrIgqCrBEGFCxPpcwlk6kpqWQtGoBAaZWwIbZDGZrA2Y8CIZ3nUYziYFQRCwLmFYUDQNmBQAu4kKwouQ6hTQZRlCktvPRPqhxVDahTtiUS7aG//OExD0kMcJMAOvMlLVVJMyXpBY2ZidnGAWgZzi2RDFcGHIGoJgdIq6g5SZDUjfRI8iNNGkUdd0TkmJZ8tV2VcUZqAjaPc5L0L9O+VCVURPLZjf12kNJUssNJ0ber6//rjGhhMvyc/0JRJTmVAWYHFpkwQoml4Vtl6YZdBgzSEMpeKEMQRwKFLVrruy3kagJ5oBgW1AMZvRmm7Sy2M0t7vLdahdmcmo1PVcpnlwosfgwGpFirBFRoaNLTvZuKrPx//OExF8mceI0AOYSmAoULJZpCkiWauGNR8vG5LoU2bqUtjms7JHWGnHUyNQKxyyZtn2jqyNxtG25LnZlzX/12M3dKBQqx9+iMIDkydWT4CNMRi4wECUEkRYw6cLbs48OadpwVbYqCaLELiuk9GgarEY2WXTc/bFVLT6dT7zJqLDli3YptxL2zDg68Kkem90sxojiMSQczddd3nSDHW/EmqtGtS6qpdkbXpZ5cZXLp3NdfWzFHGPqWhXS3lv5W2oJ//OExHglsmogAOPGuXw/KwrkXBjKshQfu6ySIVvzgChoQzr3qSQDm9gV+kIOIDWN84IjZqz9nE215+ZfGHW+M6p3BaTS1J+OmB+SxqB9VQ0WQvpM8mykjXibxly7CLUp5qtTySaUca+NsNJT6nyUmPLbUuGQgtqUbp6rDqICzFrmPopmYTwZUYMYM4ZgrKDpqUiKpJ9WkDChXgYHuYiJtDpGzykd4xssgMGQbIVc7YRxGJTKeDhNCPhmekN9Gb41//OExJQn3AoUANpG3SbNSIplFqO4OJ67NTdI/kki6pFSRqrUvam5bvDuH5UctrTs8bFLMkNIlUGB5CsuzpZCzqi9TVXYl5TWDS7FNfYoUnxTjvkmymsvkZNx843r357VhtIznDkmYpZYPr7R1Shm2I6Zmz9UM4QYCD7MZMzlVUE5FZSBpCVh17G1XaZbTIzpNP9codJ/BCmba4NJc4xRAJjLWiDI4sCkzEKaprrBQ1qVJ6KGcy1W3rVn/zs5clUq//OExKcl8/IMAMJG3dWsp6bMWKTh05NQJjCKZM1ufgEYUEJYxv562Md3QD/DFAfQzogxX8+WIPsUdq7sxBzT8EKeFF/pcjGlfBSmDrrRB+QJczO6MQkmhjcjqqO0MSPnUehfdCI4QQjBCEKMGOGXkTXKezkSbmZlv4zyPkTOwQwkisCkQ5l0Xjx/VRm5cwYvcWoKfEU1q0jqRu55JjhSMDGbXEiytEE0UyfQPRF0QB9glyJCFCX3RLpbyZtSbJHQ//OExMIk29oAAMmG3VJbw7oUWgcsTWNUSwg1nIPLuJPIurC9trjb2qbu9vWqmmQt7d2nEnMrGzS2m2SlOKSyaXutaTX651zLuyRQ3UTG2mJs1ZaWFEXyztQXeanykTD206FX2vUH+U1vWRaczqvhbY7JYTqImfU7hgNAYWGcAClzMbpd461hdtzvJd9PM4UuG6dOBjIIzIuxAdLE48A4VmWGnEJQ8uJW2iQiYQkbRCgMCeBAbYGWiiJGJkoh4zKU//OExOEoBAH8AKGM3VeZ1JdI7i0m10JlGwsQmCETQOwYaPSt9yicZvSZWEUK6VqEsYyq05ytC3CbTVq469i3N8f1zOIEk55WquhBzoKHmB1NickDWwVv14mfVZtJkF9zSaJC1CdNQV9JqtoTr6m6DdZieNtroovtJ2LwTqc7jt3iSTsptZ+98blV9maqK5m886mfe8qazv3cs6GxhdqU71jzIkQYpb5IzotDQJQmShgTnSQocRDREdQ13iaYrs02//OExPQwJDH0ANJS3MqTmygVPqpdDJAnNVPUKAur5FdOkbRRFNk4OSzDaNs2aVCBrwmYl2+NCaOInUYy6tve69lqxKjLrL9pE+vD/l8W60rxqTBantJI+Tye/Uyv9PlK2Nhbm/0x9vEWzThemxWUXCPzLw/Ids6GNN4ah3sx1fSn05ZV4ckxljQnAACP6zGrtq4zsulJJXEIvAsPSmansZVT1EZkEtIogKQDxLMUlA1hEGkRUdFQyOkJkiLktoSE//OExOYrdAn4ANJM3ciEyqcNR0hQMxiqKQyoGmorT9xtINStZNgmk0rLUI0TgSsJMRLCWqyLXs//7ONzgo1HXYii1a8z/ST4+UbXbTcNAOHJS1U6JIxKaNhJ2NInHkcbQW0AFef/nErmUf2ZLf6nDpxqfCT85aNESkpqcpygp5ntWlJGlByW/nJeqk1FqSLR7kYCppo28KlzAQOOiQq5erjQzNyaHpTNTNBN0liepaxpwkCFnqSlna8k4trZ4vZq//OExOsv9CHsAMpM3WjTizDLyn/yqlnZziyjLUtEkRFAYGQTUkiSNKMTynbSiQkNEDkdjCIiMOQ7OxkVP/6L///+iolnYxRIaNI7d1ot2MVEVn6oip+qdjFEhikOzlEhEaQ7P+zsYOiQRCIgJijs5TIdnZyiQiNEDs5TCIlVTEFNRTMuMTAwVVVVVVVVVVVVVVVVVVVVVVVVVVVVVVVVVVVVVVVVVVVVVVVVVVVVVVVVVVVVVVVVVVVVVVVVVVVV//OExN4mzDl8AMGK3FVVVVVVVVVVVVVVVVVVVVVVVVVVVVVVVVVVVVVVVVVVVVVVVVVVVVVVVVVVVVVVVVVVVVVVVVVVVVVVVVVVVVVVVVVVVVVVVVVVVVVVVVVVVVVVVVVVVVVVVVVVVVVVVVVVVVVVVVVVVVVVVVVVVVVVVVVVVVVVVVVVVVVVVVVVVVVVVVVVVVVVVVVVVVVVVVVVVVVVVVVVVVVVVVVVVVVVVVVVVVVVVVVVVVVVVVVVVVVV\" type=\"audio/mpeg\" />\n",
              "                    Your browser does not support the audio element.\n",
              "                </audio>\n",
              "              "
            ]
          },
          "metadata": {}
        },
        {
          "output_type": "display_data",
          "data": {
            "text/plain": [
              "<IPython.lib.display.Audio object>"
            ],
            "text/html": [
              "\n",
              "                <audio  controls=\"controls\" autoplay=\"autoplay\">\n",
              "                    <source src=\"data:audio/mpeg;base64,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\" type=\"audio/mpeg\" />\n",
              "                    Your browser does not support the audio element.\n",
              "                </audio>\n",
              "              "
            ]
          },
          "metadata": {}
        },
        {
          "output_type": "display_data",
          "data": {
            "text/plain": [
              "<IPython.lib.display.Audio object>"
            ],
            "text/html": [
              "\n",
              "                <audio  controls=\"controls\" autoplay=\"autoplay\">\n",
              "                    <source src=\"data:audio/mpeg;base64,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\" type=\"audio/mpeg\" />\n",
              "                    Your browser does not support the audio element.\n",
              "                </audio>\n",
              "              "
            ]
          },
          "metadata": {}
        },
        {
          "output_type": "display_data",
          "data": {
            "text/plain": [
              "<IPython.lib.display.Audio object>"
            ],
            "text/html": [
              "\n",
              "                <audio  controls=\"controls\" autoplay=\"autoplay\">\n",
              "                    <source src=\"data:audio/mpeg;base64,//OExAAAAAAAAAAAAAAAAAAAAAAAAAAAAAAAAAAAAAAAAAAAAAAAAAAAAAAAAAAAAAAAAAAAAAAAAAAAAAAAAAAAAAAAAAAAAAAAAAAAAAAAAAAAAAAAAAAAAAAAAAAAAAAAAAAAAAAAAAAAAAAAAAAAAAAAAAAAAAAAAAAAAAAAAAAAAAAAAAAAAAAAAAAAAAAAAAAAAAAAAAAAAAAAAAAAAAAAAAAAAAAAAAAAAAAAAAAAAAAAAAAAAAAAAAAA//OExAAoCwIUAMGGuQUBF03vBy3XiDkORFKeVxt/3fh+X08vAAAIQQIEIjf7u7u8vxERniIiM73GeMgwgQJkyZMmLDgboiIiIiO7u7u7gCIERERHP3d3dEREQIiO7uHAwN3RECACIm77u7u6IghEAABHAwNw4GBgYGAAAAiIACEdw4GLd3dEQARERHA3Dz/4ACMEYeHh4/Az////4ABxhweHh4eAAAAAAYeHh4eqM+nD5HYiVAENIlCwE06Ap9+X//OExBIk0jYgANpGufYZdF04vqKS3A2kQKI3oLxhCnFGw6LKSy0Gm0sy1U1UMSVVSjhqRpE0cTTuMFtZnMzaVgdEDLVMLGZkiYtkEDDAyXNp7Nmr4kKqZGZNXlMpUE7twixQ+K9kX56nDfklhjIkWbXhUILOQON0J9pUrjeLqnfMshAZ7MSAqe2nZ9nlCaoy1cDAjhUbf1CQq5LSWLCyNhDNGf08Nw08MxQw/el0Py1xnhnB3bBwP4VehiZFCF6Q//OExDEwxAogAVxIAdMx1CRpk66b1zk8PNoFj6BgqjjKUYFjt5NrW2zSSAm7KdyhZtpO9t8JalZVOa82ILrO7W9AxBlSDGNJQxjJXFVzc8ium1BGTk6NsVtyjJdtedJzXYUTN7NG+MNmRrrrzqGwdDP0m5v27V2aCOVU9XXjk98lmGLnPd+Xmx3bnq81MlmXP7knRXR7rWJwy35++iQAG7gqihdGRd6l/UylL9d2SNbfrtWmaLQ/dW1Rgs3OkX/p//OExCEvpDqEAYqIAKSzRalFxzQnWNyv/0GcuIlovkHTHMLZSKpBQxIISh0QWEbdP0ywOwuE4sQXFli4yqM2RQzDqBt4rwQsWUMeGMwyQhxYJ4LgFf/8aZOEYThBCJn5gsuDJl8nzxfDHRWgZHD5QbXDkBoC+AnAy+SUQnHeLIGx///6btTfMDSmmybopqVQFziCgzBVJgihIETMyqSBmaF8wMxzyubkUMU6MAW0vBAA8iBPGV838npmkzu/ObNJ//OExBUsnBqkAcFgAdm/z8zMzMzM3+epS8zmz89W/zN9ltflooqcZr3G9PmHmHmOltg6WQlwzWFonlYv8sDkVicDGMsCUKVC4/LR9VxEVyc6bJVq499I2vWLobHyp9TtbxSvWFNkfD7z85PXzM4YPhJhGcRzE8oVzZYhTzXfadg+LJvC5SWWupDK7MY7H+WqmNtfm+sy0ze01ectzEX5M8ua2m8/al2dNU5V8OCZd4vxxIEIjCCWpMzBadiWqoyS//OExBUsw96YAGMQ3MlHCc+P13FdHdewaY3eKjq9HkbaKrUR/ZZ6H27aZ6JhMVya/9qQfN3rUnMWs/SdbgNjgt9ZKELiQGqDxBJIKseOkQTGHklHljhpUiKpMjSRCEYPjiTRVrKsRShqXuShzXBUSpI5hUk2GgeShy5QfNeHQLhOKhyOdnVijp0aGObWpX+olVWGZm/2baWi2gphZtslapmVYOsh1YKnSx6SfskAGl/nLAhcSYkGVAlOYoYl0FxY//OExBUqIjaMAVrAACgQsIQRGQGF1DLFCAOSBQqIMcORALiV3jAIFItIhbr+sJQjCBgEa63jhlh7O3Hkd+MQ5GJ7Uolk59uOxeU5P/RyXUZl8qwp6rx14zGXyqWqS3KMrlWrd+9S42s79LXo6CRRKHovjQ3LtLb3VpJmQXpT+PMtfvH////Xf7/P/f/r9/qtqwAmDpMwMdQ4FA+591L2XIVWk3UwtUDRiXYqUFn0LZUrEQhLRRdDjg4IFJA6E8hT//OExB8rInKoAZnAAKINSFhD84LUIIEEDFpgiUwIMHEQHm25lawtZgAEFGAEStGUUfumpIQ8rtwHK2aO7cmJyfs7jcPy+HIEdVZ79y+LwNcZM8UksV5+WbtyyYqWLcil3ZuzDsjgKApuxet4WM//7UunKKzn//IYrhrn/////3D9bt97//rCnr38Jyx//+fcu5d7V89/N7/CmSVmRe45aMFFRVAaRGiKMiRoq8BiT0cITQ9HUqOuvNcBFCp3wQQG//OExCUxYnKUAdrQADJtCYIFARny4GAiIscwWEHzK5haQMlDFKzAAxEHHkD8oVL9lDS7tGv2HGQzEGNCl7SpiIOPKYy/UjYw70QWdK0JQcCU3LPQYzB24i87ixth0agCD5e16idBu000htpGpKZjTBYu3KJQQ99eLwLRRq3MV9bs/j+v/////////+8/8cLmPaevd7S5b13VXX1r9y/e7l9MSB1ansqUIkH3//6VWgkIdB2msCEhvxSNhgCYQUKA//OExBImwi6QAVqgAEZIuDEZkZxrQxCVNovBSUvipk4YhAK1xowQ1qIhOFFMLDgQmQNMDH4CIAMFGYY1FhGdFKscPyZQOGq2TOHz5Ml1ZFS6Pw4jYVqLNFmEgfH2J1LpKESPkBLxmRUunDY2JkxNyIl0dQ5xPi5RcpKEVPE0RZM1Naq0Uf///9FH0kjrKPSuLOlcO+doMn6eNzTCM0UDNrATMRnlM6SmMXCfKgpmMIhGIQcmPwIGAQDmBIdGJIDA//OExCoyWmZQAZ3IAFAowICFBCHAKNGGkqc26jz9lrXYZ1Awl4HOA4ZyU0VYXwjMZmoass5Vt1BLWZbQWKt7u8+Yt2QDAEZlrcX5yg1wMK1HewtY1L81PX4AU2f3tNVxgmGYa5utjrGvurzVa1dw/8v1jrHL88rm+b/vf/P+brb/uWub/8N/rXP3r8Ob//u/KxVhnYVIwAY5YRMQhYjY6lll3nyT17e/FRj2IUowgJMtAzAAw1ojTjPUa06AwXnA//OExBMsaxJ8AZuoAKAYEQDgHtrauxIrVmM5SjVx8ZkPnHGGMwCAUZgZTAAGESkBnQQl+maAYCCAhGLGOeC01AwQBQGAcLnQoM5E1kHUVBiirFTFiLKDdisThcHYbnxhCyg0gKAAlhvv0GldJjhixRKw7ybGGWhZA2HpvTTTX6NOxeJ97UVoJu22/SVUyD1MyrJMutTU0v//QqQdPXv9E4Yu59xSpv/9ft4rRasSIRA3UQVL2msCSVWURHW4spNs//OExBQlylqcAdqgAIyI1SgHcUOFrBYpWjIhLR1TIwIoMaqGgYUwAhWA0DHJAABB0gs0MGDQJ0dpXRJg3kcaLMSJ1EHNjIpnkSaNCkOecNhGInAhwlpPFEio70SOIoal0pGii2aGRKGiBPDMGBKnDU+MwaGJkVDAzdlN//Wp633/p62RT39DMGCyBCFgiUr1qtQWKQDcGYcVSCh205IVVQym8YGwyJnosaJsqjIhiIppck8PPy9sAQezZuxg1Dw0//OExC8nkoqYANZWueBVYIJm2xBykDzyNdvSz6es3+sZBR43pH9x5Pqt5qStMsQWnu80yu2L2CCQ7rGiZLbVHSfUBOJjCWIBoYjocQRBm8jaZtJnT///4++O2U+99yyuGRTHvNbL6tFC3KuSWXVOrOXORJzRLBe5+Ok46eq/ERlse0ql2lWbEtCGHiiWdLuAVSPCaIELRZrko8GWnqFMatJVKIPmYU6kRJRS6TCIhe2RKrvhndczLbu48eK/yYhX//OExEMlwnaYANYQuO5b9BN8wl9LSw7TXJyBmEE5hh8oH10HR0CUPaEoLTZBadg8cwTB9YkN5r///5Xpr//r1jGkMQWOoeapStJRTjFQgcotAENmCh0VOlp5T0RYz4vf6U71JBeSPFdAEZuQYUTmPDpkiCZmFGDhhj5kZeDQ2FwBDMBBLejCL2WFSmiyj5Rg3jRHyLiCZGaW4gImAA+MAiw1I4TpbFU9P5WxaM1k8zW7FO3Mz583xIZ/I5uLcjiF//OExF8m6mp4ANvGuC4YUupVZDWgJazq6xrC+qsPmpRjpfnG//ZmBjBkMjCk2GhgJBRgzARAVwiCSwF+WqHgIKiLzx0tI5X9v1UETJ2TuDhc+VAMAIzOk0zdOZWYkQiIGCwSPAhaF0YYXm5LutKdapLpdlFndsy6zZgGUuq/4w4OFDKXqOMGXYta7FdzVa3uv9WpetXCGonIoOAdD8HkgidlJbHtbP3wlCR62nWz3MO2Oh3E/XF///+zf3UW/i2x//OExHYlQi48AN4WmO4+YggKWhU6EEuOhrN9Wy06sO7NGt3ctSapa1Yza6s0E1TTp3ObDs9WETQQqM1gU0UkzDgYMPghB2Sq+Tmb6KRq1KdIVRJsrSxYqnuuoapVpeT2E2cWNrcWa8WsNxvueS0CK/g+m5IbnrKtxBisDFW2WzF2bKtkRFuWQjwrD60pr7SdmbLtkb9Zqv/d2f2+9vmb/8bv23ZK+84iSak0LMwMSEKQK4RMWRqNk2LBVr2Io1a5//OExJQnSmYoAOPMuEVdSTfAjEkaDCozQeDmdQOxg4qgZQQHHgrBDWI0xAeA7KOw4/1iAc5bMSqdjNh+oM2QqsD1B88CUOhUUY/KpSSMORo27tj3FBYWKLIeo2YRxvVkm2LbZxVJCHMVCV2Pqh7KNct2bKi5vt/6xx1RaXapTsvHcvVNU3VITc9wu7pdxfa01R3W7x3SU8cTlp9+1KQuFl28j9VEq/PEYL6PuWV4exu9t4d/lTfQYBB5WxBiIYYk//OExKknWwIoAVxAAR3EQxSQOXLAxIMXOp6pEIgbchGBju5+44kmvAr4YUKyjUq5uxDdt/zTpQULXkZxJn+GW4frRt374RENCLOgIUKCwDmu731x5icpP6bseDgZiQaKoODs4/+5d7+8c8sNThlwpUAAogoMl6ChZcXWs96wu83Xp88b+Oc/G1TGKACwtmjJxYYyNnRkwufbWf4flljny3qfrWIplyTX8PUCQAMGXQhLGkABImZDhUKh4jg0jLD8//OExL5GrDpAAZvQAHW+4ax/uWu7z5+X732X2tdt1N5OSyd5WHwe48qoHfeb3vl/yN0Pr54Z1Ob/PvcMtZfnrW/tfd1luvLquvy3jzX/+Pfill94u+7pJ0M2hl12WXsIHgCx77uPAkAOolDBwCjOcD8ZAqYYCEOjJFAweF4R+KQiOusZ9OhVHRGJAydYeUrWQMhaR61mIu+BkkDYyHHgGvClxDCFIeOIvizyaJkh4zaBdLRgbk+SaDl82QM3czM6//OExFYlWhKQAdqYAM3OmZFyfSumgThE1LTN0CKE4fTTNzAhhOJrL51BBt/W1JlV9m61KU/3QSNE3wEBQ0pRsJsJF1DvoXccWa3WOTUhAGXkAca5Jp+LBhR3QFlrhk0MZGQCAL7MUVQcNyglFRJfisCmcjVxHGUL5hBGcwsGQGaAENzrPisGvNub+MpfPvutY3EZH+36t3Ijb+brd69WGmetvR5B6KblIeSkxbH2GCRTMA4j6g55ikIOfQOGut/9//OExHMlknKQAN5auUzT93Q2fVoe6lK+z2TRqso2RZzQ0Mi+JAD6vpLYe7+pbQpslXimnLOphGxzAAOR57uNsbeBM/gIAFxErWSQLMMJl/ywQyMElBASOiQ4MCnHYESTghEL90d9P6KdeKn1m+Es3AN7D4KnKr6y/PdNzF2ZfnjCM7rALV4MSCaSQJh82jWqQIMG7gyG8hzUbh0GI6DRZJ7+P//9nLJ2/Ee3//21/X/7/2v3sOKWxRp9wMB5Y8EC//OExI8mknqQAN5WuBcxNWxzvfZ////6FblfM86tVdRg0tDOPJYAJDYbcIdRiZGfdnIMP4VDpKgTQ0b0mMm4j7IKn8LbeIGLTl5Rxru6ZhV7B4IFzxcq92UPb+ECWt2YE+o7k/WbpUytpJUSRIi0Njo1mixpHJKgtxSSIQZi6O0GE4ZHiM7IPQ/X0e+vV//9etZg5iiXHJxkSKjiCk0zVa0DZJan6mRW+tqSl00lLUgy3M87z8Xr+CMKnSWERDcY//OExKcnIwKMAN5auQIZAFBjcSJ6AgzEyvXZDBg0PBAWvMLMLhwXjEDTCCtSsAMkKcwWwsKeChAsxeq8FEU1FwLi4t5xR8HIXGZsUbjgzFFOpENVLGZUGAI4TqK8LadLiTAaJKM6j4LRagjgNOFIRBMaGQHEx00jHiWj/r3nf//XWy+PFySDUi46NSBcqz/0LjQVBVZ4JTv///q/8dSqSJBIGBA8HfwYmJQUhAEmVptITg4BjDQrDFUFlbCUAAgA//OExL0myl6EAOPOuF/C+gCB2Xzwjq02GZQzqXzrIl0xVcgBEjEmENFZG/bX2aMMcWYnXci0ihmGm5Wn6kzyR+SSt+pNtjK0G4K4ffcrjV73YXoRVBcCQhSAiIAqQY7ojZ1Z6KRHbZ/v+j1Iyrrvb1R3NDncI4Iy+pn6v//37f//FB1YAwFAkxir430OEYDYwkEI4yFsHCqYAiGZ3hGYGgoOBIYKA22s8NB3BC6gZg4klwwqVYI2KbOAl+iiucte//OExNQluoJwAO4EuGAqCEQjbSFpUQGuFIxnq1VgFSrpj7Tnaia6pVHUsoETXYY1oFHLnKpoQsTij/Uj9WMUpmyZaCy2LRNS1AlYo4iFnLOTWQzSFXe+22s3Hxm3/43///7O5Uxuvv9brs7alT5lKHLInB4FOmpikJoII/19DDgLC7v+pfVU5gmVfswEBIwbpgy4BgwNC8zhIk0WDsEgmY5nWYugoFQnMSwwL1F71DldhUBQuACvAsgANLwqVIKp//OExPAuUopgAO4MuPqmzIWALpfBniA1MJkyaqrlQMGX6vRz3dZo/bSX7UwVUguGE/k7UR0uy7a8UESm78qXPo+0Lld2du9P6yLTzzU/1oJzR80Ludt00MXF031+21O9/nd/9//9P+WecYvy7fGdn+f/6U8Yo+C41KrZjcFv/8y9CTgu7/5/8ioDEUJRgIQnGXuaiApgEsHpF2YsCINMJlsHF7wQT3pZCoJKRGB2WRQHLXqhwBUU6VZ4TGH5pXgi//OExOktAnZkAO4MuG7L9KYt6wGblDfwzNP7LYDkz6ttGWiOitRPXTD3Aa6zGBIatU2Uir57/+T22N1aqKhbNoQVF4FpD1KV7KVDtlcfaGGVb/8f/Wnd0WecJRGFgqQogEhxdbUhZ7V2RDyaUsXMtSCHy4xwRRPmgGxZ7/0bUf/r5Rr9SmlCgMHCCpmDYRmGCuGlIJmD4IGPwzBxJGDARmP4mFUBDAQF06XBAwCsBKgFFAMABDLAncN6HKYtg8lM//OExOgrGrpoAOYQuHKsuJcjmP9DmJlYXBXKpMmitD0kJJAHMWI4SEtR3KqNp7CtauL5rWnibmhqlD1JKejWZxVZVYKOJNGGqJEGLYLjQ+Wdr+f/+I7ordYKGCgjUJSg5QloOFTms5ZmFeZdBAklhdiYGEgSFxU2wOp//9an/0fsU8sPDYdqMABcYtx/uHGqz0a5aRqdFGODmZiFZhojmLyUYpBQCBQGAzztZUBBgBMBAETYuxDzELcq0kojmYGa//OExO4tEqpcAOvQuBSq1Oq16wrp21QdxXu6TbhK5zgHCr2Cdxi0xvVK+1a1iIiUWTMZ2U5N2fVkMZHbeFknERXe/T79dokdg8HSKxirEmERwkt2EqOcBWHAEARSh0oiKwVeIz10jSLNNPYvLiyYxILO7aPRUpakniKqMbDg0PWjkrgEIgMHjozKPQ4Ahg/MRjQMFKdSfcpgJ24+3aPZy90aKVWsMtqvgekHnlEoTzyfcpaU2PJCgOhyO2zVh/Ot//OExOwpoqZIAOPKuKjt3dxdWy+ai5pnVXfvmqbTEds7G3TDt3Mc0+E4m9lNhdh+1bervdGcNKbZxjKQmTrmsmbmV3PVe+5hRybXr23ccvl1NrVQ3QsxlUyGta9eqfERsceudnTOeIquGd3uZXczL4i3OtaK1JqXuxAIVTXxIyIaNMcQAamCHBmUWNHbzkAOaQMGi0J3trezWI7pjsAQszvzTuGkkJkISYeBgVWNeQDNimcjdywiWiSrsyQaOdJj//OExPgszAYsAVxYAdlAPEpjA236e9TxswgCBQgSghiAUEAACewUpmjgplgwROtvLm+bbPFL0WYYywIBFO0OzlKZob288c9YZsXcB1MqkgfePpfo8qRZysOl/3l6kww7bru/I46w9g8hfd35Y1tgbNU43GSSTHbsYCE558wvX7+e7fc4xWcSBL3vxRYS6GnfCApu6Y6AtGtJcMA3OUbZW5CeGV+r2QS+V09r7sosWv5I431t5O/DsPw0yli7sNYc//OExPdSZDpAAZvYAEdenacyRf7Oy6YXARoSRnEAK57OGEKdNDgOS6wx1ndpv/LmtXbf//P39SemrHdUl3eHbeNvPO3r79u7PQqFUTiufLXdtTb6xeTTc37r1JmH4nH1X0gLgV3UhYEj8ApOpFGtCRzpQ20+NRhgS0WKS96brcoU+jTGRNzSBCATRHADI1EDIg7wGGCMlHlXCtgOVd5tWsuIqNgT1pHw2yt07cbiUgdx0IEdrlSG7+qWWRSL3L1+//OExGA7u6JsAdjIAZtTs3L5dS00qmJRYmrHMcOa13OtexrZ6q0t6BIhZg2zJovbr0E5SYVatuxS9m4rF6nzdnKljmGtSu7ypap+WMa3cL92zzn/jzW8ud3q9fs556pP3zPOaqQVNWOzsPWZVXwm79qYvdztSu3ZxxzobG8ss967hex7zPv8/v8zw3X7hXzSd5er79XbQLfespmsdkMDMaw/MB5kgSOBgylgFQXQQ5P8rNHYxG5uF3LDkSiggqOP//OExCQuIuZ4AM4QuVTVM0591Dy1qmrnrRL6mFhAVMpVUs83TigyoHFYazlksMsFe2/TSt2nhqT9LFqWtY3SztMHA0pN5E4hthlFa2Fh4rEJOxrFXMMThwSiDqGiw2aFaloGirvIs8sYvZ702aMqOt+buZL0SK+rmtq7S1qxd3mJjRzbcs5FFlOO/h1RVnMk/u8/V6JyDx2hDx15P3/NW/8qfVuwW6jSgBopi2kdoLAIcM7d1oVQoNJASB2J7N+I//OExB4sEs6EAN4WuK1n/g6w1+Qyhx56VtMi8rYq4ygYM8ClsmRfS/d5NFibzLhmGaLjjLEGBsPnonGKGURirUpKtSNzUrf+VEGCGOofB6D6COAeDgPYD9ypImGcR8/x/H7VLZe2rmPZvl732nNwotB4mLm8poGtqVKTIbpHHoNQWPs90HGb5ZdrHx3pvKDJ0LWm9f///uS4+sewhtKDaqGPg3GFshUoB5Dmg9fojpTlz8WChGGAYHvvEiPabsX4//OExCAvM+KIAN4O3b0FoGSx6UaJA+rF7cBKjtNkGhQySuPTEBjQQSRMCQISlqL4TBcd0y4q52Zs0h+np6lJXsYZ0lSpG5XBjtxduUGwplMacUuyteVwFDcXlMopKXWFn+d3/f//vrVPOHjzjUZTmY6VYfKj5oiiORZs1kVpzmjZiyESaFx84XlXJozHuQdSogGjmECKMq9+n//////fdrZlijyuOybZTW7JuIhejJSN/TC147NZJh4xAXORQoLW//OExBYmYraQAN4auDGBg1FbdDvzzye+zNNvFCMYi/nIi1ydeFKBxiUBxCy/S2/wbrLJp2nfnokruROE79FVovq2c8ccNzWFocUewXYvEES0SQSkGyOIchqXU0kal6S1////Wp792ZG6JkbLLUrKW1a6kpxJZy6KkkTAvMcRrRRnmMzdQu5/////2KWCwYAhmo000wmJjlYlCAEMik0+yGdhQJGhievNZooEWg4LayrylKC7Hl224k1fm2E46dpo//OExC8marqIAOYWuBTlVjvyIQNZ5SN1RYzm0xZy82R54+7KccToXywlUj/VNh+8MIa5AfiHyKJT5QIqo7AKmkwb6PMrdxX8f/7P//m93w+/3f7barXNumbe/YgcVPuvOLfN72SqrtThE2XsBPZ////82cnRVz9F/AKuznpn/EZ05CcOAtZNOec5/71nF9r9ufovwHcbPJrXtnmqAiAGNSaO0yXeeOG1OPHoiHNZM2yZ///j4+201F1Q5sp3/+97//OExEgq7BqYANLQ3BkClVLToHZ/fokpGlYu+78x77lt2/ApbU4hjKQG9Hlg4EAwO2MPd3OXU4oXPF4QcLny5YuLoQKQPR55Fw/uoFKsgPFDsPJeCBRElKcs8jgyDCDIqbpPqyKl6LuE5uHuEp7hD0KuwBKX0fJLVljVqliO6/Ov/X8ie6s7GEmZTXyzlZ+//T/+ld3k1IomdqEzlDyJNdNuZBEseECM+VeYpEgKtoFUkTaAo7Vab5YwTxbGkBIO//OExE8sjBqkAHiS3RgMt4ukUL/m+T+JKKzlGBo9LSTRAdpIgTCkQogchkUGKSZqaMUNHkJkMEC44bVF5CkyHysZ0TWKzK5ADLwHPmgIREpkjCbQ6TniJkUaIEKhxBSE4Y1AxNHI30inyL6mgTpaE1XYgHmL////vNc7/////5mpoyROZjFNm45ZgYdb5qL6/esqXdjP/tm29bVyOYqNIuPmY4ste8GOxOxTfvqvg+i1ttKiSqdofmDhr8Om2WtD//OExE8l3DqsAAhY3BnbMZZKw5yMXkLInaXLTmxkErF+JEpSksTPP1JWL6wUCddfHArhOWx9T8b/ActrFSBK5p1CXxtNwURqX766jprj1IdtZiuszEqQCuyei/9/fq/f9evr///0p650Rr8VMUBw+jNHyBsy8yYQFFF0kl0D4qaKV0qR4iMLnnpTInsQ9tQNNRTZY85ETbaU79sqdfNosRQyTaaBLpNJRkvmsEJdFA2KWiw+FdSSeUXaPWfEZyA+//OExGol5AqsAClS3dmmQyhBEzBCSrJESKJQknAUkKp4LB9AoToiVLrsIpsQuKUrycH7qFJcGCGfcKrYMPp13ZQld9+mTZjUMIzzDzFKLsYZV22X1//U/99bmGIpMXrGw8KhUFShTKiEW6lkadiq09TGrQ5FbK0rerV3q2rF9X4lr7Km110LX7i5mdYhatmJYPtaDbNL+aZRrX3XKzdcpQWHpe5ruisvUdAdG1VtD5nVi1bZctmjEeLn87dZimKx//OExIUnnAKoABnY3euuuN5H7GnLtdpyOjR7jVK5PzOXgfQdL9+VxhhRN6YZlcZkwR6nEXnZgtjYX0bifLSNheVt9ZD9epL9YLQtWpPX7K71ay9//9Pv0Pf/Z3zvXqyuOR6Conac6yzEVjJ8OQFR4giYHgsaq0Ko01DMzXJtbFW1tOg0dRKjCrXaE4lUKt6n+B+a6pa0yirV+1kD45bqrhZa4h6bbyhY7aMmJr7aaVW4aRU3hn4rJJopmv64vU30//OExJknm/KYAGMQ3b5OMd3siqREAwoVOPyToTExAaMQHDMD40AeMFBisIMRFxoaQoVICARWEHAZcA0SA5CUoc8QAW6utr7ey144/dpqScubnLFyvdobONPdx5U/dLdz5zuu93lTzdP2zEQY9lBwAoJnZxjisck1bN6NfX1yv/1//VT/7UlRMRKPVRCXMXd2u16rHGWGkMInSCWSJkHQ0VMH2dMJBURCVy7tqbKfLHv/VZhnwXATUCc9cPDhWOGk//OExK0nqoKEAN4QuL2RJitJZE2RnBym1BYYx8FhpnojBG1NpoIrGFVHhUsTi60Wf2browr8pVIP/Ki72k7zcAWefHbWsoprWT/9qtjg/mMklfB6IkfHD0RInyoOic5MOF0Q9WZH////+r0WlTm76GIphwqDCSkxEWIShhCzkS3Q9aNstkQ5lVjzDCCrkizv/Y69Tv/9Sn2fVQYxDKG96dBIODLcDJaU5IAGAVAkdQ6/5hg2iPSzBq85MBPcbljb//OExMEl2u6EAN6UuJ/GEiJinDl5KQ/eUB1bcw9n/NP3z4MkP7kjz2K7YJNh6wkD4SVvKLPCJXk1ljmChPDRiaG4gnISlLQ76/b///qf7slv6nUgXi8gdPD1MWUupTLRZHb6kndd10qSKUzmyzdKHf1v//5CF7J+t7Vg/WVJyhcDjFqPDHMfjCYCzBsADIQbDAsKiIHzCgAAUiwKBFQtMQwJCIaCpTyOhgiB6xG3jhliI/sMLhiOU7jVpNGQPhyS//OExNwl6u6EAN4auMOJ1UtdO6J0s+tBiVDOutnWoV9O9jbe+7yMlvnuhxxGTTlqNS3DKgh6/lPQzSWpVHZytQzuse0vdfa5+8Of+omhD///5hJ6O62FSxMFHIYPPM1m412RSouTV/qVrGyjDHGHaj/+vN+n9lai1+Vi9K2laXqUrMgsDMqqKoAgQAoYFALRhLpHGOQBkCgwzABA8MLsNgFDIGA8BEjuYFwBgCACUgWAATAVABSAbxuhofNRdhPl//OExPcvTB54AO5K3GCl7T1khCcFsOdoJLi8geZLuH4566JfOw0/GcrZzI/mVy0kSmFPuPBk6RLMHn05lJZ5TMgvuMGxYijhxCvKFokoUS5plIIxsQL6PVWatTUzXrdVx7f8WkixByJMQlju7ebQa8Wg1AW5cDVFRQepIaf7WUEQ3Mf/alZcn/vrWpYijp2GqioARhiBgXA4yVZY4EAQEgkVgmCR/EnNCwMEoFGPxiKqBgEsGMPhaBwSOCkoYCiG//OExOwvEp5kAPZQuPvG3kBwFj0MqGLQdSRI7mCCJRMFKg0FLiIUnAFSByHAc4f8wYlYeVP2ABiCkUbmDChdB4X/EQsOF24KMcQBwB+ZWsht60saXP8nHbk+MjdiW9TTTrd+JO01y9ZfveepXLNXcLHPioup/n4/39P4+Ee/REhTHvIpZPcgRCEqnhKFEDgdAoYylwQYQDQUCMOwXuLjBruHdlh+AOcpweEOeLn/v/////HpMaIixeUOhKM+57SY//OExOI8RCJwAO6Q3adpPuKGJES7n3uKCi2D85x71NTCIeI8KrUsIYJYoRGUVC6hhV2GcAQ5LADEIIHkg5TrGABcXqfmVDry/JmJChMH/EQYi29ZuYGlbjFVbDf/fhp7pn0YtTq0jNRUHrqrEhc/BLkh30Bw6ISBUeH5+PJxP/lTo116aomvRSljaak7GC0qUdHE3pR8ficaS68/9+Kcwu4f7/m1bQY6kT9tZ+q++b9JkKH+3lJzhy12Yteu1ZiZ//OExKQ9hCp4AOZW3TDkkpN5sTiMzHsE8vPDcQZcZk4NDU2YIM8fG41HpYpBDNTZIbxGDpBj+sk0/8M2T8Nf91DJnqOuJbWeio5ruPdEQvvl1bDznzW1F0WucOtKZQXHOUkIVJwDFp8dP40TWqKQBpKJl7F6EQi8iINPcHXl6XfZ0rRXxdhs/NJaNSq4EIkn1NggEiDfFuA7wHSQx1SxceNAOEVqGZBA7vyuMFhCGLtZW2L7xfg3XEsRUYhso0wn//OExGEtMwqIAOZauCR0kwNJSckQ5i2RMej0Orm9pxe/Q1oc9Ws01o89otqWhUymctZRkbqcxPmaBwebGxeeXFlOgcqNDpJm5MNmL5Qom8m0k9rUMbb/uUpxyoZoqlaEKqWVSAEpYbyuNGRDNkwzfUiUA4tgu9DIgMygZyvDKCaHbqs64e9U6nscklqPtSGlxTMaGGIt0sBgdY3V0n2FXOdjMLmYrWtIeIlyiEILIWdqsae/WUeq82J9OJBv0GTj//OExF8vcwaIAN4WuKwkAnugDxM5U/j//n9terXtv3s9H88ziWb0qntkS80fdm7oPMvh9sS3ydN18qebmhSOs8dUeb0PRPJyJYO8P5JFw2D+mhIeCg0aPOTq3e2PkxcEw/HmDZeGixOtBEumnay5THesT6QUKA4DM6gQCMigS3IwZhM0C1pMzEAiXpuPoBQjQaS+h6zmpmw7esWhYXYKYS15uKigGsmtPKKmqIcGNSW1Gu12Uy3tZMJi0xKi8K1b//OExFQraw6AAN4QuNXmpdlrGPDlpQWOeJrgFQjTBY6M/SP//+YatZqUb1Wpr+VS1qV1Wf5WWuVrdf6iPa+75YWmomtmYWOJDk0pgeAWcQA9GMULMhgd/8ssNREssHSyyMs8Op1PRWul1gICZjPq5tcOaQgqBRjMiBmKBBKDqQ4cIg8EVJEjBQAxoA3sgw5nX9hmdBC0LrR9EWdrQSnBzG6rFM4t3eazg+jNvtvi/XLi5G2yrtdt0sZQnXY1MQ7e//OExFksG6JoAO5OvcsLePMruse/+XOb65z0LuaUBcSNCARS5ImqHTN2ac6FDWnn81q7zFQ81hs6q+ljUoNnMaSyRUqUPYi7m/T//oav//7//q6nrPjyU/9uvZO5eLECvnLHc6pkJAAAVEEwR3sxzE1HAiAkxVVIAAUkIgEMKwoYlEWBmDYEQt2k6w26fhxPQHIzErS3q4RNIdtdRBxLWcOOrc9/2dT2Dlu9Lo41iLXYm7bvTbxrHR9uy9mEW+np//OExFslWpZsAO5EuC/yKx5Eoek5wSkACkMEDhVFuZum67n6WTL/mBPVWnbS7U0Whg7mKCZhzhyv////2phlqDXbpqoWqOGVSGCgHMQkI/EDzj4SMIAEwUbjTjRIjIjwYhDJiwBvJEhEAWsuKtAwMEnRRZDOY86DXZ6HIAZbBDOGIO/FIclWF2ggWYlD8T79xeIT/Xoh2URCFvq97vvQqmpS+7+UmVfLFBxz3MWHIWbnIVYIxgKW8p2evx+sXlTm//OExHgl2nJsAOYGuL/+XvPcAMAKIneoR00XR0FzBQ4l397f//IXTtv/R2UKTCAgCmJJbngKQGNYbGDwJmFp9GI4IA4BjC8KTD4BwcCBbhzI5DjaAoAilKoU0wV2QBjG8FYDPNMI4nkISZ5KtMHmp3Q/GxhPdmW4a0pYqNfRESyLCMURGSjMJXq2JBktBzK5VIQTQWIOmm0Dzz0sy1SuY321X2+lXEnMEgdlVRJQEEsFKpUuistkFQ8FP///8ks6//OExJMk+oJsAOvKuC99WJmA9Ykvg44MZJw7lAQQYMPGPCBiwUYURCxwysvOatZ85i1a+4uzMyTR44xCjcODlCwMbppCAAiIFe9pi81A1L19xaN2o7HHIiEy/k1esoTTZmJDFcr+0DsHAwqxUMCohx95f2eM+HkSA8gn+dbgnFRDZ8RYcB+8HnX/4fhj1kXExo4okMS5y1i1fVRo61IWFDhY9w8FBQCgL5AQoJH0MDDFjVpDBuDhDQCGAJY054yj//OExLIioW6EAN5elANMZMYANUiQXLiA6Qa8gbQmApRykh0BgONlsklQqBUGWgl5A7iMViz0N1kb6sMhh3nUdWAoo9NPNtBzfZml5PZyEykzJSzyWEmPBEYNQ+DJNRYGRJjkKQSAZSg3COMseI/jLMicUTM+tNT///rRSdSP//1oOxuaMbqMlTk+G/jWQi9gEar4G/dwMpePlIkZIPRkqZlyjwGrv0YMATHCUkeoWw8odCRwRmhaip0DUbdSqnKJ//OExNoqslaMANaauGhUbNWRYRUOa5AiyZIBIF5IkRBSm0o/LZerBI3aeSVP7k3fdOzeXsiijRn4fQdTA6bzTH8Z/A8Bwiu6kvlUCVIZyfHGJtvC2tvlK1+RSDovbhFJGbd3VeaD7nGf/2X14MmkQ3/aFnGi9xJapoJOBcfEwLEDsXfB0pfwVQDQAQjRCIQXMPHTVMhWKRwykZmYKFMiwiTWCM4BM4VLNsoZAOaEORQKPLk0KzlWGmC3AkyjeHFM//OExOImaY6QANawlDlKXsQSR9313tq2igynTBYdgp4mkNxW4gIULL/pLIfJPM7duJP8aZSngdS+tOClLsVB2oaXA5A4CZj9HATsOMexGpkEZZdD82eKVY2TcWskK98Y/////////1/fed+8fN6Zmx8emJrYi5iSbWLg+VvpIxrkEkvvaBFVmUXjA5XLGeIcZIApAAZgZFun6Y+KvEEozLrFcGzZJSCEY9RoKMlB4niIhYGAAtpMp0IbAAd8GLlm//OExPswWnKIANZeuFfBsOgoEvSJZuUa4qtQKDpmeNDiSTcSXXDj6q0PsnHBi82OJot0YgIQInHYGljSjAT5A2E+LggyRJDtJcJiOMOwwBDAEEQEFsCRg9Acw5oVxgF2QNzUzLpqtdf//9+p6nqnDcySYuuaqops1JFkDU85av9n4EDwnYxn/+I1igVJnt7DU85hEzwwgXmqUg1EYEsFWZzlIGImQPmsPl+Qo0HRbiiqy1E1WHUPOkqaK5WWVJFR//OExOwtYm6IANZauDnKdBCWidYEoGlJ8glCEtVsKQyW86pdjrDUm01jdSY4ZQF0So7QDkkp+pNQsqdRtn8A/mWSDCP5VPlMp2I0i5FuLkQZCkOOaJq1oV6RZfPQFxChf/WoHCAOnSJ4qoDQ4sY/16/+eU1tP/5IJkOxgIPnJCoYoFAKhQgBpg8VLyCAqYtB4jA4kKJQybqcKuWBF+bHr2A3OsUgOCIWI2FW10dRDnlVqHC7ApDEN44FBM/sd7lC//OExOkoeZp8ANYelGB6l1G8ThyF0XNLRGWFFKeGVpNslyFmpIzaMnDxuM4vxGRJz0qGJiRea85y1RhJlTIvq9XfU1Il9tHN/zzXtGTm9llvTR7c5RjNtd8NgvdXOa+p7qC1GNgnXhOk9jagHB8+U3kp8WUoa9rVF1kGejZoUg/01SQEhQqGcX2i2aR4ItHwKIjnJbTUMkHowWCx0LJmtlZPOLXb2Gmn0DE5ZD8HVZRZp6LOKXIRL3cil17MmmKf//OExPouyvZkAOPSuIEDC3FMq4SRS0BTiExLCRNVak7jdWePa4zhvc8aVbY0qJKyCQOxBN+SxSpRVIJo4jC5G/LdGKOU5jbvG7dM+e872W61tKTjzjzrTVptu7bnWmyRsk5y9vezNzr3lpNJ0KtacLVSYQDkGLmhkeMpD9Gn3PTrNrPLkpMYKDpJ8EUd49m5Ipj4VP7F2Q0QaxufTax7lbf3/9dce17bq198vm5uWTD4f3f/1H/zf7bVgvSKdkQj//OExPE7XCJkAOZW3WciZAYCOefAg2MGEjcQARi5gQOqq5c7jPe1H0xZwjbWaQay/E1Y/khQK1crJxRHynnMGsGKS5DT8VynhQXz6A+Z9LyyxKY/lWbxiHgwISCYuN64hEKRQCyoBcQQJQIgZNBGJ51GIi/+b63//9/9d8c8u3e/+OWUy333tr452c9e73NY41112ON0HPqbfDZti5u6FkpOkVKf/tvXcowIfO2NggFPbGDIAYxiwFncQC5M7yx2//OExLYnexJ8ANvWuDJ4MogyV3yG8t0F+y9ypbMPWYzzXvTWGCWPEY0oU4yQ3X6XeJ3t6xSNR7dirdCc0fh/DmjEDnjgGU4npPGMN4xQkBsIINw0h4HEKRuaImLqb7Mpdr//+u6G0zRN7qrZt7JIetBTaKHoLUs6kZlZfNz5oigndrqTWmjTQSNgCITA//0McKjlgMEJBvhGJAALrRIpNrcAMWGBkZeJVQWEKaQwAyWwyx4ZsVln07k36ZkxG1ms//OExMsnYw54ANvauJvGaPauFC5qUV0mxApWS7i5Xd1h3hxm7Dc+jmUUgVXOFpiQidvBCVAnMAoOYxKTZdfZx//H11xbZ5vvrj/645bTLXa+7UmWvfCK6Nst0N99PmYus7UvUOkxySTl60lCdpcPFgi4Btaqr+hKR5Ap+NSj0wSMDZaJC4JMcREwCBQoGQwuMaLWjAEZospnckZnFGeXoh8MWsr9S9UnflN2V3YAzgCNzT95MvgdAx3CoaBlLoq3//OExOAl6tZ8ANvWuAkUxejsYqw5yGOQBiytYRRN+XZU2qtelzs1X129ctWXLQ+BOSUEZNBMUSxzdnRbsqp7KdTWb//0kqKkk0kUy4fKjJBJ5oxxKYFqyiigky1uqjTZM8Zk8yTTWs6y0lJPXWjU6kkD5MRMzacUYJlUf4wADFCUVSlXQ7qWuPqoOgwHUzJ0c3FeUQMYdiUWMwfiZVMNEU/hQCCBQQATvxpSbkM5lbt24GljoYGxEByDVhcY6x3G//OExPsw4zZ0AOYavCITjnirNAxwMSA2oISAcxPCFwuQISDhOityLj2gSpFxl0yfJwhw7BEyXE8jUMBzFEySZDDeMmR47jUWYREQXcXOaE8ThYNDiCBOIM6aadnd3QQb///000qE3RSQMDEnFmSBogt3N0z1M3MzJkGM/tRSUcZJNjdBFNM+mhQQPpqQNJmmRc8VDMxD1P/qJhcMAdSGPQN0Cuk1h+O2JjVYQBiRhOqZFYGhNgUcTFi80H4MFWzT//OExOozgyqAAVuIAKfMAGAABGQghc060FM2JgdeWzYuo0wpeREQGFhAiJiwjDYLaOpiBBQqEiKTFBiBWkYChgQIROAy0zUjN9EJBa5Lo7dzBcAVQQCPDgINAWoKW3Ye+d0dIDCpiVMiGjjKEWmgqyp/XAiruqgZZEH4eFrKQsjXasWbXK4Tqp8phpgMOnJ3GrQ77/0s3hyLc1/w7IqaX1ua7//92Zm5maqVO03/+71LZmrtLjr+/9zGx/Pxq15T//OExM9HHCJ8AZvIAJcuS+3XrzNDbq2oAlFPYpqa/9utLZyOTcdg7OntWeUte3SV+4clNuQUFPY//7//r+95z//X//0vN/+v/91vx/n////7/mtf///6p69jdVVQJDNuMCpgTuvoZceWhMMYUiIkiT4cQN6EIDpIQMAMB2ARAgcYZU0tpqyONRfoOkJcMjmAW4HNDA4XSDoAWIMRhfAEJAdCKVAiIYVEcDPDLCdR2C3DHjKC6EJRqCSlYQXWIRDZ//OExGUv2yqIAdqQAB2EmMoSpZLCBVNjYxRMSaQKp8ky4PguFImTYkiiQxQyJVIAfJ1M+VDA3OM6rKM2Z7Kr///76lrVVZzNMwRWjTZTtdXrW+3f6m+11oqWaJIOdSDhcXMiRf//RUqAhEumgBwqdGoprAhgOlpg4/NmEiqBAhQkiwoyiT6BDY4AfMwoHqqnCN0jAeK3w8+/IYsp5ASlEMkCTqHpzjmbWAuzSlcRMRYN2FDG5pusZVTYwjsz9RVp//OExFgx0n58AN5WuAyqJxJ93oZ0slE1wos6kjjEFTNUhC4xH0nkIaE8dY2D4PYew/jeIgfBePYjAcBNCIwBoE8aCEH8nmiaj7MdczJJGMFnoZz+f////qWz1N81sSTyg3RhqR41pRq1oeZBUCHTRUw+/lgoebNpMf//+uqNBYbCORJ0BjQ8BmJAr7iAMVOjAv4AgQOHDCDcs+Z8h1CGiQkqvtMoYQAz6gaXK7jEHLPmKcsAYT4OFAvhgkm1ShWV//OExEMpkbaEAN5elElejdlrSBesNuFZfyVmPFOmx8QT4dwzUhFNCFtfBHSnJ8Yh2uaS65VcdURHKRTqdOKd0zJZQGKhZXIxHqnKuQxla2bVY1/NJJiDUSrQ5/7R3sLFQETB1g/6Qy+wo0B3Gv0ogSqOjAg7glEE7iJmQjPMEWCIj7hCzN9Rg+WTMglNaDNCgNNAGqAr9aiCG0gqrWocXQXyVThAsZIo2qTmlxkOUEStrU8+cCwXRRl2ZTJqeST0//OExE8oCt6IANZUuLpbTz01M2LOcoi1ZrUiWHfl0QVi4Kc4LowdJBJLEI2FwmME5HDQF0JAYA0g1gUhLEWNCM4gKnsRnqea7Gt//////oaextGs/f90al7ULYc/9NXidx2RLNjJ3giAnoAg7fAgOGDxgSYYMlaJCTLkREDMuCFanQ5jKAGpCI+pMJVqozo0JIMZ4y8TIhxWqyNnUy70/MRrCXW5TS152xKbM3Zzpsql/s9lJO1XEjMQA+LgtEAL//OExGEnUnaMANYUuLFUQhCIkfiqKgtDYLgRQvCmEWFQlFsVBaEQIpgtC2Kx7khhK6ps//////rYxTXNKOpRl71OeXLBMybvalWgX2bpuLQywaOGzSbEQEiDuyLDUD1EgaRSTUtNWFGQ5k1A4gABgZRsgqI0WD1aEFEvREAX8VTBSCZSJzau00+9DNBMS6dlMb5LbVztirU7zK52xZoKl6/NRF4gHhBh8KBAiWUFsbD00kHwrj4Zi2aNyIPRqNwa//OExHYnkt6IANZUuEPQXhuBXJRFikiIDiRhWRWtM//////WTEaqjI3nNMptvNMR0QjNcRrVhlMowaOBRUzIxZGW9UCBCZkY0ZOUh1EipTYWIQcLJenKumLVGo8qcaiZ0y4MFXSRFl0WCg4eHYYX523AuNNLcZd25S41MeVO/Xs7v8rz2qkO2Zh3TUdwDI8iQ2IAY5QPrUCckRbKBFJo2AkrghjuPAlniUVqGJtZLHceTPXFcf///f//////8Wnn//OExIomgm6IAN5WuelGHE5k8r8KxJwjB1H1b+qnVIbHcGYGHnDTw6gwWhkST5ESbsYZEgcss05JWIZaWkeZkI0KNAgyOTYwYVfsbDQxVRdEaHlyPzQOzO3Ids08tzoLVe13C19fescdXuU+OOUZxA+AaHgGTQbEySeJKJPJo7yodyo7h3DoHUHsdLSeOgPRBglD8OwtJhqi84lMN6r//////////71GyvToRbqlFFFiqxHO0ofCqYKHA0zPbEkE//OExKMmwm6EANYWuUI2ZAXOsFCBJp/AYCIRAgMLjz4jFxIBQ/MmwUVGcyiWeok/zSEjWJNkXimosCXGZO80bpWbS+1KakpoqszOY2K+U9cxv4ZVM7O+Z9lNWdh4qHcPpiMyhMQI7SYXHjMpLR+HcQ5NaPrx/EoeQTA9ALB7HSCScZKJJYeNm3f//////////8dw9iJoVCNqnmOb1cR/duuocmrnMCQHMfWTZJQxsCC0OawdiMGlb6qokAKIQAws//OExLsoOsZ8AN4WuSkK2NBUAIAcw4XZfJDOBu5clqzPoHftaL4L4R6YmgGSCdl/X5l0ujMZmpdj8t5NazypZTuZx5Z7Ncx1jlq7Sq4qBwAocB6CNg2l5YWGkwaKkA2JYTCYTh0IAdCMa0QLuOxtT//////////LxxKw96Fqao6SaSoSHjEiUqCoaDXo9Fh5DqYLCOYaHycoFiFRYBQPmFwpg4SDAMCl3iEBCgB2AuI37qMiWuskNUYYSEkov2BH//OExM0nsnpsAN4QuCucWVxLoDaA0i9WVRPlSzqVucmWtrSwYj7ER9Ha4UGRXR3sSNiLBxiGSOsPQlBaOKBsHxV0lbQLOHIqSDoiSLiZih6pYhCcAUQLlW514////////1WWa+JFSjigbCxxQfWykrulga/2llKLHpEwktemMMivM/INOJjzMSRaMAAXIgPMIgrL0POlUupbKgqXrBXoSfUsXuaGpUlBS+S3lyyiGoFxYEoM/bdXVf2Hab4ZluNq//OExOEnsoJMAOvQuOy2rdxs54/Ul1bGxVypspVTSrnNSqmq0vcJmM2ctVsoeh5AkSSrmJcktBJ2JFkGKokOPRlFpisbXwrznpvrU2Y335Wbj/dn5Zl+Wh3Lmu797be//rd+9sZvP7+v95eY+Zndje9y3qKaM/Z7V9ez/bsVpx3oNDA6mgG+QprVVTHNzxCDQljPin6T6UxVzJJDG7M7AdLPRFp8FNFZy0oUrlxGPCo+uHkURhg0vDWmTNKzxx6M//OExPUv23okAO4MveWWQf9tl0IYqwlHZMpxY1u/b52pOG+OTtePSVZiJMKSiUCkQnZnmwxNVzzcKota+GZhLYZg5KSQx2CUByeCOvkFzdAIgoMBd0zDUkauBZxiJDGXgodxIl6gI7MmogeFAtx0E1X2DIWICsyOLvjOQIVu6BEIHhzBATIy1NYBkmr0PVxlojrwQ/UlvvtIq0/qXxBwXJgt5IfbGPnSlEdl5fEdNtWgrq1xp6PX7rVsDy69OOcY//OExOgsPBoUANJG3W2KGV5mzzlvae2323Iabk15muWfm/Q/nvCDFInQk8lu6XqWrkHiaJEkqJeCT6/17lLMPMy9MTblw2YBX6QJkzKzanu+VLtVWXOZZHGerwvMLh6tEVstZHMKJBRfZsesrP9qyMTRQVZIk9sslVflAZjJM9OUn3ThNkgKr2oTQva7UfoqOrbmc7lymqR+rJKeHpfbdKF4ZnplrFVxxETSv7lFbjtz3IVeytRHBfx5f0L53zkR//OExOoslBoMAMsM3dtxRvX44OvcW96SKnM/8bDC9piCbxy9i4ZZA1GwMDpV0itkinqSNG+qJ4g1stTYRfTWKaUUTLkaZ+6TqVbkrzc1VbpZ4zcc4unH2ZD6x8S3a6KxJudgpDcTwvUWZNkYf+TTOUr3T3mo9OT8ojmwebpzW0n844tBZtpUafubMLEVKXGGrXM9U+VBauz3JixXisupYnESdgXVXowQuO0AgVRlixY+RZo4qIhWdImRSGItIEqI//OExOotnDH4ANMM3fGkbjSJEcVWRrojSBA2iiLNT1gtb5yQpRHCFVCtcVMOJWMDDQhjUnTQOQJCmcuKYtSjtO5GzBVVBX7p6BQnKaYQ2sVcvX51WfFzRjgqCAxArxeY1nyh0mDWKC3LdwYjtFtkGIFkdIbZrIjYlRpk0srHfBFSuYPNmpVq9Mk7SUSS3pa0FypPTUKvEUEpcY5YWqelv452qWfvUkueGZ3Yk0YdTp6H605Q2YlpnEqeKtmHlZcZ//OExOYvdDn0ANJM3I1lk5j/wU+SVQ45e4XWWVVVp43dgHCzdX9nLNemesdtsIRJsW1pj8b8lnOWaVNJ0cBFphA/4hpxxNfMch5Sogc1+rdyzjX7lEvTKuHJnpFbYvHI8g0EisZfk6ZJNSEYhybpW6ZrLW00pB9dMjrpvuuWbhNNEwke9wpCnNc8ibNJFmpyxYbby7pKkJ2rJQhF6Rtd7FlKK9L1qkmdVM6fHLmer9NrLtdh2UtFq1ZB8xSWORpE//OExNsvHDn0ANMM3IiLONudNZG7VFU2KHGLSgxH2gUexUiK9Zkmpan0Jda2IHJVh2tH3I5sn7TmtLP4jMdn7zvM3MLf+d85Gv823wt6jGqIzc/wrOzevWtG1jq5kfWhoiayJnvrN3fu86ytvszpZMVN+YvTqvLe2aAWD3USltOkvQzHogJESqic0toLDnrdV9piLRmknqWgn39t2I1fyV08ibFMFyUsaV0hJWUiJrCJmOSksimzyxMrBoQjoDGU//OExNElc5oAAMpMvVpZohFLJYKmVpeVoWVkWxxZFeK5/SyIlZIsAhJEjJGJxyOVQMAkfOUSJPhqMz3I53liVz5InEtwlYSUOO2TtYludtIxRqM1vcjFPktpuN205L1VV2NhKq1//LJFkWSem84clW+SM+qqp8/TSMEiMElmwSue29t9PX7y2kcqMsBE8RGLlo4Kxr8b9zXdgqH4Oi1LWq1pqblk8SolSxUqURsPzcksnB8ZXV3B7KJCWKjQ0XQN//OExO4t1DnsAMJM3MJ1OEa2Mrq6q/////uSisqkkvBtzSpxZZloLRJGnFHmJqqaNNKvNmjSij43Kk4ssy1LRJGlFHoLRJERQkSIJoLRSNOOLheVNO8XlTRpRRcXlTTvF5s0aUUfG5U0aWVcbm4zPG5ss7tubNOzPG5U0W8XmycaUUfFqSk4suLxaJI0qkxBTUUzLjEwMKqqqqqqqqqqqqqqqqqqqqqqqqqqqqqqqqqqqqqqqqqqqqqqqqqqqqqq//OExOktpDlQAMJM3Kqqqqqqqqqqqqqqqqqqqqqqqqqqqqqqqqqqqqqqqqqqqqqqqqqqqqqqqqqqqqqqqqqqqqqqqqqqqqqqqqqqqqqqqqqqqqqqqqqqqqqqqqqqqqqqqqqqqqqqqqqqqqqqqqqqqqqqqqqqqqqqqqqqqqqqqqqqqqqqqqqqqqqqqqqqqqqqqqqqqqqqqqqqqqqqqqqqqqqqqqqqqqqqqqqqqqqqqqqqqqqqqqqqqqqqqqqqqqqq\" type=\"audio/mpeg\" />\n",
              "                    Your browser does not support the audio element.\n",
              "                </audio>\n",
              "              "
            ]
          },
          "metadata": {}
        },
        {
          "output_type": "display_data",
          "data": {
            "text/plain": [
              "<IPython.lib.display.Audio object>"
            ],
            "text/html": [
              "\n",
              "                <audio  controls=\"controls\" autoplay=\"autoplay\">\n",
              "                    <source src=\"data:audio/mpeg;base64,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\" type=\"audio/mpeg\" />\n",
              "                    Your browser does not support the audio element.\n",
              "                </audio>\n",
              "              "
            ]
          },
          "metadata": {}
        },
        {
          "output_type": "display_data",
          "data": {
            "text/plain": [
              "<IPython.lib.display.Audio object>"
            ],
            "text/html": [
              "\n",
              "                <audio  controls=\"controls\" autoplay=\"autoplay\">\n",
              "                    <source src=\"data:audio/mpeg;base64,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\" type=\"audio/mpeg\" />\n",
              "                    Your browser does not support the audio element.\n",
              "                </audio>\n",
              "              "
            ]
          },
          "metadata": {}
        },
        {
          "output_type": "display_data",
          "data": {
            "text/plain": [
              "<IPython.lib.display.Audio object>"
            ],
            "text/html": [
              "\n",
              "                <audio  controls=\"controls\" autoplay=\"autoplay\">\n",
              "                    <source src=\"data:audio/mpeg;base64,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\" type=\"audio/mpeg\" />\n",
              "                    Your browser does not support the audio element.\n",
              "                </audio>\n",
              "              "
            ]
          },
          "metadata": {}
        },
        {
          "output_type": "display_data",
          "data": {
            "text/plain": [
              "<IPython.lib.display.Audio object>"
            ],
            "text/html": [
              "\n",
              "                <audio  controls=\"controls\" autoplay=\"autoplay\">\n",
              "                    <source src=\"data:audio/mpeg;base64,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\" type=\"audio/mpeg\" />\n",
              "                    Your browser does not support the audio element.\n",
              "                </audio>\n",
              "              "
            ]
          },
          "metadata": {}
        }
      ]
    },
    {
      "cell_type": "markdown",
      "metadata": {
        "id": "3UTLuSAp8GGY"
      },
      "source": [
        "--------"
      ]
    },
    {
      "cell_type": "markdown",
      "metadata": {
        "id": "fmU7O8WS8GGY"
      },
      "source": [
        "### **[연산자]**"
      ]
    },
    {
      "cell_type": "markdown",
      "metadata": {
        "id": "eRCyhgwS8GGY"
      },
      "source": [
        "### 실습문제 :  동전 교환 프로그램\n",
        "동전교환 프로그램을 작성하세요"
      ]
    },
    {
      "cell_type": "code",
      "execution_count": null,
      "metadata": {
        "id": "g8A7ErL78GGY",
        "colab": {
          "base_uri": "https://localhost:8080/"
        },
        "outputId": "dcfdd851-08c4-4f00-e2e2-7a0be19ae242"
      },
      "outputs": [
        {
          "output_type": "stream",
          "name": "stdout",
          "text": [
            "---동전교환기 프로그램을 작동합니다.---\n",
            "금액을 입력하세요: 4321\n",
            "--------------------------------------------------\n",
            "500원짜리 ==> 8개\n",
            "100원짜리 ==> 3개\n",
            "50원짜리 ==> 0개\n",
            "10원짜리 ==> 2개\n",
            "1원짜리 잔돈 ==> 1개\n"
          ]
        }
      ],
      "source": [
        "# 키보드로부터 금액 입력 받기\n",
        "print('---동전교환기 프로그램을 작동합니다.---')\n",
        "money = int( input('금액을 입력하세요: '))\n",
        "coin_500 = money // 500\n",
        "coin_100 = (money % 500) // 100\n",
        "coin_50 = ((money % 500) % 100) // 50\n",
        "coin_10 = (((money % 500) % 100) % 50) // 10\n",
        "coin_1 = money - (coin_500*500 + coin_100*100 + coin_50*50 + coin_10*10)\n",
        "# coin_10 = ((money % 500) % 100) // 10\n",
        "# coin_1 = ((money % 500) % 100) % 10\n",
        "print('-'*50)\n",
        "print(f'500원짜리 ==> {coin_500}개')\n",
        "print(f'100원짜리 ==> {coin_100}개')\n",
        "print(f'50원짜리 ==> {coin_50}개')\n",
        "print(f'10원짜리 ==> {coin_10}개')\n",
        "print(f'1원짜리 잔돈 ==> {coin_1}개')\n"
      ]
    },
    {
      "cell_type": "code",
      "source": [
        "# 키보드로부터 금액 입력 받기\n",
        "print('---동전교환기 프로그램을 작동합니다.---')\n",
        "money = int( input('금액을 입력하세요: '))\n",
        "print('-'*30)\n",
        "print(f'500원짜리 ==> {money // 500}개')\n",
        "money = money % 500\n",
        "print(f'100원짜리 ==> {money // 100}개')\n",
        "money = money % 100\n",
        "print(f'50원짜리 ==> {money // 50}개')\n",
        "money = money % 50\n",
        "print(f'10원짜리 ==> {money // 10}개')\n",
        "money = money % 10\n",
        "print(f'5원짜리 ==> {money // 5}개')\n",
        "money = money % 5\n",
        "print(f'1원짜리(잔돈) ==> {money}개')\n"
      ],
      "metadata": {
        "colab": {
          "base_uri": "https://localhost:8080/"
        },
        "id": "CzxFrPn-CCIo",
        "outputId": "79f421c8-fa42-4fd4-f47a-e53cecae94a1"
      },
      "execution_count": null,
      "outputs": [
        {
          "output_type": "stream",
          "name": "stdout",
          "text": [
            "---동전교환기 프로그램을 작동합니다.---\n",
            "금액을 입력하세요: 4321\n",
            "------------------------------\n",
            "500원짜리 ==> 8개\n",
            "100원짜리 ==> 3개\n",
            "50원짜리 ==> 0개\n",
            "10원짜리 ==> 2개\n",
            "5원짜리 ==> 0개\n",
            "1원짜리(잔돈) ==> 1개\n"
          ]
        }
      ]
    },
    {
      "cell_type": "code",
      "source": [
        "# 키보드로부터 금액 입력 받기\n",
        "print('---화폐 및 동전교환기 프로그램을 작동합니다.---')\n",
        "money = int( input('금액을 입력하세요: '))\n",
        "print('-'*30)\n",
        "\n",
        "coins = [50000, 10000, 5000, 1000, 500, 100, 50, 10, 5]\n",
        "\n",
        "for coin in coins:\n",
        "    print(f'{coin:>5}원 짜리 ==> {money // coin}개')\n",
        "    money = money % coin\n",
        "print(f'잔돈(1원짜리) : {money}원')"
      ],
      "metadata": {
        "colab": {
          "base_uri": "https://localhost:8080/"
        },
        "id": "wNOnNtr5DOSg",
        "outputId": "22e270f5-68b1-44ae-bd77-14f3cfe754fa"
      },
      "execution_count": null,
      "outputs": [
        {
          "output_type": "stream",
          "name": "stdout",
          "text": [
            "---화폐 및 동전교환기 프로그램을 작동합니다.---\n",
            "금액을 입력하세요: 348281\n",
            "------------------------------\n",
            "50000원 짜리 ==> 6개\n",
            "10000원 짜리 ==> 4개\n",
            " 5000원 짜리 ==> 1개\n",
            " 1000원 짜리 ==> 3개\n",
            "  500원 짜리 ==> 0개\n",
            "  100원 짜리 ==> 2개\n",
            "   50원 짜리 ==> 1개\n",
            "   10원 짜리 ==> 3개\n",
            "    5원 짜리 ==> 0개\n",
            "잔돈(1원짜리) : 1원\n"
          ]
        }
      ]
    },
    {
      "cell_type": "markdown",
      "source": [
        "### 실습문제 : 비교 연산자를 이용한 상품 필터링하기\n",
        "아래 상품 딕셔너리에서 가격이 1000 이하인 상품을 필터링하고 상품과 해당 가격을 출력하시오."
      ],
      "metadata": {
        "id": "7GL-zafcQwDq"
      }
    },
    {
      "cell_type": "code",
      "source": [
        "# 상품 가격을 가진 사전\n",
        "products = { \"apple\": 1000, \"banana\": 800, \"cherry\": 1500,\n",
        "            \"date\": 1200, \"elderberry\": 2000 }\n",
        "\n",
        "# 가격이 1000 이하인 상품 필터링\n",
        "print('가격이 1000 이하인 상품 필터링')\n",
        "print('-'*30)\n",
        "low_price = []\n",
        "\n",
        "for (key, value) in products.items():\n",
        "    if value <= 1000:\n",
        "        print(f'상품명: {key:>6}, 가격: {value:>4}')\n",
        "        low_price.append(key)\n",
        "\n",
        "print('*'*20)\n",
        "print(low_price)"
      ],
      "metadata": {
        "id": "78IAx7VkQwW_",
        "colab": {
          "base_uri": "https://localhost:8080/"
        },
        "outputId": "48be4066-54cd-417c-fb05-63dc6e76847c"
      },
      "execution_count": null,
      "outputs": [
        {
          "output_type": "stream",
          "name": "stdout",
          "text": [
            "가격이 1000 이하인 상품 필터링\n",
            "------------------------------\n",
            "상품명:  apple, 가격: 1000\n",
            "상품명: banana, 가격:  800\n",
            "********************\n",
            "['apple', 'banana']\n"
          ]
        }
      ]
    },
    {
      "cell_type": "markdown",
      "metadata": {
        "id": "0SWp1LN08GGY"
      },
      "source": [
        "------"
      ]
    },
    {
      "cell_type": "markdown",
      "metadata": {
        "id": "x4FIhV_y8GGZ"
      },
      "source": [
        "## 3.조건문과 반목문으로 흐름 제어하기"
      ]
    },
    {
      "cell_type": "markdown",
      "metadata": {
        "id": "LPe_skHf8GGZ"
      },
      "source": [
        "### **[조건문]**"
      ]
    },
    {
      "cell_type": "markdown",
      "source": [
        "#### 조건문 구조 4개"
      ],
      "metadata": {
        "id": "HIFAD_kqX1uL"
      }
    },
    {
      "cell_type": "code",
      "source": [
        "# 조건식1: if 조건식\n",
        "a = 99\n",
        "if a < 100 :\n",
        "    print('a는 100보다 작군요')"
      ],
      "metadata": {
        "id": "d9jDMOjbX4hu"
      },
      "execution_count": null,
      "outputs": []
    },
    {
      "cell_type": "code",
      "source": [
        "# 조건식2: if ~ else\n",
        "a = 200\n",
        "if a > 100:\n",
        "    print('a는 100보다 크군요')\n",
        "else:\n",
        "    print('a는 100보다 크지 않군요')"
      ],
      "metadata": {
        "id": "9ehdd_YIYEus"
      },
      "execution_count": null,
      "outputs": []
    },
    {
      "cell_type": "code",
      "source": [
        "# 조건문3: 중첩 if - 조건문 안에 조건문\n",
        "a = 200\n",
        "if a > 100:\n",
        "    if a > 200 :\n",
        "        print('a는 200보다 크군요')\n",
        "    else:\n",
        "        print('a는 200보다 작거나 같군요')\n",
        "else:\n",
        "    print('a는 100보다 작거나 같군요')"
      ],
      "metadata": {
        "id": "nOi_cwzoYE2u",
        "colab": {
          "base_uri": "https://localhost:8080/"
        },
        "outputId": "317b51e2-62d8-4a8f-9857-a7068168f7cb"
      },
      "execution_count": 14,
      "outputs": [
        {
          "output_type": "stream",
          "name": "stdout",
          "text": [
            "a는 200보다 작거나 같군요\n"
          ]
        }
      ]
    },
    {
      "cell_type": "code",
      "source": [
        "# 조건문4: 다중 조건문\n",
        "pocket = ['paper', 'handphone']\n",
        "card = False\n",
        "\n",
        "if 'money' in pocket:\n",
        "    print('돈내고 택시를 타고 가라')\n",
        "elif card:\n",
        "    print('카드로 택시를 타고 가라')\n",
        "else:\n",
        "    print('걸어가라')"
      ],
      "metadata": {
        "id": "T_P0EQFeYFBE",
        "colab": {
          "base_uri": "https://localhost:8080/"
        },
        "outputId": "062726f7-2c69-4648-927b-9f65358f87cb"
      },
      "execution_count": 20,
      "outputs": [
        {
          "output_type": "stream",
          "name": "stdout",
          "text": [
            "걸어가라\n"
          ]
        }
      ]
    },
    {
      "cell_type": "markdown",
      "metadata": {
        "id": "Io13oQKLhgph"
      },
      "source": [
        "#### 조건부 표현식"
      ]
    },
    {
      "cell_type": "code",
      "execution_count": 22,
      "metadata": {
        "id": "h0V6WqWchnTA",
        "colab": {
          "base_uri": "https://localhost:8080/"
        },
        "outputId": "3ffdc81b-b4a4-4804-e5ef-876010fd0c5d"
      },
      "outputs": [
        {
          "output_type": "stream",
          "name": "stdout",
          "text": [
            "점수를 입력하세요: 50\n",
            "failure!\n"
          ]
        }
      ],
      "source": [
        "score = int(input('점수를 입력하세요: '))\n",
        "message = \"success!\" if score >=60 else \"failure!\"\n",
        "print(message)"
      ]
    },
    {
      "cell_type": "markdown",
      "metadata": {
        "id": "Ar6JKwtB8GGZ"
      },
      "source": [
        "#### 실습문제 : 짝수 홀수 판별하기\n",
        "숫자를 입력 받아 짝수/홀수를 판별하는 코드를 만들어 보세요."
      ]
    },
    {
      "cell_type": "code",
      "execution_count": 28,
      "metadata": {
        "id": "09w2BCcN8GGZ",
        "colab": {
          "base_uri": "https://localhost:8080/"
        },
        "outputId": "8847b334-f864-4233-a4f8-1e84afd35e2b"
      },
      "outputs": [
        {
          "output_type": "stream",
          "name": "stdout",
          "text": [
            "숫자를 입력해 주세요: 15\n",
            "입력된 수는 \"15\"이고 따라서 홀수입니다.\n"
          ]
        }
      ],
      "source": [
        "x = int(input('숫자를 입력해 주세요: '))\n",
        "\n",
        "# if x % 2 == 0:\n",
        "#     print(f'입력된 수: {x} ==> 짝수')\n",
        "# else:\n",
        "#     print(f'입력된 수: {x} ==> 홀수')\n",
        "\n",
        "pan = '짝수' if x % 2 == 0 else '홀수'\n",
        "print(f'입력된 수는 \"{x}\"이고 따라서 {pan}입니다.')\n",
        "\n",
        "# print(f'입력된 수: {x} ==> 짝수') if x % 2 == 0 else print(f'입력된 수: {x} ==> 홀수')"
      ]
    },
    {
      "cell_type": "markdown",
      "metadata": {
        "id": "3SDdg7Aeg7MW"
      },
      "source": [
        "### 실습문제 : 커피 자판기 조건문\n",
        "아래 조건을 만족하는 커피 자동주문 머신을 만들어보세요.<br><br>\n",
        "[커피 자동주문 머신]<br>\n",
        "친구들과 현금 커피 자동주문 머신 앞에서\n",
        " - 아메리카노 2잔과 카페라테 2잔 카푸치노 1잔을 주문하였다.\n",
        " - 아메리카노 한잔에 2500원이고\n",
        " - 카페라테는 한잔에 3000원\n",
        " - 카푸치노는 한잔에 3000원이다.\n",
        "커피 종류와 잔 수를 결정한 후 현금 15000원을 투입하고 잔돈을 1000원 받았다."
      ]
    },
    {
      "cell_type": "code",
      "execution_count": 35,
      "metadata": {
        "id": "BZlOMJHKg7dN",
        "colab": {
          "base_uri": "https://localhost:8080/"
        },
        "outputId": "c7b1a39f-5654-4aa4-89ba-57510644d8b6"
      },
      "outputs": [
        {
          "output_type": "stream",
          "name": "stdout",
          "text": [
            "[커피 자동주문 머신 메뉴]\n",
            "------------------------------\n",
            "-아메리카노는 2500원\n",
            "-카레라떼는 3000원\n",
            "-카푸치노는 3000원\n",
            "입니다. 원하시는 커피종류와 잔수를 입력하세요.\n",
            "------------------------------\n",
            "아메리카노 몇잔?1\n",
            "카페라떼 몇잔?2\n",
            "카푸치노 몇잔?3\n",
            "지불할 총 금액은 17500원 입니다.\n",
            "돈을 넣어주세요: 20000\n",
            "2500원을 받으세요. 이용해 주셔서 감사합니다.\n"
          ]
        }
      ],
      "source": [
        "menu = '''[커피 자동주문 머신 메뉴]\n",
        "------------------------------\n",
        "-아메리카노는 2500원\n",
        "-카레라떼는 3000원\n",
        "-카푸치노는 3000원\n",
        "입니다. 원하시는 커피종류와 잔수를 입력하세요.\n",
        "------------------------------'''\n",
        "# print(menu)\n",
        "coffee1 = int(input(f\"{menu}\\n아메리카노 몇잔?\"))\n",
        "coffee2 = int(input(\"카페라떼 몇잔?\"))\n",
        "coffee3 = int(input(\"카푸치노 몇잔?\"))\n",
        "price = [2500, 3000, 3000]\n",
        "# total = coffee1*2500 + coffee2*3000 + coffee3*3000\n",
        "total = coffee1*price[0] + coffee2*price[1] + coffee3*price[2]\n",
        "print(f'지불할 총 금액은 {total}원 입니다.')\n",
        "pay = int(input('돈을 넣어주세요: '))\n",
        "\n",
        "if pay < total:\n",
        "    print(f'{total - pay}원이 부족합니다.')\n",
        "    pay1 = int(input('부족한 돈을 넣어주세요: '))\n",
        "    if (pay + pay1) < total:\n",
        "        print(f'{total - (pay + pay1)}원이 부족합니다.')\n",
        "        pay2 = int(input('부족한 돈을 넣어주세요: '))\n",
        "    else:\n",
        "        print(f'{(pay+pay1) - total}원을 받으세요. 이용해 주셔서 감사합니다.')\n",
        "else:\n",
        "    print(f'{pay - total}원을 받으세요. 이용해 주셔서 감사합니다.')\n"
      ]
    },
    {
      "cell_type": "markdown",
      "metadata": {
        "id": "4RoolGBF8GGa"
      },
      "source": [
        "------"
      ]
    },
    {
      "cell_type": "code",
      "source": [
        "menu = '''[Coffee automatic ordering machine menu]\n",
        "------------------------------\n",
        "-Americano is 2,500 won.\n",
        "-Cafe latte is 3,000 won.\n",
        "-Cappuccino is 3,500 won.\n",
        "------------------------------\n",
        "Enter the type of coffee you want and the number of cups.\n",
        "'''\n",
        "# print(menu)\n",
        "\n",
        "# Input for coffee orders\n",
        "coffee1 = int(input(f\"{menu}\\nHow many cups of Americano? \"))\n",
        "coffee2 = int(input(\"How many cups of cafe latte? \"))\n",
        "coffee3 = int(input(\"How many cappuccinos? \"))\n",
        "\n",
        "# Prices and total calculation\n",
        "price = [2500, 3000, 3500]\n",
        "total = coffee1 * price[0] + coffee2 * price[1] + coffee3 * price[2]\n",
        "\n",
        "# Display total amount to pay\n",
        "print(f'The total payment amount is {total} won.')\n",
        "\n",
        "# Payment loop\n",
        "amount_paid = 0\n",
        "while amount_paid < total:\n",
        "    print(f'\\nAmount paid so far: {amount_paid} won.')\n",
        "    # print(f'Insufficient amount: {total - amount_paid} won.')\n",
        "    additional_payment = int(input(f'Please enter more money (remaining {total - amount_paid} won): '))\n",
        "    amount_paid += additional_payment\n",
        "\n",
        "# Calculate and display change if overpaid\n",
        "if amount_paid > total:\n",
        "    print(f'\\nTotal payment received: {amount_paid} won.')\n",
        "    print(f'Here is your change: {amount_paid - total} won. Thank you for using!')\n",
        "else:\n",
        "    print(f'\\nTotal payment received: {amount_paid} won.')\n",
        "    print('Thank you for using! Enjoy your coffee.')\n"
      ],
      "metadata": {
        "colab": {
          "base_uri": "https://localhost:8080/"
        },
        "id": "_HuU4K7hV7lB",
        "outputId": "64abe2bc-3829-420e-ba88-61ad16563ee4"
      },
      "execution_count": 36,
      "outputs": [
        {
          "output_type": "stream",
          "name": "stdout",
          "text": [
            "[Coffee automatic ordering machine menu]\n",
            "------------------------------\n",
            "-Americano is 2,500 won.\n",
            "-Cafe latte is 3,000 won.\n",
            "-Cappuccino is 3,500 won.\n",
            "------------------------------\n",
            "Enter the type of coffee you want and the number of cups.\n",
            "\n",
            "How many cups of Americano? 1\n",
            "How many cups of cafe latte? 2\n",
            "How many cappuccinos? 3\n",
            "The total payment amount is 19000 won.\n",
            "\n",
            "Amount paid so far: 0 won.\n",
            "Please enter more money (remaining 19000 won): 20000\n",
            "\n",
            "Total payment received: 20000 won.\n",
            "Here is your change: 1000 won. Thank you for using!\n"
          ]
        }
      ]
    },
    {
      "cell_type": "code",
      "source": [
        "format(1000000, ',')"
      ],
      "metadata": {
        "colab": {
          "base_uri": "https://localhost:8080/",
          "height": 35
        },
        "id": "d0ZEE2MjY49U",
        "outputId": "b43a6847-9b17-42b2-ac13-5723b074219f"
      },
      "execution_count": 4,
      "outputs": [
        {
          "output_type": "execute_result",
          "data": {
            "text/plain": [
              "'1,000,000'"
            ],
            "application/vnd.google.colaboratory.intrinsic+json": {
              "type": "string"
            }
          },
          "metadata": {},
          "execution_count": 4
        }
      ]
    },
    {
      "cell_type": "code",
      "source": [
        "print(f'{1000000:,}')\n",
        "a = 1000000\n",
        "print(f'a는 {a:,}')\n",
        "print(f'a: {a:,}')"
      ],
      "metadata": {
        "colab": {
          "base_uri": "https://localhost:8080/"
        },
        "id": "f6NrU799ZOeS",
        "outputId": "cff15dc7-4bd9-434b-d012-4b2d6529274f"
      },
      "execution_count": 62,
      "outputs": [
        {
          "output_type": "stream",
          "name": "stdout",
          "text": [
            "1,000,000\n",
            "a는 1,000,000\n",
            "a: 1,000,000\n"
          ]
        }
      ]
    },
    {
      "cell_type": "code",
      "source": [
        "menu = '''[Coffee automatic ordering machine menu]\n",
        "------------------------------\n",
        "-Americano is 2,500 won.\n",
        "-Cafe latte is 3,000 won.\n",
        "-Cappuccino is 3,500 won.\n",
        "------------------------------\n",
        "Enter the type of coffee you want and the number of cups.\n",
        "'''\n",
        "# print(menu)\n",
        "\n",
        "# Input for coffee orders\n",
        "coffee1 = int(input(f\"{menu}\\nHow many cups of Americano? \"))\n",
        "coffee2 = int(input(\"How many cups of cafe latte? \"))\n",
        "coffee3 = int(input(\"How many cappuccinos? \"))\n",
        "\n",
        "# Prices and total calculation\n",
        "price = [2500, 3000, 3500]\n",
        "total = coffee1 * price[0] + coffee2 * price[1] + coffee3 * price[2]\n",
        "\n",
        "# Display total amount to pay with comma formatting\n",
        "print(f'The total payment amount is {total:,} won.')\n",
        "\n",
        "# Payment loop\n",
        "amount_paid = 0\n",
        "while amount_paid < total:\n",
        "    print(f'\\nAmount paid so far: {amount_paid:,} won.')\n",
        "    # print(f'Insufficient amount: {total - amount_paid:,} won.')\n",
        "    additional_payment = int(input(f'Please enter more money (remaining {total - amount_paid:,} won): '))\n",
        "    amount_paid += additional_payment\n",
        "\n",
        "# Calculate and display change if overpaid\n",
        "print(f'\\nTotal payment received: {amount_paid:,} won.')\n",
        "if amount_paid > total:\n",
        "    print(f'Here is your change: {amount_paid - total:,} won. Thank you for using!')\n",
        "else:\n",
        "    print('Thank you for using! Enjoy your coffee.')\n"
      ],
      "metadata": {
        "colab": {
          "base_uri": "https://localhost:8080/"
        },
        "id": "VyQ1Wi5La84y",
        "outputId": "528ed3eb-cba2-410f-f86a-f59cecb7abfe"
      },
      "execution_count": 37,
      "outputs": [
        {
          "output_type": "stream",
          "name": "stdout",
          "text": [
            "[Coffee automatic ordering machine menu]\n",
            "------------------------------\n",
            "-Americano is 2,500 won.\n",
            "-Cafe latte is 3,000 won.\n",
            "-Cappuccino is 3,500 won.\n",
            "------------------------------\n",
            "Enter the type of coffee you want and the number of cups.\n",
            "\n",
            "How many cups of Americano? 5\n",
            "How many cups of cafe latte? 4\n",
            "How many cappuccinos? 3\n",
            "The total payment amount is 35,000 won.\n",
            "\n",
            "Amount paid so far: 0 won.\n",
            "Please enter more money (remaining 35,000 won): 30000\n",
            "\n",
            "Amount paid so far: 30,000 won.\n",
            "Please enter more money (remaining 5,000 won): 3500\n",
            "\n",
            "Amount paid so far: 33,500 won.\n",
            "Please enter more money (remaining 1,500 won): 1000\n",
            "\n",
            "Amount paid so far: 34,500 won.\n",
            "Please enter more money (remaining 500 won): 10000\n",
            "\n",
            "Total payment received: 44,500 won.\n",
            "Here is your change: 9,500 won. Thank you for using!\n"
          ]
        }
      ]
    },
    {
      "cell_type": "markdown",
      "metadata": {
        "id": "G2T6Nybt8GGa"
      },
      "source": [
        "### **[반복문]**"
      ]
    },
    {
      "cell_type": "markdown",
      "metadata": {
        "id": "HuWJNA-T8GGa"
      },
      "source": [
        "### 실습문제 : 1~N까지 합계 구하기\n",
        "숫자를 입력받아 1~n까지의 합을 구할 때 짝수를 제외하고 합을 구하는 프로그램을 만들어 보세요."
      ]
    },
    {
      "cell_type": "code",
      "execution_count": 18,
      "metadata": {
        "id": "t4NbQOOe8GGa",
        "colab": {
          "base_uri": "https://localhost:8080/"
        },
        "outputId": "3c06ae8a-df97-46fa-d4d6-33eb2cf1e2ad"
      },
      "outputs": [
        {
          "output_type": "stream",
          "name": "stdout",
          "text": [
            "합계를 구할 숫자 입력:100\n",
            "1부터 100까지 홀수의 합: 2500\n"
          ]
        }
      ],
      "source": [
        "n = int(input('합계를 구할 숫자 입력:')) # n은 자연수(natural number)\n",
        "hap = 0\n",
        "\n",
        "# 1~n까지 홀수의 합\n",
        "\n",
        "for i in range(n+1):\n",
        "    if i % 2 != 0:\n",
        "        hap += i\n",
        "\n",
        "print(f'1부터 {n}까지 홀수의 합: {hap}')\n"
      ]
    },
    {
      "cell_type": "code",
      "source": [
        "n = int(input('합계를 구할 숫자 입력:')) # n은 자연수(natural number)\n",
        "hap = 0\n",
        "\n",
        "# 1~n까지 홀수의 합\n",
        "\n",
        "for i in range(1, n+1, 2):\n",
        "    hap += i\n",
        "\n",
        "print(f'1부터 {n}까지 홀수의 합: {hap}')"
      ],
      "metadata": {
        "colab": {
          "base_uri": "https://localhost:8080/"
        },
        "id": "PkVID826p6Oj",
        "outputId": "ca371834-2809-4d80-aaff-200fc7ab9293"
      },
      "execution_count": 21,
      "outputs": [
        {
          "output_type": "stream",
          "name": "stdout",
          "text": [
            "합계를 구할 숫자 입력:100\n",
            "1부터 100까지 홀수의 합: 2500\n"
          ]
        }
      ]
    },
    {
      "cell_type": "code",
      "source": [
        "n = int(input('합계를 구할 숫자 입력:')) # n은 자연수(natural number)\n",
        "hap = []\n",
        "\n",
        "# 1~n까지 홀수의 합\n",
        "\n",
        "hap1 = [i for i in range(1, n+1, 2)]\n",
        "hap2 = sum( [i for i in range(1, n+1, 2)])\n",
        "\n",
        "print(f'1부터 {n}까지 홀수 리스트: {hap1}')\n",
        "print(f'1부터 {n}까지 홀수의 합: {hap2: ,}')\n",
        "\n",
        "\n",
        "# print(f'1부터 {n}까지 홀수의 합: {hap}')"
      ],
      "metadata": {
        "colab": {
          "base_uri": "https://localhost:8080/"
        },
        "id": "JkTdVCz3qIba",
        "outputId": "66a97b51-1b99-4f25-a6ca-a5a3b83720c4"
      },
      "execution_count": 42,
      "outputs": [
        {
          "output_type": "stream",
          "name": "stdout",
          "text": [
            "합계를 구할 숫자 입력:100\n",
            "1부터 100까지 홀수 리스트: [1, 3, 5, 7, 9, 11, 13, 15, 17, 19, 21, 23, 25, 27, 29, 31, 33, 35, 37, 39, 41, 43, 45, 47, 49, 51, 53, 55, 57, 59, 61, 63, 65, 67, 69, 71, 73, 75, 77, 79, 81, 83, 85, 87, 89, 91, 93, 95, 97, 99]\n",
            "1부터 100까지 홀수의 합:  2,500\n"
          ]
        }
      ]
    },
    {
      "cell_type": "markdown",
      "metadata": {
        "id": "p7P0Vy-XjIBz"
      },
      "source": [
        "### 실습문제 : 나무 열 번 찍어 넘기기"
      ]
    },
    {
      "cell_type": "code",
      "execution_count": 45,
      "metadata": {
        "id": "A1OSHn1tjNE5",
        "colab": {
          "base_uri": "https://localhost:8080/"
        },
        "outputId": "c952dac0-1220-4b0a-9d02-f5ab072edf26"
      },
      "outputs": [
        {
          "output_type": "stream",
          "name": "stdout",
          "text": [
            " 1번 나무를 찍었습니다.\n",
            " 2번 나무를 찍었습니다.\n",
            " 3번 나무를 찍었습니다.\n",
            " 4번 나무를 찍었습니다.\n",
            " 5번 나무를 찍었습니다.\n",
            " 6번 나무를 찍었습니다.\n",
            " 7번 나무를 찍었습니다.\n",
            " 8번 나무를 찍었습니다.\n",
            " 9번 나무를 찍었습니다.\n",
            "10번 나무를 찍었습니다.\n",
            "나무가 드디어 넘어갑니다!\n"
          ]
        }
      ],
      "source": [
        "treeHit = 0\n",
        "\n",
        "while treeHit < 10:\n",
        "    treeHit += 1\n",
        "    print(f'{treeHit:>2}번 나무를 찍었습니다.')\n",
        "\n",
        "print(f'나무가 드디어 넘어갑니다!')"
      ]
    },
    {
      "cell_type": "code",
      "source": [
        "treeHit = 0\n",
        "\n",
        "while True:\n",
        "    treeHit += 1\n",
        "    print(f'{treeHit:>2}번 나무를 찍었습니다.')\n",
        "    if treeHit == 10:\n",
        "        break\n",
        "\n",
        "print(f'나무 넘어갑니다~~')"
      ],
      "metadata": {
        "colab": {
          "base_uri": "https://localhost:8080/"
        },
        "id": "OLDVUuQRxUmq",
        "outputId": "5e8eedfc-6448-4b5c-ce61-6608d1ec0cee"
      },
      "execution_count": 47,
      "outputs": [
        {
          "output_type": "stream",
          "name": "stdout",
          "text": [
            " 1번 나무를 찍었습니다.\n",
            " 2번 나무를 찍었습니다.\n",
            " 3번 나무를 찍었습니다.\n",
            " 4번 나무를 찍었습니다.\n",
            " 5번 나무를 찍었습니다.\n",
            " 6번 나무를 찍었습니다.\n",
            " 7번 나무를 찍었습니다.\n",
            " 8번 나무를 찍었습니다.\n",
            " 9번 나무를 찍었습니다.\n",
            "10번 나무를 찍었습니다.\n",
            "나무 넘어갑니다~~\n"
          ]
        }
      ]
    },
    {
      "cell_type": "markdown",
      "metadata": {
        "id": "iPCnjI9UkoHr"
      },
      "source": [
        "### 실습문제 :  커피 자동주문 프로그램 업그레이드\n",
        "앞에서 만들어 본 커피 자동주문 머신 프로그램을 while문을 이용하여 돈을 모두 지불할 때까지 돈을 입력 받도록 프로그램 기능 수정하기"
      ]
    },
    {
      "cell_type": "code",
      "execution_count": 54,
      "metadata": {
        "id": "HtKho6P3kxtS",
        "colab": {
          "base_uri": "https://localhost:8080/"
        },
        "outputId": "5a4a92f9-e75d-45e0-adc6-8250b7ab154a"
      },
      "outputs": [
        {
          "output_type": "stream",
          "name": "stdout",
          "text": [
            "[커피 자동주문 머신 메뉴]\n",
            "------------------------------\n",
            "-아메리카노는 2500원\n",
            "-카레라떼는 3000원\n",
            "-카푸치노는 3000원\n",
            "입니다. 원하시는 커피종류와 잔수를 입력하세요.\n",
            "------------------------------\n",
            "아메리카노 몇잔?3\n",
            "카페라떼 몇잔?3\n",
            "카푸치노 몇잔?3\n",
            "총 금액은 25,500원입니다.\n",
            "------------------------------\n",
            "지불해야할 금액을 넣어주세요: 25000\n",
            "부족한 금액:  500원\n",
            "------------------------------\n",
            "지불해야할 금액을 넣어주세요: 500\n",
            "정확한 금액을 받았습니다. 커피 맛있게 드세요~\n"
          ]
        }
      ],
      "source": [
        "menu = '''[커피 자동주문 머신 메뉴]\n",
        "------------------------------\n",
        "-아메리카노는 2500원\n",
        "-카레라떼는 3000원\n",
        "-카푸치노는 3000원\n",
        "입니다. 원하시는 커피종류와 잔수를 입력하세요.\n",
        "------------------------------'''\n",
        "print(menu)\n",
        "coffee1 = int(input(\"아메리카노 몇잔?\"))\n",
        "coffee2 = int(input(\"카페라떼 몇잔?\"))\n",
        "coffee3 = int(input(\"카푸치노 몇잔?\"))\n",
        "\n",
        "total = coffee1*2500 + coffee1*3000 + coffee1*3000\n",
        "\n",
        "print(f'총 금액은 {total:,}원입니다.')\n",
        "\n",
        "while True:\n",
        "    print('-' * 30)\n",
        "    pay = int(input('지불해야할 금액을 넣어주세요: '))\n",
        "    if pay >= total:\n",
        "        break\n",
        "    else:\n",
        "        total = total - pay\n",
        "        print(f'부족한 금액: {total: ,}원')\n",
        "\n",
        "if pay == total:\n",
        "    print(f'정확한 금액을 받았습니다. 커피 맛있게 드세요~')\n",
        "else:\n",
        "    print(f'잔돈은 {pay - total:,}입니다. 커피 맛있게 드세요~')\n"
      ]
    },
    {
      "cell_type": "code",
      "source": [
        "menu = '''[커피 자동주문 머신 메뉴]\n",
        "------------------------------\n",
        "-아메리카노는 2500원\n",
        "-카레라떼는 3000원\n",
        "-카푸치노는 3000원\n",
        "입니다. 원하시는 커피종류와 잔수를 입력하세요.\n",
        "------------------------------'''\n",
        "print(menu)\n",
        "coffee1 = int(input(\"아메리카노 몇잔?\"))\n",
        "coffee2 = int(input(\"카페라떼 몇잔?\"))\n",
        "coffee3 = int(input(\"카푸치노 몇잔?\"))\n",
        "\n",
        "total = coffee1*2500 + coffee1*3000 + coffee1*3000\n",
        "\n",
        "print(f'총 금액은 {total:,}원입니다.')\n",
        "\n",
        "while True:\n",
        "    print('-' * 30)\n",
        "    pay = int(input('지불해야할 금액을 넣어주세요: '))\n",
        "    if pay > total:\n",
        "        print(f'잔돈은 {pay - total:,}입니다. 커피 맛있게 드세요~')\n",
        "        break\n",
        "    elif pay == total:\n",
        "        print(f'정확한 금액을 받았습니다. 커피 맛있게 드세요~')\n",
        "        break\n",
        "    else:\n",
        "        total = total - pay\n",
        "        print(f'부족한 금액은 {total: ,}원입니다.')\n"
      ],
      "metadata": {
        "colab": {
          "base_uri": "https://localhost:8080/"
        },
        "id": "TfimC7f_7ozP",
        "outputId": "cc78bc74-400e-4f44-ec9d-574ba6a9e803"
      },
      "execution_count": 60,
      "outputs": [
        {
          "output_type": "stream",
          "name": "stdout",
          "text": [
            "[커피 자동주문 머신 메뉴]\n",
            "------------------------------\n",
            "-아메리카노는 2500원\n",
            "-카레라떼는 3000원\n",
            "-카푸치노는 3000원\n",
            "입니다. 원하시는 커피종류와 잔수를 입력하세요.\n",
            "------------------------------\n",
            "아메리카노 몇잔?3\n",
            "카페라떼 몇잔?4\n",
            "카푸치노 몇잔?5\n",
            "총 금액은 25,500원입니다.\n",
            "------------------------------\n",
            "지불해야할 금액을 넣어주세요: 20000\n",
            "부족한 금액은  5,500원입니다.\n",
            "------------------------------\n",
            "지불해야할 금액을 넣어주세요: 5000\n",
            "부족한 금액은  500원입니다.\n",
            "------------------------------\n",
            "지불해야할 금액을 넣어주세요: 100\n",
            "부족한 금액은  400원입니다.\n",
            "------------------------------\n",
            "지불해야할 금액을 넣어주세요: 500\n",
            "잔돈은 100입니다. 커피 맛있게 드세요~\n"
          ]
        }
      ]
    },
    {
      "cell_type": "markdown",
      "metadata": {
        "id": "bBpYo7he8GGc"
      },
      "source": [
        "### 실습문제 : 도둑잡기 게임 만들기\n",
        "경찰에 쫓기던 범인이 3개의 방 중에 한 곳에 숨어버렸습니다. 범인은 방문을 열 때마다 무작위로 3개의 방 중 하나의 방으로 이동합니다. 3개의 방 중 하나의 방을 선택했을 때 범인이 있다면 100점, 없을 때 -10점을 부여하고 범인을 잡으면 게임을 종료하는 프로그램을 만들어 보세요."
      ]
    },
    {
      "cell_type": "code",
      "source": [
        "import random\n",
        "\n",
        "print(f'1~100까지 난수: {random.randint(1, 100)}') # 1<= n <=100"
      ],
      "metadata": {
        "colab": {
          "base_uri": "https://localhost:8080/"
        },
        "id": "F4Syf0tSAbG0",
        "outputId": "5a2a5f27-0a07-4425-e5ba-ace7b85aa8e7"
      },
      "execution_count": 129,
      "outputs": [
        {
          "output_type": "stream",
          "name": "stdout",
          "text": [
            "1~100까지 난수: 78\n"
          ]
        }
      ]
    },
    {
      "cell_type": "code",
      "source": [
        "rand = []\n",
        "\n",
        "rand.append(random.sample(range(1, 100), 20)) # 한 번에 중복없이 뽑아 리스트로 반환함.\n",
        "\n",
        "print(rand)\n",
        "print(rand.count(48)) # 리스트로 반환하기 때문에 48이라는 숫자를 찾지 못함."
      ],
      "metadata": {
        "colab": {
          "base_uri": "https://localhost:8080/"
        },
        "id": "WUYxj8iaBGfF",
        "outputId": "7e078380-7520-444d-d1f0-bc8bf1777ad5"
      },
      "execution_count": 211,
      "outputs": [
        {
          "output_type": "stream",
          "name": "stdout",
          "text": [
            "[[53, 80, 61, 71, 69, 92, 38, 26, 73, 85, 83, 76, 27, 12, 94, 79, 7, 15, 60, 9]]\n",
            "0\n"
          ]
        }
      ]
    },
    {
      "cell_type": "code",
      "source": [
        "print(f'로또 복권을 맞추는 꿈의 수 6개: {random.sample(range(1, 46), 6)}')"
      ],
      "metadata": {
        "colab": {
          "base_uri": "https://localhost:8080/"
        },
        "id": "WnkC-iwMGxPA",
        "outputId": "7def71d6-49b7-48ab-9ba8-315eda7db712"
      },
      "execution_count": 212,
      "outputs": [
        {
          "output_type": "stream",
          "name": "stdout",
          "text": [
            "로또 복권을 맞추는 꿈의 수 6개: [24, 10, 36, 32, 9, 19]\n"
          ]
        }
      ]
    },
    {
      "cell_type": "code",
      "source": [
        "rand = []\n",
        "\n",
        "for i in range(1, 100):\n",
        "    rand.append(random.randint(1, 100))\n",
        "\n",
        "print(rand)\n",
        "print(rand.count(100))"
      ],
      "metadata": {
        "colab": {
          "base_uri": "https://localhost:8080/"
        },
        "id": "EHpJItafB3ne",
        "outputId": "6fb6a18f-baca-4ce3-d1d9-b55fcdffc143"
      },
      "execution_count": 210,
      "outputs": [
        {
          "output_type": "stream",
          "name": "stdout",
          "text": [
            "[54]\n",
            "0\n"
          ]
        }
      ]
    },
    {
      "cell_type": "code",
      "source": [
        "for i in range(1, 100):\n",
        "    rand.append(random.randint(1, 100))"
      ],
      "metadata": {
        "id": "Ox2v8_QqECJV"
      },
      "execution_count": null,
      "outputs": []
    },
    {
      "cell_type": "markdown",
      "source": [
        "## 도둑잡기 게임"
      ],
      "metadata": {
        "id": "vzbUcoBjITfb"
      }
    },
    {
      "cell_type": "code",
      "execution_count": 216,
      "metadata": {
        "id": "Yjs0Tp0m8GGc",
        "colab": {
          "base_uri": "https://localhost:8080/"
        },
        "outputId": "0f5a92f3-f913-4abd-bf13-c35075883153"
      },
      "outputs": [
        {
          "output_type": "stream",
          "name": "stdout",
          "text": [
            "방 번호를 입력하세요(1,2,3): 1\n",
            "범인을 찾지 못했다.\n",
            "방 번호를 입력하세요(1,2,3): 1\n",
            "범인 체포\n",
            "범인을 잡았다! 게임 종료!!\n",
            "최종 점수: 90점\n"
          ]
        }
      ],
      "source": [
        "import random\n",
        "score = 0\n",
        "\n",
        "while True:  # 무한반복\n",
        "    # 1.무작위로 범인 방 배치\n",
        "    thief = random.randint(1, 3)\n",
        "\n",
        "    # 2.사용자로부터 방 번호 입력 받기\n",
        "    n = int(input('방 번호를 입력하세요(1,2,3): '))\n",
        "\n",
        "    # 3.사용자가 입력한 방 번호와 범인이 있는 방 비교\n",
        "\n",
        "    # 4.범인을 찾으면\n",
        "    if n == thief:\n",
        "    # \"범인 체포\"라는 메시지 출력\n",
        "        print(f'범인 체포')\n",
        "    # 점수 증가\n",
        "        score += 100\n",
        "    # 무한반복 빠져 나가기\n",
        "        break\n",
        "\n",
        "    # 5.범인을 찾지 못하면\n",
        "    else:\n",
        "        print(f'범인을 찾지 못했다.')\n",
        "        score -= 10\n",
        "    # “범인을 찾지 못했다“라는 메시지 출력\n",
        "    # 점수 감소\n",
        "\n",
        "# 게임 종료 메시지 출력\n",
        "print(f'범인을 잡았다! 게임 종료!!')\n",
        "# 최종 점수 출력\n",
        "print(f'최종 점수: {score}점')"
      ]
    },
    {
      "cell_type": "markdown",
      "metadata": {
        "id": "FTX-Fvb28GGc"
      },
      "source": [
        "------"
      ]
    },
    {
      "cell_type": "markdown",
      "metadata": {
        "id": "8tdBEUuy8GGe"
      },
      "source": [
        "## 4.함수를 이용하여 알고리즘 만들기"
      ]
    },
    {
      "cell_type": "markdown",
      "metadata": {
        "id": "A50BCkk98GGe"
      },
      "source": [
        "### **[함수 & 모듈]**"
      ]
    },
    {
      "cell_type": "code",
      "execution_count": null,
      "metadata": {
        "id": "3gNw75bI8GGe"
      },
      "outputs": [],
      "source": [
        "def nSum(a, b):\n",
        "    c = a + b\n",
        "    return c\n",
        "\n",
        "nSum(50, 3)"
      ]
    },
    {
      "cell_type": "markdown",
      "metadata": {
        "id": "ZH2oJDOzmgta"
      },
      "source": [
        "####  함수의 구조\n",
        "매개변수와 리턴값에 따른 함수의 유형 예"
      ]
    },
    {
      "cell_type": "markdown",
      "metadata": {
        "id": "ZVu_uCmBmwX9"
      },
      "source": [
        "- 매개변수(X), 리턴값(X)"
      ]
    },
    {
      "cell_type": "code",
      "execution_count": null,
      "metadata": {
        "id": "PhoFdGdpmg2i"
      },
      "outputs": [],
      "source": [
        "def func():\n",
        "    print('안녕하세요!')\n",
        "\n",
        "print( func() )"
      ]
    },
    {
      "cell_type": "markdown",
      "metadata": {
        "id": "rYJvu1mKm1lA"
      },
      "source": [
        "- 매개변수(X), 리턴값(O)"
      ]
    },
    {
      "cell_type": "code",
      "execution_count": null,
      "metadata": {
        "id": "RtmltcdOm1sg"
      },
      "outputs": [],
      "source": [
        "def func():\n",
        "    print('안녕하세요!')\n",
        "    return '처리완료!'\n",
        "\n",
        "print( func() )"
      ]
    },
    {
      "cell_type": "markdown",
      "metadata": {
        "id": "kAiXc3qom1zq"
      },
      "source": [
        "- 매개변수(O), 리턴값(X)"
      ]
    },
    {
      "cell_type": "code",
      "execution_count": null,
      "metadata": {
        "id": "mdneVBp_m16L"
      },
      "outputs": [],
      "source": [
        "def func(a, b):\n",
        "    print('덧셈: %d + %d = %d' % (a, b, a+b))\n",
        "\n",
        "print( func(5, 7) )"
      ]
    },
    {
      "cell_type": "markdown",
      "metadata": {
        "id": "UWx5mc2Bm2Ah"
      },
      "source": [
        "- 매개변수(O), 리턴값(O)"
      ]
    },
    {
      "cell_type": "code",
      "execution_count": null,
      "metadata": {
        "id": "u40Eqnc1m2IB"
      },
      "outputs": [],
      "source": [
        "def func(a, b):\n",
        "    print('덧셈: %d + %d = %d' % (a, b, a+b))\n",
        "    return a+b\n",
        "\n",
        "print( func(5, 7) )"
      ]
    },
    {
      "cell_type": "markdown",
      "metadata": {
        "id": "Oq6XLdiqm9lV"
      },
      "source": [
        "### 실습문제 : 암스트롱수 판별 함수\n",
        "다음 조건을 참고하여 암스트롱수를 구하는 함수를 만들어 출력하는 프로그램을 만들어 보세요.\n",
        "- **암스트롱수** : 세 자리의 정수 중에서 각 자리의 수를 세 제곱한 수의 합과 자신이 같은 수"
      ]
    },
    {
      "cell_type": "code",
      "execution_count": null,
      "metadata": {
        "id": "DvFLshFqm9t8"
      },
      "outputs": [],
      "source": [
        "def is_armstringNumber(N):\n",
        "\n",
        "\n",
        "\n",
        "\n",
        "for i in range(100, 1000):\n",
        "    if is_armstringNumber(i):\n",
        "        print(\"[%i] is armstrong number\" % i)"
      ]
    },
    {
      "cell_type": "markdown",
      "metadata": {
        "id": "Kvzu_J_a8GGf"
      },
      "source": [
        "### 실습문제 : 환전 계산 함수\n",
        "아래 조건을 만족하는 환전계산 함수를 만들어 보세요."
      ]
    },
    {
      "cell_type": "code",
      "execution_count": null,
      "metadata": {
        "id": "x1jdgfzq8GGf",
        "scrolled": true
      },
      "outputs": [],
      "source": [
        "def moneyExchange(m, c):\n",
        "\n",
        "\n",
        "\n",
        "countrys = {'미국':['달러', 1182.5],\n",
        "            '중국':['위안', 169.22],\n",
        "            '유럽':['유로', 1286.74],\n",
        "            '일본':['엔', 1078.14]}\n",
        "money = int(input('환전 금액(원)을 입력하세요: '))\n",
        "country = input('국가를 입력하세요: ')\n",
        "print('-'*30)\n",
        "moneyExchange(money, country)"
      ]
    },
    {
      "cell_type": "markdown",
      "source": [
        "\n",
        "\n",
        "---\n",
        "\n"
      ],
      "metadata": {
        "id": "jcBxboxauPTJ"
      }
    },
    {
      "cell_type": "markdown",
      "metadata": {
        "id": "Ajjvg18_8GGg"
      },
      "source": [
        "### 5.ChatGPT와 페어프로그래밍하기"
      ]
    },
    {
      "cell_type": "markdown",
      "source": [
        "### 실습문제 : 영어 단어장 만들기\n",
        "아래 조건을 만족시키는 <영어단어장 만들기> 프로그램을 만들어 보세요.\n",
        "\n",
        "영단어는 key, 그의 뜻은 value 로 두는 dictionary 를 만드세요.<br>\n",
        "<메뉴>\n",
        " - 1. 단어 등록\n",
        " - 2. 단어 검색\n",
        " - 3. 단어 삭제\n",
        " - 4. 모든 단어 보기\n",
        " - 0. 종료하기\n",
        "\n",
        "1. 단어 등록 <br>\n",
        "    새 영단어와 그의 뜻을 입력 받고 dictionary 에 추가합니다.\n",
        "\n",
        "2. 단어 검색<br>\n",
        "    영단어를 입력 받아 그의 뜻을 출력합니다.<br>\n",
        "    미등록된 단어인 경우 '미등록 단어'를 출력합니다.\n",
        "    \n",
        "3. 단어 삭제<br>\n",
        "    영단어를 입력 받아 단어장에서 해당 단어를 삭제한다.<br>\n",
        "    미등록된 단어인 경우 '미등록 단어'를 출력합니다\n",
        "    \n",
        "4. 모든 단어 보기<br>\n",
        "    현재 등록되어 있는 모든 단어와 뜻을 출력합니다.\n",
        "\n",
        "0. 종료하기"
      ],
      "metadata": {
        "id": "LgP7QlUCtw9A"
      }
    },
    {
      "cell_type": "code",
      "source": [
        "menu = '''---선택메뉴--\n",
        "1. 단어 등록\n",
        "2. 단어 검색\n",
        "3. 단어 삭제\n",
        "4. 모든 단어 보기\n",
        "0. 종료하기\n",
        "------------------------------'''\n",
        "\n",
        "# 빈 딕셔너리를 만든다. (반복문 안에 넣지 않는다!)\n",
        "wordbook = {}\n",
        "\n",
        "def addBook():\n",
        "\n",
        "\n",
        "def searchBook():\n",
        "\n",
        "\n",
        "def deleteBook():\n",
        "\n",
        "\n",
        "def showAllBook():\n",
        "\n",
        "\n"
      ],
      "metadata": {
        "id": "eZLiY8m-txGd"
      },
      "execution_count": null,
      "outputs": []
    },
    {
      "cell_type": "markdown",
      "metadata": {
        "id": "SD7IuCtyEfxZ"
      },
      "source": [
        "\n",
        "\n",
        "---\n",
        "THE END\n",
        "\n"
      ]
    },
    {
      "cell_type": "markdown",
      "metadata": {
        "id": "RQoDVEJ38GGg"
      },
      "source": [
        "------"
      ]
    }
  ],
  "metadata": {
    "colab": {
      "provenance": [],
      "include_colab_link": true
    },
    "kernelspec": {
      "display_name": "Python 3 (ipykernel)",
      "language": "python",
      "name": "python3"
    },
    "language_info": {
      "codemirror_mode": {
        "name": "ipython",
        "version": 3
      },
      "file_extension": ".py",
      "mimetype": "text/x-python",
      "name": "python",
      "nbconvert_exporter": "python",
      "pygments_lexer": "ipython3",
      "version": "3.10.9"
    }
  },
  "nbformat": 4,
  "nbformat_minor": 0
}